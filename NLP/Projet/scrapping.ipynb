{
 "cells": [
  {
   "cell_type": "code",
   "execution_count": 2,
   "metadata": {},
   "outputs": [],
   "source": [
    "import requests\n",
    "import urllib.request\n",
    "import time\n",
    "from bs4 import BeautifulSoup"
   ]
  },
  {
   "cell_type": "code",
   "execution_count": 8,
   "metadata": {},
   "outputs": [],
   "source": [
    "url = 'https://www.springfieldspringfield.co.uk/episode_scripts.php?tv-show=american-dad'\n",
    "response = requests.get(url)\n",
    "soup = BeautifulSoup(response.text, \"html.parser\")\n",
    "list_s = soup.find_all(\"div\", \"season-episodes\")\n",
    "i=1\n",
    "for s in list_s:\n",
    "    j=1\n",
    "    for a in s.find_all('a'):\n",
    "        name = a.get('href').split(\"=\")[2]\n",
    "        url_ep = \"https://www.springfieldspringfield.co.uk/{}\".format(a.get('href'))\n",
    "        response = requests.get(url_ep)\n",
    "        soup_ep = BeautifulSoup(response.text, \"html.parser\")\n",
    "        script = soup_ep.find('div', \"scrolling-script-container\")\n",
    "        script = script.text.strip()\n",
    "        with open(name, \"w+\") as f:\n",
    "            f.write(script)"
   ]
  }
 ],
 "metadata": {
  "kernelspec": {
   "display_name": "Python 3",
   "language": "python",
   "name": "python3"
  },
  "language_info": {
   "codemirror_mode": {
    "name": "ipython",
    "version": 3
   },
   "file_extension": ".py",
   "mimetype": "text/x-python",
   "name": "python",
   "nbconvert_exporter": "python",
   "pygments_lexer": "ipython3",
   "version": "3.7.3"
  }
 },
 "nbformat": 4,
 "nbformat_minor": 2
}
