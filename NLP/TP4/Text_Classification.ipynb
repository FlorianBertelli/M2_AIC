{
 "cells": [
  {
   "cell_type": "markdown",
   "metadata": {},
   "source": [
    "# BINARY CLASSIFICATION "
   ]
  },
  {
   "cell_type": "code",
   "execution_count": null,
   "metadata": {},
   "outputs": [],
   "source": [
    "from keras.datasets import imdb\n",
    "(train_data, train_labels), (test_data, test_labels) = imdb.load_data(\n",
    "num_words=10000)"
   ]
  },
  {
   "cell_type": "markdown",
   "metadata": {},
   "source": [
    "### DISCOVERING THE DATA SET"
   ]
  },
  {
   "cell_type": "code",
   "execution_count": 6,
   "metadata": {},
   "outputs": [
    {
     "data": {
      "text/plain": [
       "array([list([1, 14, 22, 16, 43, 530, 973, 1622, 1385, 65, 458, 4468, 66, 3941, 4, 173, 36, 256, 5, 25, 100, 43, 838, 112, 50, 670, 2, 9, 35, 480, 284, 5, 150, 4, 172, 112, 167, 2, 336, 385, 39, 4, 172, 4536, 1111, 17, 546, 38, 13, 447, 4, 192, 50, 16, 6, 147, 2025, 19, 14, 22, 4, 1920, 4613, 469, 4, 22, 71, 87, 12, 16, 43, 530, 38, 76, 15, 13, 1247, 4, 22, 17, 515, 17, 12, 16, 626, 18, 2, 5, 62, 386, 12, 8, 316, 8, 106, 5, 4, 2223, 5244, 16, 480, 66, 3785, 33, 4, 130, 12, 16, 38, 619, 5, 25, 124, 51, 36, 135, 48, 25, 1415, 33, 6, 22, 12, 215, 28, 77, 52, 5, 14, 407, 16, 82, 2, 8, 4, 107, 117, 5952, 15, 256, 4, 2, 7, 3766, 5, 723, 36, 71, 43, 530, 476, 26, 400, 317, 46, 7, 4, 2, 1029, 13, 104, 88, 4, 381, 15, 297, 98, 32, 2071, 56, 26, 141, 6, 194, 7486, 18, 4, 226, 22, 21, 134, 476, 26, 480, 5, 144, 30, 5535, 18, 51, 36, 28, 224, 92, 25, 104, 4, 226, 65, 16, 38, 1334, 88, 12, 16, 283, 5, 16, 4472, 113, 103, 32, 15, 16, 5345, 19, 178, 32]),\n",
       "       list([1, 194, 1153, 194, 8255, 78, 228, 5, 6, 1463, 4369, 5012, 134, 26, 4, 715, 8, 118, 1634, 14, 394, 20, 13, 119, 954, 189, 102, 5, 207, 110, 3103, 21, 14, 69, 188, 8, 30, 23, 7, 4, 249, 126, 93, 4, 114, 9, 2300, 1523, 5, 647, 4, 116, 9, 35, 8163, 4, 229, 9, 340, 1322, 4, 118, 9, 4, 130, 4901, 19, 4, 1002, 5, 89, 29, 952, 46, 37, 4, 455, 9, 45, 43, 38, 1543, 1905, 398, 4, 1649, 26, 6853, 5, 163, 11, 3215, 2, 4, 1153, 9, 194, 775, 7, 8255, 2, 349, 2637, 148, 605, 2, 8003, 15, 123, 125, 68, 2, 6853, 15, 349, 165, 4362, 98, 5, 4, 228, 9, 43, 2, 1157, 15, 299, 120, 5, 120, 174, 11, 220, 175, 136, 50, 9, 4373, 228, 8255, 5, 2, 656, 245, 2350, 5, 4, 9837, 131, 152, 491, 18, 2, 32, 7464, 1212, 14, 9, 6, 371, 78, 22, 625, 64, 1382, 9, 8, 168, 145, 23, 4, 1690, 15, 16, 4, 1355, 5, 28, 6, 52, 154, 462, 33, 89, 78, 285, 16, 145, 95]),\n",
       "       list([1, 14, 47, 8, 30, 31, 7, 4, 249, 108, 7, 4, 5974, 54, 61, 369, 13, 71, 149, 14, 22, 112, 4, 2401, 311, 12, 16, 3711, 33, 75, 43, 1829, 296, 4, 86, 320, 35, 534, 19, 263, 4821, 1301, 4, 1873, 33, 89, 78, 12, 66, 16, 4, 360, 7, 4, 58, 316, 334, 11, 4, 1716, 43, 645, 662, 8, 257, 85, 1200, 42, 1228, 2578, 83, 68, 3912, 15, 36, 165, 1539, 278, 36, 69, 2, 780, 8, 106, 14, 6905, 1338, 18, 6, 22, 12, 215, 28, 610, 40, 6, 87, 326, 23, 2300, 21, 23, 22, 12, 272, 40, 57, 31, 11, 4, 22, 47, 6, 2307, 51, 9, 170, 23, 595, 116, 595, 1352, 13, 191, 79, 638, 89, 2, 14, 9, 8, 106, 607, 624, 35, 534, 6, 227, 7, 129, 113]),\n",
       "       ...,\n",
       "       list([1, 11, 6, 230, 245, 6401, 9, 6, 1225, 446, 2, 45, 2174, 84, 8322, 4007, 21, 4, 912, 84, 2, 325, 725, 134, 2, 1715, 84, 5, 36, 28, 57, 1099, 21, 8, 140, 8, 703, 5, 2, 84, 56, 18, 1644, 14, 9, 31, 7, 4, 9406, 1209, 2295, 2, 1008, 18, 6, 20, 207, 110, 563, 12, 8, 2901, 2, 8, 97, 6, 20, 53, 4767, 74, 4, 460, 364, 1273, 29, 270, 11, 960, 108, 45, 40, 29, 2961, 395, 11, 6, 4065, 500, 7, 2, 89, 364, 70, 29, 140, 4, 64, 4780, 11, 4, 2678, 26, 178, 4, 529, 443, 2, 5, 27, 710, 117, 2, 8123, 165, 47, 84, 37, 131, 818, 14, 595, 10, 10, 61, 1242, 1209, 10, 10, 288, 2260, 1702, 34, 2901, 2, 4, 65, 496, 4, 231, 7, 790, 5, 6, 320, 234, 2766, 234, 1119, 1574, 7, 496, 4, 139, 929, 2901, 2, 7750, 5, 4241, 18, 4, 8497, 2, 250, 11, 1818, 7561, 4, 4217, 5408, 747, 1115, 372, 1890, 1006, 541, 9303, 7, 4, 59, 2, 4, 3586, 2]),\n",
       "       list([1, 1446, 7079, 69, 72, 3305, 13, 610, 930, 8, 12, 582, 23, 5, 16, 484, 685, 54, 349, 11, 4120, 2959, 45, 58, 1466, 13, 197, 12, 16, 43, 23, 2, 5, 62, 30, 145, 402, 11, 4131, 51, 575, 32, 61, 369, 71, 66, 770, 12, 1054, 75, 100, 2198, 8, 4, 105, 37, 69, 147, 712, 75, 3543, 44, 257, 390, 5, 69, 263, 514, 105, 50, 286, 1814, 23, 4, 123, 13, 161, 40, 5, 421, 4, 116, 16, 897, 13, 2, 40, 319, 5872, 112, 6700, 11, 4803, 121, 25, 70, 3468, 4, 719, 3798, 13, 18, 31, 62, 40, 8, 7200, 4, 2, 7, 14, 123, 5, 942, 25, 8, 721, 12, 145, 5, 202, 12, 160, 580, 202, 12, 6, 52, 58, 2, 92, 401, 728, 12, 39, 14, 251, 8, 15, 251, 5, 2, 12, 38, 84, 80, 124, 12, 9, 23]),\n",
       "       list([1, 17, 6, 194, 337, 7, 4, 204, 22, 45, 254, 8, 106, 14, 123, 4, 2, 270, 2, 5, 2, 2, 732, 2098, 101, 405, 39, 14, 1034, 4, 1310, 9, 115, 50, 305, 12, 47, 4, 168, 5, 235, 7, 38, 111, 699, 102, 7, 4, 4039, 9245, 9, 24, 6, 78, 1099, 17, 2345, 2, 21, 27, 9685, 6139, 5, 2, 1603, 92, 1183, 4, 1310, 7, 4, 204, 42, 97, 90, 35, 221, 109, 29, 127, 27, 118, 8, 97, 12, 157, 21, 6789, 2, 9, 6, 66, 78, 1099, 4, 631, 1191, 5, 2642, 272, 191, 1070, 6, 7585, 8, 2197, 2, 2, 544, 5, 383, 1271, 848, 1468, 2, 497, 2, 8, 1597, 8778, 2, 21, 60, 27, 239, 9, 43, 8368, 209, 405, 10, 10, 12, 764, 40, 4, 248, 20, 12, 16, 5, 174, 1791, 72, 7, 51, 6, 1739, 22, 4, 204, 131, 9])],\n",
       "      dtype=object)"
      ]
     },
     "execution_count": 6,
     "metadata": {},
     "output_type": "execute_result"
    }
   ],
   "source": [
    "train_data"
   ]
  },
  {
   "cell_type": "code",
   "execution_count": 4,
   "metadata": {},
   "outputs": [
    {
     "data": {
      "text/plain": [
       "(25000,)"
      ]
     },
     "execution_count": 4,
     "metadata": {},
     "output_type": "execute_result"
    }
   ],
   "source": [
    "train_labels.shape"
   ]
  },
  {
   "cell_type": "code",
   "execution_count": 7,
   "metadata": {},
   "outputs": [
    {
     "data": {
      "text/plain": [
       "9999"
      ]
     },
     "execution_count": 7,
     "metadata": {},
     "output_type": "execute_result"
    }
   ],
   "source": [
    "max([max(sequence) for sequence in train_data])"
   ]
  },
  {
   "cell_type": "markdown",
   "metadata": {},
   "source": [
    "### MAPPING INTEGER SEQUENCE TO THE CORRESPONDING SENTENCE"
   ]
  },
  {
   "cell_type": "code",
   "execution_count": 9,
   "metadata": {},
   "outputs": [
    {
     "name": "stdout",
     "output_type": "stream",
     "text": [
      "Downloading data from https://s3.amazonaws.com/text-datasets/imdb_word_index.json\n",
      "1646592/1641221 [==============================] - 1s 0us/step\n"
     ]
    }
   ],
   "source": [
    "word_index = imdb.get_word_index()\n",
    "reverse_word_index = dict(\n",
    "[(value, key) for (key, value) in word_index.items()])\n",
    "decoded_review = ' '.join(\n",
    "[reverse_word_index.get(i - 3, '?') for i in train_data[0]])"
   ]
  },
  {
   "cell_type": "code",
   "execution_count": 10,
   "metadata": {},
   "outputs": [
    {
     "data": {
      "text/plain": [
       "\"? this film was just brilliant casting location scenery story direction everyone's really suited the part they played and you could just imagine being there robert ? is an amazing actor and now the same being director ? father came from the same scottish island as myself so i loved the fact there was a real connection with this film the witty remarks throughout the film were great it was just brilliant so much that i bought the film as soon as it was released for ? and would recommend it to everyone to watch and the fly fishing was amazing really cried at the end it was so sad and you know what they say if you cry at a film it must have been good and this definitely was also ? to the two little boy's that played the ? of norman and paul they were just brilliant children are often left out of the ? list i think because the stars that play them all grown up are such a big profile for the whole film but these children are amazing and should be praised for what they have done don't you think the whole story was so lovely because it was true and was someone's life after all that was shared with us all\""
      ]
     },
     "execution_count": 10,
     "metadata": {},
     "output_type": "execute_result"
    }
   ],
   "source": [
    "decoded_review"
   ]
  },
  {
   "cell_type": "markdown",
   "metadata": {},
   "source": [
    "### PREPARING THE DATA : ONE HOT ENCODING"
   ]
  },
  {
   "cell_type": "code",
   "execution_count": 15,
   "metadata": {},
   "outputs": [],
   "source": [
    "import numpy as np\n",
    "\n",
    "def vectorize_sequences(sequences, dimension=10000):\n",
    "    results = np.zeros((len(sequences) , dimension))\n",
    "    \n",
    "    for i, sequence in enumerate(sequences):\n",
    "        results[i,sequence] = 1\n",
    "    return(results)\n",
    "\n"
   ]
  },
  {
   "cell_type": "code",
   "execution_count": 16,
   "metadata": {},
   "outputs": [],
   "source": [
    "x_train = vectorize_sequences(train_data)\n",
    "x_test = vectorize_sequences(test_data)"
   ]
  },
  {
   "cell_type": "code",
   "execution_count": 17,
   "metadata": {},
   "outputs": [
    {
     "data": {
      "text/plain": [
       "array([0., 1., 1., ..., 0., 0., 0.])"
      ]
     },
     "execution_count": 17,
     "metadata": {},
     "output_type": "execute_result"
    }
   ],
   "source": [
    "x_train[0]"
   ]
  },
  {
   "cell_type": "code",
   "execution_count": 18,
   "metadata": {},
   "outputs": [],
   "source": [
    "y_train = np.asarray(train_labels).astype('float32')\n",
    "y_test = np.asarray(test_labels).astype('float32')"
   ]
  },
  {
   "cell_type": "code",
   "execution_count": 19,
   "metadata": {},
   "outputs": [
    {
     "data": {
      "text/plain": [
       "array([1., 0., 0., ..., 0., 1., 0.], dtype=float32)"
      ]
     },
     "execution_count": 19,
     "metadata": {},
     "output_type": "execute_result"
    }
   ],
   "source": [
    "y_train"
   ]
  },
  {
   "cell_type": "markdown",
   "metadata": {},
   "source": [
    "## BUILDING A NAIVE NEURAL NETWORK\n"
   ]
  },
  {
   "cell_type": "code",
   "execution_count": 39,
   "metadata": {},
   "outputs": [],
   "source": [
    "from keras import models\n",
    "from keras import layers\n",
    "\n",
    "model = models.Sequential()\n",
    "model.add(layers.Dense(16, activation = 'relu' , input_shape = (10000,)))\n",
    "model.add(layers.Dense(16, activation = 'relu'))\n",
    "model.add(layers.Dense(1,activation='sigmoid'))"
   ]
  },
  {
   "cell_type": "code",
   "execution_count": 40,
   "metadata": {},
   "outputs": [],
   "source": [
    "from keras import optimizers\n",
    "from keras import metrics\n",
    "model.compile(optimizer=optimizers.RMSprop(lr=0.001) ,loss='binary_crossentropy' , metrics=[metrics.binary_accuracy])"
   ]
  },
  {
   "cell_type": "markdown",
   "metadata": {},
   "source": [
    "### VALIDATION DATA"
   ]
  },
  {
   "cell_type": "code",
   "execution_count": 41,
   "metadata": {},
   "outputs": [],
   "source": [
    "x_val = x_train[:10000]\n",
    "partial_x_train = x_train[10000:]\n",
    "y_val = y_train[:10000]\n",
    "partial_y_train = y_train[10000:]"
   ]
  },
  {
   "cell_type": "markdown",
   "metadata": {},
   "source": [
    "### TRAINING "
   ]
  },
  {
   "cell_type": "code",
   "execution_count": 42,
   "metadata": {},
   "outputs": [
    {
     "name": "stdout",
     "output_type": "stream",
     "text": [
      "Train on 15000 samples, validate on 10000 samples\n",
      "Epoch 1/20\n",
      "15000/15000 [==============================] - 1s 77us/step - loss: 0.5377 - binary_accuracy: 0.7774 - val_loss: 0.4050 - val_binary_accuracy: 0.8673\n",
      "Epoch 2/20\n",
      "15000/15000 [==============================] - 1s 61us/step - loss: 0.3144 - binary_accuracy: 0.9010 - val_loss: 0.3222 - val_binary_accuracy: 0.8775\n",
      "Epoch 3/20\n",
      "15000/15000 [==============================] - 1s 78us/step - loss: 0.2298 - binary_accuracy: 0.9270 - val_loss: 0.2793 - val_binary_accuracy: 0.8911\n",
      "Epoch 4/20\n",
      "15000/15000 [==============================] - 1s 73us/step - loss: 0.1772 - binary_accuracy: 0.9433 - val_loss: 0.2744 - val_binary_accuracy: 0.8890\n",
      "Epoch 5/20\n",
      "15000/15000 [==============================] - 1s 73us/step - loss: 0.1423 - binary_accuracy: 0.9558 - val_loss: 0.2889 - val_binary_accuracy: 0.8851\n",
      "Epoch 6/20\n",
      "15000/15000 [==============================] - 1s 74us/step - loss: 0.1192 - binary_accuracy: 0.9647 - val_loss: 0.3103 - val_binary_accuracy: 0.8788\n",
      "Epoch 7/20\n",
      "15000/15000 [==============================] - 1s 74us/step - loss: 0.1003 - binary_accuracy: 0.9715 - val_loss: 0.3196 - val_binary_accuracy: 0.8797\n",
      "Epoch 8/20\n",
      "15000/15000 [==============================] - 1s 73us/step - loss: 0.0813 - binary_accuracy: 0.9777 - val_loss: 0.3770 - val_binary_accuracy: 0.8676\n",
      "Epoch 9/20\n",
      "15000/15000 [==============================] - 1s 75us/step - loss: 0.0712 - binary_accuracy: 0.9805 - val_loss: 0.4640 - val_binary_accuracy: 0.8514\n",
      "Epoch 10/20\n",
      "15000/15000 [==============================] - 1s 76us/step - loss: 0.0540 - binary_accuracy: 0.9876 - val_loss: 0.3848 - val_binary_accuracy: 0.8759\n",
      "Epoch 11/20\n",
      "15000/15000 [==============================] - 1s 76us/step - loss: 0.0491 - binary_accuracy: 0.9881 - val_loss: 0.3944 - val_binary_accuracy: 0.8754\n",
      "Epoch 12/20\n",
      "15000/15000 [==============================] - 1s 77us/step - loss: 0.0389 - binary_accuracy: 0.9925 - val_loss: 0.4186 - val_binary_accuracy: 0.8752\n",
      "Epoch 13/20\n",
      "15000/15000 [==============================] - 1s 74us/step - loss: 0.0302 - binary_accuracy: 0.9944 - val_loss: 0.4801 - val_binary_accuracy: 0.8648\n",
      "Epoch 14/20\n",
      "15000/15000 [==============================] - 1s 75us/step - loss: 0.0245 - binary_accuracy: 0.9958 - val_loss: 0.4843 - val_binary_accuracy: 0.8710\n",
      "Epoch 15/20\n",
      "15000/15000 [==============================] - 1s 86us/step - loss: 0.0175 - binary_accuracy: 0.9981 - val_loss: 0.5092 - val_binary_accuracy: 0.8690\n",
      "Epoch 16/20\n",
      "15000/15000 [==============================] - 1s 76us/step - loss: 0.0144 - binary_accuracy: 0.9985 - val_loss: 0.5442 - val_binary_accuracy: 0.8680\n",
      "Epoch 17/20\n",
      "15000/15000 [==============================] - 1s 77us/step - loss: 0.0110 - binary_accuracy: 0.9991 - val_loss: 0.5937 - val_binary_accuracy: 0.8636\n",
      "Epoch 18/20\n",
      "15000/15000 [==============================] - 1s 78us/step - loss: 0.0085 - binary_accuracy: 0.9991 - val_loss: 0.6075 - val_binary_accuracy: 0.8680\n",
      "Epoch 19/20\n",
      "15000/15000 [==============================] - 1s 79us/step - loss: 0.0072 - binary_accuracy: 0.9991 - val_loss: 0.6360 - val_binary_accuracy: 0.8670\n",
      "Epoch 20/20\n",
      "15000/15000 [==============================] - 1s 76us/step - loss: 0.0036 - binary_accuracy: 0.9999 - val_loss: 0.6714 - val_binary_accuracy: 0.8658\n"
     ]
    }
   ],
   "source": [
    "history = model.fit(partial_x_train , partial_y_train ,epochs = 20, batch_size=512 , validation_data=(x_val , y_val))"
   ]
  },
  {
   "cell_type": "code",
   "execution_count": 43,
   "metadata": {},
   "outputs": [
    {
     "data": {
      "text/plain": [
       "<matplotlib.legend.Legend at 0x7fdd63136c88>"
      ]
     },
     "execution_count": 43,
     "metadata": {},
     "output_type": "execute_result"
    },
    {
     "data": {
      "image/png": "[encoded data removed]",
      "text/plain": [
       "<Figure size 432x288 with 1 Axes>"
      ]
     },
     "metadata": {
      "needs_background": "light"
     },
     "output_type": "display_data"
    }
   ],
   "source": [
    "##PLOT THE HISTORY OF THE TRAINING\n",
    "import matplotlib.pyplot as plt\n",
    "\n",
    "\n",
    "history_dict = history.history\n",
    "loss_values = history_dict['loss']\n",
    "val_loss_values = history_dict['val_loss']\n",
    "epochs = range(1, len(history_dict['binary_accuracy']) + 1)\n",
    "\n",
    "plt.plot(epochs, loss_values , 'bo' , label='Training Loss')\n",
    "plt.plot(epochs, val_loss_values , 'b' , label='Validation Loss')\n",
    "plt.title('Training and validation loss')\n",
    "plt.xlabel('Epochs')\n",
    "plt.ylabel('Loss')\n",
    "plt.legend()"
   ]
  },
  {
   "cell_type": "markdown",
   "metadata": {},
   "source": [
    "#### We can see that w overfit at the 4th epoch, so we will stop to train after 4 epochs"
   ]
  },
  {
   "cell_type": "code",
   "execution_count": 44,
   "metadata": {
    "scrolled": true
   },
   "outputs": [
    {
     "name": "stdout",
     "output_type": "stream",
     "text": [
      "Epoch 1/4\n",
      "25000/25000 [==============================] - 1s 56us/step - loss: 0.4356 - acc: 0.8159\n",
      "Epoch 2/4\n",
      "25000/25000 [==============================] - 1s 48us/step - loss: 0.2528 - acc: 0.9080\n",
      "Epoch 3/4\n",
      "25000/25000 [==============================] - 1s 48us/step - loss: 0.1939 - acc: 0.9302\n",
      "Epoch 4/4\n",
      "25000/25000 [==============================] - 1s 49us/step - loss: 0.1629 - acc: 0.9408\n",
      "25000/25000 [==============================] - 1s 35us/step\n"
     ]
    }
   ],
   "source": [
    "#Training from scratch for 4 epochs\n",
    "model = models.Sequential()\n",
    "model.add(layers.Dense(16, activation='relu', input_shape=(10000,)))\n",
    "model.add(layers.Dense(16, activation='relu'))\n",
    "model.add(layers.Dense(1, activation='sigmoid'))\n",
    "model.compile(optimizer='rmsprop',\n",
    "loss='binary_crossentropy',\n",
    "metrics=['accuracy'])\n",
    "model.fit(x_train, y_train, epochs=4, batch_size=512)\n",
    "\n",
    "#Evaluation on test\n",
    "results = model.evaluate(x_test, y_test)"
   ]
  },
  {
   "cell_type": "code",
   "execution_count": 46,
   "metadata": {},
   "outputs": [
    {
     "name": "stdout",
     "output_type": "stream",
     "text": [
      "Accuracy is  0.88196\n"
     ]
    }
   ],
   "source": [
    "print('Accuracy is ' , results[1])"
   ]
  },
  {
   "cell_type": "markdown",
   "metadata": {},
   "source": [
    "### PREDICTIONS"
   ]
  },
  {
   "cell_type": "code",
   "execution_count": 48,
   "metadata": {},
   "outputs": [],
   "source": [
    "#PREDICTIONS ON TEST\n",
    "\n",
    "y_pred = model.predict(x_test)"
   ]
  },
  {
   "cell_type": "markdown",
   "metadata": {},
   "source": [
    "### TRYING VARIOUS IMPLEMENTATIONS"
   ]
  },
  {
   "cell_type": "code",
   "execution_count": 50,
   "metadata": {},
   "outputs": [
    {
     "name": "stdout",
     "output_type": "stream",
     "text": [
      "Epoch 1/4\n",
      "25000/25000 [==============================] - 1s 54us/step - loss: 0.4552 - acc: 0.8235\n",
      "Epoch 2/4\n",
      "25000/25000 [==============================] - 1s 49us/step - loss: 0.2791 - acc: 0.9054\n",
      "Epoch 3/4\n",
      "25000/25000 [==============================] - 1s 52us/step - loss: 0.2207 - acc: 0.9251\n",
      "Epoch 4/4\n",
      "25000/25000 [==============================] - 1s 48us/step - loss: 0.1875 - acc: 0.9358\n",
      "25000/25000 [==============================] - 1s 32us/step\n"
     ]
    }
   ],
   "source": [
    "#One hidden layer\n",
    "model = models.Sequential()\n",
    "model.add(layers.Dense(16, activation='relu', input_shape=(10000,)))\n",
    "model.add(layers.Dense(1, activation='sigmoid'))\n",
    "model.compile(optimizer='rmsprop',\n",
    "loss='binary_crossentropy',\n",
    "metrics=['accuracy'])\n",
    "model.fit(x_train, y_train, epochs=4, batch_size=512)\n",
    "\n",
    "#Evaluation on test\n",
    "results = model.evaluate(x_test, y_test)\n",
    "print('Accuracy is ' , results[1])"
   ]
  },
  {
   "cell_type": "code",
   "execution_count": 52,
   "metadata": {
    "scrolled": true
   },
   "outputs": [
    {
     "name": "stdout",
     "output_type": "stream",
     "text": [
      "Epoch 1/4\n",
      "25000/25000 [==============================] - 2s 61us/step - loss: 0.4549 - acc: 0.8194\n",
      "Epoch 2/4\n",
      "25000/25000 [==============================] - 1s 48us/step - loss: 0.2532 - acc: 0.9087\n",
      "Epoch 3/4\n",
      "25000/25000 [==============================] - 1s 48us/step - loss: 0.1918 - acc: 0.9309\n",
      "Epoch 4/4\n",
      "25000/25000 [==============================] - 1s 48us/step - loss: 0.1583 - acc: 0.9428\n",
      "25000/25000 [==============================] - 1s 33us/step\n",
      "Accuracy is  0.8808\n"
     ]
    }
   ],
   "source": [
    "#Three hidden layers\n",
    "model = models.Sequential()\n",
    "model.add(layers.Dense(16, activation='relu', input_shape=(10000,)))\n",
    "model.add(layers.Dense(16, activation='relu'))\n",
    "model.add(layers.Dense(16, activation='relu'))\n",
    "model.add(layers.Dense(1, activation='sigmoid'))\n",
    "model.compile(optimizer='rmsprop',\n",
    "loss='binary_crossentropy',\n",
    "metrics=['accuracy'])\n",
    "model.fit(x_train, y_train, epochs=4, batch_size=512)\n",
    "\n",
    "#Evaluation on test\n",
    "results = model.evaluate(x_test, y_test)\n",
    "print('Accuracy is ' , results[1])"
   ]
  },
  {
   "cell_type": "code",
   "execution_count": 55,
   "metadata": {},
   "outputs": [
    {
     "name": "stdout",
     "output_type": "stream",
     "text": [
      "Epoch 1/4\n",
      "25000/25000 [==============================] - 2s 76us/step - loss: 0.4251 - acc: 0.8097\n",
      "Epoch 2/4\n",
      "25000/25000 [==============================] - 2s 68us/step - loss: 0.2347 - acc: 0.9108\n",
      "Epoch 3/4\n",
      "25000/25000 [==============================] - 2s 63us/step - loss: 0.1726 - acc: 0.9364\n",
      "Epoch 4/4\n",
      "25000/25000 [==============================] - 2s 66us/step - loss: 0.1459 - acc: 0.9450\n",
      "25000/25000 [==============================] - 1s 43us/step\n",
      "Accuracy is  0.8756\n"
     ]
    }
   ],
   "source": [
    "#Two hidden layers with 64 units\n",
    "model = models.Sequential()\n",
    "model.add(layers.Dense(64, activation='relu', input_shape=(10000,)))\n",
    "model.add(layers.Dense(64, activation='relu'))\n",
    "model.add(layers.Dense(1, activation='sigmoid'))\n",
    "model.compile(optimizer='rmsprop',\n",
    "loss='binary_crossentropy',\n",
    "metrics=['accuracy'])\n",
    "model.fit(x_train, y_train, epochs=4, batch_size=512)\n",
    "\n",
    "#Evaluation on test\n",
    "results = model.evaluate(x_test, y_test)\n",
    "print('Accuracy is ' , results[1])"
   ]
  },
  {
   "cell_type": "code",
   "execution_count": 56,
   "metadata": {},
   "outputs": [
    {
     "name": "stdout",
     "output_type": "stream",
     "text": [
      "Epoch 1/4\n",
      "25000/25000 [==============================] - 2s 67us/step - loss: 0.4279 - acc: 0.8143\n",
      "Epoch 2/4\n",
      "25000/25000 [==============================] - 1s 58us/step - loss: 0.2443 - acc: 0.9115\n",
      "Epoch 3/4\n",
      "25000/25000 [==============================] - 1s 56us/step - loss: 0.1932 - acc: 0.9286\n",
      "Epoch 4/4\n",
      "25000/25000 [==============================] - 2s 64us/step - loss: 0.1577 - acc: 0.9420\n",
      "25000/25000 [==============================] - 1s 46us/step\n",
      "Accuracy is  0.88076\n"
     ]
    }
   ],
   "source": [
    "#Two hidden layers with 32 units\n",
    "model = models.Sequential()\n",
    "model.add(layers.Dense(32, activation='relu', input_shape=(10000,)))\n",
    "model.add(layers.Dense(32, activation='relu'))\n",
    "model.add(layers.Dense(1, activation='sigmoid'))\n",
    "model.compile(optimizer='rmsprop',\n",
    "loss='binary_crossentropy',\n",
    "metrics=['accuracy'])\n",
    "model.fit(x_train, y_train, epochs=4, batch_size=512)\n",
    "\n",
    "#Evaluation on test\n",
    "results = model.evaluate(x_test, y_test)\n",
    "print('Accuracy is ' , results[1])"
   ]
  },
  {
   "cell_type": "code",
   "execution_count": 54,
   "metadata": {},
   "outputs": [
    {
     "name": "stdout",
     "output_type": "stream",
     "text": [
      "Epoch 1/4\n",
      "25000/25000 [==============================] - 1s 55us/step - loss: 0.1458 - acc: 0.8251\n",
      "Epoch 2/4\n",
      "25000/25000 [==============================] - 1s 48us/step - loss: 0.0771 - acc: 0.9107\n",
      "Epoch 3/4\n",
      "25000/25000 [==============================] - 1s 49us/step - loss: 0.0576 - acc: 0.9320\n",
      "Epoch 4/4\n",
      "25000/25000 [==============================] - 1s 49us/step - loss: 0.0479 - acc: 0.9430\n",
      "25000/25000 [==============================] - 1s 32us/step\n",
      "Accuracy is  0.87992\n"
     ]
    }
   ],
   "source": [
    "#Two hidden layers with MSE LOSS FUNCTION\n",
    "model = models.Sequential()\n",
    "model.add(layers.Dense(16, activation='relu', input_shape=(10000,)))\n",
    "model.add(layers.Dense(16, activation='relu'))\n",
    "model.add(layers.Dense(1, activation='sigmoid'))\n",
    "model.compile(optimizer='rmsprop',\n",
    "loss='mse',\n",
    "metrics=['accuracy'])\n",
    "model.fit(x_train, y_train, epochs=4, batch_size=512)\n",
    "\n",
    "#Evaluation on test\n",
    "results = model.evaluate(x_test, y_test)\n",
    "print('Accuracy is ' , results[1])"
   ]
  },
  {
   "cell_type": "code",
   "execution_count": 57,
   "metadata": {},
   "outputs": [
    {
     "name": "stdout",
     "output_type": "stream",
     "text": [
      "Epoch 1/4\n",
      "25000/25000 [==============================] - 2s 60us/step - loss: 0.4433 - acc: 0.8310\n",
      "Epoch 2/4\n",
      "25000/25000 [==============================] - 1s 49us/step - loss: 0.2468 - acc: 0.9126\n",
      "Epoch 3/4\n",
      "25000/25000 [==============================] - 1s 49us/step - loss: 0.1839 - acc: 0.9340\n",
      "Epoch 4/4\n",
      "25000/25000 [==============================] - 1s 52us/step - loss: 0.1527 - acc: 0.9458\n",
      "25000/25000 [==============================] - 1s 32us/step\n",
      "Accuracy is  0.8782\n"
     ]
    }
   ],
   "source": [
    "#Two hidden layers  with TANH\n",
    "model = models.Sequential()\n",
    "model.add(layers.Dense(16, activation='tanh', input_shape=(10000,)))\n",
    "model.add(layers.Dense(16, activation='tanh'))\n",
    "model.add(layers.Dense(1, activation='sigmoid'))\n",
    "model.compile(optimizer='rmsprop',\n",
    "loss='binary_crossentropy',\n",
    "metrics=['accuracy'])\n",
    "model.fit(x_train, y_train, epochs=4, batch_size=512)\n",
    "\n",
    "#Evaluation on test\n",
    "results = model.evaluate(x_test, y_test)\n",
    "print('Accuracy is ' , results[1])"
   ]
  },
  {
   "cell_type": "markdown",
   "metadata": {},
   "source": [
    "# MULTI CLASSIFICATION"
   ]
  },
  {
   "cell_type": "code",
   "execution_count": 58,
   "metadata": {},
   "outputs": [
    {
     "name": "stdout",
     "output_type": "stream",
     "text": [
      "Downloading data from https://s3.amazonaws.com/text-datasets/reuters.npz\n",
      "2113536/2110848 [==============================] - 1s 0us/step\n"
     ]
    }
   ],
   "source": [
    "from keras.datasets import reuters\n",
    "(train_data, train_labels), (test_data, test_labels) = reuters.load_data(\n",
    "num_words=10000)"
   ]
  },
  {
   "cell_type": "markdown",
   "metadata": {},
   "source": [
    "## DISCOVERING THE DATA"
   ]
  },
  {
   "cell_type": "code",
   "execution_count": 59,
   "metadata": {},
   "outputs": [
    {
     "name": "stdout",
     "output_type": "stream",
     "text": [
      "8982\n",
      "2246\n"
     ]
    }
   ],
   "source": [
    "print(len(train_data))\n",
    "print(len(test_data))"
   ]
  },
  {
   "cell_type": "code",
   "execution_count": 63,
   "metadata": {},
   "outputs": [
    {
     "name": "stdout",
     "output_type": "stream",
     "text": [
      "[1, 2, 2, 8, 43, 10, 447, 5, 25, 207, 270, 5, 3095, 111, 16, 369, 186, 90, 67, 7, 89, 5, 19, 102, 6, 19, 124, 15, 90, 67, 84, 22, 482, 26, 7, 48, 4, 49, 8, 864, 39, 209, 154, 6, 151, 6, 83, 11, 15, 22, 155, 11, 15, 7, 48, 9, 4579, 1005, 504, 6, 258, 6, 272, 11, 15, 22, 134, 44, 11, 15, 16, 8, 197, 1245, 90, 67, 52, 29, 209, 30, 32, 132, 6, 109, 15, 17, 12]\n"
     ]
    }
   ],
   "source": [
    "print(train_data[0])"
   ]
  },
  {
   "cell_type": "code",
   "execution_count": 60,
   "metadata": {},
   "outputs": [
    {
     "name": "stdout",
     "output_type": "stream",
     "text": [
      "Downloading data from https://s3.amazonaws.com/text-datasets/reuters_word_index.json\n",
      "557056/550378 [==============================] - 0s 1us/step\n"
     ]
    }
   ],
   "source": [
    "word_index = reuters.get_word_index()\n",
    "reverse_word_index = dict(\n",
    "[(value, key) for (key, value) in word_index.items()])\n",
    "decoded_review = ' '.join(\n",
    "[reverse_word_index.get(i - 3, '?') for i in train_data[0]])"
   ]
  },
  {
   "cell_type": "code",
   "execution_count": 64,
   "metadata": {},
   "outputs": [
    {
     "name": "stdout",
     "output_type": "stream",
     "text": [
      "? ? ? said as a result of its december acquisition of space co it expects earnings per share in 1987 of 1 15 to 1 30 dlrs per share up from 70 cts in 1986 the company said pretax net should rise to nine to 10 mln dlrs from six mln dlrs in 1986 and rental operation revenues to 19 to 22 mln dlrs from 12 5 mln dlrs it said cash flow per share this year should be 2 50 to three dlrs reuter 3\n"
     ]
    }
   ],
   "source": [
    "print (decoded_review)"
   ]
  },
  {
   "cell_type": "markdown",
   "metadata": {},
   "source": [
    "## PREPARING THE DATA"
   ]
  },
  {
   "cell_type": "markdown",
   "metadata": {},
   "source": [
    "## One hot enconding of the data"
   ]
  },
  {
   "cell_type": "code",
   "execution_count": 65,
   "metadata": {},
   "outputs": [],
   "source": [
    "x_train = vectorize_sequences(train_data)\n",
    "x_test = vectorize_sequences(test_data)"
   ]
  },
  {
   "cell_type": "markdown",
   "metadata": {},
   "source": [
    "## One hot enconding of the labels"
   ]
  },
  {
   "cell_type": "code",
   "execution_count": 66,
   "metadata": {},
   "outputs": [],
   "source": [
    "def to_one_hot(labels, dimension=46):\n",
    "    results = np.zeros((len(labels), dimension))\n",
    "    for i, label in enumerate(labels):\n",
    "        results[i, label] = 1.\n",
    "    return results\n",
    "\n"
   ]
  },
  {
   "cell_type": "code",
   "execution_count": 68,
   "metadata": {},
   "outputs": [
    {
     "name": "stdout",
     "output_type": "stream",
     "text": [
      "[[0. 0. 0. ... 0. 0. 0.]\n",
      " [0. 0. 0. ... 0. 0. 0.]\n",
      " [0. 0. 0. ... 0. 0. 0.]\n",
      " ...\n",
      " [0. 0. 0. ... 0. 0. 0.]\n",
      " [0. 0. 0. ... 0. 0. 0.]\n",
      " [0. 0. 0. ... 0. 0. 0.]]\n",
      "[[0. 0. 0. ... 0. 0. 0.]\n",
      " [0. 0. 0. ... 0. 0. 0.]\n",
      " [0. 1. 0. ... 0. 0. 0.]\n",
      " ...\n",
      " [0. 0. 0. ... 0. 0. 0.]\n",
      " [0. 0. 0. ... 0. 0. 0.]\n",
      " [0. 0. 0. ... 0. 0. 0.]]\n"
     ]
    }
   ],
   "source": [
    "one_hot_train_labels = to_one_hot(train_labels)\n",
    "one_hot_test_labels = to_one_hot(test_labels)\n",
    "\n",
    "print(one_hot_train_labels)\n",
    "print(one_hot_test_labels)"
   ]
  },
  {
   "cell_type": "markdown",
   "metadata": {},
   "source": [
    "On peut aussi faire avec keras.to_categorical"
   ]
  },
  {
   "cell_type": "markdown",
   "metadata": {},
   "source": [
    "## BUILDING NEURAL NETWORK"
   ]
  },
  {
   "cell_type": "code",
   "execution_count": 71,
   "metadata": {},
   "outputs": [],
   "source": [
    "from keras import models\n",
    "from keras import layers\n",
    "\n",
    "model = models.Sequential()\n",
    "model.add(layers.Dense(64, activation='relu', input_shape=(10000,)))\n",
    "model.add(layers.Dense(64, activation='relu'))\n",
    "model.add(layers.Dense(46, activation='softmax'))\n",
    "\n",
    "model.compile(optimizer='rmsprop',\n",
    "loss='categorical_crossentropy',\n",
    "metrics=['accuracy'])"
   ]
  },
  {
   "cell_type": "markdown",
   "metadata": {},
   "source": [
    "### VALIDATION DATA"
   ]
  },
  {
   "cell_type": "code",
   "execution_count": 72,
   "metadata": {},
   "outputs": [],
   "source": [
    "x_val = x_train[:1000]\n",
    "partial_x_train = x_train[1000:]\n",
    "y_val = one_hot_train_labels[:1000]\n",
    "partial_y_train = one_hot_train_labels[1000:]"
   ]
  },
  {
   "cell_type": "code",
   "execution_count": 73,
   "metadata": {},
   "outputs": [
    {
     "name": "stdout",
     "output_type": "stream",
     "text": [
      "Train on 7982 samples, validate on 1000 samples\n",
      "Epoch 1/20\n",
      "7982/7982 [==============================] - 1s 128us/step - loss: 2.4997 - acc: 0.4899 - val_loss: 1.6813 - val_acc: 0.6480\n",
      "Epoch 2/20\n",
      "7982/7982 [==============================] - 1s 68us/step - loss: 1.3915 - acc: 0.7038 - val_loss: 1.2790 - val_acc: 0.7190\n",
      "Epoch 3/20\n",
      "7982/7982 [==============================] - 1s 68us/step - loss: 1.0487 - acc: 0.7699 - val_loss: 1.1181 - val_acc: 0.7610\n",
      "Epoch 4/20\n",
      "7982/7982 [==============================] - 1s 68us/step - loss: 0.8246 - acc: 0.8282 - val_loss: 1.0217 - val_acc: 0.7760\n",
      "Epoch 5/20\n",
      "7982/7982 [==============================] - 1s 76us/step - loss: 0.6599 - acc: 0.8637 - val_loss: 0.9688 - val_acc: 0.7970\n",
      "Epoch 6/20\n",
      "7982/7982 [==============================] - 1s 69us/step - loss: 0.5254 - acc: 0.8931 - val_loss: 0.9200 - val_acc: 0.8090\n",
      "Epoch 7/20\n",
      "7982/7982 [==============================] - 1s 69us/step - loss: 0.4291 - acc: 0.9118 - val_loss: 0.9108 - val_acc: 0.8030\n",
      "Epoch 8/20\n",
      "7982/7982 [==============================] - 1s 78us/step - loss: 0.3497 - acc: 0.9277 - val_loss: 0.8937 - val_acc: 0.8150\n",
      "Epoch 9/20\n",
      "7982/7982 [==============================] - 1s 70us/step - loss: 0.2893 - acc: 0.9386 - val_loss: 0.9128 - val_acc: 0.8090\n",
      "Epoch 10/20\n",
      "7982/7982 [==============================] - 1s 68us/step - loss: 0.2450 - acc: 0.9453 - val_loss: 0.9114 - val_acc: 0.8100\n",
      "Epoch 11/20\n",
      "7982/7982 [==============================] - 1s 71us/step - loss: 0.2102 - acc: 0.9481 - val_loss: 0.9482 - val_acc: 0.8130\n",
      "Epoch 12/20\n",
      "7982/7982 [==============================] - 1s 78us/step - loss: 0.1878 - acc: 0.9528 - val_loss: 0.9613 - val_acc: 0.8040\n",
      "Epoch 13/20\n",
      "7982/7982 [==============================] - 1s 69us/step - loss: 0.1658 - acc: 0.9529 - val_loss: 0.9926 - val_acc: 0.8010\n",
      "Epoch 14/20\n",
      "7982/7982 [==============================] - 1s 69us/step - loss: 0.1532 - acc: 0.9550 - val_loss: 0.9772 - val_acc: 0.8050\n",
      "Epoch 15/20\n",
      "7982/7982 [==============================] - 1s 70us/step - loss: 0.1456 - acc: 0.9550 - val_loss: 1.0188 - val_acc: 0.7990\n",
      "Epoch 16/20\n",
      "7982/7982 [==============================] - 1s 70us/step - loss: 0.1326 - acc: 0.9554 - val_loss: 1.0390 - val_acc: 0.8000\n",
      "Epoch 17/20\n",
      "7982/7982 [==============================] - 1s 71us/step - loss: 0.1255 - acc: 0.9554 - val_loss: 1.0423 - val_acc: 0.7970\n",
      "Epoch 18/20\n",
      "7982/7982 [==============================] - 1s 71us/step - loss: 0.1170 - acc: 0.9560 - val_loss: 1.0367 - val_acc: 0.8150\n",
      "Epoch 19/20\n",
      "7982/7982 [==============================] - 1s 69us/step - loss: 0.1157 - acc: 0.9573 - val_loss: 1.0295 - val_acc: 0.8080\n",
      "Epoch 20/20\n",
      "7982/7982 [==============================] - 1s 70us/step - loss: 0.1136 - acc: 0.9583 - val_loss: 1.0501 - val_acc: 0.8030\n"
     ]
    }
   ],
   "source": [
    "history = model.fit(partial_x_train,\n",
    "partial_y_train,\n",
    "epochs=20,\n",
    "batch_size=512,\n",
    "validation_data=(x_val, y_val))"
   ]
  },
  {
   "cell_type": "code",
   "execution_count": 74,
   "metadata": {},
   "outputs": [
    {
     "data": {
      "image/png": "[encoded data removed]",
      "text/plain": [
       "<Figure size 432x288 with 1 Axes>"
      ]
     },
     "metadata": {
      "needs_background": "light"
     },
     "output_type": "display_data"
    }
   ],
   "source": [
    "import matplotlib.pyplot as plt\n",
    "loss = history.history['loss']\n",
    "val_loss = history.history['val_loss']\n",
    "epochs = range(1, len(loss) + 1)\n",
    "plt.plot(epochs, loss, 'bo', label='Training loss')\n",
    "plt.plot(epochs, val_loss, 'b', label='Validation loss')\n",
    "plt.title('Training and validation loss')\n",
    "plt.xlabel('Epochs')\n",
    "plt.ylabel('Loss')\n",
    "plt.legend()\n",
    "plt.show()"
   ]
  },
  {
   "cell_type": "code",
   "execution_count": 75,
   "metadata": {},
   "outputs": [
    {
     "data": {
      "image/png": "[encoded data removed]",
      "text/plain": [
       "<Figure size 432x288 with 1 Axes>"
      ]
     },
     "metadata": {
      "needs_background": "light"
     },
     "output_type": "display_data"
    }
   ],
   "source": [
    "plt.clf()\n",
    "\n",
    "acc = history.history['acc']\n",
    "val_acc = history.history['val_acc']\n",
    "plt.plot(epochs, acc, 'bo', label='Training acc')\n",
    "plt.plot(epochs, val_acc, 'b', label='Validation acc')\n",
    "plt.title('Training and validation accuracy')\n",
    "plt.xlabel('Epochs')\n",
    "plt.ylabel('Loss')\n",
    "plt.legend()\n",
    "plt.show()"
   ]
  },
  {
   "cell_type": "markdown",
   "metadata": {},
   "source": [
    "### TRAINING A MODEL FROM SCRATCH"
   ]
  },
  {
   "cell_type": "code",
   "execution_count": 76,
   "metadata": {},
   "outputs": [
    {
     "name": "stdout",
     "output_type": "stream",
     "text": [
      "Train on 7982 samples, validate on 1000 samples\n",
      "Epoch 1/9\n",
      "7982/7982 [==============================] - 1s 171us/step - loss: 2.5398 - acc: 0.5226 - val_loss: 1.6733 - val_acc: 0.6570\n",
      "Epoch 2/9\n",
      "7982/7982 [==============================] - 1s 70us/step - loss: 1.3712 - acc: 0.7121 - val_loss: 1.2758 - val_acc: 0.7210\n",
      "Epoch 3/9\n",
      "7982/7982 [==============================] - 1s 70us/step - loss: 1.0136 - acc: 0.7781 - val_loss: 1.1303 - val_acc: 0.7530\n",
      "Epoch 4/9\n",
      "7982/7982 [==============================] - 1s 70us/step - loss: 0.7976 - acc: 0.8251 - val_loss: 1.0539 - val_acc: 0.7590\n",
      "Epoch 5/9\n",
      "7982/7982 [==============================] - 1s 70us/step - loss: 0.6393 - acc: 0.8624 - val_loss: 0.9754 - val_acc: 0.7920\n",
      "Epoch 6/9\n",
      "7982/7982 [==============================] - 1s 77us/step - loss: 0.5124 - acc: 0.8921 - val_loss: 0.9102 - val_acc: 0.8140\n",
      "Epoch 7/9\n",
      "7982/7982 [==============================] - 1s 70us/step - loss: 0.4124 - acc: 0.9137 - val_loss: 0.8932 - val_acc: 0.8210\n",
      "Epoch 8/9\n",
      "7982/7982 [==============================] - 1s 77us/step - loss: 0.3355 - acc: 0.9290 - val_loss: 0.8732 - val_acc: 0.8260\n",
      "Epoch 9/9\n",
      "7982/7982 [==============================] - 1s 70us/step - loss: 0.2782 - acc: 0.9371 - val_loss: 0.9338 - val_acc: 0.8000\n",
      "2246/2246 [==============================] - 0s 59us/step\n"
     ]
    }
   ],
   "source": [
    "model = models.Sequential()\n",
    "model.add(layers.Dense(64, activation='relu', input_shape=(10000,)))\n",
    "model.add(layers.Dense(64, activation='relu'))\n",
    "model.add(layers.Dense(46, activation='softmax'))\n",
    "model.compile(optimizer='rmsprop',\n",
    "loss='categorical_crossentropy',\n",
    "metrics=['accuracy'])\n",
    "model.fit(partial_x_train,\n",
    "partial_y_train,\n",
    "epochs=9,\n",
    "batch_size=512,\n",
    "validation_data=(x_val, y_val))\n",
    "results = model.evaluate(x_test, one_hot_test_labels)"
   ]
  },
  {
   "cell_type": "code",
   "execution_count": 77,
   "metadata": {},
   "outputs": [
    {
     "name": "stdout",
     "output_type": "stream",
     "text": [
      "Accuracy is 0.7756010686194165\n"
     ]
    }
   ],
   "source": [
    "print('Accuracy is', results[1])"
   ]
  },
  {
   "cell_type": "markdown",
   "metadata": {},
   "source": [
    "### Different way ot handle the data (withotut hot enconding of the label)"
   ]
  },
  {
   "cell_type": "code",
   "execution_count": 100,
   "metadata": {},
   "outputs": [
    {
     "name": "stdout",
     "output_type": "stream",
     "text": [
      "Epoch 1/20\n",
      "8982/8982 [==============================] - 1s 143us/step - loss: 1.7404 - acc: 0.6335\n",
      "Epoch 2/20\n",
      "8982/8982 [==============================] - 1s 76us/step - loss: 0.9350 - acc: 0.7989\n",
      "Epoch 3/20\n",
      "8982/8982 [==============================] - 1s 78us/step - loss: 0.6236 - acc: 0.8684\n",
      "Epoch 4/20\n",
      "8982/8982 [==============================] - 1s 78us/step - loss: 0.4332 - acc: 0.9081\n",
      "Epoch 5/20\n",
      "8982/8982 [==============================] - 1s 77us/step - loss: 0.3172 - acc: 0.9300\n",
      "Epoch 6/20\n",
      "8982/8982 [==============================] - 1s 78us/step - loss: 0.2494 - acc: 0.9412\n",
      "Epoch 7/20\n",
      "8982/8982 [==============================] - 1s 77us/step - loss: 0.2130 - acc: 0.9483\n",
      "Epoch 8/20\n",
      "8982/8982 [==============================] - 1s 78us/step - loss: 0.1832 - acc: 0.9510\n",
      "Epoch 9/20\n",
      "8982/8982 [==============================] - 1s 78us/step - loss: 0.1652 - acc: 0.9529\n",
      "Epoch 10/20\n",
      "8982/8982 [==============================] - 1s 79us/step - loss: 0.1613 - acc: 0.9530\n",
      "Epoch 11/20\n",
      "8982/8982 [==============================] - 1s 78us/step - loss: 0.1528 - acc: 0.9531\n",
      "Epoch 12/20\n",
      "8982/8982 [==============================] - 1s 78us/step - loss: 0.1420 - acc: 0.9526\n",
      "Epoch 13/20\n",
      "8982/8982 [==============================] - 1s 79us/step - loss: 0.1383 - acc: 0.9541\n",
      "Epoch 14/20\n",
      "8982/8982 [==============================] - 1s 78us/step - loss: 0.1315 - acc: 0.9539\n",
      "Epoch 15/20\n",
      "8982/8982 [==============================] - 1s 79us/step - loss: 0.1290 - acc: 0.9537\n",
      "Epoch 16/20\n",
      "8982/8982 [==============================] - 1s 77us/step - loss: 0.1216 - acc: 0.9550\n",
      "Epoch 17/20\n",
      "8982/8982 [==============================] - 1s 79us/step - loss: 0.1220 - acc: 0.9547\n",
      "Epoch 18/20\n",
      "8982/8982 [==============================] - 1s 79us/step - loss: 0.1167 - acc: 0.9541\n",
      "Epoch 19/20\n",
      "8982/8982 [==============================] - 1s 80us/step - loss: 0.1150 - acc: 0.9552\n",
      "Epoch 20/20\n",
      "8982/8982 [==============================] - 1s 79us/step - loss: 0.1118 - acc: 0.9557\n"
     ]
    },
    {
     "data": {
      "text/plain": [
       "<keras.callbacks.History at 0x7fdd6506c9e8>"
      ]
     },
     "execution_count": 100,
     "metadata": {},
     "output_type": "execute_result"
    }
   ],
   "source": [
    "y_train = np.array(train_labels)\n",
    "y_test = np.array(test_labels)\n",
    "\n",
    "model = models.Sequential()\n",
    "model.add(layers.Dense(64, activation='relu', input_shape=(10000,)))\n",
    "model.add(layers.Dense(64, activation='relu'))\n",
    "model.add(layers.Dense(46, activation='softmax'))\n",
    "model.compile(optimizer='rmsprop',\n",
    "loss='sparse_categorical_crossentropy',\n",
    "metrics=['acc'])\n",
    "model.fit(x_train,\n",
    "y_train,\n",
    "epochs=20,\n",
    "batch_size=128)"
   ]
  },
  {
   "cell_type": "code",
   "execution_count": 102,
   "metadata": {},
   "outputs": [
    {
     "name": "stdout",
     "output_type": "stream",
     "text": [
      "2246/2246 [==============================] - 0s 140us/step\n",
      "Accuracy is 0.789848619715401\n"
     ]
    }
   ],
   "source": [
    "results =  model.evaluate(x_test, y_test)\n",
    "print('Accuracy is', results[1])"
   ]
  },
  {
   "cell_type": "markdown",
   "metadata": {},
   "source": [
    "### VARIOUS PARAMATERS"
   ]
  },
  {
   "cell_type": "code",
   "execution_count": 105,
   "metadata": {
    "scrolled": true
   },
   "outputs": [
    {
     "name": "stdout",
     "output_type": "stream",
     "text": [
      "Train on 7982 samples, validate on 1000 samples\n",
      "Epoch 1/20\n",
      "7982/7982 [==============================] - 1s 155us/step - loss: 3.2927 - acc: 0.2180 - val_loss: 2.8711 - val_acc: 0.2320\n",
      "Epoch 2/20\n",
      "7982/7982 [==============================] - 1s 81us/step - loss: 2.4604 - acc: 0.3001 - val_loss: 2.0634 - val_acc: 0.5420\n",
      "Epoch 3/20\n",
      "7982/7982 [==============================] - 1s 82us/step - loss: 1.6104 - acc: 0.5965 - val_loss: 1.5190 - val_acc: 0.6290\n",
      "Epoch 4/20\n",
      "7982/7982 [==============================] - 1s 83us/step - loss: 1.2708 - acc: 0.6700 - val_loss: 1.3893 - val_acc: 0.6710\n",
      "Epoch 5/20\n",
      "7982/7982 [==============================] - 1s 83us/step - loss: 1.0945 - acc: 0.7348 - val_loss: 1.3225 - val_acc: 0.7090\n",
      "Epoch 6/20\n",
      "7982/7982 [==============================] - 1s 82us/step - loss: 0.9664 - acc: 0.7685 - val_loss: 1.2741 - val_acc: 0.7230\n",
      "Epoch 7/20\n",
      "7982/7982 [==============================] - 1s 83us/step - loss: 0.8679 - acc: 0.7875 - val_loss: 1.2712 - val_acc: 0.7260\n",
      "Epoch 8/20\n",
      "7982/7982 [==============================] - 1s 83us/step - loss: 0.7896 - acc: 0.7993 - val_loss: 1.2677 - val_acc: 0.7280\n",
      "Epoch 9/20\n",
      "7982/7982 [==============================] - 1s 81us/step - loss: 0.7246 - acc: 0.8109 - val_loss: 1.2985 - val_acc: 0.7350\n",
      "Epoch 10/20\n",
      "7982/7982 [==============================] - 1s 81us/step - loss: 0.6680 - acc: 0.8220 - val_loss: 1.3257 - val_acc: 0.7170\n",
      "Epoch 11/20\n",
      "7982/7982 [==============================] - 1s 81us/step - loss: 0.6190 - acc: 0.8336 - val_loss: 1.3409 - val_acc: 0.7310\n",
      "Epoch 12/20\n",
      "7982/7982 [==============================] - 1s 81us/step - loss: 0.5778 - acc: 0.8465 - val_loss: 1.3426 - val_acc: 0.7360\n",
      "Epoch 13/20\n",
      "7982/7982 [==============================] - 1s 81us/step - loss: 0.5380 - acc: 0.8582 - val_loss: 1.4065 - val_acc: 0.7280\n",
      "Epoch 14/20\n",
      "7982/7982 [==============================] - 1s 82us/step - loss: 0.5078 - acc: 0.8646 - val_loss: 1.4228 - val_acc: 0.7390\n",
      "Epoch 15/20\n",
      "7982/7982 [==============================] - 1s 82us/step - loss: 0.4768 - acc: 0.8735 - val_loss: 1.4530 - val_acc: 0.7340\n",
      "Epoch 16/20\n",
      "7982/7982 [==============================] - 1s 83us/step - loss: 0.4515 - acc: 0.8806 - val_loss: 1.5255 - val_acc: 0.7290\n",
      "Epoch 17/20\n",
      "7982/7982 [==============================] - 1s 82us/step - loss: 0.4301 - acc: 0.8887 - val_loss: 1.5287 - val_acc: 0.7250\n",
      "Epoch 18/20\n",
      "7982/7982 [==============================] - 1s 81us/step - loss: 0.4132 - acc: 0.8939 - val_loss: 1.5552 - val_acc: 0.7360\n",
      "Epoch 19/20\n",
      "7982/7982 [==============================] - 1s 84us/step - loss: 0.3944 - acc: 0.8994 - val_loss: 1.5987 - val_acc: 0.7240\n",
      "Epoch 20/20\n",
      "7982/7982 [==============================] - 1s 84us/step - loss: 0.3744 - acc: 0.9032 - val_loss: 1.6291 - val_acc: 0.7280\n",
      "2246/2246 [==============================] - 0s 57us/step\n",
      "0.6967943010325954\n"
     ]
    }
   ],
   "source": [
    "#NN with 4 hidden\n",
    "model = models.Sequential()\n",
    "model.add(layers.Dense(64, activation='relu', input_shape=(10000,)))\n",
    "model.add(layers.Dense(4, activation='relu'))\n",
    "model.add(layers.Dense(46, activation='softmax'))\n",
    "model.compile(optimizer='rmsprop',\n",
    "loss='categorical_crossentropy',\n",
    "metrics=['accuracy'])\n",
    "model.fit(partial_x_train,\n",
    "partial_y_train,\n",
    "epochs=20,\n",
    "batch_size=128,\n",
    "validation_data=(x_val, y_val))\n",
    "\n",
    "results = model.evaluate(x_test, one_hot_test_labels)\n",
    "print(results[1])"
   ]
  },
  {
   "cell_type": "code",
   "execution_count": 108,
   "metadata": {},
   "outputs": [
    {
     "name": "stdout",
     "output_type": "stream",
     "text": [
      "Train on 7982 samples, validate on 1000 samples\n",
      "Epoch 1/20\n",
      "7982/7982 [==============================] - 2s 225us/step - loss: 1.6194 - acc: 0.6619 - val_loss: 1.0987 - val_acc: 0.7720\n",
      "Epoch 2/20\n",
      "7982/7982 [==============================] - 1s 141us/step - loss: 0.7687 - acc: 0.8361 - val_loss: 0.8835 - val_acc: 0.8060\n",
      "Epoch 3/20\n",
      "7982/7982 [==============================] - 1s 139us/step - loss: 0.4591 - acc: 0.9008 - val_loss: 0.9174 - val_acc: 0.8110\n",
      "Epoch 4/20\n",
      "7982/7982 [==============================] - 1s 145us/step - loss: 0.3082 - acc: 0.9298 - val_loss: 0.8450 - val_acc: 0.8220\n",
      "Epoch 5/20\n",
      "7982/7982 [==============================] - 1s 142us/step - loss: 0.2327 - acc: 0.9444 - val_loss: 0.9750 - val_acc: 0.7830\n",
      "Epoch 6/20\n",
      "7982/7982 [==============================] - 1s 141us/step - loss: 0.1900 - acc: 0.9504 - val_loss: 0.9236 - val_acc: 0.8240\n",
      "Epoch 7/20\n",
      "7982/7982 [==============================] - 1s 141us/step - loss: 0.1703 - acc: 0.9531 - val_loss: 1.1079 - val_acc: 0.7670\n",
      "Epoch 8/20\n",
      "7982/7982 [==============================] - 1s 141us/step - loss: 0.1558 - acc: 0.9541 - val_loss: 0.9734 - val_acc: 0.8090\n",
      "Epoch 9/20\n",
      "7982/7982 [==============================] - 1s 142us/step - loss: 0.1421 - acc: 0.9558 - val_loss: 1.1475 - val_acc: 0.7920\n",
      "Epoch 10/20\n",
      "7982/7982 [==============================] - 1s 141us/step - loss: 0.1313 - acc: 0.9545 - val_loss: 1.0374 - val_acc: 0.7950\n",
      "Epoch 11/20\n",
      "7982/7982 [==============================] - 1s 144us/step - loss: 0.1202 - acc: 0.9573 - val_loss: 1.1235 - val_acc: 0.7890\n",
      "Epoch 12/20\n",
      "7982/7982 [==============================] - 1s 143us/step - loss: 0.1191 - acc: 0.9557 - val_loss: 1.0627 - val_acc: 0.8050\n",
      "Epoch 13/20\n",
      "7982/7982 [==============================] - 1s 140us/step - loss: 0.1116 - acc: 0.9548 - val_loss: 1.1508 - val_acc: 0.8000\n",
      "Epoch 14/20\n",
      "7982/7982 [==============================] - 1s 158us/step - loss: 0.1061 - acc: 0.9572 - val_loss: 1.1995 - val_acc: 0.8000\n",
      "Epoch 15/20\n",
      "7982/7982 [==============================] - 1s 154us/step - loss: 0.0989 - acc: 0.9585 - val_loss: 1.2236 - val_acc: 0.7960\n",
      "Epoch 16/20\n",
      "7982/7982 [==============================] - 1s 145us/step - loss: 0.0968 - acc: 0.9567 - val_loss: 1.3059 - val_acc: 0.7860\n",
      "Epoch 17/20\n",
      "7982/7982 [==============================] - 1s 145us/step - loss: 0.0947 - acc: 0.9564 - val_loss: 1.3175 - val_acc: 0.8010\n",
      "Epoch 18/20\n",
      "7982/7982 [==============================] - 1s 155us/step - loss: 0.0895 - acc: 0.9574 - val_loss: 1.3736 - val_acc: 0.7940\n",
      "Epoch 19/20\n",
      "7982/7982 [==============================] - 1s 148us/step - loss: 0.0863 - acc: 0.9584 - val_loss: 1.3953 - val_acc: 0.7880\n",
      "Epoch 20/20\n",
      "7982/7982 [==============================] - 1s 154us/step - loss: 0.0823 - acc: 0.9588 - val_loss: 1.4800 - val_acc: 0.7860\n",
      "2246/2246 [==============================] - 0s 85us/step\n",
      "0.7756010686194165\n"
     ]
    }
   ],
   "source": [
    "#NN with 128 hidden\n",
    "model = models.Sequential()\n",
    "model.add(layers.Dense(128, activation='relu', input_shape=(10000,)))\n",
    "model.add(layers.Dense(128, activation='relu'))\n",
    "model.add(layers.Dense(46, activation='softmax'))\n",
    "model.compile(optimizer='rmsprop',\n",
    "loss='categorical_crossentropy',\n",
    "metrics=['accuracy'])\n",
    "model.fit(partial_x_train,\n",
    "partial_y_train,\n",
    "epochs=20,\n",
    "batch_size=128,\n",
    "validation_data=(x_val, y_val))\n",
    "\n",
    "results = model.evaluate(x_test, one_hot_test_labels)\n",
    "print(results[1])"
   ]
  },
  {
   "cell_type": "code",
   "execution_count": 109,
   "metadata": {},
   "outputs": [
    {
     "name": "stdout",
     "output_type": "stream",
     "text": [
      "Train on 7982 samples, validate on 1000 samples\n",
      "Epoch 1/20\n",
      "7982/7982 [==============================] - 1s 142us/step - loss: 2.2729 - acc: 0.5340 - val_loss: 1.5473 - val_acc: 0.6530\n",
      "Epoch 2/20\n",
      "7982/7982 [==============================] - 0s 56us/step - loss: 1.2566 - acc: 0.7281 - val_loss: 1.2220 - val_acc: 0.7370\n",
      "Epoch 3/20\n",
      "7982/7982 [==============================] - 0s 62us/step - loss: 0.9416 - acc: 0.7983 - val_loss: 1.0808 - val_acc: 0.7740\n",
      "Epoch 4/20\n",
      "7982/7982 [==============================] - 1s 64us/step - loss: 0.7337 - acc: 0.8408 - val_loss: 1.0771 - val_acc: 0.7520\n",
      "Epoch 5/20\n",
      "7982/7982 [==============================] - 0s 59us/step - loss: 0.5758 - acc: 0.8725 - val_loss: 0.9939 - val_acc: 0.7910\n",
      "Epoch 6/20\n",
      "7982/7982 [==============================] - 0s 58us/step - loss: 0.4520 - acc: 0.8996 - val_loss: 0.9645 - val_acc: 0.8060\n",
      "Epoch 7/20\n",
      "7982/7982 [==============================] - 0s 59us/step - loss: 0.3548 - acc: 0.9212 - val_loss: 0.9455 - val_acc: 0.8150\n",
      "Epoch 8/20\n",
      "7982/7982 [==============================] - 0s 59us/step - loss: 0.2898 - acc: 0.9356 - val_loss: 0.9613 - val_acc: 0.8140\n",
      "Epoch 9/20\n",
      "7982/7982 [==============================] - 0s 59us/step - loss: 0.2409 - acc: 0.9427 - val_loss: 0.9795 - val_acc: 0.8060\n",
      "Epoch 10/20\n",
      "7982/7982 [==============================] - 0s 60us/step - loss: 0.2052 - acc: 0.9494 - val_loss: 0.9928 - val_acc: 0.8100\n",
      "Epoch 11/20\n",
      "7982/7982 [==============================] - 0s 60us/step - loss: 0.1812 - acc: 0.9510 - val_loss: 1.0575 - val_acc: 0.8050\n",
      "Epoch 12/20\n",
      "7982/7982 [==============================] - 0s 59us/step - loss: 0.1638 - acc: 0.9529 - val_loss: 1.0509 - val_acc: 0.8130\n",
      "Epoch 13/20\n",
      "7982/7982 [==============================] - 0s 59us/step - loss: 0.1541 - acc: 0.9544 - val_loss: 1.1205 - val_acc: 0.7910\n",
      "Epoch 14/20\n",
      "7982/7982 [==============================] - 0s 59us/step - loss: 0.1433 - acc: 0.9549 - val_loss: 1.0879 - val_acc: 0.8010\n",
      "Epoch 15/20\n",
      "7982/7982 [==============================] - 0s 60us/step - loss: 0.1359 - acc: 0.9560 - val_loss: 1.1180 - val_acc: 0.8020\n",
      "Epoch 16/20\n",
      "7982/7982 [==============================] - 0s 59us/step - loss: 0.1273 - acc: 0.9559 - val_loss: 1.1377 - val_acc: 0.7980\n",
      "Epoch 17/20\n",
      "7982/7982 [==============================] - 0s 59us/step - loss: 0.1235 - acc: 0.9574 - val_loss: 1.1353 - val_acc: 0.8050\n",
      "Epoch 18/20\n",
      "7982/7982 [==============================] - 0s 59us/step - loss: 0.1178 - acc: 0.9570 - val_loss: 1.1930 - val_acc: 0.7920\n",
      "Epoch 19/20\n",
      "7982/7982 [==============================] - 0s 60us/step - loss: 0.1171 - acc: 0.9568 - val_loss: 1.1914 - val_acc: 0.7960\n",
      "Epoch 20/20\n",
      "7982/7982 [==============================] - 0s 59us/step - loss: 0.1129 - acc: 0.9582 - val_loss: 1.2454 - val_acc: 0.7930\n",
      "2246/2246 [==============================] - 0s 52us/step\n",
      "0.7702582368655387\n"
     ]
    }
   ],
   "source": [
    "#NN with 128 hidden\n",
    "model = models.Sequential()\n",
    "model.add(layers.Dense(32, activation='relu', input_shape=(10000,)))\n",
    "model.add(layers.Dense(32, activation='relu'))\n",
    "model.add(layers.Dense(46, activation='softmax'))\n",
    "model.compile(optimizer='rmsprop',\n",
    "loss='categorical_crossentropy',\n",
    "metrics=['accuracy'])\n",
    "model.fit(partial_x_train,\n",
    "partial_y_train,\n",
    "epochs=20,\n",
    "batch_size=128,\n",
    "validation_data=(x_val, y_val))\n",
    "\n",
    "results = model.evaluate(x_test, one_hot_test_labels)\n",
    "print(results[1])"
   ]
  },
  {
   "cell_type": "code",
   "execution_count": 110,
   "metadata": {},
   "outputs": [
    {
     "name": "stdout",
     "output_type": "stream",
     "text": [
      "Train on 7982 samples, validate on 1000 samples\n",
      "Epoch 1/20\n",
      "7982/7982 [==============================] - 1s 178us/step - loss: 1.8416 - acc: 0.6443 - val_loss: 1.2073 - val_acc: 0.7410\n",
      "Epoch 2/20\n",
      "7982/7982 [==============================] - 1s 82us/step - loss: 0.9336 - acc: 0.8066 - val_loss: 0.9663 - val_acc: 0.8040\n",
      "Epoch 3/20\n",
      "7982/7982 [==============================] - 1s 82us/step - loss: 0.6369 - acc: 0.8703 - val_loss: 0.8537 - val_acc: 0.8210\n",
      "Epoch 4/20\n",
      "7982/7982 [==============================] - 1s 86us/step - loss: 0.4545 - acc: 0.9054 - val_loss: 0.8045 - val_acc: 0.8350\n",
      "Epoch 5/20\n",
      "7982/7982 [==============================] - 1s 86us/step - loss: 0.3392 - acc: 0.9266 - val_loss: 0.7949 - val_acc: 0.8370\n",
      "Epoch 6/20\n",
      "7982/7982 [==============================] - 1s 87us/step - loss: 0.2651 - acc: 0.9401 - val_loss: 0.8157 - val_acc: 0.8250\n",
      "Epoch 7/20\n",
      "7982/7982 [==============================] - 1s 85us/step - loss: 0.2178 - acc: 0.9466 - val_loss: 0.8250 - val_acc: 0.8270\n",
      "Epoch 8/20\n",
      "7982/7982 [==============================] - 1s 84us/step - loss: 0.1828 - acc: 0.9501 - val_loss: 0.8522 - val_acc: 0.8250\n",
      "Epoch 9/20\n",
      "7982/7982 [==============================] - 1s 86us/step - loss: 0.1622 - acc: 0.9541 - val_loss: 0.9063 - val_acc: 0.8190\n",
      "Epoch 10/20\n",
      "7982/7982 [==============================] - 1s 85us/step - loss: 0.1489 - acc: 0.9539 - val_loss: 0.8964 - val_acc: 0.8170\n",
      "Epoch 11/20\n",
      "7982/7982 [==============================] - 1s 84us/step - loss: 0.1345 - acc: 0.9565 - val_loss: 0.9659 - val_acc: 0.8140\n",
      "Epoch 12/20\n",
      "7982/7982 [==============================] - 1s 85us/step - loss: 0.1301 - acc: 0.9559 - val_loss: 0.9897 - val_acc: 0.8110\n",
      "Epoch 13/20\n",
      "7982/7982 [==============================] - 1s 84us/step - loss: 0.1192 - acc: 0.9582 - val_loss: 1.0405 - val_acc: 0.8030\n",
      "Epoch 14/20\n",
      "7982/7982 [==============================] - 1s 87us/step - loss: 0.1173 - acc: 0.9565 - val_loss: 1.0157 - val_acc: 0.8080\n",
      "Epoch 15/20\n",
      "7982/7982 [==============================] - 1s 85us/step - loss: 0.1133 - acc: 0.9572 - val_loss: 1.0281 - val_acc: 0.8130\n",
      "Epoch 16/20\n",
      "7982/7982 [==============================] - 1s 84us/step - loss: 0.1101 - acc: 0.9574 - val_loss: 1.1217 - val_acc: 0.8020\n",
      "Epoch 17/20\n",
      "7982/7982 [==============================] - 1s 86us/step - loss: 0.1069 - acc: 0.9564 - val_loss: 1.1148 - val_acc: 0.7950\n",
      "Epoch 18/20\n",
      "7982/7982 [==============================] - 1s 84us/step - loss: 0.1052 - acc: 0.9577 - val_loss: 1.1335 - val_acc: 0.8020\n",
      "Epoch 19/20\n",
      "7982/7982 [==============================] - 1s 86us/step - loss: 0.1050 - acc: 0.9570 - val_loss: 1.1362 - val_acc: 0.7970\n",
      "Epoch 20/20\n",
      "7982/7982 [==============================] - 1s 85us/step - loss: 0.1033 - acc: 0.9572 - val_loss: 1.1913 - val_acc: 0.8000\n",
      "2246/2246 [==============================] - 0s 63us/step\n",
      "0.7751558326178115\n"
     ]
    }
   ],
   "source": [
    "#NN with 1 hidden layers\n",
    "model = models.Sequential()\n",
    "model.add(layers.Dense(64, activation='relu', input_shape=(10000,)))\n",
    "#model.add(layers.Dense(64, activation='relu'))\n",
    "model.add(layers.Dense(46, activation='softmax'))\n",
    "model.compile(optimizer='rmsprop',\n",
    "loss='categorical_crossentropy',\n",
    "metrics=['accuracy'])\n",
    "model.fit(partial_x_train,\n",
    "partial_y_train,\n",
    "epochs=20,\n",
    "batch_size=128,\n",
    "validation_data=(x_val, y_val))\n",
    "\n",
    "results = model.evaluate(x_test, one_hot_test_labels)\n",
    "print(results[1])"
   ]
  },
  {
   "cell_type": "code",
   "execution_count": 111,
   "metadata": {},
   "outputs": [
    {
     "name": "stdout",
     "output_type": "stream",
     "text": [
      "Train on 7982 samples, validate on 1000 samples\n",
      "Epoch 1/20\n",
      "7982/7982 [==============================] - 1s 185us/step - loss: 1.9002 - acc: 0.6118 - val_loss: 1.2715 - val_acc: 0.7230\n",
      "Epoch 2/20\n",
      "7982/7982 [==============================] - 1s 81us/step - loss: 0.9874 - acc: 0.7783 - val_loss: 1.0645 - val_acc: 0.7640\n",
      "Epoch 3/20\n",
      "7982/7982 [==============================] - 1s 85us/step - loss: 0.6712 - acc: 0.8513 - val_loss: 1.0057 - val_acc: 0.7790\n",
      "Epoch 4/20\n",
      "7982/7982 [==============================] - 1s 87us/step - loss: 0.4721 - acc: 0.8983 - val_loss: 0.9443 - val_acc: 0.8150\n",
      "Epoch 5/20\n",
      "7982/7982 [==============================] - 1s 96us/step - loss: 0.3415 - acc: 0.9216 - val_loss: 0.9810 - val_acc: 0.8110\n",
      "Epoch 6/20\n",
      "7982/7982 [==============================] - 1s 90us/step - loss: 0.2725 - acc: 0.9385 - val_loss: 1.0810 - val_acc: 0.7990\n",
      "Epoch 7/20\n",
      "7982/7982 [==============================] - 1s 86us/step - loss: 0.2190 - acc: 0.9489 - val_loss: 1.1847 - val_acc: 0.7810\n",
      "Epoch 8/20\n",
      "7982/7982 [==============================] - 1s 97us/step - loss: 0.1945 - acc: 0.9504 - val_loss: 1.1169 - val_acc: 0.7990\n",
      "Epoch 9/20\n",
      "7982/7982 [==============================] - 1s 87us/step - loss: 0.1722 - acc: 0.9538 - val_loss: 1.0903 - val_acc: 0.8100\n",
      "Epoch 10/20\n",
      "7982/7982 [==============================] - 1s 85us/step - loss: 0.1588 - acc: 0.9544 - val_loss: 1.1146 - val_acc: 0.8000\n",
      "Epoch 11/20\n",
      "7982/7982 [==============================] - 1s 87us/step - loss: 0.1499 - acc: 0.9569 - val_loss: 1.2028 - val_acc: 0.7850\n",
      "Epoch 12/20\n",
      "7982/7982 [==============================] - 1s 92us/step - loss: 0.1432 - acc: 0.9544 - val_loss: 1.2199 - val_acc: 0.7940\n",
      "Epoch 13/20\n",
      "7982/7982 [==============================] - 1s 101us/step - loss: 0.1316 - acc: 0.9563 - val_loss: 1.2919 - val_acc: 0.7810\n",
      "Epoch 14/20\n",
      "7982/7982 [==============================] - 1s 91us/step - loss: 0.1268 - acc: 0.9562 - val_loss: 1.1942 - val_acc: 0.8070\n",
      "Epoch 15/20\n",
      "7982/7982 [==============================] - 1s 89us/step - loss: 0.1237 - acc: 0.9551 - val_loss: 1.2524 - val_acc: 0.7930\n",
      "Epoch 16/20\n",
      "7982/7982 [==============================] - 1s 91us/step - loss: 0.1158 - acc: 0.9557 - val_loss: 1.2635 - val_acc: 0.7960\n",
      "Epoch 17/20\n",
      "7982/7982 [==============================] - 1s 96us/step - loss: 0.1168 - acc: 0.9560 - val_loss: 1.3013 - val_acc: 0.7990\n",
      "Epoch 18/20\n",
      "7982/7982 [==============================] - 1s 89us/step - loss: 0.1079 - acc: 0.9583 - val_loss: 1.3201 - val_acc: 0.7820\n",
      "Epoch 19/20\n",
      "7982/7982 [==============================] - 1s 88us/step - loss: 0.1028 - acc: 0.9573 - val_loss: 1.3591 - val_acc: 0.7880\n",
      "Epoch 20/20\n",
      "7982/7982 [==============================] - 1s 89us/step - loss: 0.1005 - acc: 0.9583 - val_loss: 1.3927 - val_acc: 0.7790\n",
      "2246/2246 [==============================] - 0s 73us/step\n",
      "0.770258236918615\n"
     ]
    }
   ],
   "source": [
    "#NN with 3 hidden layers\n",
    "model = models.Sequential()\n",
    "model.add(layers.Dense(64, activation='relu', input_shape=(10000,)))\n",
    "model.add(layers.Dense(64, activation='relu'))\n",
    "model.add(layers.Dense(64, activation='relu'))\n",
    "model.add(layers.Dense(46, activation='softmax'))\n",
    "model.compile(optimizer='rmsprop',\n",
    "loss='categorical_crossentropy',\n",
    "metrics=['accuracy'])\n",
    "model.fit(partial_x_train,\n",
    "partial_y_train,\n",
    "epochs=20,\n",
    "batch_size=128,\n",
    "validation_data=(x_val, y_val))\n",
    "\n",
    "results = model.evaluate(x_test, one_hot_test_labels)\n",
    "print(results[1])"
   ]
  },
  {
   "cell_type": "markdown",
   "metadata": {},
   "source": []
  }
 ],
 "metadata": {
  "kernelspec": {
   "display_name": "Python 3",
   "language": "python",
   "name": "python3"
  },
  "language_info": {
   "codemirror_mode": {
    "name": "ipython",
    "version": 3
   },
   "file_extension": ".py",
   "mimetype": "text/x-python",
   "name": "python",
   "nbconvert_exporter": "python",
   "pygments_lexer": "ipython3",
   "version": "3.7.3"
  }
 },
 "nbformat": 4,
 "nbformat_minor": 2
}
