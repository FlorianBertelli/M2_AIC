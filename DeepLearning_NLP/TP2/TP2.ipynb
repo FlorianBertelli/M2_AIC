{
 "cells": [
  {
   "cell_type": "code",
   "execution_count": 48,
   "metadata": {},
   "outputs": [],
   "source": [
    "import re\n",
    "import numpy as np\n",
    "import torch as th\n",
    "import torch.autograd as ag\n",
    "import torch.nn.functional as F\n",
    "import torch.nn as nn\n",
    "import matplotlib.pyplot as plt\n",
    "import random"
   ]
  },
  {
   "cell_type": "markdown",
   "metadata": {},
   "source": [
    "# Deep Learning for NLP - lab exercise 1\n",
    "\n",
    "In this first lab exercise we will implement a simple bag-of-word classifier, i.e. a classifier that ignores the sequential structure of the sentence. The goal is to predict if a sentence is a positive or negative review of a movie. We will use a dataset constructed from IMDB.\n",
    "\n",
    "1. Load and clean the data\n",
    "2. Preprocess the data for the NN\n",
    "3. Module definition\n",
    "4. Train the network!\n",
    "\n",
    "We will implement this model with Pytorch, the most popular deep learning framework for Natural Language Processing. You can use the following links for help:\n",
    "* turorials: http://pytorch.org/tutorials/\n",
    "* documentation: http://pytorch.org/docs/master/ \n",
    "\n",
    "**Hard deadline**: December 3, 2019\n",
    "\n",
    "\n",
    "## Report\n",
    "\n",
    "On top of this notebook, you must submit a report explaining your neural network, it's training method and report+analyse results, for example with different hyper-parameters (number of hidden layers, different embedding size, different hidden representation size, w or w/o dropout...you choose what you want to explore!).\n",
    "You can also report results with different training dataset sizes (how does the number of training instances impact dev/test results? => *WARNING* obviously, here you change the training set size but you freeze the dev/test sets).\n",
    "\n",
    "Training with the full dataset may be slow depending on your computer.\n",
    "\n",
    "## Data\n",
    "\n",
    "The data can be download here: http://teaching.caio-corro.fr/2019-2020/OPT7/imdb.zip\n",
    "\n",
    "There are two files: one with positive reviews (imdb.pos) and one with negative reviews (imdb.neg). Each file contains 300000 reviews, one per line.\n",
    "\n",
    "\n",
    "The following functions can be used to load and clean the data."
   ]
  },
  {
   "cell_type": "code",
   "execution_count": 2,
   "metadata": {},
   "outputs": [],
   "source": [
    "# Tokenize a sentence\n",
    "def clean_str(string, tolower=True):\n",
    "    \"\"\"\n",
    "    Tokenization/string cleaning.\n",
    "    Original taken from https://github.com/yoonkim/CNN_sentence/blob/master/process_data.py\n",
    "    \"\"\"\n",
    "    string = re.sub(r\"[^A-Za-z0-9(),!?\\'\\`]\", \" \", string)\n",
    "    string = re.sub(r\"\\'s\", \" \\'s\", string)\n",
    "    string = re.sub(r\"\\'ve\", \" \\'ve\", string)\n",
    "    string = re.sub(r\"n\\'t\", \" n\\'t\", string)\n",
    "    string = re.sub(r\"\\'re\", \" \\'re\", string)\n",
    "    string = re.sub(r\"\\'d\", \" \\'d\", string)\n",
    "    string = re.sub(r\"\\'ll\", \" \\'ll\", string)\n",
    "    string = re.sub(r\",\", \" , \", string)\n",
    "    string = re.sub(r\"!\", \" ! \", string)\n",
    "    string = re.sub(r\"\\(\", \" \\( \", string)\n",
    "    string = re.sub(r\"\\)\", \" \\) \", string)\n",
    "    string = re.sub(r\"\\?\", \" \\? \", string)\n",
    "    string = re.sub(r\"\\s{2,}\", \" \", string)\n",
    "    if tolower:\n",
    "        string = string.lower()\n",
    "    return string.strip()\n",
    "\n",
    "\n",
    "# reads the content of the file passed as an argument.\n",
    "# if limit > 0, this function will return only the first \"limit\" sentences in the file.\n",
    "def loadTexts(filename, limit=-1):\n",
    "    f = open(filename)\n",
    "    dataset=[]\n",
    "    line =  f.readline()\n",
    "    cpt=1\n",
    "    skip=0\n",
    "    while line :\n",
    "        cleanline = clean_str(f.readline()).split()\n",
    "        if cleanline: \n",
    "            dataset.append(cleanline)\n",
    "        else: \n",
    "            line = f.readline()\n",
    "            skip+=1\n",
    "            continue\n",
    "        if limit > 0 and cpt >= limit: \n",
    "            break\n",
    "        line = f.readline()\n",
    "        cpt+=1        \n",
    "        \n",
    "    f.close()\n",
    "    print(\"Load \", cpt, \" lines from \", filename , \" / \", skip ,\" lines discarded\")\n",
    "    return dataset\n"
   ]
  },
  {
   "cell_type": "markdown",
   "metadata": {},
   "source": [
    "The following cell load the first 5000 sentences in each review set."
   ]
  },
  {
   "cell_type": "code",
   "execution_count": 3,
   "metadata": {},
   "outputs": [
    {
     "name": "stdout",
     "output_type": "stream",
     "text": [
      "Load  5000  lines from  imdb.pos  /  1  lines discarded\n",
      "Load  5000  lines from  imdb.neg  /  1  lines discarded\n"
     ]
    }
   ],
   "source": [
    "LIM=5000\n",
    "txtfile = 'imdb.pos'  # path of the file containing positive reviews\n",
    "postxt = loadTexts(txtfile,limit=LIM)\n",
    "\n",
    "txtfile = 'imdb.neg' # path of the file containing negative reviews\n",
    "negtxt = loadTexts(txtfile,limit=LIM)"
   ]
  },
  {
   "cell_type": "markdown",
   "metadata": {},
   "source": [
    "Split the data between train / dev / test, for example by creating lists txt_train, label_train, txt_dev, ... You should take care to keep a 50/50 ratio between positive and negative instances in each set."
   ]
  },
  {
   "cell_type": "code",
   "execution_count": 4,
   "metadata": {},
   "outputs": [],
   "source": [
    "data = postxt + negtxt\n",
    "label = np.concatenate((np.ones(len(postxt)),np.zeros(len(negtxt))),axis=0)"
   ]
  },
  {
   "cell_type": "code",
   "execution_count": 5,
   "metadata": {},
   "outputs": [
    {
     "name": "stdout",
     "output_type": "stream",
     "text": [
      "['get', 'in', 'the', 'back', 'of', 'the', 'van', '!']\n",
      "1.0\n"
     ]
    }
   ],
   "source": [
    "print(data[10])\n",
    "print(label[10])"
   ]
  },
  {
   "cell_type": "code",
   "execution_count": 6,
   "metadata": {},
   "outputs": [],
   "source": [
    "from sklearn.model_selection import train_test_split\n",
    "X_train, X_test, y_train, y_test = train_test_split(data, label, test_size=0.1, random_state=1 ,stratify=label)\n",
    "X_train,X_dev,y_train,y_dev = train_test_split(X_train , y_train , test_size=0.1, random_state = 1 , stratify=y_train)"
   ]
  },
  {
   "cell_type": "code",
   "execution_count": 7,
   "metadata": {},
   "outputs": [
    {
     "name": "stdout",
     "output_type": "stream",
     "text": [
      "['laughton', 'enjoyable', 'in', 'this', 'low', 'budget', 'pirate', 'saga']\n",
      "0.0\n"
     ]
    }
   ],
   "source": [
    "print(X_train[10])\n",
    "print(y_train[10])"
   ]
  },
  {
   "cell_type": "markdown",
   "metadata": {},
   "source": [
    "# Converting data to Pytorch tensors\n",
    "\n",
    "We will first convert data to Pytorch tensors so they can be used in a neural network.\n",
    "To do that, you must first create a dictionnary that will map words to integers.\n",
    "Add to the dictionnary only words that are in the training set (be sure to understand why we do that!).\n",
    "\n",
    "Then, you can convert the data to tensors:\n",
    "- use tensors of longs: both the sentence and the label will be represented as integers, not floats!\n",
    "- these tensors do not require a gradient\n",
    "\n",
    "A tensor representing a sentence is composed of the integer representation of each word, e.g. [10, 256, 3, 4].\n",
    "Note that some words in the dev and test sets may not be in the dictionnary! (i.e. unknown words)\n",
    "You can just skip them."
   ]
  },
  {
   "cell_type": "code",
   "execution_count": 8,
   "metadata": {},
   "outputs": [],
   "source": [
    "class Dict:\n",
    "    def __init__(self, words, unk=None):\n",
    "        self._unk = unk\n",
    "        self._word_to_id = dict()\n",
    "        self._id_to_word = list()\n",
    "\n",
    "        if unk in words:\n",
    "            raise RuntimeError(\"UNK word exists in vocabulary\")\n",
    "\n",
    "        if unk is not None:\n",
    "            self.unk_index = self._add_word(unk)\n",
    "\n",
    "        for word in words:\n",
    "            self._add_word(word)\n",
    "\n",
    "    # for internal use only!\n",
    "    def _add_word(self, word):\n",
    "        if word not in self._word_to_id:\n",
    "            id = len(self._id_to_word)\n",
    "            self._word_to_id[word] = id\n",
    "            self._id_to_word.append(word)\n",
    "            return id\n",
    "        else:\n",
    "            return self._word_to_id[word]\n",
    "\n",
    "    def str_to_id(self, word):\n",
    "        if self._unk is not None:\n",
    "            return self._word_to_id.get(word, self.unk_index)\n",
    "        else:\n",
    "            return self._word_to_id[word]\n",
    "\n",
    "    def id_to_str(self, id):\n",
    "        return self._id_to_word[id]\n",
    "\n",
    "    def __len__(self):\n",
    "        return len(self._word_to_id)\n",
    "\n",
    "    def has_unk(self):\n",
    "        return self._unk is not None\n",
    "    \n",
    "    def unk(self):\n",
    "        return self.unk_index"
   ]
  },
  {
   "cell_type": "code",
   "execution_count": 9,
   "metadata": {},
   "outputs": [],
   "source": [
    "#Creating a dict where each word is associated to a number\n",
    "token_index = {}\n",
    "for sent in X_train:\n",
    "    for word in sent:\n",
    "        if word not in token_index:\n",
    "            token_index[word] = len(token_index) + 1\n",
    "#Don't forget to add the unk = True because some words maybe in the dev or test but not in the train\n",
    "token_index = Dict(token_index, unk=True)\n"
   ]
  },
  {
   "cell_type": "code",
   "execution_count": 10,
   "metadata": {},
   "outputs": [
    {
     "name": "stdout",
     "output_type": "stream",
     "text": [
      "7032\n"
     ]
    }
   ],
   "source": [
    "print(len(token_index))"
   ]
  },
  {
   "cell_type": "markdown",
   "metadata": {},
   "source": [
    "# Neural network definition\n",
    "\n",
    "The neural network should be defined as follows:\n",
    "- it takes as input a tensor that is a sequence of integers indexing word embeddings\n",
    "- it retrieves the word embeddings from an embedding table\n",
    "- it constructs the \"input\" of the MLP by summing over all embeddingsÂ (i.e. bag-of-word model)\n",
    "- it build a hidden represention using a MLP (1 layer? 2 layers? experiment! but maybe first try wihout any hidden layer...)\n",
    "- it project the hidden representation to the output space: it is a binary classification task, so the output space is a scalar where a negative (resp. positive) value means the review is negative (resp. positive)."
   ]
  },
  {
   "cell_type": "code",
   "execution_count": 54,
   "metadata": {},
   "outputs": [],
   "source": [
    "\n",
    "class Conv_classifier(nn.Module):\n",
    "    def __init__(self, vocab_size, embedding_dim, size, feat_size, pool_type):\n",
    "        super(Conv_classifier, self).__init__()\n",
    "        \n",
    "        #Embedding layer\n",
    "        self.emb_db = nn.Embedding(num_embeddings = vocab_size ,embedding_dim=embedding_dim)\n",
    "        #Conv layers\n",
    "        self.convs = nn.Linear(size*embedding_dim,feat_size)\n",
    "        #Last layer\n",
    "        self.l1 = nn.Linear(feat_size, 1)\n",
    "        \n",
    "        #Various parameters you need\n",
    "        self.size = size\n",
    "        self.pool_type = pool_type\n",
    "        #inits\n",
    "        nn.init.xavier_uniform_(self.l1.weight.data)  # Xavier/Glorot init for tanh\n",
    "        nn.init.zeros_(self.l1.bias.data)  # Xavier/Glorot init for tanh\n",
    "        \n",
    "    def forward(self, inputs ):\n",
    "        idx = 0\n",
    "        size = self.size\n",
    "        if(inputs.shape[0]<size):\n",
    "            pad = torch.tensor([0 for i in range(size-inputs.shape[0])])\n",
    "            inputs = torch.cat((inputs, pad), 0)\n",
    "\n",
    "        inputs = self.emb_db(inputs)\n",
    "        cat_inputs= []\n",
    "        h = torch.Tensor(inputs.shape[0], inputs.shape[1]*size)\n",
    "\n",
    "        for i in range(len(inputs)-size+1):\n",
    "            tab = [inputs[j] for j in range(i, size+i)]\n",
    "            cat = torch.cat(tab, 0)\n",
    "            cat_inputs.append(self.convs(cat))\n",
    "\n",
    "        h = torch.stack(cat_inputs)\n",
    "\n",
    "        if (self.pool_type == \"max\"):\n",
    "#             #MAX\n",
    "            h, _ = torch.max(h, 0)\n",
    "        if (self.pool_type == \"mean\"):\n",
    "        #MEAN\n",
    "            h = torch.mean(h,0)\n",
    "        out = self.l1(h)\n",
    "        return torch.sigmoid(out)"
   ]
  },
  {
   "cell_type": "code",
   "execution_count": 44,
   "metadata": {},
   "outputs": [],
   "source": [
    "class Conv_classifier(nn.Module):\n",
    "    def __init__(self, vocab_size, embedding_dim, kernel_size, feat_size):\n",
    "        super(Conv_classifier, self).__init__()\n",
    "        self.embedding = nn.Embedding(vocab_size, embedding_dim)\n",
    "        \n",
    "        self.conv1 = nn.Linear(embedding_dim*kernel_size, feat_size)\n",
    "        self.l1 = nn.Linear(feat_size, 1)\n",
    "        \n",
    "        self.kernel_size = kernel_size\n",
    "        nn.init.xavier_uniform_(self.l1.weight.data)  # Xavier/Glorot init for tanh\n",
    "        nn.init.zeros_(self.l1.bias.data)  # Xavier/Glorot init for tanh\n",
    "        \n",
    "    def forward(self, inputs):\n",
    "        if(inputs.shape[0]<self.kernel_size):\n",
    "            pad = th.tensor([0 for i in range(self.kernel_size-inputs.shape[0])])\n",
    "            inputs = th.cat((inputs, pad), 0)\n",
    "        \n",
    "        inputs = self.embedding(inputs)\n",
    "        cat_inputs= []\n",
    "        h = th.Tensor(inputs.shape[0], inputs.shape[1]*self.kernel_size)\n",
    "        \n",
    "        for i in range(len(inputs)-self.kernel_size+1):\n",
    "            tab = [inputs[j] for j in range(i, self.kernel_size+i)]\n",
    "            cat = th.cat(tab, 0)\n",
    "            cat_inputs.append(self.conv1(cat))\n",
    "        \n",
    "        h = th.stack(cat_inputs)\n",
    "        h, _ = th.max(h, 0)\n",
    "        \n",
    "        out = self.l1(h)\n",
    "        return th.sigmoid(out)"
   ]
  },
  {
   "cell_type": "markdown",
   "metadata": {},
   "source": [
    "## Loss function\n",
    "\n",
    "Create a loss function builder.\n",
    "\n",
    "- Pytorch loss functions are documented here: https://pytorch.org/docs/stable/nn.html#loss-functions\n",
    "- In our case, we are interested in *BCELoss* and *BCEWithLogitsLoss*. Read their documentation and choose the one that fits with your network output"
   ]
  },
  {
   "cell_type": "code",
   "execution_count": 55,
   "metadata": {},
   "outputs": [],
   "source": [
    "loss = torch.nn.BCELoss()"
   ]
  },
  {
   "cell_type": "markdown",
   "metadata": {
    "collapsed": true
   },
   "source": [
    "## Training loop\n",
    "\n",
    "Write your training loop!\n",
    "\n",
    "- parameterizable number of epochs\n",
    "- at each epoch, print the mean loss and the dev accuracy"
   ]
  },
  {
   "cell_type": "code",
   "execution_count": 79,
   "metadata": {},
   "outputs": [],
   "source": [
    "def train(model , epochs, lr ,X_train ,y_train , X_dev , y_dev ,save_path, optimizer =\"SGD\"):\n",
    "    \n",
    "    #defining various types of optimizer\n",
    "    if (optimizer==\"SGD\"):\n",
    "        optimizer = torch.optim.SGD(params=model.parameters(), lr =lr, weight_decay=1e-4)   \n",
    "    if (optimizer== \"AdaDelta\"):\n",
    "        optimizer = torch.optim.Adadelta(params=model.parameters(), lr=1.0, rho=0.9, eps=1e-06, weight_decay=0)\n",
    "        \n",
    "        \n",
    "    #variables to see the progression\n",
    "    mean_loss_train = []\n",
    "    mean_loss_dev = []\n",
    "    acc_train = []\n",
    "    acc_dev = []\n",
    "    \n",
    "    \n",
    "    #passe le modele en mode training\n",
    "    model.train()\n",
    "    \n",
    "    for i in range(epochs):\n",
    "        \n",
    "        #adaptive learning rate\n",
    "        if((i+1)%5 == 0):\n",
    "            for g in optimizer.param_groups:\n",
    "                g['lr'] = g['lr']*0.8\n",
    "                \n",
    "                \n",
    "        #defining parameters to print the evolution of the NN\n",
    "        accuracy = 0\n",
    "        mean_loss = 0\n",
    "        \n",
    "        # shuffle to reduce overfitting\n",
    "        c = list(zip(X_train, y_train))\n",
    "        random.shuffle(c)\n",
    "        X_train, y_train = zip(*c)\n",
    "        \n",
    "        for sent,label in zip(X_train , y_train):\n",
    "\n",
    "            # zero the parameter gradients\n",
    "            optimizer.zero_grad()\n",
    "            \n",
    "            #creating the tensors for inputs\n",
    "            data = torch.LongTensor([token_index.str_to_id(word) for word in sent])\n",
    "\n",
    "            label = torch.Tensor([label])   \n",
    "            #prediction and loss\n",
    "            pred = model(data)\n",
    "           # print(pred)\n",
    "            output = loss(pred , label)\n",
    "            mean_loss+=output.item()\n",
    "            \n",
    "            #backward and updates\n",
    "            output.backward()\n",
    "            optimizer.step()\n",
    "\n",
    "            #computing accuracy\n",
    "            if (pred >= 0.5 and label==1):\n",
    "                accuracy += 1\n",
    "            if(pred<0.5 and label==0):\n",
    "                accuracy += 1\n",
    "            \n",
    "        mean_loss_train.append(mean_loss/len(X_train))\n",
    "        acc_train.append(accuracy/len(X_train))\n",
    "        print(\"EPOCHS\" , str(i+1) ,\"On training : Mean Loss :\" , mean_loss/len(X_train) , \"Accuracy :\" ,accuracy/len(X_train))\n",
    "\n",
    "        \n",
    "        mean_loss = 0\n",
    "        accuracy = 0\n",
    "        \n",
    "        ###testing on dev data#########\n",
    "        for sent,label in zip(X_dev,y_dev):\n",
    "            data = torch.LongTensor([token_index.str_to_id(word) for word in sent])\n",
    "            label = torch.Tensor([label])\n",
    "            \n",
    "            #prediction and loss\n",
    "            pred = model(data)\n",
    "            output = loss(pred , label)\n",
    "            \n",
    "            mean_loss+=output.item()\n",
    "            \n",
    "            \n",
    "            #computing accuracy\n",
    "            if (pred >= 0.5 and label==1):\n",
    "                accuracy += 1\n",
    "            if(pred<0.5 and label==0):\n",
    "                accuracy += 1\n",
    "            \n",
    "        print(\"EPOCH\" , str(i+1) ,\"On Dev  :Mean Loss :\" , mean_loss/len(X_dev) , \"Accuracy :\" ,accuracy/len(X_dev))\n",
    "        print()\n",
    "\n",
    "        mean_loss_dev.append(mean_loss/len(X_dev))\n",
    "        acc_dev.append(accuracy/len(X_dev))\n",
    "          \n",
    "        if (i==0):\n",
    "            torch.save(model.state_dict(), save_path)\n",
    "        elif(acc_dev[i] > acc_dev[i-1]):\n",
    "            torch.save(model.state_dict(),save_path)\n",
    "\n",
    "            \n",
    "            \n",
    "    #Plotting loss accuracy for  test and train\n",
    "    plt.plot(acc_train , label='Train')\n",
    "    plt.plot(acc_dev, label=\"Dev\")\n",
    "    plt.title(\"Accuracy\")\n",
    "    plt.legend()\n",
    "    plt.figure()\n",
    "    \n",
    "    plt.plot(mean_loss_train , label='Train')\n",
    "    plt.plot(mean_loss_dev, label=\"Dev\")\n",
    "    plt.title(\"Loss\")\n",
    "    plt.legend()\n",
    "    plt.figure()\n"
   ]
  },
  {
   "cell_type": "code",
   "execution_count": 83,
   "metadata": {},
   "outputs": [],
   "source": [
    "def evaluation_test(model, X_test, y_test):\n",
    "    ##test on test data with the two different models\n",
    "    mean_loss = 0\n",
    "    accuracy = 0\n",
    "\n",
    "    ###testing on dev data#########\n",
    "    for sent,label in zip(X_test,y_test):\n",
    "        data = torch.LongTensor([token_index.str_to_id(word) for word in sent])\n",
    "        label = torch.Tensor([label])\n",
    "\n",
    "        #prediction and loss\n",
    "        pred = model(data)\n",
    "        output = loss(pred , label)\n",
    "        mean_loss+=output.item()\n",
    "\n",
    "\n",
    "        #computing accuracy\n",
    "        if (pred >= 0.5 and label==1):\n",
    "            accuracy += 1\n",
    "        if(pred<0.5 and label==0):\n",
    "            accuracy += 1\n",
    "\n",
    "    print(\"Accuracy on test set for this model is\" , accuracy/len(X_test))\n"
   ]
  },
  {
   "cell_type": "code",
   "execution_count": 85,
   "metadata": {
    "scrolled": true
   },
   "outputs": [
    {
     "name": "stdout",
     "output_type": "stream",
     "text": [
      "EPOCHS 1 On training : Mean Loss : 0.7146975976890988 Accuracy : 0.5061728395061729\n",
      "EPOCH 1 On Dev  :Mean Loss : 0.7259496517148283 Accuracy : 0.5044444444444445\n",
      "\n",
      "EPOCHS 2 On training : Mean Loss : 0.708738241839556 Accuracy : 0.5116049382716049\n",
      "EPOCH 2 On Dev  :Mean Loss : 0.715120103839371 Accuracy : 0.5288888888888889\n",
      "\n",
      "EPOCHS 3 On training : Mean Loss : 0.6903941818394549 Accuracy : 0.5676543209876543\n",
      "EPOCH 3 On Dev  :Mean Loss : 0.7001525820626153 Accuracy : 0.5255555555555556\n",
      "\n",
      "EPOCHS 4 On training : Mean Loss : 0.6261411084926451 Accuracy : 0.6565432098765432\n",
      "EPOCH 4 On Dev  :Mean Loss : 0.5846530627681771 Accuracy : 0.6822222222222222\n",
      "\n",
      "EPOCHS 5 On training : Mean Loss : 0.5508772208535377 Accuracy : 0.7085185185185185\n",
      "EPOCH 5 On Dev  :Mean Loss : 0.5323341547164859 Accuracy : 0.7066666666666667\n",
      "\n",
      "EPOCHS 6 On training : Mean Loss : 0.5068619182353019 Accuracy : 0.7458024691358025\n",
      "EPOCH 6 On Dev  :Mean Loss : 0.5596383307148224 Accuracy : 0.7088888888888889\n",
      "\n",
      "EPOCHS 7 On training : Mean Loss : 0.4653470192633636 Accuracy : 0.7741975308641975\n",
      "EPOCH 7 On Dev  :Mean Loss : 0.527847449671891 Accuracy : 0.7355555555555555\n",
      "\n",
      "EPOCHS 8 On training : Mean Loss : 0.4292810521981077 Accuracy : 0.7954320987654321\n",
      "EPOCH 8 On Dev  :Mean Loss : 0.5146046487547573 Accuracy : 0.7266666666666667\n",
      "\n",
      "EPOCHS 9 On training : Mean Loss : 0.3911826363009977 Accuracy : 0.8237037037037037\n",
      "EPOCH 9 On Dev  :Mean Loss : 0.4942550026907111 Accuracy : 0.7555555555555555\n",
      "\n",
      "EPOCHS 10 On training : Mean Loss : 0.3417854989236453 Accuracy : 0.8507407407407407\n",
      "EPOCH 10 On Dev  :Mean Loss : 0.4980980258220269 Accuracy : 0.7433333333333333\n",
      "\n",
      "EPOCHS 11 On training : Mean Loss : 0.31264653605715087 Accuracy : 0.8672839506172839\n",
      "EPOCH 11 On Dev  :Mean Loss : 0.5807069426785303 Accuracy : 0.7366666666666667\n",
      "\n",
      "EPOCHS 12 On training : Mean Loss : 0.2837141502776876 Accuracy : 0.8825925925925926\n",
      "EPOCH 12 On Dev  :Mean Loss : 0.5582845116684731 Accuracy : 0.7355555555555555\n",
      "\n",
      "EPOCHS 13 On training : Mean Loss : 0.2556303369807264 Accuracy : 0.898641975308642\n",
      "EPOCH 13 On Dev  :Mean Loss : 0.6487201736440198 Accuracy : 0.7544444444444445\n",
      "\n",
      "EPOCHS 14 On training : Mean Loss : 0.23197041984690397 Accuracy : 0.9095061728395062\n",
      "EPOCH 14 On Dev  :Mean Loss : 0.6434321349882585 Accuracy : 0.7411111111111112\n",
      "\n",
      "EPOCHS 15 On training : Mean Loss : 0.1901314841616973 Accuracy : 0.927283950617284\n",
      "EPOCH 15 On Dev  :Mean Loss : 0.6962026377514418 Accuracy : 0.7466666666666667\n",
      "\n"
     ]
    },
    {
     "data": {
      "image/png": "[encoded data removed]",
      "text/plain": [
       "<Figure size 432x288 with 1 Axes>"
      ]
     },
     "metadata": {
      "needs_background": "light"
     },
     "output_type": "display_data"
    },
    {
     "data": {
      "image/png": "[encoded data removed]",
      "text/plain": [
       "<Figure size 432x288 with 1 Axes>"
      ]
     },
     "metadata": {
      "needs_background": "light"
     },
     "output_type": "display_data"
    },
    {
     "data": {
      "text/plain": [
       "<Figure size 432x288 with 0 Axes>"
      ]
     },
     "metadata": {},
     "output_type": "display_data"
    }
   ],
   "source": [
    "m = Conv_classifier(len(token_index), 5, 3, 5, pool_type=\"max\" ) \n",
    "train(m , 15 , lr=1e-1 , X_train =X_train ,y_train = y_train , X_dev = X_dev , y_dev = y_dev,save_path=\"model_max_3\")\n"
   ]
  },
  {
   "cell_type": "code",
   "execution_count": 86,
   "metadata": {},
   "outputs": [
    {
     "name": "stdout",
     "output_type": "stream",
     "text": [
      "Accuracy on test set for this model is 0.745\n"
     ]
    }
   ],
   "source": [
    "m =  Conv_classifier(len(token_index), 5, 3, 5, pool_type=\"max\" ) \n",
    "m.load_state_dict(torch.load(\"model_max_3\"))\n",
    "\n",
    "evaluation_test(m, X_test, y_test)"
   ]
  },
  {
   "cell_type": "code",
   "execution_count": 88,
   "metadata": {},
   "outputs": [
    {
     "name": "stdout",
     "output_type": "stream",
     "text": [
      "EPOCHS 1 On training : Mean Loss : 0.6995164051357611 Accuracy : 0.5235802469135803\n",
      "EPOCH 1 On Dev  :Mean Loss : 0.6746561042467754 Accuracy : 0.5722222222222222\n",
      "\n",
      "EPOCHS 2 On training : Mean Loss : 0.6653206009590347 Accuracy : 0.5995061728395061\n",
      "EPOCH 2 On Dev  :Mean Loss : 0.620297408791052 Accuracy : 0.6466666666666666\n",
      "\n",
      "EPOCHS 3 On training : Mean Loss : 0.5995996331080091 Accuracy : 0.6793827160493827\n",
      "EPOCH 3 On Dev  :Mean Loss : 0.6073516634913783 Accuracy : 0.6722222222222223\n",
      "\n",
      "EPOCHS 4 On training : Mean Loss : 0.544971493233482 Accuracy : 0.7232098765432099\n",
      "EPOCH 4 On Dev  :Mean Loss : 0.5242417915239154 Accuracy : 0.7111111111111111\n",
      "\n",
      "EPOCHS 5 On training : Mean Loss : 0.4938011023003147 Accuracy : 0.755432098765432\n",
      "EPOCH 5 On Dev  :Mean Loss : 0.5175329336337745 Accuracy : 0.7244444444444444\n",
      "\n",
      "EPOCHS 6 On training : Mean Loss : 0.4626900300131653 Accuracy : 0.7777777777777778\n",
      "EPOCH 6 On Dev  :Mean Loss : 0.5076906684910257 Accuracy : 0.7322222222222222\n",
      "\n",
      "EPOCHS 7 On training : Mean Loss : 0.42732246766100906 Accuracy : 0.7964197530864198\n",
      "EPOCH 7 On Dev  :Mean Loss : 0.5384086327463946 Accuracy : 0.7477777777777778\n",
      "\n",
      "EPOCHS 8 On training : Mean Loss : 0.39545823565390653 Accuracy : 0.8203703703703704\n",
      "EPOCH 8 On Dev  :Mean Loss : 0.4903388106847382 Accuracy : 0.7466666666666667\n",
      "\n",
      "EPOCHS 9 On training : Mean Loss : 0.35917288943899967 Accuracy : 0.8392592592592593\n",
      "EPOCH 9 On Dev  :Mean Loss : 0.5481609840594761 Accuracy : 0.7366666666666667\n",
      "\n",
      "EPOCHS 10 On training : Mean Loss : 0.3235457328071334 Accuracy : 0.8625925925925926\n",
      "EPOCH 10 On Dev  :Mean Loss : 0.574053978506453 Accuracy : 0.7477777777777778\n",
      "\n",
      "EPOCHS 11 On training : Mean Loss : 0.2988417913411736 Accuracy : 0.8733333333333333\n",
      "EPOCH 11 On Dev  :Mean Loss : 0.5898809745127556 Accuracy : 0.7644444444444445\n",
      "\n",
      "EPOCHS 12 On training : Mean Loss : 0.2763062778689841 Accuracy : 0.8832098765432099\n",
      "EPOCH 12 On Dev  :Mean Loss : 0.6826339793267575 Accuracy : 0.7377777777777778\n",
      "\n",
      "EPOCHS 13 On training : Mean Loss : 0.2598232945371956 Accuracy : 0.8941975308641975\n",
      "EPOCH 13 On Dev  :Mean Loss : 0.556442523293205 Accuracy : 0.7633333333333333\n",
      "\n",
      "EPOCHS 14 On training : Mean Loss : 0.24580343563034487 Accuracy : 0.9039506172839507\n",
      "EPOCH 14 On Dev  :Mean Loss : 0.6913609396714123 Accuracy : 0.7555555555555555\n",
      "\n",
      "EPOCHS 15 On training : Mean Loss : 0.2164547820410256 Accuracy : 0.9123456790123456\n",
      "EPOCH 15 On Dev  :Mean Loss : 0.6365245089143114 Accuracy : 0.7477777777777778\n",
      "\n"
     ]
    },
    {
     "data": {
      "image/png": "[encoded data removed]",
      "text/plain": [
       "<Figure size 432x288 with 1 Axes>"
      ]
     },
     "metadata": {
      "needs_background": "light"
     },
     "output_type": "display_data"
    },
    {
     "data": {
      "image/png": "[encoded data removed]",
      "text/plain": [
       "<Figure size 432x288 with 1 Axes>"
      ]
     },
     "metadata": {
      "needs_background": "light"
     },
     "output_type": "display_data"
    },
    {
     "data": {
      "text/plain": [
       "<Figure size 432x288 with 0 Axes>"
      ]
     },
     "metadata": {},
     "output_type": "display_data"
    }
   ],
   "source": [
    "m = Conv_classifier(len(token_index), 5, 3, 5, pool_type=\"mean\")\n",
    "train(m , 15 , lr=0.1 , X_train =X_train ,y_train = y_train , X_dev = X_dev , y_dev = y_dev,save_path=\"model_mean_3\")"
   ]
  },
  {
   "cell_type": "code",
   "execution_count": 90,
   "metadata": {},
   "outputs": [
    {
     "name": "stdout",
     "output_type": "stream",
     "text": [
      "Accuracy on test set for this model is 0.74\n"
     ]
    }
   ],
   "source": [
    "m =  Conv_classifier(len(token_index), 5, 3, 5, pool_type=\"mean\" ) \n",
    "m.load_state_dict(torch.load(\"model_mean_3\"))\n",
    "\n",
    "evaluation_test(m, X_test, y_test)"
   ]
  },
  {
   "cell_type": "code",
   "execution_count": 91,
   "metadata": {},
   "outputs": [
    {
     "name": "stdout",
     "output_type": "stream",
     "text": [
      "EPOCHS 1 On training : Mean Loss : 0.6982233288391482 Accuracy : 0.5479012345679012\n",
      "EPOCH 1 On Dev  :Mean Loss : 0.7318517704556385 Accuracy : 0.5577777777777778\n",
      "\n",
      "EPOCHS 2 On training : Mean Loss : 0.6616089675418154 Accuracy : 0.6146913580246913\n",
      "EPOCH 2 On Dev  :Mean Loss : 0.7189128031540248 Accuracy : 0.5433333333333333\n",
      "\n",
      "EPOCHS 3 On training : Mean Loss : 0.603848855184665 Accuracy : 0.6641975308641975\n",
      "EPOCH 3 On Dev  :Mean Loss : 0.5865788137245302 Accuracy : 0.6877777777777778\n",
      "\n",
      "EPOCHS 4 On training : Mean Loss : 0.5480646588483336 Accuracy : 0.7134567901234568\n",
      "EPOCH 4 On Dev  :Mean Loss : 0.574391494641572 Accuracy : 0.6855555555555556\n",
      "\n",
      "EPOCHS 5 On training : Mean Loss : 0.4891282769598581 Accuracy : 0.7548148148148148\n",
      "EPOCH 5 On Dev  :Mean Loss : 0.5317327591292673 Accuracy : 0.7144444444444444\n",
      "\n",
      "EPOCHS 6 On training : Mean Loss : 0.4487554063976292 Accuracy : 0.7825925925925926\n",
      "EPOCH 6 On Dev  :Mean Loss : 0.5230053742902561 Accuracy : 0.7088888888888889\n",
      "\n",
      "EPOCHS 7 On training : Mean Loss : 0.42106218177939764 Accuracy : 0.8017283950617284\n",
      "EPOCH 7 On Dev  :Mean Loss : 0.5849404880070842 Accuracy : 0.7333333333333333\n",
      "\n",
      "EPOCHS 8 On training : Mean Loss : 0.3848587424593406 Accuracy : 0.8230864197530864\n",
      "EPOCH 8 On Dev  :Mean Loss : 0.5167323192507818 Accuracy : 0.7433333333333333\n",
      "\n",
      "EPOCHS 9 On training : Mean Loss : 0.35362383238727046 Accuracy : 0.842716049382716\n",
      "EPOCH 9 On Dev  :Mean Loss : 0.4765291167745858 Accuracy : 0.7555555555555555\n",
      "\n",
      "EPOCHS 10 On training : Mean Loss : 0.3068141424385312 Accuracy : 0.87\n",
      "EPOCH 10 On Dev  :Mean Loss : 0.6053328687899616 Accuracy : 0.7511111111111111\n",
      "\n",
      "EPOCHS 11 On training : Mean Loss : 0.2781722998675793 Accuracy : 0.8851851851851852\n",
      "EPOCH 11 On Dev  :Mean Loss : 0.5413441068386415 Accuracy : 0.7522222222222222\n",
      "\n",
      "EPOCHS 12 On training : Mean Loss : 0.26031253469409665 Accuracy : 0.8941975308641975\n",
      "EPOCH 12 On Dev  :Mean Loss : 0.6150500845478768 Accuracy : 0.7511111111111111\n",
      "\n",
      "EPOCHS 13 On training : Mean Loss : 0.23694689676163957 Accuracy : 0.9046913580246914\n",
      "EPOCH 13 On Dev  :Mean Loss : 0.5585337433836205 Accuracy : 0.7566666666666667\n",
      "\n",
      "EPOCHS 14 On training : Mean Loss : 0.2178647772183749 Accuracy : 0.9182716049382716\n",
      "EPOCH 14 On Dev  :Mean Loss : 0.7593055175696913 Accuracy : 0.7377777777777778\n",
      "\n",
      "EPOCHS 15 On training : Mean Loss : 0.1826657670134847 Accuracy : 0.9309876543209876\n",
      "EPOCH 15 On Dev  :Mean Loss : 0.6517740261448006 Accuracy : 0.7588888888888888\n",
      "\n"
     ]
    },
    {
     "data": {
      "image/png": "[encoded data removed]",
      "text/plain": [
       "<Figure size 432x288 with 1 Axes>"
      ]
     },
     "metadata": {
      "needs_background": "light"
     },
     "output_type": "display_data"
    },
    {
     "data": {
      "image/png": "[encoded data removed]",
      "text/plain": [
       "<Figure size 432x288 with 1 Axes>"
      ]
     },
     "metadata": {
      "needs_background": "light"
     },
     "output_type": "display_data"
    },
    {
     "data": {
      "text/plain": [
       "<Figure size 432x288 with 0 Axes>"
      ]
     },
     "metadata": {},
     "output_type": "display_data"
    }
   ],
   "source": [
    "m = Conv_classifier(len(token_index), 5, 2, 5, pool_type=\"max\" ) \n",
    "train(m , 15 , lr=1e-1 , X_train =X_train ,y_train = y_train , X_dev = X_dev , y_dev = y_dev,save_path=\"model_max_2\")\n"
   ]
  },
  {
   "cell_type": "code",
   "execution_count": 94,
   "metadata": {},
   "outputs": [
    {
     "name": "stdout",
     "output_type": "stream",
     "text": [
      "Accuracy on test set for this model is 0.757\n"
     ]
    }
   ],
   "source": [
    "m =  Conv_classifier(len(token_index), 5, 2, 5, pool_type=\"max\" ) \n",
    "m.load_state_dict(torch.load(\"model_max_2\"))\n",
    "\n",
    "evaluation_test(m, X_test, y_test)"
   ]
  },
  {
   "cell_type": "code",
   "execution_count": 96,
   "metadata": {},
   "outputs": [
    {
     "name": "stdout",
     "output_type": "stream",
     "text": [
      "EPOCHS 1 On training : Mean Loss : 0.6855484071479576 Accuracy : 0.5580246913580247\n",
      "EPOCH 1 On Dev  :Mean Loss : 0.6739351791143418 Accuracy : 0.6055555555555555\n",
      "\n",
      "EPOCHS 2 On training : Mean Loss : 0.6277226580208908 Accuracy : 0.6453086419753087\n",
      "EPOCH 2 On Dev  :Mean Loss : 0.590092359373553 Accuracy : 0.7055555555555556\n",
      "\n",
      "EPOCHS 3 On training : Mean Loss : 0.5664552596709874 Accuracy : 0.7125925925925926\n",
      "EPOCH 3 On Dev  :Mean Loss : 0.5384496860260455 Accuracy : 0.71\n",
      "\n",
      "EPOCHS 4 On training : Mean Loss : 0.5161910379876066 Accuracy : 0.738641975308642\n",
      "EPOCH 4 On Dev  :Mean Loss : 0.5155656128457162 Accuracy : 0.7311111111111112\n",
      "\n",
      "EPOCHS 5 On training : Mean Loss : 0.4658679725457173 Accuracy : 0.7762962962962963\n",
      "EPOCH 5 On Dev  :Mean Loss : 0.505662699490627 Accuracy : 0.7477777777777778\n",
      "\n",
      "EPOCHS 6 On training : Mean Loss : 0.4338970508013475 Accuracy : 0.794320987654321\n",
      "EPOCH 6 On Dev  :Mean Loss : 0.48111409291643364 Accuracy : 0.7533333333333333\n",
      "\n",
      "EPOCHS 7 On training : Mean Loss : 0.401465504959451 Accuracy : 0.8130864197530864\n",
      "EPOCH 7 On Dev  :Mean Loss : 0.5000186402704967 Accuracy : 0.7588888888888888\n",
      "\n",
      "EPOCHS 8 On training : Mean Loss : 0.37175328371884386 Accuracy : 0.8301234567901234\n",
      "EPOCH 8 On Dev  :Mean Loss : 0.5267293940231996 Accuracy : 0.7633333333333333\n",
      "\n",
      "EPOCHS 9 On training : Mean Loss : 0.3470843284655159 Accuracy : 0.8466666666666667\n",
      "EPOCH 9 On Dev  :Mean Loss : 0.5028610517862389 Accuracy : 0.7622222222222222\n",
      "\n",
      "EPOCHS 10 On training : Mean Loss : 0.3117819443897395 Accuracy : 0.8630864197530864\n",
      "EPOCH 10 On Dev  :Mean Loss : 0.4910805104953202 Accuracy : 0.76\n",
      "\n",
      "EPOCHS 11 On training : Mean Loss : 0.29415018367318213 Accuracy : 0.8709876543209877\n",
      "EPOCH 11 On Dev  :Mean Loss : 0.4979226152443906 Accuracy : 0.7577777777777778\n",
      "\n",
      "EPOCHS 12 On training : Mean Loss : 0.2744842035008674 Accuracy : 0.8795061728395062\n",
      "EPOCH 12 On Dev  :Mean Loss : 0.5556771056847103 Accuracy : 0.7444444444444445\n",
      "\n",
      "EPOCHS 13 On training : Mean Loss : 0.26119343722831007 Accuracy : 0.8930864197530864\n",
      "EPOCH 13 On Dev  :Mean Loss : 0.592172693494056 Accuracy : 0.76\n",
      "\n",
      "EPOCHS 14 On training : Mean Loss : 0.24964504976631446 Accuracy : 0.8996296296296297\n",
      "EPOCH 14 On Dev  :Mean Loss : 0.5590779373525572 Accuracy : 0.7622222222222222\n",
      "\n",
      "EPOCHS 15 On training : Mean Loss : 0.22475023483529552 Accuracy : 0.9146913580246914\n",
      "EPOCH 15 On Dev  :Mean Loss : 0.7910779237624159 Accuracy : 0.73\n",
      "\n"
     ]
    },
    {
     "data": {
      "image/png": "[encoded data removed]",
      "text/plain": [
       "<Figure size 432x288 with 1 Axes>"
      ]
     },
     "metadata": {
      "needs_background": "light"
     },
     "output_type": "display_data"
    },
    {
     "data": {
      "image/png": "[encoded data removed]",
      "text/plain": [
       "<Figure size 432x288 with 1 Axes>"
      ]
     },
     "metadata": {
      "needs_background": "light"
     },
     "output_type": "display_data"
    },
    {
     "data": {
      "text/plain": [
       "<Figure size 432x288 with 0 Axes>"
      ]
     },
     "metadata": {},
     "output_type": "display_data"
    }
   ],
   "source": [
    "m = Conv_classifier(len(token_index), 5, 2, 5, pool_type=\"mean\" ) \n",
    "train(m , 15 , lr=1e-1 , X_train =X_train ,y_train = y_train , X_dev = X_dev , y_dev = y_dev,save_path=\"model_mean_2\")\n"
   ]
  },
  {
   "cell_type": "code",
   "execution_count": 97,
   "metadata": {},
   "outputs": [
    {
     "name": "stdout",
     "output_type": "stream",
     "text": [
      "Accuracy on test set for this model is 0.756\n"
     ]
    }
   ],
   "source": [
    "m =  Conv_classifier(len(token_index), 5, 2, 5, pool_type=\"mean\" ) \n",
    "m.load_state_dict(torch.load(\"model_mean_2\"))\n",
    "\n",
    "evaluation_test(m, X_test, y_test)"
   ]
  },
  {
   "cell_type": "markdown",
   "metadata": {},
   "source": [
    "# PRE TRAINED EMBEDDING LAYER "
   ]
  },
  {
   "cell_type": "code",
   "execution_count": 98,
   "metadata": {},
   "outputs": [],
   "source": [
    "import bcolz\n",
    "import pickle"
   ]
  },
  {
   "cell_type": "markdown",
   "metadata": {},
   "source": [
    "In the following cell we load the files containing the pre-trained embeddings (from glove data set), and we save them with pickle for futur uses."
   ]
  },
  {
   "cell_type": "code",
   "execution_count": 99,
   "metadata": {},
   "outputs": [],
   "source": [
    "words = []\n",
    "idx = 0\n",
    "word2idx = {}\n",
    "glove_path = '.'\n",
    "vectors = bcolz.carray(np.zeros(1), rootdir=f'{glove_path}/6B.50.dat', mode='w')\n",
    "\n",
    "with open(f'{glove_path}/glove.6B.50d.txt', 'rb') as f:\n",
    "    for l in f:\n",
    "        line = l.decode().split()\n",
    "        word = line[0]\n",
    "        words.append(word)\n",
    "        word2idx[word] = idx\n",
    "        idx += 1\n",
    "        vect = np.array(line[1:]).astype(np.float)\n",
    "        vectors.append(vect)\n",
    "    \n",
    "vectors = bcolz.carray(vectors[1:].reshape((400000, 50)), rootdir=f'{glove_path}/6B.50.dat', mode='w')\n",
    "vectors.flush()\n",
    "pickle.dump(words, open(f'{glove_path}/6B.50_words.pkl', 'wb'))\n",
    "pickle.dump(word2idx, open(f'{glove_path}/6B.50_idx.pkl', 'wb'))"
   ]
  },
  {
   "cell_type": "code",
   "execution_count": 100,
   "metadata": {},
   "outputs": [],
   "source": [
    "vectors = bcolz.open(f'{glove_path}/6B.50.dat')[:]\n",
    "words = pickle.load(open(f'{glove_path}/6B.50_words.pkl', 'rb'))\n",
    "word2idx = pickle.load(open(f'{glove_path}/6B.50_idx.pkl', 'rb'))\n",
    "\n",
    "glove = {w: vectors[word2idx[w]] for w in words}"
   ]
  },
  {
   "cell_type": "code",
   "execution_count": 101,
   "metadata": {
    "scrolled": true
   },
   "outputs": [
    {
     "data": {
      "text/plain": [
       "array([-0.27279  ,  0.77515  , -0.10181  , -0.9166   ,  0.90477  ,\n",
       "       -0.070501 , -0.47569  ,  0.44608  ,  0.1697   ,  0.072352 ,\n",
       "       -0.16306  ,  0.86852  , -0.76634  , -0.016103 ,  0.78492  ,\n",
       "        0.2952   , -0.74859  ,  0.2099   ,  0.65537  , -0.62334  ,\n",
       "       -0.43711  ,  1.1854   ,  0.47519  ,  0.0093866,  1.1377   ,\n",
       "       -2.4394   , -1.5619   ,  0.49001  ,  1.0985   , -0.97371  ,\n",
       "        3.4628   ,  1.0408   , -0.65138  ,  0.57189  , -0.12523  ,\n",
       "        0.26705  ,  0.16373  ,  0.41105  ,  0.7509   , -0.77923  ,\n",
       "        0.03638  , -0.28609  , -0.72365  ,  0.63511  ,  0.089441 ,\n",
       "       -0.30133  ,  0.36518  , -0.73367  ,  0.040383 ,  0.26657  ])"
      ]
     },
     "execution_count": 101,
     "metadata": {},
     "output_type": "execute_result"
    }
   ],
   "source": [
    "glove['my']"
   ]
  },
  {
   "cell_type": "code",
   "execution_count": 102,
   "metadata": {},
   "outputs": [],
   "source": [
    "pre_trained =[item for sublist in X_train for item in sublist]"
   ]
  },
  {
   "cell_type": "code",
   "execution_count": 103,
   "metadata": {},
   "outputs": [],
   "source": [
    "matrix_len = len(token_index)\n",
    "weights_matrix = np.zeros((matrix_len, 50))\n",
    "words_found = 0\n",
    "\n",
    "for i in range (len(token_index)):\n",
    "    try: \n",
    "        weights_matrix[i] = glove[token_index.id_to_str(i)]\n",
    "        words_found += 1\n",
    "    except KeyError:\n",
    "        weights_matrix[i] = np.random.normal(scale=0.6, size=(50, ))"
   ]
  },
  {
   "cell_type": "code",
   "execution_count": 104,
   "metadata": {},
   "outputs": [
    {
     "data": {
      "text/plain": [
       "(7032, 50)"
      ]
     },
     "execution_count": 104,
     "metadata": {},
     "output_type": "execute_result"
    }
   ],
   "source": [
    "weights_matrix.shape"
   ]
  },
  {
   "cell_type": "code",
   "execution_count": 105,
   "metadata": {},
   "outputs": [],
   "source": [
    "def create_emb_layer(weights_matrix, non_trainable=False):\n",
    "    num_embeddings, embedding_dim = weights_matrix.shape\n",
    "    emb_layer = nn.Embedding(num_embeddings, embedding_dim)\n",
    "    emb_layer.load_state_dict({'weight': weights_matrix})\n",
    "    if non_trainable:\n",
    "        emb_layer.weight.requires_grad = False\n",
    "\n",
    "    return emb_layer, num_embeddings, embedding_dim\n"
   ]
  },
  {
   "cell_type": "code",
   "execution_count": 113,
   "metadata": {},
   "outputs": [],
   "source": [
    "\n",
    "class Conv_classifier_pretrained(nn.Module):\n",
    "    def __init__(self, vocab_size, weights_matrix, size, feat_size , pool_type):\n",
    "        super(Conv_classifier_pretrained, self).__init__()\n",
    "        \n",
    "        #Embedding layer\n",
    "        self.emb_db, _, embedding_dim = create_emb_layer(torch.tensor(weights_matrix), False)\n",
    "        #Conv layers\n",
    "        self.convs = torch.nn.Linear(size*embedding_dim,feat_size)\n",
    "        #Last layer\n",
    "        self.l1 = nn.Linear(feat_size, 1)\n",
    "        \n",
    "        #Various parameters you need\n",
    "        self.size = size\n",
    "        self.pool_type = pool_type\n",
    "        #inits\n",
    "        nn.init.xavier_uniform_(self.l1.weight.data)  # Xavier/Glorot init for tanh\n",
    "        nn.init.zeros_(self.l1.bias.data)  # Xavier/Glorot init for tanh\n",
    "        \n",
    "    def forward(self, inputs):\n",
    "        idx = 0\n",
    "        size =self.size\n",
    "        if(inputs.shape[0]<size):\n",
    "            pad = torch.tensor([0 for i in range(size-inputs.shape[0])])\n",
    "            inputs = torch.cat((inputs, pad), 0)\n",
    "\n",
    "        inputs = self.emb_db(torch.tensor(inputs))\n",
    "        cat_inputs= []\n",
    "        h = torch.Tensor(inputs.shape[0], inputs.shape[1]*size)\n",
    "\n",
    "        for i in range(len(inputs)-size+1):\n",
    "            tab = [inputs[j] for j in range(i, size+i)]\n",
    "            cat = torch.cat(tab, 0)\n",
    "            cat_inputs.append(self.convs(cat))\n",
    "\n",
    "        h = torch.stack(cat_inputs)\n",
    "\n",
    "        if (self.pool_type == \"max\"):\n",
    "#             #MAX\n",
    "            h, _ = torch.max(h, 0)\n",
    "        if (self.pool_type == \"mean\"):\n",
    "        #MEAN\n",
    "            h = torch.mean(h,0)\n",
    "        out = self.l1(h)\n",
    "        return torch.sigmoid(out)"
   ]
  },
  {
   "cell_type": "code",
   "execution_count": 114,
   "metadata": {},
   "outputs": [],
   "source": [
    "loss = torch.nn.BCELoss()"
   ]
  },
  {
   "cell_type": "code",
   "execution_count": 115,
   "metadata": {},
   "outputs": [
    {
     "name": "stderr",
     "output_type": "stream",
     "text": [
      "C:\\Users\\berte\\Anaconda3\\lib\\site-packages\\ipykernel_launcher.py:26: UserWarning: To copy construct from a tensor, it is recommended to use sourceTensor.clone().detach() or sourceTensor.clone().detach().requires_grad_(True), rather than torch.tensor(sourceTensor).\n"
     ]
    },
    {
     "name": "stdout",
     "output_type": "stream",
     "text": [
      "EPOCHS 1 On training : Mean Loss : 0.755749582431373 Accuracy : 0.6511111111111111\n",
      "EPOCH 1 On Dev  :Mean Loss : 0.8155992213020448 Accuracy : 0.73\n",
      "\n",
      "EPOCHS 2 On training : Mean Loss : 0.7087169041651677 Accuracy : 0.7044444444444444\n",
      "EPOCH 2 On Dev  :Mean Loss : 0.7724878474377839 Accuracy : 0.7311111111111112\n",
      "\n",
      "EPOCHS 3 On training : Mean Loss : 0.5827471796254288 Accuracy : 0.755679012345679\n",
      "EPOCH 3 On Dev  :Mean Loss : 0.6466015052626615 Accuracy : 0.7366666666666667\n",
      "\n",
      "EPOCHS 4 On training : Mean Loss : 0.48942805700902126 Accuracy : 0.7966666666666666\n",
      "EPOCH 4 On Dev  :Mean Loss : 0.5322797189647144 Accuracy : 0.7533333333333333\n",
      "\n",
      "EPOCHS 5 On training : Mean Loss : 0.365374827818102 Accuracy : 0.8448148148148148\n",
      "EPOCH 5 On Dev  :Mean Loss : 0.5023346134886176 Accuracy : 0.7444444444444445\n",
      "\n",
      "EPOCHS 6 On training : Mean Loss : 0.3139771175039111 Accuracy : 0.8688888888888889\n",
      "EPOCH 6 On Dev  :Mean Loss : 0.48671209123262815 Accuracy : 0.7611111111111111\n",
      "\n",
      "EPOCHS 7 On training : Mean Loss : 0.2690623508975854 Accuracy : 0.8964197530864197\n",
      "EPOCH 7 On Dev  :Mean Loss : 0.6331575292283805 Accuracy : 0.7322222222222222\n",
      "\n",
      "EPOCHS 8 On training : Mean Loss : 0.24996202785337748 Accuracy : 0.9045679012345679\n",
      "EPOCH 8 On Dev  :Mean Loss : 0.7015377772317895 Accuracy : 0.7566666666666667\n",
      "\n",
      "EPOCHS 9 On training : Mean Loss : 0.22289033663012892 Accuracy : 0.9174074074074074\n",
      "EPOCH 9 On Dev  :Mean Loss : 0.7290677782694909 Accuracy : 0.7544444444444445\n",
      "\n",
      "EPOCHS 10 On training : Mean Loss : 0.16421757483566327 Accuracy : 0.9393827160493827\n",
      "EPOCH 10 On Dev  :Mean Loss : 0.7416011373824891 Accuracy : 0.76\n",
      "\n",
      "EPOCHS 11 On training : Mean Loss : 0.14572475796249848 Accuracy : 0.9493827160493827\n",
      "EPOCH 11 On Dev  :Mean Loss : 0.9309367673482519 Accuracy : 0.7311111111111112\n",
      "\n",
      "EPOCHS 12 On training : Mean Loss : 0.13774741554127382 Accuracy : 0.951604938271605\n",
      "EPOCH 12 On Dev  :Mean Loss : 0.8249412224628567 Accuracy : 0.7544444444444445\n",
      "\n",
      "EPOCHS 13 On training : Mean Loss : 0.12675188561021622 Accuracy : 0.9588888888888889\n",
      "EPOCH 13 On Dev  :Mean Loss : 0.7203618242912295 Accuracy : 0.74\n",
      "\n",
      "EPOCHS 14 On training : Mean Loss : 0.11086479260687175 Accuracy : 0.964320987654321\n",
      "EPOCH 14 On Dev  :Mean Loss : 1.058592964667735 Accuracy : 0.7511111111111111\n",
      "\n",
      "EPOCHS 15 On training : Mean Loss : 0.08945280164276068 Accuracy : 0.9745679012345679\n",
      "EPOCH 15 On Dev  :Mean Loss : 0.985527254132533 Accuracy : 0.7422222222222222\n",
      "\n"
     ]
    },
    {
     "data": {
      "image/png": "[encoded data removed]",
      "text/plain": [
       "<Figure size 432x288 with 1 Axes>"
      ]
     },
     "metadata": {
      "needs_background": "light"
     },
     "output_type": "display_data"
    },
    {
     "data": {
      "image/png": "[encoded data removed]",
      "text/plain": [
       "<Figure size 432x288 with 1 Axes>"
      ]
     },
     "metadata": {
      "needs_background": "light"
     },
     "output_type": "display_data"
    },
    {
     "data": {
      "text/plain": [
       "<Figure size 432x288 with 0 Axes>"
      ]
     },
     "metadata": {},
     "output_type": "display_data"
    }
   ],
   "source": [
    "m2 = Conv_classifier_pretrained(len(token_index), weights_matrix, 3, 5, pool_type=\"max\")\n",
    "train(m2 , 15 , lr=0.1 , X_train =X_train ,y_train = y_train , X_dev = X_dev , y_dev = y_dev, save_path=\"pretrained_3_max\")\n"
   ]
  },
  {
   "cell_type": "code",
   "execution_count": 119,
   "metadata": {},
   "outputs": [
    {
     "name": "stderr",
     "output_type": "stream",
     "text": [
      "C:\\Users\\berte\\Anaconda3\\lib\\site-packages\\ipykernel_launcher.py:26: UserWarning: To copy construct from a tensor, it is recommended to use sourceTensor.clone().detach() or sourceTensor.clone().detach().requires_grad_(True), rather than torch.tensor(sourceTensor).\n"
     ]
    },
    {
     "name": "stdout",
     "output_type": "stream",
     "text": [
      "Accuracy on test set for this model is 0.778\n"
     ]
    }
   ],
   "source": [
    "m2 = Conv_classifier_pretrained(len(token_index), weights_matrix, 3, 5, pool_type=\"max\")\n",
    "m2.load_state_dict(torch.load(\"pretrained_3_max\"))\n",
    "\n",
    "evaluation_test(m2, X_test, y_test)"
   ]
  }
 ],
 "metadata": {
  "kernelspec": {
   "display_name": "Python 3",
   "language": "python",
   "name": "python3"
  },
  "language_info": {
   "codemirror_mode": {
    "name": "ipython",
    "version": 3
   },
   "file_extension": ".py",
   "mimetype": "text/x-python",
   "name": "python",
   "nbconvert_exporter": "python",
   "pygments_lexer": "ipython3",
   "version": "3.7.3"
  }
 },
 "nbformat": 4,
 "nbformat_minor": 2
}
