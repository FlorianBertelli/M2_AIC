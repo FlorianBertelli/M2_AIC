{
 "cells": [
  {
   "cell_type": "code",
   "execution_count": 1,
   "metadata": {},
   "outputs": [],
   "source": [
    "import re\n",
    "import numpy as np\n",
    "import torch\n",
    "import torch.autograd as ag\n",
    "import torch.nn.functional as F\n",
    "import torch.nn as nn\n",
    "import matplotlib.pyplot as plt\n",
    "import random"
   ]
  },
  {
   "cell_type": "markdown",
   "metadata": {},
   "source": [
    "# Deep Learning for NLP - lab exercise 1\n",
    "\n",
    "In this first lab exercise we will implement a simple bag-of-word classifier, i.e. a classifier that ignores the sequential structure of the sentence. The goal is to predict if a sentence is a positive or negative review of a movie. We will use a dataset constructed from IMDB.\n",
    "\n",
    "1. Load and clean the data\n",
    "2. Preprocess the data for the NN\n",
    "3. Module definition\n",
    "4. Train the network!\n",
    "\n",
    "We will implement this model with Pytorch, the most popular deep learning framework for Natural Language Processing. You can use the following links for help:\n",
    "* turorials: http://pytorch.org/tutorials/\n",
    "* documentation: http://pytorch.org/docs/master/ \n",
    "\n",
    "**Hard deadline**: December 3, 2019\n",
    "\n",
    "\n",
    "## Report\n",
    "\n",
    "On top of this notebook, you must submit a report explaining your neural network, it's training method and report+analyse results, for example with different hyper-parameters (number of hidden layers, different embedding size, different hidden representation size, w or w/o dropout...you choose what you want to explore!).\n",
    "You can also report results with different training dataset sizes (how does the number of training instances impact dev/test results? => *WARNING* obviously, here you change the training set size but you freeze the dev/test sets).\n",
    "\n",
    "Training with the full dataset may be slow depending on your computer.\n",
    "\n",
    "## Data\n",
    "\n",
    "The data can be download here: http://teaching.caio-corro.fr/2019-2020/OPT7/imdb.zip\n",
    "\n",
    "There are two files: one with positive reviews (imdb.pos) and one with negative reviews (imdb.neg). Each file contains 300000 reviews, one per line.\n",
    "\n",
    "\n",
    "The following functions can be used to load and clean the data."
   ]
  },
  {
   "cell_type": "code",
   "execution_count": 3,
   "metadata": {},
   "outputs": [],
   "source": [
    "# Tokenize a sentence\n",
    "def clean_str(string, tolower=True):\n",
    "    \"\"\"\n",
    "    Tokenization/string cleaning.\n",
    "    Original taken from https://github.com/yoonkim/CNN_sentence/blob/master/process_data.py\n",
    "    \"\"\"\n",
    "    string = re.sub(r\"[^A-Za-z0-9(),!?\\'\\`]\", \" \", string)\n",
    "    string = re.sub(r\"\\'s\", \" \\'s\", string)\n",
    "    string = re.sub(r\"\\'ve\", \" \\'ve\", string)\n",
    "    string = re.sub(r\"n\\'t\", \" n\\'t\", string)\n",
    "    string = re.sub(r\"\\'re\", \" \\'re\", string)\n",
    "    string = re.sub(r\"\\'d\", \" \\'d\", string)\n",
    "    string = re.sub(r\"\\'ll\", \" \\'ll\", string)\n",
    "    string = re.sub(r\",\", \" , \", string)\n",
    "    string = re.sub(r\"!\", \" ! \", string)\n",
    "    string = re.sub(r\"\\(\", \" \\( \", string)\n",
    "    string = re.sub(r\"\\)\", \" \\) \", string)\n",
    "    string = re.sub(r\"\\?\", \" \\? \", string)\n",
    "    string = re.sub(r\"\\s{2,}\", \" \", string)\n",
    "    if tolower:\n",
    "        string = string.lower()\n",
    "    return string.strip()\n",
    "\n",
    "\n",
    "# reads the content of the file passed as an argument.\n",
    "# if limit > 0, this function will return only the first \"limit\" sentences in the file.\n",
    "def loadTexts(filename, limit=-1):\n",
    "    f = open(filename)\n",
    "    dataset=[]\n",
    "    line =  f.readline()\n",
    "    cpt=1\n",
    "    skip=0\n",
    "    while line :\n",
    "        cleanline = clean_str(f.readline()).split()\n",
    "        if cleanline: \n",
    "            dataset.append(cleanline)\n",
    "        else: \n",
    "            line = f.readline()\n",
    "            skip+=1\n",
    "            continue\n",
    "        if limit > 0 and cpt >= limit: \n",
    "            break\n",
    "        line = f.readline()\n",
    "        cpt+=1        \n",
    "        \n",
    "    f.close()\n",
    "    print(\"Load \", cpt, \" lines from \", filename , \" / \", skip ,\" lines discarded\")\n",
    "    return dataset\n"
   ]
  },
  {
   "cell_type": "markdown",
   "metadata": {},
   "source": [
    "The following cell load the first 5000 sentences in each review set."
   ]
  },
  {
   "cell_type": "code",
   "execution_count": 4,
   "metadata": {},
   "outputs": [
    {
     "name": "stdout",
     "output_type": "stream",
     "text": [
      "Load  5000  lines from  imdb.pos  /  1  lines discarded\n",
      "Load  5000  lines from  imdb.neg  /  1  lines discarded\n"
     ]
    }
   ],
   "source": [
    "LIM=5000\n",
    "txtfile = 'imdb.pos'  # path of the file containing positive reviews\n",
    "postxt = loadTexts(txtfile,limit=LIM)\n",
    "\n",
    "txtfile = 'imdb.neg' # path of the file containing negative reviews\n",
    "negtxt = loadTexts(txtfile,limit=LIM)"
   ]
  },
  {
   "cell_type": "markdown",
   "metadata": {},
   "source": [
    "Split the data between train / dev / test, for example by creating lists txt_train, label_train, txt_dev, ... You should take care to keep a 50/50 ratio between positive and negative instances in each set."
   ]
  },
  {
   "cell_type": "code",
   "execution_count": 5,
   "metadata": {},
   "outputs": [],
   "source": [
    "data = postxt + negtxt\n",
    "label = np.concatenate((np.ones(len(postxt)),np.zeros(len(negtxt))),axis=0)"
   ]
  },
  {
   "cell_type": "code",
   "execution_count": 6,
   "metadata": {},
   "outputs": [
    {
     "name": "stdout",
     "output_type": "stream",
     "text": [
      "['get', 'in', 'the', 'back', 'of', 'the', 'van', '!']\n",
      "1.0\n"
     ]
    }
   ],
   "source": [
    "print(data[10])\n",
    "print(label[10])"
   ]
  },
  {
   "cell_type": "code",
   "execution_count": 7,
   "metadata": {},
   "outputs": [],
   "source": [
    "from sklearn.model_selection import train_test_split\n",
    "X_train, X_test, y_train, y_test = train_test_split(data, label, test_size=0.1, random_state=1 ,stratify=label)\n",
    "X_train,X_dev,y_train,y_dev = train_test_split(X_train , y_train , test_size=0.1, random_state = 1 , stratify=y_train)"
   ]
  },
  {
   "cell_type": "code",
   "execution_count": 8,
   "metadata": {},
   "outputs": [
    {
     "name": "stdout",
     "output_type": "stream",
     "text": [
      "['laughton', 'enjoyable', 'in', 'this', 'low', 'budget', 'pirate', 'saga']\n",
      "0.0\n"
     ]
    }
   ],
   "source": [
    "print(X_train[10])\n",
    "print(y_train[10])"
   ]
  },
  {
   "cell_type": "markdown",
   "metadata": {},
   "source": [
    "# Converting data to Pytorch tensors\n",
    "\n",
    "We will first convert data to Pytorch tensors so they can be used in a neural network.\n",
    "To do that, you must first create a dictionnary that will map words to integers.\n",
    "Add to the dictionnary only words that are in the training set (be sure to understand why we do that!).\n",
    "\n",
    "Then, you can convert the data to tensors:\n",
    "- use tensors of longs: both the sentence and the label will be represented as integers, not floats!\n",
    "- these tensors do not require a gradient\n",
    "\n",
    "A tensor representing a sentence is composed of the integer representation of each word, e.g. [10, 256, 3, 4].\n",
    "Note that some words in the dev and test sets may not be in the dictionnary! (i.e. unknown words)\n",
    "You can just skip them."
   ]
  },
  {
   "cell_type": "code",
   "execution_count": 9,
   "metadata": {},
   "outputs": [],
   "source": [
    "class Dict:\n",
    "    def __init__(self, words, unk=None):\n",
    "        self._unk = unk\n",
    "        self._word_to_id = dict()\n",
    "        self._id_to_word = list()\n",
    "\n",
    "        if unk in words:\n",
    "            raise RuntimeError(\"UNK word exists in vocabulary\")\n",
    "\n",
    "        if unk is not None:\n",
    "            self.unk_index = self._add_word(unk)\n",
    "\n",
    "        for word in words:\n",
    "            self._add_word(word)\n",
    "\n",
    "    # for internal use only!\n",
    "    def _add_word(self, word):\n",
    "        if word not in self._word_to_id:\n",
    "            id = len(self._id_to_word)\n",
    "            self._word_to_id[word] = id\n",
    "            self._id_to_word.append(word)\n",
    "            return id\n",
    "        else:\n",
    "            return self._word_to_id[word]\n",
    "\n",
    "    def str_to_id(self, word):\n",
    "        if self._unk is not None:\n",
    "            return self._word_to_id.get(word, self.unk_index)\n",
    "        else:\n",
    "            return self._word_to_id[word]\n",
    "\n",
    "    def id_to_str(self, id):\n",
    "        return self._id_to_word[id]\n",
    "\n",
    "    def __len__(self):\n",
    "        return len(self._word_to_id)\n",
    "\n",
    "    def has_unk(self):\n",
    "        return self._unk is not None\n",
    "    \n",
    "    def unk(self):\n",
    "        return self.unk_index"
   ]
  },
  {
   "cell_type": "code",
   "execution_count": 10,
   "metadata": {},
   "outputs": [],
   "source": [
    "#Creating a dict where each word is associated to a number\n",
    "token_index = {}\n",
    "for sent in X_train:\n",
    "    for word in sent:\n",
    "        if word not in token_index:\n",
    "            token_index[word] = len(token_index) + 1\n",
    "            \n",
    "#Don't forget to add the unk = True because some words maybe in the dev or test but not in the train\n",
    "token_index = Dict(token_index, unk=True)\n"
   ]
  },
  {
   "cell_type": "markdown",
   "metadata": {},
   "source": [
    "# Neural network definition\n",
    "\n",
    "The neural network should be defined as follows:\n",
    "- it takes as input a tensor that is a sequence of integers indexing word embeddings\n",
    "- it retrieves the word embeddings from an embedding table\n",
    "- it constructs the \"input\" of the MLP by summing over all embeddingsÂ (i.e. bag-of-word model)\n",
    "- it build a hidden represention using a MLP (1 layer? 2 layers? experiment! but maybe first try wihout any hidden layer...)\n",
    "- it project the hidden representation to the output space: it is a binary classification task, so the output space is a scalar where a negative (resp. positive) value means the review is negative (resp. positive)."
   ]
  },
  {
   "cell_type": "code",
   "execution_count": 105,
   "metadata": {},
   "outputs": [],
   "source": [
    "class CNN_classifier(nn.Module):\n",
    "    def __init__(self, vocab_size ,list_size, embedding_dim=10):\n",
    "        super(CNN_classifier, self).__init__()\n",
    "        # To create an embedding table: https://pytorch.org/docs/stable/nn.html#torch.nn.Embedding\n",
    "        self.emb_db = torch.nn.Embedding(num_embeddings = vocab_size ,embedding_dim=embedding_dim)\n",
    "    \n",
    "        self.convs = torch.nn.ModuleList([torch.nn.Linear(size*embedding_dim,1) for size in list_size])\n",
    "                   \n",
    "        for layer in self.convs:\n",
    "            torch.nn.init.xavier_uniform_(layer.weight.data)\n",
    "            torch.nn.init.zeros_(layer.bias.data)\n",
    "\n",
    "        self.softmax = torch.nn.Linear(len(list_size), 1)\n",
    "    def forward(self, inputs):\n",
    "        x = self.emb_db(inputs)\n",
    "        print(input)\n",
    "        \n",
    "        output_ = []\n",
    "        ##list_size = [2,3,4]\n",
    "        for layer in self.convs:\n",
    "            output = []\n",
    "            #FIRST CONVOL\n",
    "            for i in range(1, x.shape[0]):\n",
    "                conv_1 = torch.cat((x[i] ,x[i-1]),0)\n",
    "\n",
    "                output.append(layer(conv_1))\n",
    "            output = torch.tensor(output)\n",
    "\n",
    "            output = torch.max(output)\n",
    "            output_.append(output)\n",
    "            \n",
    "        output_ = torch.tensor(output_)\n",
    "        output_ = F.sigmoid(self.softmax(output_))\n",
    "        return (output_)"
   ]
  },
  {
   "cell_type": "markdown",
   "metadata": {},
   "source": [
    "## Loss function\n",
    "\n",
    "Create a loss function builder.\n",
    "\n",
    "- Pytorch loss functions are documented here: https://pytorch.org/docs/stable/nn.html#loss-functions\n",
    "- In our case, we are interested in *BCELoss* and *BCEWithLogitsLoss*. Read their documentation and choose the one that fits with your network output"
   ]
  },
  {
   "cell_type": "code",
   "execution_count": 86,
   "metadata": {},
   "outputs": [],
   "source": [
    "loss = torch.nn.BCELoss()"
   ]
  },
  {
   "cell_type": "markdown",
   "metadata": {
    "collapsed": true
   },
   "source": [
    "## Training loop\n",
    "\n",
    "Write your training loop!\n",
    "\n",
    "- parameterizable number of epochs\n",
    "- at each epoch, print the mean loss and the dev accuracy"
   ]
  },
  {
   "cell_type": "code",
   "execution_count": 103,
   "metadata": {},
   "outputs": [
    {
     "name": "stdout",
     "output_type": "stream",
     "text": [
      "tensor([0.6754], grad_fn=<SigmoidBackward>)\n",
      "tensor([0.6016], grad_fn=<SigmoidBackward>)\n",
      "tensor([0.6037], grad_fn=<SigmoidBackward>)\n",
      "tensor([0.6724], grad_fn=<SigmoidBackward>)\n",
      "tensor([0.7261], grad_fn=<SigmoidBackward>)\n",
      "tensor([0.5765], grad_fn=<SigmoidBackward>)\n",
      "tensor([0.5986], grad_fn=<SigmoidBackward>)\n",
      "tensor([0.5617], grad_fn=<SigmoidBackward>)\n",
      "tensor([0.5380], grad_fn=<SigmoidBackward>)\n",
      "tensor([0.5532], grad_fn=<SigmoidBackward>)\n",
      "tensor([0.5377], grad_fn=<SigmoidBackward>)\n",
      "tensor([0.4211], grad_fn=<SigmoidBackward>)\n",
      "tensor([0.4866], grad_fn=<SigmoidBackward>)\n",
      "tensor([0.5506], grad_fn=<SigmoidBackward>)\n",
      "tensor([0.5739], grad_fn=<SigmoidBackward>)\n",
      "tensor([0.5299], grad_fn=<SigmoidBackward>)\n",
      "tensor([0.5700], grad_fn=<SigmoidBackward>)\n",
      "tensor([0.5497], grad_fn=<SigmoidBackward>)\n",
      "tensor([0.5725], grad_fn=<SigmoidBackward>)\n",
      "tensor([0.4154], grad_fn=<SigmoidBackward>)\n",
      "tensor([0.3592], grad_fn=<SigmoidBackward>)\n",
      "tensor([0.4489], grad_fn=<SigmoidBackward>)\n",
      "tensor([0.4570], grad_fn=<SigmoidBackward>)\n",
      "tensor([0.3876], grad_fn=<SigmoidBackward>)\n",
      "tensor([0.3917], grad_fn=<SigmoidBackward>)\n",
      "tensor([0.2419], grad_fn=<SigmoidBackward>)\n",
      "tensor([0.3268], grad_fn=<SigmoidBackward>)\n",
      "tensor([0.4618], grad_fn=<SigmoidBackward>)\n",
      "tensor([0.4362], grad_fn=<SigmoidBackward>)\n",
      "tensor([0.4923], grad_fn=<SigmoidBackward>)\n",
      "tensor([0.4248], grad_fn=<SigmoidBackward>)\n",
      "tensor([0.5597], grad_fn=<SigmoidBackward>)\n",
      "tensor([0.5129], grad_fn=<SigmoidBackward>)\n",
      "tensor([0.5646], grad_fn=<SigmoidBackward>)\n",
      "tensor([0.5492], grad_fn=<SigmoidBackward>)\n",
      "tensor([0.5320], grad_fn=<SigmoidBackward>)\n",
      "tensor([0.5318], grad_fn=<SigmoidBackward>)\n",
      "tensor([0.5613], grad_fn=<SigmoidBackward>)\n",
      "tensor([0.4799], grad_fn=<SigmoidBackward>)\n",
      "tensor([0.5046], grad_fn=<SigmoidBackward>)\n",
      "tensor([0.4671], grad_fn=<SigmoidBackward>)\n",
      "tensor([0.5412], grad_fn=<SigmoidBackward>)\n",
      "tensor([0.4501], grad_fn=<SigmoidBackward>)\n",
      "tensor([0.5673], grad_fn=<SigmoidBackward>)\n",
      "tensor([0.5669], grad_fn=<SigmoidBackward>)\n",
      "tensor([0.5311], grad_fn=<SigmoidBackward>)\n",
      "tensor([0.4560], grad_fn=<SigmoidBackward>)\n",
      "tensor([0.3714], grad_fn=<SigmoidBackward>)\n",
      "tensor([0.5582], grad_fn=<SigmoidBackward>)\n",
      "tensor([0.5010], grad_fn=<SigmoidBackward>)\n",
      "tensor([0.5488], grad_fn=<SigmoidBackward>)\n",
      "tensor([0.6126], grad_fn=<SigmoidBackward>)\n",
      "tensor([0.4859], grad_fn=<SigmoidBackward>)\n",
      "tensor([0.5357], grad_fn=<SigmoidBackward>)\n",
      "tensor([0.4645], grad_fn=<SigmoidBackward>)\n",
      "tensor([0.3659], grad_fn=<SigmoidBackward>)\n",
      "tensor([0.5078], grad_fn=<SigmoidBackward>)\n",
      "tensor([0.4825], grad_fn=<SigmoidBackward>)\n",
      "tensor([0.4971], grad_fn=<SigmoidBackward>)\n",
      "tensor([0.3494], grad_fn=<SigmoidBackward>)\n",
      "tensor([0.5087], grad_fn=<SigmoidBackward>)\n",
      "tensor([0.4869], grad_fn=<SigmoidBackward>)\n",
      "tensor([0.5015], grad_fn=<SigmoidBackward>)\n",
      "tensor([0.4014], grad_fn=<SigmoidBackward>)\n",
      "tensor([0.5523], grad_fn=<SigmoidBackward>)\n",
      "tensor([0.4911], grad_fn=<SigmoidBackward>)\n",
      "tensor([0.4126], grad_fn=<SigmoidBackward>)\n",
      "tensor([0.5166], grad_fn=<SigmoidBackward>)\n",
      "tensor([0.4826], grad_fn=<SigmoidBackward>)\n",
      "tensor([0.5463], grad_fn=<SigmoidBackward>)\n",
      "tensor([0.6138], grad_fn=<SigmoidBackward>)\n",
      "tensor([0.6383], grad_fn=<SigmoidBackward>)\n",
      "tensor([0.5705], grad_fn=<SigmoidBackward>)\n",
      "['rubbish']\n",
      "EPOCH 1 On training : Mean Loss : 0.006854504983366271 Accuracy : 0.0030864197530864196\n",
      "tensor([0.5476], grad_fn=<SigmoidBackward>)\n",
      "tensor([0.5565], grad_fn=<SigmoidBackward>)\n",
      "tensor([0.5193], grad_fn=<SigmoidBackward>)\n",
      "tensor([0.5505], grad_fn=<SigmoidBackward>)\n",
      "tensor([0.5100], grad_fn=<SigmoidBackward>)\n",
      "tensor([0.5282], grad_fn=<SigmoidBackward>)\n",
      "tensor([0.5446], grad_fn=<SigmoidBackward>)\n",
      "tensor([0.5281], grad_fn=<SigmoidBackward>)\n",
      "tensor([0.5665], grad_fn=<SigmoidBackward>)\n",
      "tensor([0.5393], grad_fn=<SigmoidBackward>)\n",
      "tensor([0.5054], grad_fn=<SigmoidBackward>)\n",
      "tensor([0.5562], grad_fn=<SigmoidBackward>)\n",
      "tensor([0.5387], grad_fn=<SigmoidBackward>)\n",
      "tensor([0.5533], grad_fn=<SigmoidBackward>)\n"
     ]
    },
    {
     "ename": "RuntimeError",
     "evalue": "invalid argument 1: tensor must have one dimension at /opt/conda/conda-bld/pytorch_1556653114079/work/aten/src/TH/generic/THTensorEvenMoreMath.cpp:592",
     "output_type": "error",
     "traceback": [
      "\u001b[0;31m---------------------------------------------------------------------------\u001b[0m",
      "\u001b[0;31mRuntimeError\u001b[0m                              Traceback (most recent call last)",
      "\u001b[0;32m<ipython-input-103-5fe214fbb98b>\u001b[0m in \u001b[0;36m<module>\u001b[0;34m\u001b[0m\n\u001b[1;32m      1\u001b[0m \u001b[0mmodel1\u001b[0m \u001b[0;34m=\u001b[0m \u001b[0mCNN_classifier\u001b[0m\u001b[0;34m(\u001b[0m\u001b[0mvocab_size\u001b[0m\u001b[0;34m=\u001b[0m\u001b[0mlen\u001b[0m\u001b[0;34m(\u001b[0m\u001b[0mtoken_index\u001b[0m\u001b[0;34m)\u001b[0m\u001b[0;34m+\u001b[0m\u001b[0;36m1\u001b[0m \u001b[0;34m,\u001b[0m \u001b[0mlist_size\u001b[0m \u001b[0;34m=\u001b[0m \u001b[0;34m[\u001b[0m\u001b[0;36m2\u001b[0m\u001b[0;34m]\u001b[0m\u001b[0;34m)\u001b[0m\u001b[0;34m\u001b[0m\u001b[0;34m\u001b[0m\u001b[0m\n\u001b[0;32m----> 2\u001b[0;31m \u001b[0mtrain\u001b[0m\u001b[0;34m(\u001b[0m\u001b[0mmodel1\u001b[0m \u001b[0;34m,\u001b[0m \u001b[0;36m30\u001b[0m \u001b[0;34m,\u001b[0m \u001b[0mlr\u001b[0m\u001b[0;34m=\u001b[0m\u001b[0;36m0.1\u001b[0m \u001b[0;34m,\u001b[0m \u001b[0mX_train\u001b[0m \u001b[0;34m=\u001b[0m\u001b[0mX_train\u001b[0m \u001b[0;34m,\u001b[0m\u001b[0my_train\u001b[0m \u001b[0;34m=\u001b[0m \u001b[0my_train\u001b[0m \u001b[0;34m,\u001b[0m \u001b[0mX_dev\u001b[0m \u001b[0;34m=\u001b[0m \u001b[0mX_dev\u001b[0m \u001b[0;34m,\u001b[0m \u001b[0my_dev\u001b[0m \u001b[0;34m=\u001b[0m \u001b[0my_dev\u001b[0m\u001b[0;34m)\u001b[0m\u001b[0;34m\u001b[0m\u001b[0;34m\u001b[0m\u001b[0m\n\u001b[0m",
      "\u001b[0;32m<ipython-input-102-a0e83740aced>\u001b[0m in \u001b[0;36mtrain\u001b[0;34m(model, epochs, lr, X_train, y_train, X_dev, y_dev, optimizer)\u001b[0m\n\u001b[1;32m     69\u001b[0m \u001b[0;34m\u001b[0m\u001b[0m\n\u001b[1;32m     70\u001b[0m             \u001b[0;31m#prediction and loss\u001b[0m\u001b[0;34m\u001b[0m\u001b[0;34m\u001b[0m\u001b[0;34m\u001b[0m\u001b[0m\n\u001b[0;32m---> 71\u001b[0;31m             \u001b[0mpred\u001b[0m \u001b[0;34m=\u001b[0m \u001b[0mmodel\u001b[0m\u001b[0;34m(\u001b[0m\u001b[0mdata\u001b[0m\u001b[0;34m)\u001b[0m\u001b[0;34m\u001b[0m\u001b[0;34m\u001b[0m\u001b[0m\n\u001b[0m\u001b[1;32m     72\u001b[0m             \u001b[0moutput\u001b[0m \u001b[0;34m=\u001b[0m \u001b[0mloss\u001b[0m\u001b[0;34m(\u001b[0m\u001b[0mpred\u001b[0m \u001b[0;34m,\u001b[0m \u001b[0mlabel\u001b[0m\u001b[0;34m)\u001b[0m\u001b[0;34m\u001b[0m\u001b[0;34m\u001b[0m\u001b[0m\n\u001b[1;32m     73\u001b[0m \u001b[0;34m\u001b[0m\u001b[0m\n",
      "\u001b[0;32m/opt/anaconda3/lib/python3.7/site-packages/torch/nn/modules/module.py\u001b[0m in \u001b[0;36m__call__\u001b[0;34m(self, *input, **kwargs)\u001b[0m\n\u001b[1;32m    491\u001b[0m             \u001b[0mresult\u001b[0m \u001b[0;34m=\u001b[0m \u001b[0mself\u001b[0m\u001b[0;34m.\u001b[0m\u001b[0m_slow_forward\u001b[0m\u001b[0;34m(\u001b[0m\u001b[0;34m*\u001b[0m\u001b[0minput\u001b[0m\u001b[0;34m,\u001b[0m \u001b[0;34m**\u001b[0m\u001b[0mkwargs\u001b[0m\u001b[0;34m)\u001b[0m\u001b[0;34m\u001b[0m\u001b[0;34m\u001b[0m\u001b[0m\n\u001b[1;32m    492\u001b[0m         \u001b[0;32melse\u001b[0m\u001b[0;34m:\u001b[0m\u001b[0;34m\u001b[0m\u001b[0;34m\u001b[0m\u001b[0m\n\u001b[0;32m--> 493\u001b[0;31m             \u001b[0mresult\u001b[0m \u001b[0;34m=\u001b[0m \u001b[0mself\u001b[0m\u001b[0;34m.\u001b[0m\u001b[0mforward\u001b[0m\u001b[0;34m(\u001b[0m\u001b[0;34m*\u001b[0m\u001b[0minput\u001b[0m\u001b[0;34m,\u001b[0m \u001b[0;34m**\u001b[0m\u001b[0mkwargs\u001b[0m\u001b[0;34m)\u001b[0m\u001b[0;34m\u001b[0m\u001b[0;34m\u001b[0m\u001b[0m\n\u001b[0m\u001b[1;32m    494\u001b[0m         \u001b[0;32mfor\u001b[0m \u001b[0mhook\u001b[0m \u001b[0;32min\u001b[0m \u001b[0mself\u001b[0m\u001b[0;34m.\u001b[0m\u001b[0m_forward_hooks\u001b[0m\u001b[0;34m.\u001b[0m\u001b[0mvalues\u001b[0m\u001b[0;34m(\u001b[0m\u001b[0;34m)\u001b[0m\u001b[0;34m:\u001b[0m\u001b[0;34m\u001b[0m\u001b[0;34m\u001b[0m\u001b[0m\n\u001b[1;32m    495\u001b[0m             \u001b[0mhook_result\u001b[0m \u001b[0;34m=\u001b[0m \u001b[0mhook\u001b[0m\u001b[0;34m(\u001b[0m\u001b[0mself\u001b[0m\u001b[0;34m,\u001b[0m \u001b[0minput\u001b[0m\u001b[0;34m,\u001b[0m \u001b[0mresult\u001b[0m\u001b[0;34m)\u001b[0m\u001b[0;34m\u001b[0m\u001b[0;34m\u001b[0m\u001b[0m\n",
      "\u001b[0;32m<ipython-input-100-14af61782f80>\u001b[0m in \u001b[0;36mforward\u001b[0;34m(self, inputs)\u001b[0m\n\u001b[1;32m     27\u001b[0m             \u001b[0moutput\u001b[0m \u001b[0;34m=\u001b[0m \u001b[0mtorch\u001b[0m\u001b[0;34m.\u001b[0m\u001b[0mtensor\u001b[0m\u001b[0;34m(\u001b[0m\u001b[0moutput\u001b[0m\u001b[0;34m)\u001b[0m\u001b[0;34m\u001b[0m\u001b[0;34m\u001b[0m\u001b[0m\n\u001b[1;32m     28\u001b[0m \u001b[0;34m\u001b[0m\u001b[0m\n\u001b[0;32m---> 29\u001b[0;31m             \u001b[0moutput\u001b[0m \u001b[0;34m=\u001b[0m \u001b[0mtorch\u001b[0m\u001b[0;34m.\u001b[0m\u001b[0mmax\u001b[0m\u001b[0;34m(\u001b[0m\u001b[0moutput\u001b[0m\u001b[0;34m)\u001b[0m\u001b[0;34m\u001b[0m\u001b[0;34m\u001b[0m\u001b[0m\n\u001b[0m\u001b[1;32m     30\u001b[0m             \u001b[0moutput_\u001b[0m\u001b[0;34m.\u001b[0m\u001b[0mappend\u001b[0m\u001b[0;34m(\u001b[0m\u001b[0moutput\u001b[0m\u001b[0;34m)\u001b[0m\u001b[0;34m\u001b[0m\u001b[0;34m\u001b[0m\u001b[0m\n\u001b[1;32m     31\u001b[0m \u001b[0;34m\u001b[0m\u001b[0m\n",
      "\u001b[0;31mRuntimeError\u001b[0m: invalid argument 1: tensor must have one dimension at /opt/conda/conda-bld/pytorch_1556653114079/work/aten/src/TH/generic/THTensorEvenMoreMath.cpp:592"
     ]
    }
   ],
   "source": [
    "model1 = CNN_classifier(vocab_size=len(token_index)+1 , list_size = [2])\n",
    "train(model1 , 30 , lr=0.1 , X_train =X_train ,y_train = y_train , X_dev = X_dev , y_dev = y_dev)\n"
   ]
  },
  {
   "cell_type": "code",
   "execution_count": 102,
   "metadata": {},
   "outputs": [],
   "source": [
    "def train(model , epochs, lr ,X_train ,y_train , X_dev , y_dev , optimizer =\"SGD\"):\n",
    "    \n",
    "    #defining various types of optimizer\n",
    "    if (optimizer==\"SGD\"):\n",
    "        optimizer = torch.optim.SGD(params=model.parameters(), lr =lr, weight_decay=1e-4)   \n",
    "    if (optimizer== \"AdaDelta\"):\n",
    "        optimizer = torch.optim.Adadelta(params=model.parameters(), lr=1.0, rho=0.9, eps=1e-06, weight_decay=0)\n",
    "        \n",
    "        \n",
    "    #variables to see the progression\n",
    "    mean_loss_train = []\n",
    "    mean_loss_dev = []\n",
    "    acc_train = []\n",
    "    acc_dev = []\n",
    "    \n",
    "    \n",
    "    #passe le modele en mode training\n",
    "    model.train()\n",
    "    \n",
    "    for i in range(epochs):\n",
    "        #defining parameters to print the evolution of the NN\n",
    "        accuracy = 0\n",
    "        mean_loss = 0\n",
    "        \n",
    "        #shuffle to reduce overfitting\n",
    "#         c = list(zip(X_train, y_train))\n",
    "#         random.shuffle(c)\n",
    "#         X_train, y_train = zip(*c)\n",
    "        \n",
    "        for sent,label in zip(X_train , y_train):\n",
    "            if (len(sent)<2):\n",
    "                print(sent)\n",
    "                break\n",
    "            # zero the parameter gradients\n",
    "            optimizer.zero_grad()\n",
    "            \n",
    "            #creating the tensors for inputs\n",
    "            data = torch.LongTensor([token_index.str_to_id(word) for word in sent])\n",
    "            label = torch.Tensor([label])\n",
    "            \n",
    "            #prediction and loss\n",
    "            pred = model(data)\n",
    "            output = loss(pred , label)\n",
    "            mean_loss+=output.item()\n",
    "            \n",
    "            #backward and updates\n",
    "            output.backward()\n",
    "            optimizer.step()\n",
    "\n",
    "            #computing accuracy\n",
    "            if (pred >= 0.5 and label==1):\n",
    "                accuracy += 1\n",
    "            if(pred<0.5 and label==0):\n",
    "                accuracy += 1\n",
    "            \n",
    "        mean_loss_train.append(mean_loss/len(X_train))\n",
    "        acc_train.append(accuracy/len(X_train))\n",
    "        \n",
    "        print(\"EPOCH\" , str(i+1) ,\"On training : Mean Loss :\" , mean_loss/len(X_train) , \"Accuracy :\" ,accuracy/len(X_train))\n",
    "\n",
    "\n",
    "        mean_loss = 0\n",
    "        accuracy = 0\n",
    "        \n",
    "        ###testing on dev data#########\n",
    "        for sent,label in zip(X_dev,y_dev):\n",
    "            data = torch.LongTensor([token_index.str_to_id(word) for word in sent])\n",
    "            label = torch.Tensor([label])\n",
    "            \n",
    "            #prediction and loss\n",
    "            pred = model(data)\n",
    "            output = loss(pred , label)\n",
    "            \n",
    "            mean_loss+=output.item()\n",
    "            \n",
    "            \n",
    "            #computing accuracy\n",
    "            if (pred >= 0.5 and label==1):\n",
    "                accuracy += 1\n",
    "            if(pred<0.5 and label==0):\n",
    "                accuracy += 1\n",
    "            \n",
    "        print(\"EPOCH\" , str(i+1) ,\"On Dev  :Mean Loss :\" , mean_loss/len(X_dev) , \"Accuracy :\" ,accuracy/len(X_dev))\n",
    "        print()\n",
    "\n",
    "        mean_loss_dev.append(mean_loss/len(X_dev))\n",
    "        acc_dev.append(accuracy/len(X_dev))\n",
    "          \n",
    "            \n",
    "            \n",
    "    #Plotting loss accuracy for  test and train\n",
    "    plt.plot(acc_train , label='Train')\n",
    "    plt.plot(acc_dev, label=\"Dev\")\n",
    "    plt.title(\"Accuracy\")\n",
    "    plt.legend()\n",
    "    plt.figure()\n",
    "    \n",
    "    plt.plot(mean_loss_train , label='Train')\n",
    "    plt.plot(mean_loss_dev, label=\"Dev\")\n",
    "    plt.title(\"Loss\")\n",
    "    plt.legend()\n",
    "    plt.figure()\n"
   ]
  },
  {
   "cell_type": "code",
   "execution_count": 55,
   "metadata": {},
   "outputs": [
    {
     "name": "stdout",
     "output_type": "stream",
     "text": [
      "4\n",
      "tensor([[-9.0346e-01, -5.5414e-01,  6.4023e-01, -2.6418e-02, -2.1905e+00,\n",
      "         -1.7321e-01,  3.1998e-01, -3.8470e-01,  3.1029e-01,  7.9852e-01],\n",
      "        [ 1.0658e+00, -4.3103e-01,  9.7818e-02, -7.1422e-01, -9.5478e-01,\n",
      "          2.0341e-03,  7.0074e-01,  8.0139e-01,  3.8759e-01,  1.0941e+00],\n",
      "        [-6.3004e-01, -7.5904e-01,  4.8173e-01,  7.5083e-01, -8.4584e-01,\n",
      "          1.3940e+00, -1.8710e+00,  1.2465e+00, -1.4689e+00,  7.0888e-01],\n",
      "        [-2.4937e+00,  5.6741e-01, -1.2900e+00, -3.7251e-02, -6.8189e-01,\n",
      "          2.7397e-02, -4.8320e-01, -4.7732e-01,  3.2251e-02,  7.4320e-01]],\n",
      "       grad_fn=<EmbeddingBackward>)\n"
     ]
    },
    {
     "ename": "RuntimeError",
     "evalue": "size mismatch, m1: [1 x 20], m2: [10 x 1] at /opt/conda/conda-bld/pytorch_1556653114079/work/aten/src/TH/generic/THTensorMath.cpp:961",
     "output_type": "error",
     "traceback": [
      "\u001b[0;31m---------------------------------------------------------------------------\u001b[0m",
      "\u001b[0;31mRuntimeError\u001b[0m                              Traceback (most recent call last)",
      "\u001b[0;32m<ipython-input-55-c3bc0521d69c>\u001b[0m in \u001b[0;36m<module>\u001b[0;34m\u001b[0m\n\u001b[0;32m----> 1\u001b[0;31m \u001b[0mtrain\u001b[0m\u001b[0;34m(\u001b[0m\u001b[0mmodel1\u001b[0m \u001b[0;34m,\u001b[0m \u001b[0;36m30\u001b[0m \u001b[0;34m,\u001b[0m \u001b[0mlr\u001b[0m\u001b[0;34m=\u001b[0m\u001b[0;36m0.1\u001b[0m \u001b[0;34m,\u001b[0m \u001b[0mX_train\u001b[0m \u001b[0;34m=\u001b[0m\u001b[0mX_train\u001b[0m \u001b[0;34m,\u001b[0m\u001b[0my_train\u001b[0m \u001b[0;34m=\u001b[0m \u001b[0my_train\u001b[0m \u001b[0;34m,\u001b[0m \u001b[0mX_dev\u001b[0m \u001b[0;34m=\u001b[0m \u001b[0mX_dev\u001b[0m \u001b[0;34m,\u001b[0m \u001b[0my_dev\u001b[0m \u001b[0;34m=\u001b[0m \u001b[0my_dev\u001b[0m\u001b[0;34m)\u001b[0m\u001b[0;34m\u001b[0m\u001b[0;34m\u001b[0m\u001b[0m\n\u001b[0m",
      "\u001b[0;32m<ipython-input-54-dd7aea5e01d3>\u001b[0m in \u001b[0;36mtrain\u001b[0;34m(model, epochs, lr, X_train, y_train, X_dev, y_dev, optimizer)\u001b[0m\n\u001b[1;32m     38\u001b[0m \u001b[0;34m\u001b[0m\u001b[0m\n\u001b[1;32m     39\u001b[0m             \u001b[0;31m#prediction and loss\u001b[0m\u001b[0;34m\u001b[0m\u001b[0;34m\u001b[0m\u001b[0;34m\u001b[0m\u001b[0m\n\u001b[0;32m---> 40\u001b[0;31m             \u001b[0mpred\u001b[0m \u001b[0;34m=\u001b[0m \u001b[0mmodel\u001b[0m\u001b[0;34m(\u001b[0m\u001b[0mdata\u001b[0m\u001b[0;34m)\u001b[0m\u001b[0;34m\u001b[0m\u001b[0;34m\u001b[0m\u001b[0m\n\u001b[0m\u001b[1;32m     41\u001b[0m             \u001b[0moutput\u001b[0m \u001b[0;34m=\u001b[0m \u001b[0mloss\u001b[0m\u001b[0;34m(\u001b[0m\u001b[0mpred\u001b[0m \u001b[0;34m,\u001b[0m \u001b[0mlabel\u001b[0m\u001b[0;34m)\u001b[0m\u001b[0;34m\u001b[0m\u001b[0;34m\u001b[0m\u001b[0m\n\u001b[1;32m     42\u001b[0m             \u001b[0mmean_loss\u001b[0m\u001b[0;34m+=\u001b[0m\u001b[0moutput\u001b[0m\u001b[0;34m.\u001b[0m\u001b[0mitem\u001b[0m\u001b[0;34m(\u001b[0m\u001b[0;34m)\u001b[0m\u001b[0;34m\u001b[0m\u001b[0;34m\u001b[0m\u001b[0m\n",
      "\u001b[0;32m/opt/anaconda3/lib/python3.7/site-packages/torch/nn/modules/module.py\u001b[0m in \u001b[0;36m__call__\u001b[0;34m(self, *input, **kwargs)\u001b[0m\n\u001b[1;32m    491\u001b[0m             \u001b[0mresult\u001b[0m \u001b[0;34m=\u001b[0m \u001b[0mself\u001b[0m\u001b[0;34m.\u001b[0m\u001b[0m_slow_forward\u001b[0m\u001b[0;34m(\u001b[0m\u001b[0;34m*\u001b[0m\u001b[0minput\u001b[0m\u001b[0;34m,\u001b[0m \u001b[0;34m**\u001b[0m\u001b[0mkwargs\u001b[0m\u001b[0;34m)\u001b[0m\u001b[0;34m\u001b[0m\u001b[0;34m\u001b[0m\u001b[0m\n\u001b[1;32m    492\u001b[0m         \u001b[0;32melse\u001b[0m\u001b[0;34m:\u001b[0m\u001b[0;34m\u001b[0m\u001b[0;34m\u001b[0m\u001b[0m\n\u001b[0;32m--> 493\u001b[0;31m             \u001b[0mresult\u001b[0m \u001b[0;34m=\u001b[0m \u001b[0mself\u001b[0m\u001b[0;34m.\u001b[0m\u001b[0mforward\u001b[0m\u001b[0;34m(\u001b[0m\u001b[0;34m*\u001b[0m\u001b[0minput\u001b[0m\u001b[0;34m,\u001b[0m \u001b[0;34m**\u001b[0m\u001b[0mkwargs\u001b[0m\u001b[0;34m)\u001b[0m\u001b[0;34m\u001b[0m\u001b[0;34m\u001b[0m\u001b[0m\n\u001b[0m\u001b[1;32m    494\u001b[0m         \u001b[0;32mfor\u001b[0m \u001b[0mhook\u001b[0m \u001b[0;32min\u001b[0m \u001b[0mself\u001b[0m\u001b[0;34m.\u001b[0m\u001b[0m_forward_hooks\u001b[0m\u001b[0;34m.\u001b[0m\u001b[0mvalues\u001b[0m\u001b[0;34m(\u001b[0m\u001b[0;34m)\u001b[0m\u001b[0;34m:\u001b[0m\u001b[0;34m\u001b[0m\u001b[0;34m\u001b[0m\u001b[0m\n\u001b[1;32m    495\u001b[0m             \u001b[0mhook_result\u001b[0m \u001b[0;34m=\u001b[0m \u001b[0mhook\u001b[0m\u001b[0;34m(\u001b[0m\u001b[0mself\u001b[0m\u001b[0;34m,\u001b[0m \u001b[0minput\u001b[0m\u001b[0;34m,\u001b[0m \u001b[0mresult\u001b[0m\u001b[0;34m)\u001b[0m\u001b[0;34m\u001b[0m\u001b[0;34m\u001b[0m\u001b[0m\n",
      "\u001b[0;32m<ipython-input-51-45aea977cc9a>\u001b[0m in \u001b[0;36mforward\u001b[0;34m(self, inputs)\u001b[0m\n\u001b[1;32m     22\u001b[0m         \u001b[0;32mfor\u001b[0m \u001b[0mi\u001b[0m \u001b[0;32min\u001b[0m \u001b[0mrange\u001b[0m\u001b[0;34m(\u001b[0m\u001b[0;36m1\u001b[0m\u001b[0;34m,\u001b[0m \u001b[0mx\u001b[0m\u001b[0;34m.\u001b[0m\u001b[0mshape\u001b[0m\u001b[0;34m[\u001b[0m\u001b[0;36m0\u001b[0m\u001b[0;34m]\u001b[0m\u001b[0;34m)\u001b[0m\u001b[0;34m:\u001b[0m\u001b[0;34m\u001b[0m\u001b[0;34m\u001b[0m\u001b[0m\n\u001b[1;32m     23\u001b[0m             \u001b[0mconv_1\u001b[0m \u001b[0;34m=\u001b[0m \u001b[0mtorch\u001b[0m\u001b[0;34m.\u001b[0m\u001b[0mcat\u001b[0m\u001b[0;34m(\u001b[0m\u001b[0;34m(\u001b[0m\u001b[0mx\u001b[0m\u001b[0;34m[\u001b[0m\u001b[0mi\u001b[0m\u001b[0;34m]\u001b[0m \u001b[0;34m,\u001b[0m\u001b[0mx\u001b[0m\u001b[0;34m[\u001b[0m\u001b[0mi\u001b[0m\u001b[0;34m-\u001b[0m\u001b[0;36m1\u001b[0m\u001b[0;34m]\u001b[0m\u001b[0;34m)\u001b[0m\u001b[0;34m,\u001b[0m\u001b[0;36m0\u001b[0m\u001b[0;34m)\u001b[0m\u001b[0;34m\u001b[0m\u001b[0;34m\u001b[0m\u001b[0m\n\u001b[0;32m---> 24\u001b[0;31m             \u001b[0moutput\u001b[0m\u001b[0;34m.\u001b[0m\u001b[0mappend\u001b[0m\u001b[0;34m(\u001b[0m\u001b[0mself\u001b[0m\u001b[0;34m.\u001b[0m\u001b[0mconv\u001b[0m\u001b[0;34m(\u001b[0m\u001b[0mconv_1\u001b[0m\u001b[0;34m)\u001b[0m\u001b[0;34m)\u001b[0m\u001b[0;34m\u001b[0m\u001b[0;34m\u001b[0m\u001b[0m\n\u001b[0m\u001b[1;32m     25\u001b[0m \u001b[0;34m\u001b[0m\u001b[0m\n\u001b[1;32m     26\u001b[0m         \u001b[0;32mreturn\u001b[0m\u001b[0;34m(\u001b[0m\u001b[0moutput\u001b[0m\u001b[0;34m)\u001b[0m\u001b[0;34m\u001b[0m\u001b[0;34m\u001b[0m\u001b[0m\n",
      "\u001b[0;32m/opt/anaconda3/lib/python3.7/site-packages/torch/nn/modules/module.py\u001b[0m in \u001b[0;36m__call__\u001b[0;34m(self, *input, **kwargs)\u001b[0m\n\u001b[1;32m    491\u001b[0m             \u001b[0mresult\u001b[0m \u001b[0;34m=\u001b[0m \u001b[0mself\u001b[0m\u001b[0;34m.\u001b[0m\u001b[0m_slow_forward\u001b[0m\u001b[0;34m(\u001b[0m\u001b[0;34m*\u001b[0m\u001b[0minput\u001b[0m\u001b[0;34m,\u001b[0m \u001b[0;34m**\u001b[0m\u001b[0mkwargs\u001b[0m\u001b[0;34m)\u001b[0m\u001b[0;34m\u001b[0m\u001b[0;34m\u001b[0m\u001b[0m\n\u001b[1;32m    492\u001b[0m         \u001b[0;32melse\u001b[0m\u001b[0;34m:\u001b[0m\u001b[0;34m\u001b[0m\u001b[0;34m\u001b[0m\u001b[0m\n\u001b[0;32m--> 493\u001b[0;31m             \u001b[0mresult\u001b[0m \u001b[0;34m=\u001b[0m \u001b[0mself\u001b[0m\u001b[0;34m.\u001b[0m\u001b[0mforward\u001b[0m\u001b[0;34m(\u001b[0m\u001b[0;34m*\u001b[0m\u001b[0minput\u001b[0m\u001b[0;34m,\u001b[0m \u001b[0;34m**\u001b[0m\u001b[0mkwargs\u001b[0m\u001b[0;34m)\u001b[0m\u001b[0;34m\u001b[0m\u001b[0;34m\u001b[0m\u001b[0m\n\u001b[0m\u001b[1;32m    494\u001b[0m         \u001b[0;32mfor\u001b[0m \u001b[0mhook\u001b[0m \u001b[0;32min\u001b[0m \u001b[0mself\u001b[0m\u001b[0;34m.\u001b[0m\u001b[0m_forward_hooks\u001b[0m\u001b[0;34m.\u001b[0m\u001b[0mvalues\u001b[0m\u001b[0;34m(\u001b[0m\u001b[0;34m)\u001b[0m\u001b[0;34m:\u001b[0m\u001b[0;34m\u001b[0m\u001b[0;34m\u001b[0m\u001b[0m\n\u001b[1;32m    495\u001b[0m             \u001b[0mhook_result\u001b[0m \u001b[0;34m=\u001b[0m \u001b[0mhook\u001b[0m\u001b[0;34m(\u001b[0m\u001b[0mself\u001b[0m\u001b[0;34m,\u001b[0m \u001b[0minput\u001b[0m\u001b[0;34m,\u001b[0m \u001b[0mresult\u001b[0m\u001b[0;34m)\u001b[0m\u001b[0;34m\u001b[0m\u001b[0;34m\u001b[0m\u001b[0m\n",
      "\u001b[0;32m/opt/anaconda3/lib/python3.7/site-packages/torch/nn/modules/linear.py\u001b[0m in \u001b[0;36mforward\u001b[0;34m(self, input)\u001b[0m\n\u001b[1;32m     90\u001b[0m     \u001b[0;34m@\u001b[0m\u001b[0mweak_script_method\u001b[0m\u001b[0;34m\u001b[0m\u001b[0;34m\u001b[0m\u001b[0m\n\u001b[1;32m     91\u001b[0m     \u001b[0;32mdef\u001b[0m \u001b[0mforward\u001b[0m\u001b[0;34m(\u001b[0m\u001b[0mself\u001b[0m\u001b[0;34m,\u001b[0m \u001b[0minput\u001b[0m\u001b[0;34m)\u001b[0m\u001b[0;34m:\u001b[0m\u001b[0;34m\u001b[0m\u001b[0;34m\u001b[0m\u001b[0m\n\u001b[0;32m---> 92\u001b[0;31m         \u001b[0;32mreturn\u001b[0m \u001b[0mF\u001b[0m\u001b[0;34m.\u001b[0m\u001b[0mlinear\u001b[0m\u001b[0;34m(\u001b[0m\u001b[0minput\u001b[0m\u001b[0;34m,\u001b[0m \u001b[0mself\u001b[0m\u001b[0;34m.\u001b[0m\u001b[0mweight\u001b[0m\u001b[0;34m,\u001b[0m \u001b[0mself\u001b[0m\u001b[0;34m.\u001b[0m\u001b[0mbias\u001b[0m\u001b[0;34m)\u001b[0m\u001b[0;34m\u001b[0m\u001b[0;34m\u001b[0m\u001b[0m\n\u001b[0m\u001b[1;32m     93\u001b[0m \u001b[0;34m\u001b[0m\u001b[0m\n\u001b[1;32m     94\u001b[0m     \u001b[0;32mdef\u001b[0m \u001b[0mextra_repr\u001b[0m\u001b[0;34m(\u001b[0m\u001b[0mself\u001b[0m\u001b[0;34m)\u001b[0m\u001b[0;34m:\u001b[0m\u001b[0;34m\u001b[0m\u001b[0;34m\u001b[0m\u001b[0m\n",
      "\u001b[0;32m/opt/anaconda3/lib/python3.7/site-packages/torch/nn/functional.py\u001b[0m in \u001b[0;36mlinear\u001b[0;34m(input, weight, bias)\u001b[0m\n\u001b[1;32m   1406\u001b[0m         \u001b[0mret\u001b[0m \u001b[0;34m=\u001b[0m \u001b[0mtorch\u001b[0m\u001b[0;34m.\u001b[0m\u001b[0maddmm\u001b[0m\u001b[0;34m(\u001b[0m\u001b[0mbias\u001b[0m\u001b[0;34m,\u001b[0m \u001b[0minput\u001b[0m\u001b[0;34m,\u001b[0m \u001b[0mweight\u001b[0m\u001b[0;34m.\u001b[0m\u001b[0mt\u001b[0m\u001b[0;34m(\u001b[0m\u001b[0;34m)\u001b[0m\u001b[0;34m)\u001b[0m\u001b[0;34m\u001b[0m\u001b[0;34m\u001b[0m\u001b[0m\n\u001b[1;32m   1407\u001b[0m     \u001b[0;32melse\u001b[0m\u001b[0;34m:\u001b[0m\u001b[0;34m\u001b[0m\u001b[0;34m\u001b[0m\u001b[0m\n\u001b[0;32m-> 1408\u001b[0;31m         \u001b[0moutput\u001b[0m \u001b[0;34m=\u001b[0m \u001b[0minput\u001b[0m\u001b[0;34m.\u001b[0m\u001b[0mmatmul\u001b[0m\u001b[0;34m(\u001b[0m\u001b[0mweight\u001b[0m\u001b[0;34m.\u001b[0m\u001b[0mt\u001b[0m\u001b[0;34m(\u001b[0m\u001b[0;34m)\u001b[0m\u001b[0;34m)\u001b[0m\u001b[0;34m\u001b[0m\u001b[0;34m\u001b[0m\u001b[0m\n\u001b[0m\u001b[1;32m   1409\u001b[0m         \u001b[0;32mif\u001b[0m \u001b[0mbias\u001b[0m \u001b[0;32mis\u001b[0m \u001b[0;32mnot\u001b[0m \u001b[0;32mNone\u001b[0m\u001b[0;34m:\u001b[0m\u001b[0;34m\u001b[0m\u001b[0;34m\u001b[0m\u001b[0m\n\u001b[1;32m   1410\u001b[0m             \u001b[0moutput\u001b[0m \u001b[0;34m+=\u001b[0m \u001b[0mbias\u001b[0m\u001b[0;34m\u001b[0m\u001b[0;34m\u001b[0m\u001b[0m\n",
      "\u001b[0;31mRuntimeError\u001b[0m: size mismatch, m1: [1 x 20], m2: [10 x 1] at /opt/conda/conda-bld/pytorch_1556653114079/work/aten/src/TH/generic/THTensorMath.cpp:961"
     ]
    }
   ],
   "source": [
    "train(model1 , 30 , lr=0.1 , X_train =X_train ,y_train = y_train , X_dev = X_dev , y_dev = y_dev)"
   ]
  },
  {
   "cell_type": "code",
   "execution_count": 38,
   "metadata": {},
   "outputs": [],
   "source": [
    "model2 = CBOW_classifier(vocab_size=len(token_index)+1)"
   ]
  },
  {
   "cell_type": "code",
   "execution_count": 39,
   "metadata": {
    "scrolled": false
   },
   "outputs": [
    {
     "name": "stdout",
     "output_type": "stream",
     "text": [
      "EPOCH 1 On training : Mean Loss : 0.7382567610431495 Accuracy : 0.6495061728395062\n",
      "EPOCH 1 On Dev  :Mean Loss : 0.6204582577195523 Accuracy : 0.6977777777777778\n",
      "\n",
      "EPOCH 2 On training : Mean Loss : 0.6001503675878539 Accuracy : 0.7148148148148148\n",
      "EPOCH 2 On Dev  :Mean Loss : 0.6234454339840664 Accuracy : 0.71\n",
      "\n",
      "EPOCH 3 On training : Mean Loss : 0.5701704206785936 Accuracy : 0.7307407407407407\n",
      "EPOCH 3 On Dev  :Mean Loss : 0.6177776648815567 Accuracy : 0.7122222222222222\n",
      "\n",
      "EPOCH 4 On training : Mean Loss : 0.5508241957312033 Accuracy : 0.7498765432098765\n",
      "EPOCH 4 On Dev  :Mean Loss : 0.6259880798831373 Accuracy : 0.7366666666666667\n",
      "\n",
      "EPOCH 5 On training : Mean Loss : 0.530108997617185 Accuracy : 0.7579012345679013\n",
      "EPOCH 5 On Dev  :Mean Loss : 0.6003393044107055 Accuracy : 0.7255555555555555\n",
      "\n",
      "EPOCH 6 On training : Mean Loss : 0.5228289089493381 Accuracy : 0.7691358024691358\n",
      "EPOCH 6 On Dev  :Mean Loss : 0.5729941714462772 Accuracy : 0.73\n",
      "\n",
      "EPOCH 7 On training : Mean Loss : 0.5112844596480282 Accuracy : 0.7762962962962963\n",
      "EPOCH 7 On Dev  :Mean Loss : 0.5717116141713836 Accuracy : 0.74\n",
      "\n",
      "EPOCH 8 On training : Mean Loss : 0.5024281067185151 Accuracy : 0.7859259259259259\n",
      "EPOCH 8 On Dev  :Mean Loss : 0.5632445335147674 Accuracy : 0.7322222222222222\n",
      "\n",
      "EPOCH 9 On training : Mean Loss : 0.48841170806996503 Accuracy : 0.785679012345679\n",
      "EPOCH 9 On Dev  :Mean Loss : 0.5657855934436247 Accuracy : 0.7477777777777778\n",
      "\n",
      "EPOCH 10 On training : Mean Loss : 0.48331887798691414 Accuracy : 0.7946913580246914\n",
      "EPOCH 10 On Dev  :Mean Loss : 0.5484193479722503 Accuracy : 0.7566666666666667\n",
      "\n"
     ]
    },
    {
     "data": {
      "image/png": "[encoded data removed]",
      "text/plain": [
       "<Figure size 432x288 with 1 Axes>"
      ]
     },
     "metadata": {
      "needs_background": "light"
     },
     "output_type": "display_data"
    },
    {
     "data": {
      "image/png": "[encoded data removed]",
      "text/plain": [
       "<Figure size 432x288 with 1 Axes>"
      ]
     },
     "metadata": {
      "needs_background": "light"
     },
     "output_type": "display_data"
    },
    {
     "data": {
      "text/plain": [
       "<Figure size 432x288 with 0 Axes>"
      ]
     },
     "metadata": {},
     "output_type": "display_data"
    }
   ],
   "source": [
    "train(model2 , 10 , lr=0.01 , X_train =X_train ,y_train = y_train , X_dev = X_dev , y_dev = y_dev ,optimizer=\"AdaDelta\")"
   ]
  },
  {
   "cell_type": "code",
   "execution_count": 64,
   "metadata": {},
   "outputs": [
    {
     "name": "stdout",
     "output_type": "stream",
     "text": [
      "Accuracy on test set for model 1 is 0.765\n"
     ]
    }
   ],
   "source": [
    "##test on test data with the two different models\n",
    "mean_loss = 0\n",
    "accuracy = 0\n",
    "        \n",
    "###testing on dev data#########\n",
    "for sent,label in zip(X_test,y_test):\n",
    "    data = torch.LongTensor([token_index.str_to_id(word) for word in sent])\n",
    "    label = torch.Tensor([label])\n",
    "            \n",
    "    #prediction and loss\n",
    "    pred = model1(data)\n",
    "    output = loss(pred , label)\n",
    "    mean_loss+=output.item()\n",
    "                        \n",
    "            \n",
    "    #computing accuracy\n",
    "    if (pred >= 0.5 and label==1):\n",
    "        accuracy += 1\n",
    "    if(pred<0.5 and label==0):\n",
    "        accuracy += 1\n",
    "            \n",
    "print(\"Accuracy on test set for model 1 is\" , accuracy/len(X_test))\n",
    "            "
   ]
  },
  {
   "cell_type": "code",
   "execution_count": 65,
   "metadata": {},
   "outputs": [
    {
     "name": "stdout",
     "output_type": "stream",
     "text": [
      "Accuracy on test set for model 2 is 0.762\n"
     ]
    }
   ],
   "source": [
    "##test on test data with the two different models\n",
    "mean_loss = 0\n",
    "accuracy = 0\n",
    "        \n",
    "###testing on dev data#########\n",
    "for sent,label in zip(X_test,y_test):\n",
    "    data = torch.LongTensor([token_index.str_to_id(word) for word in sent])\n",
    "    label = torch.Tensor([label])\n",
    "            \n",
    "    #prediction and loss\n",
    "    pred = model2(data)\n",
    "    output = loss(pred , label)\n",
    "    mean_loss+=output.item()\n",
    "                        \n",
    "            \n",
    "    #computing accuracy\n",
    "    if (pred >= 0.5 and label==1):\n",
    "        accuracy += 1\n",
    "    if(pred<0.5 and label==0):\n",
    "        accuracy += 1\n",
    "            \n",
    "print(\"Accuracy on test set for model 2 is\" , accuracy/len(X_test))\n",
    "            "
   ]
  },
  {
   "cell_type": "markdown",
   "metadata": {},
   "source": [
    "# ONE HIDDEN LAYER"
   ]
  },
  {
   "cell_type": "code",
   "execution_count": 27,
   "metadata": {},
   "outputs": [],
   "source": [
    "def train_adaptive_lr(model , epochs, lr ,X_train ,y_train , X_dev , y_dev , optimizer =\"SGD\"):\n",
    "    \n",
    "    #defining various types of optimizer\n",
    "    if (optimizer==\"SGD\"):\n",
    "        optimizer = torch.optim.SGD(params=model.parameters(), lr =lr, weight_decay=1e-4)   \n",
    "    if (optimizer== \"AdaDelta\"):\n",
    "        optimizer = torch.optim.Adadelta(params=model.parameters(), lr=1.0, rho=0.9, eps=1e-06, weight_decay=0)\n",
    "        \n",
    "        \n",
    "    #variables to see the progression\n",
    "    mean_loss_train = []\n",
    "    mean_loss_dev = []\n",
    "    acc_train = []\n",
    "    acc_dev = []\n",
    "    \n",
    "    \n",
    "    #passe le modele en mode training\n",
    "    model.train()\n",
    "    \n",
    "    for i in range(epochs):\n",
    "        \n",
    "        \n",
    "        if((i+1)%5 == 0):\n",
    "            for g in optimizer.param_groups:\n",
    "                g['lr'] = g['lr']*0.1\n",
    "                \n",
    "                \n",
    "        #defining parameters to print the evolution of the NN\n",
    "        accuracy = 0\n",
    "        mean_loss = 0\n",
    "        \n",
    "        #shuffle to reduce overfitting\n",
    "        c = list(zip(X_train, y_train))\n",
    "        random.shuffle(c)\n",
    "        X_train, y_train = zip(*c)\n",
    "        \n",
    "        for sent,label in zip(X_train , y_train):\n",
    "            \n",
    "            # zero the parameter gradients\n",
    "            optimizer.zero_grad()\n",
    "            \n",
    "            #creating the tensors for inputs\n",
    "            data = torch.LongTensor([token_index.str_to_id(word) for word in sent])\n",
    "            label = torch.Tensor([label])\n",
    "            \n",
    "            #prediction and loss\n",
    "            pred = model(data)\n",
    "            output = loss(pred , label)\n",
    "            mean_loss+=output.item()\n",
    "            \n",
    "            #backward and updates\n",
    "            output.backward()\n",
    "            optimizer.step()\n",
    "\n",
    "            #computing accuracy\n",
    "            if (pred >= 0.5 and label==1):\n",
    "                accuracy += 1\n",
    "            if(pred<0.5 and label==0):\n",
    "                accuracy += 1\n",
    "            \n",
    "        mean_loss_train.append(mean_loss/len(X_train))\n",
    "        acc_train.append(accuracy/len(X_train))\n",
    "        \n",
    "        print(\"EPOCH\" , str(i+1) ,\"On training : Mean Loss :\" , mean_loss/len(X_train) , \"Accuracy :\" ,accuracy/len(X_train))\n",
    "\n",
    "\n",
    "        mean_loss = 0\n",
    "        accuracy = 0\n",
    "        \n",
    "        ###testing on dev data#########\n",
    "        for sent,label in zip(X_dev,y_dev):\n",
    "            data = torch.LongTensor([token_index.str_to_id(word) for word in sent])\n",
    "            label = torch.Tensor([label])\n",
    "            \n",
    "            #prediction and loss\n",
    "            pred = model(data)\n",
    "            output = loss(pred , label)\n",
    "            \n",
    "            mean_loss+=output.item()\n",
    "            \n",
    "            \n",
    "            #computing accuracy\n",
    "            if (pred >= 0.5 and label==1):\n",
    "                accuracy += 1\n",
    "            if(pred<0.5 and label==0):\n",
    "                accuracy += 1\n",
    "            \n",
    "        print(\"EPOCH\" , str(i+1) ,\"On Dev  :Mean Loss :\" , mean_loss/len(X_dev) , \"Accuracy :\" ,accuracy/len(X_dev))\n",
    "        print()\n",
    "\n",
    "        mean_loss_dev.append(mean_loss/len(X_dev))\n",
    "        acc_dev.append(accuracy/len(X_dev))\n",
    "          \n",
    "            \n",
    "            \n",
    "    #Plotting loss accuracy for  test and train\n",
    "    plt.plot(acc_train , label='Train')\n",
    "    plt.plot(acc_dev, label=\"Dev\")\n",
    "    plt.title(\"Accuracy\")\n",
    "    plt.legend()\n",
    "    plt.figure()\n",
    "    \n",
    "    plt.plot(mean_loss_train , label='Train')\n",
    "    plt.plot(mean_loss_dev, label=\"Dev\")\n",
    "    plt.title(\"Loss\")\n",
    "    plt.legend()\n",
    "    plt.figure()\n"
   ]
  },
  {
   "cell_type": "code",
   "execution_count": 28,
   "metadata": {},
   "outputs": [],
   "source": [
    "class CBOW_classifier_1_hidden(nn.Module):\n",
    "    def __init__(self, vocab_size , embedding_dim=100):\n",
    "        super(CBOW_classifier_1_hidden, self).__init__()\n",
    "        # To create an embedding table: https://pytorch.org/docs/stable/nn.html#torch.nn.Embedding\n",
    "        self.emb_db = torch.nn.Embedding(num_embeddings = vocab_size ,embedding_dim=embedding_dim)\n",
    "        \n",
    "        #1st hidden layer with 50 hidden unit\n",
    "        self.hidden1 = torch.nn.Linear(embedding_dim , 50)\n",
    "        #ouput layer\n",
    "        self.output = torch.nn.Linear(50,1)\n",
    "        \n",
    "        \n",
    "        #initialisation\n",
    "        torch.nn.init.xavier_uniform_(self.hidden1.weight.data)\n",
    "        torch.nn.init.zeros_(self.hidden1.bias.data)\n",
    "        \n",
    "        torch.nn.init.xavier_uniform_(self.output.weight.data)\n",
    "        torch.nn.init.zeros_(self.output.bias.data)\n",
    "        \n",
    "        \n",
    "    def forward(self, inputs):\n",
    "        \n",
    "        x = self.emb_db(inputs)\n",
    "        x = torch.sum(x ,dim=0)\n",
    "        x = F.tanh(self.hidden1(x))\n",
    "        \n",
    "        output = F.sigmoid(self.output(x))\n",
    "        \n",
    "        return(output)"
   ]
  },
  {
   "cell_type": "code",
   "execution_count": 29,
   "metadata": {},
   "outputs": [],
   "source": [
    "loss = torch.nn.BCELoss()"
   ]
  },
  {
   "cell_type": "code",
   "execution_count": 30,
   "metadata": {},
   "outputs": [],
   "source": [
    "model3 = CBOW_classifier_1_hidden(vocab_size=len(token_index)+1)"
   ]
  },
  {
   "cell_type": "code",
   "execution_count": 31,
   "metadata": {
    "scrolled": false
   },
   "outputs": [
    {
     "name": "stdout",
     "output_type": "stream",
     "text": [
      "EPOCH 1 On training : Mean Loss : 0.6560366177733665 Accuracy : 0.6244444444444445\n",
      "EPOCH 1 On Dev  :Mean Loss : 0.6201479340510236 Accuracy : 0.65\n",
      "\n",
      "EPOCH 2 On training : Mean Loss : 0.604496544185152 Accuracy : 0.6697530864197531\n",
      "EPOCH 2 On Dev  :Mean Loss : 0.5817369845012824 Accuracy : 0.6911111111111111\n",
      "\n",
      "EPOCH 3 On training : Mean Loss : 0.5694772482895074 Accuracy : 0.7002469135802469\n",
      "EPOCH 3 On Dev  :Mean Loss : 0.6035668305638764 Accuracy : 0.6711111111111111\n",
      "\n",
      "EPOCH 4 On training : Mean Loss : 0.5350390818757063 Accuracy : 0.7293827160493828\n",
      "EPOCH 4 On Dev  :Mean Loss : 0.5840530064339853 Accuracy : 0.6677777777777778\n",
      "\n",
      "EPOCH 5 On training : Mean Loss : 0.43808439328573806 Accuracy : 0.7976543209876543\n",
      "EPOCH 5 On Dev  :Mean Loss : 0.5691130119505234 Accuracy : 0.6844444444444444\n",
      "\n",
      "EPOCH 6 On training : Mean Loss : 0.4004128266149057 Accuracy : 0.8228395061728395\n",
      "EPOCH 6 On Dev  :Mean Loss : 0.5847315807208522 Accuracy : 0.6877777777777778\n",
      "\n",
      "EPOCH 7 On training : Mean Loss : 0.37489934075740167 Accuracy : 0.8406172839506173\n",
      "EPOCH 7 On Dev  :Mean Loss : 0.5978708841144624 Accuracy : 0.6833333333333333\n",
      "\n",
      "EPOCH 8 On training : Mean Loss : 0.35184368581276815 Accuracy : 0.8544444444444445\n",
      "EPOCH 8 On Dev  :Mean Loss : 0.6087209288865173 Accuracy : 0.6888888888888889\n",
      "\n",
      "EPOCH 9 On training : Mean Loss : 0.3323328946121102 Accuracy : 0.8669135802469136\n",
      "EPOCH 9 On Dev  :Mean Loss : 0.620871112320391 Accuracy : 0.6877777777777778\n",
      "\n",
      "EPOCH 10 On training : Mean Loss : 0.3025550211974697 Accuracy : 0.8880246913580246\n",
      "EPOCH 10 On Dev  :Mean Loss : 0.6218707986389442 Accuracy : 0.6888888888888889\n",
      "\n",
      "EPOCH 11 On training : Mean Loss : 0.2996436138310467 Accuracy : 0.8896296296296297\n",
      "EPOCH 11 On Dev  :Mean Loss : 0.6237147630495666 Accuracy : 0.69\n",
      "\n",
      "EPOCH 12 On training : Mean Loss : 0.29714322364634516 Accuracy : 0.8911111111111111\n",
      "EPOCH 12 On Dev  :Mean Loss : 0.6255161975368133 Accuracy : 0.6888888888888889\n",
      "\n",
      "EPOCH 13 On training : Mean Loss : 0.29491663136916524 Accuracy : 0.8928395061728395\n",
      "EPOCH 13 On Dev  :Mean Loss : 0.6270781616617589 Accuracy : 0.6855555555555556\n",
      "\n",
      "EPOCH 14 On training : Mean Loss : 0.2926957986018794 Accuracy : 0.894320987654321\n",
      "EPOCH 14 On Dev  :Mean Loss : 0.6295956209522491 Accuracy : 0.6855555555555556\n",
      "\n",
      "EPOCH 15 On training : Mean Loss : 0.2893264299751486 Accuracy : 0.8962962962962963\n",
      "EPOCH 15 On Dev  :Mean Loss : 0.6296967271814355 Accuracy : 0.6866666666666666\n",
      "\n",
      "EPOCH 16 On training : Mean Loss : 0.2891081197757632 Accuracy : 0.8965432098765432\n",
      "EPOCH 16 On Dev  :Mean Loss : 0.6298060156611933 Accuracy : 0.6855555555555556\n",
      "\n",
      "EPOCH 17 On training : Mean Loss : 0.28889313891261637 Accuracy : 0.8964197530864197\n",
      "EPOCH 17 On Dev  :Mean Loss : 0.6299258067264196 Accuracy : 0.6855555555555556\n",
      "\n",
      "EPOCH 18 On training : Mean Loss : 0.2886790917214562 Accuracy : 0.8974074074074074\n",
      "EPOCH 18 On Dev  :Mean Loss : 0.6300577099501 Accuracy : 0.6844444444444444\n",
      "\n",
      "EPOCH 19 On training : Mean Loss : 0.2884664941689429 Accuracy : 0.8971604938271605\n",
      "EPOCH 19 On Dev  :Mean Loss : 0.6301964422114219 Accuracy : 0.6844444444444444\n",
      "\n",
      "EPOCH 20 On training : Mean Loss : 0.2881189002018719 Accuracy : 0.8971604938271605\n",
      "EPOCH 20 On Dev  :Mean Loss : 0.6302105175234869 Accuracy : 0.6844444444444444\n",
      "\n",
      "EPOCH 21 On training : Mean Loss : 0.2880980513072544 Accuracy : 0.8971604938271605\n",
      "EPOCH 21 On Dev  :Mean Loss : 0.6302247264014376 Accuracy : 0.6844444444444444\n",
      "\n",
      "EPOCH 22 On training : Mean Loss : 0.28807711009529025 Accuracy : 0.8971604938271605\n",
      "EPOCH 22 On Dev  :Mean Loss : 0.6302390147635661 Accuracy : 0.6844444444444444\n",
      "\n",
      "EPOCH 23 On training : Mean Loss : 0.28805622466473896 Accuracy : 0.8971604938271605\n",
      "EPOCH 23 On Dev  :Mean Loss : 0.6302532319586155 Accuracy : 0.6844444444444444\n",
      "\n",
      "EPOCH 24 On training : Mean Loss : 0.2880353492009723 Accuracy : 0.8974074074074074\n",
      "EPOCH 24 On Dev  :Mean Loss : 0.6302674733957327 Accuracy : 0.6844444444444444\n",
      "\n",
      "EPOCH 25 On training : Mean Loss : 0.288001038529788 Accuracy : 0.8974074074074074\n",
      "EPOCH 25 On Dev  :Mean Loss : 0.6302672687407661 Accuracy : 0.6844444444444444\n",
      "\n",
      "EPOCH 26 On training : Mean Loss : 0.28799978595533493 Accuracy : 0.8974074074074074\n",
      "EPOCH 26 On Dev  :Mean Loss : 0.6302670662707209 Accuracy : 0.6844444444444444\n",
      "\n",
      "EPOCH 27 On training : Mean Loss : 0.28799835528346945 Accuracy : 0.8974074074074074\n",
      "EPOCH 27 On Dev  :Mean Loss : 0.6302668437037048 Accuracy : 0.6844444444444444\n",
      "\n",
      "EPOCH 28 On training : Mean Loss : 0.2879970146663326 Accuracy : 0.8974074074074074\n",
      "EPOCH 28 On Dev  :Mean Loss : 0.6302666297993468 Accuracy : 0.6844444444444444\n",
      "\n",
      "EPOCH 29 On training : Mean Loss : 0.28799573066363754 Accuracy : 0.8974074074074074\n",
      "EPOCH 29 On Dev  :Mean Loss : 0.6302664217200233 Accuracy : 0.6844444444444444\n",
      "\n",
      "EPOCH 30 On training : Mean Loss : 0.2879926605836128 Accuracy : 0.8974074074074074\n",
      "EPOCH 30 On Dev  :Mean Loss : 0.630266388610859 Accuracy : 0.6844444444444444\n",
      "\n"
     ]
    },
    {
     "data": {
      "image/png": "[encoded data removed]",
      "text/plain": [
       "<Figure size 432x288 with 1 Axes>"
      ]
     },
     "metadata": {
      "needs_background": "light"
     },
     "output_type": "display_data"
    },
    {
     "data": {
      "image/png": "[encoded data removed]",
      "text/plain": [
       "<Figure size 432x288 with 1 Axes>"
      ]
     },
     "metadata": {
      "needs_background": "light"
     },
     "output_type": "display_data"
    },
    {
     "data": {
      "text/plain": [
       "<Figure size 432x288 with 0 Axes>"
      ]
     },
     "metadata": {},
     "output_type": "display_data"
    }
   ],
   "source": [
    "train_adaptive_lr(model3 , 30 , lr=0.01 , X_train =X_train ,y_train = y_train , X_dev = X_dev , y_dev = y_dev)"
   ]
  },
  {
   "cell_type": "code",
   "execution_count": 32,
   "metadata": {},
   "outputs": [
    {
     "name": "stdout",
     "output_type": "stream",
     "text": [
      "Accuracy on test set for model 3 is 0.682\n"
     ]
    }
   ],
   "source": [
    "##test on test data with the two different models\n",
    "mean_loss = 0\n",
    "accuracy = 0\n",
    "        \n",
    "###testing on dev data#########\n",
    "for sent,label in zip(X_test,y_test):\n",
    "    data = torch.LongTensor([token_index.str_to_id(word) for word in sent])\n",
    "    label = torch.Tensor([label])\n",
    "            \n",
    "    #prediction and loss\n",
    "    pred = model3(data)\n",
    "    output = loss(pred , label)\n",
    "    mean_loss+=output.item()\n",
    "                        \n",
    "            \n",
    "    #computing accuracy\n",
    "    if (pred >= 0.5 and label==1):\n",
    "        accuracy += 1\n",
    "    if(pred<0.5 and label==0):\n",
    "        accuracy += 1\n",
    "            \n",
    "print(\"Accuracy on test set for model 3 is\" , accuracy/len(X_test))\n",
    "            "
   ]
  },
  {
   "cell_type": "markdown",
   "metadata": {},
   "source": [
    "# TWO HIDDEN LAYERS"
   ]
  },
  {
   "cell_type": "code",
   "execution_count": 33,
   "metadata": {},
   "outputs": [],
   "source": [
    "class CBOW_classifier_2_hidden(nn.Module):\n",
    "    def __init__(self, vocab_size , embedding_dim=100):\n",
    "        super(CBOW_classifier_2_hidden, self).__init__()\n",
    "        # To create an embedding table: https://pytorch.org/docs/stable/nn.html#torch.nn.Embedding\n",
    "        self.emb_db = torch.nn.Embedding(num_embeddings = vocab_size ,embedding_dim=embedding_dim)\n",
    "        \n",
    "        #1st hidden layer with 50 hidden units\n",
    "        self.hidden1 = torch.nn.Linear(embedding_dim , 50)\n",
    "        #2nd hidden layer with 25 hidden units\n",
    "        self.hidden2 = torch.nn.Linear(50 , 25)\n",
    "        #ouput layer\n",
    "        self.output = torch.nn.Linear(25,1)\n",
    "        \n",
    "        \n",
    "        #initialisation\n",
    "        torch.nn.init.xavier_uniform_(self.hidden1.weight.data)\n",
    "        torch.nn.init.zeros_(self.hidden1.bias.data)\n",
    "        \n",
    "        torch.nn.init.xavier_uniform_(self.hidden2.weight.data)\n",
    "        torch.nn.init.zeros_(self.hidden2.bias.data)\n",
    "        \n",
    "        torch.nn.init.xavier_uniform_(self.output.weight.data)\n",
    "        torch.nn.init.zeros_(self.output.bias.data)\n",
    "        \n",
    "        \n",
    "    def forward(self, inputs):\n",
    "        \n",
    "        x = self.emb_db(inputs)\n",
    "        x = torch.sum(x ,dim=0)\n",
    "        x = F.tanh(self.hidden1(x))\n",
    "        x = F.tanh(self.hidden2(x))\n",
    "        output = F.sigmoid(self.output(x))\n",
    "        \n",
    "        return(output)"
   ]
  },
  {
   "cell_type": "code",
   "execution_count": 34,
   "metadata": {},
   "outputs": [],
   "source": [
    "loss = torch.nn.BCELoss()"
   ]
  },
  {
   "cell_type": "code",
   "execution_count": 35,
   "metadata": {},
   "outputs": [],
   "source": [
    "model4 = CBOW_classifier_2_hidden(vocab_size=len(token_index)+1)"
   ]
  },
  {
   "cell_type": "code",
   "execution_count": 36,
   "metadata": {
    "scrolled": false
   },
   "outputs": [
    {
     "name": "stdout",
     "output_type": "stream",
     "text": [
      "EPOCH 1 On training : Mean Loss : 0.6392458617512459 Accuracy : 0.6340740740740741\n",
      "EPOCH 1 On Dev  :Mean Loss : 0.6059946662767066 Accuracy : 0.6744444444444444\n",
      "\n",
      "EPOCH 2 On training : Mean Loss : 0.5786953838289152 Accuracy : 0.6890123456790124\n",
      "EPOCH 2 On Dev  :Mean Loss : 0.6121535939723253 Accuracy : 0.6588888888888889\n",
      "\n",
      "EPOCH 3 On training : Mean Loss : 0.5407462413138767 Accuracy : 0.7253086419753086\n",
      "EPOCH 3 On Dev  :Mean Loss : 0.5998259179728727 Accuracy : 0.68\n",
      "\n",
      "EPOCH 4 On training : Mean Loss : 0.5079754628247961 Accuracy : 0.7482716049382716\n",
      "EPOCH 4 On Dev  :Mean Loss : 0.6026652438002121 Accuracy : 0.6744444444444444\n",
      "\n",
      "EPOCH 5 On training : Mean Loss : 0.41307179001338185 Accuracy : 0.817037037037037\n",
      "EPOCH 5 On Dev  :Mean Loss : 0.6159092837235787 Accuracy : 0.6822222222222222\n",
      "\n",
      "EPOCH 6 On training : Mean Loss : 0.370500308424838 Accuracy : 0.8440740740740741\n",
      "EPOCH 6 On Dev  :Mean Loss : 0.6376277111770792 Accuracy : 0.6877777777777778\n",
      "\n",
      "EPOCH 7 On training : Mean Loss : 0.34191701908001565 Accuracy : 0.8623456790123457\n",
      "EPOCH 7 On Dev  :Mean Loss : 0.6575596373856145 Accuracy : 0.6877777777777778\n",
      "\n",
      "EPOCH 8 On training : Mean Loss : 0.3172181163291536 Accuracy : 0.8725925925925926\n",
      "EPOCH 8 On Dev  :Mean Loss : 0.672018930441894 Accuracy : 0.6822222222222222\n",
      "\n",
      "EPOCH 9 On training : Mean Loss : 0.29481330179595705 Accuracy : 0.8874074074074074\n",
      "EPOCH 9 On Dev  :Mean Loss : 0.6976125535462052 Accuracy : 0.6766666666666666\n",
      "\n",
      "EPOCH 10 On training : Mean Loss : 0.2627717776279674 Accuracy : 0.9050617283950617\n",
      "EPOCH 10 On Dev  :Mean Loss : 0.69986334919134 Accuracy : 0.6777777777777778\n",
      "\n",
      "EPOCH 11 On training : Mean Loss : 0.25862727248939155 Accuracy : 0.9075308641975308\n",
      "EPOCH 11 On Dev  :Mean Loss : 0.7028103900142985 Accuracy : 0.6811111111111111\n",
      "\n",
      "EPOCH 12 On training : Mean Loss : 0.2556421500023107 Accuracy : 0.9085185185185185\n",
      "EPOCH 12 On Dev  :Mean Loss : 0.7048800500728734 Accuracy : 0.6777777777777778\n",
      "\n",
      "EPOCH 13 On training : Mean Loss : 0.25287837892342296 Accuracy : 0.9098765432098765\n",
      "EPOCH 13 On Dev  :Mean Loss : 0.7079388383986467 Accuracy : 0.6811111111111111\n",
      "\n",
      "EPOCH 14 On training : Mean Loss : 0.2502971567780782 Accuracy : 0.9113580246913581\n",
      "EPOCH 14 On Dev  :Mean Loss : 0.7102373434727229 Accuracy : 0.68\n",
      "\n",
      "EPOCH 15 On training : Mean Loss : 0.24635353436841223 Accuracy : 0.9130864197530865\n",
      "EPOCH 15 On Dev  :Mean Loss : 0.7106022585667637 Accuracy : 0.68\n",
      "\n",
      "EPOCH 16 On training : Mean Loss : 0.24609615105100535 Accuracy : 0.9130864197530865\n",
      "EPOCH 16 On Dev  :Mean Loss : 0.7109503347215004 Accuracy : 0.68\n",
      "\n",
      "EPOCH 17 On training : Mean Loss : 0.24584058816630946 Accuracy : 0.9133333333333333\n",
      "EPOCH 17 On Dev  :Mean Loss : 0.7112896809611023 Accuracy : 0.6788888888888889\n",
      "\n",
      "EPOCH 18 On training : Mean Loss : 0.245586905488677 Accuracy : 0.9133333333333333\n",
      "EPOCH 18 On Dev  :Mean Loss : 0.71162112704344 Accuracy : 0.6788888888888889\n",
      "\n",
      "EPOCH 19 On training : Mean Loss : 0.24533380179771977 Accuracy : 0.9134567901234568\n",
      "EPOCH 19 On Dev  :Mean Loss : 0.7119580216021859 Accuracy : 0.6788888888888889\n",
      "\n",
      "EPOCH 20 On training : Mean Loss : 0.24493340466304267 Accuracy : 0.9137037037037037\n",
      "EPOCH 20 On Dev  :Mean Loss : 0.7119835810037977 Accuracy : 0.6788888888888889\n",
      "\n"
     ]
    },
    {
     "data": {
      "image/png": "[encoded data removed]",
      "text/plain": [
       "<Figure size 432x288 with 1 Axes>"
      ]
     },
     "metadata": {
      "needs_background": "light"
     },
     "output_type": "display_data"
    },
    {
     "data": {
      "image/png": "[encoded data removed]",
      "text/plain": [
       "<Figure size 432x288 with 1 Axes>"
      ]
     },
     "metadata": {
      "needs_background": "light"
     },
     "output_type": "display_data"
    },
    {
     "data": {
      "text/plain": [
       "<Figure size 432x288 with 0 Axes>"
      ]
     },
     "metadata": {},
     "output_type": "display_data"
    }
   ],
   "source": [
    "train_adaptive_lr(model4 , 20 , lr=0.01 , X_train =X_train ,y_train = y_train , X_dev = X_dev , y_dev = y_dev)"
   ]
  },
  {
   "cell_type": "code",
   "execution_count": 37,
   "metadata": {},
   "outputs": [
    {
     "name": "stdout",
     "output_type": "stream",
     "text": [
      "Accuracy on test set for model 4 is 0.685\n"
     ]
    }
   ],
   "source": [
    "##test on test data with the two different models\n",
    "mean_loss = 0\n",
    "accuracy = 0\n",
    "        \n",
    "###testing on dev data#########\n",
    "for sent,label in zip(X_test,y_test):\n",
    "    data = torch.LongTensor([token_index.str_to_id(word) for word in sent])\n",
    "    label = torch.Tensor([label])\n",
    "            \n",
    "    #prediction and loss\n",
    "    pred = model4(data)\n",
    "    output = loss(pred , label)\n",
    "    mean_loss+=output.item()\n",
    "                        \n",
    "            \n",
    "    #computing accuracy\n",
    "    if (pred >= 0.5 and label==1):\n",
    "        accuracy += 1\n",
    "    if(pred<0.5 and label==0):\n",
    "        accuracy += 1\n",
    "            \n",
    "print(\"Accuracy on test set for model 4 is\" , accuracy/len(X_test))\n",
    "            "
   ]
  }
 ],
 "metadata": {
  "kernelspec": {
   "display_name": "Python 3",
   "language": "python",
   "name": "python3"
  },
  "language_info": {
   "codemirror_mode": {
    "name": "ipython",
    "version": 3
   },
   "file_extension": ".py",
   "mimetype": "text/x-python",
   "name": "python",
   "nbconvert_exporter": "python",
   "pygments_lexer": "ipython3",
   "version": "3.7.3"
  }
 },
 "nbformat": 4,
 "nbformat_minor": 2
}
