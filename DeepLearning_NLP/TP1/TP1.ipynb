{
 "cells": [
  {
   "cell_type": "code",
   "execution_count": 1,
   "metadata": {},
   "outputs": [],
   "source": [
    "import re\n",
    "import numpy as np\n",
    "import torch\n",
    "import torch.autograd as ag\n",
    "import torch.nn.functional as F\n",
    "import torch.nn as nn\n",
    "import matplotlib.pyplot as plt\n",
    "import random"
   ]
  },
  {
   "cell_type": "markdown",
   "metadata": {},
   "source": [
    "# Deep Learning for NLP - lab exercise 1\n",
    "\n",
    "In this first lab exercise we will implement a simple bag-of-word classifier, i.e. a classifier that ignores the sequential structure of the sentence. The goal is to predict if a sentence is a positive or negative review of a movie. We will use a dataset constructed from IMDB.\n",
    "\n",
    "1. Load and clean the data\n",
    "2. Preprocess the data for the NN\n",
    "3. Module definition\n",
    "4. Train the network!\n",
    "\n",
    "We will implement this model with Pytorch, the most popular deep learning framework for Natural Language Processing. You can use the following links for help:\n",
    "* turorials: http://pytorch.org/tutorials/\n",
    "* documentation: http://pytorch.org/docs/master/ \n",
    "\n",
    "**Hard deadline**: December 3, 2019\n",
    "\n",
    "\n",
    "## Report\n",
    "\n",
    "On top of this notebook, you must submit a report explaining your neural network, it's training method and report+analyse results, for example with different hyper-parameters (number of hidden layers, different embedding size, different hidden representation size, w or w/o dropout...you choose what you want to explore!).\n",
    "You can also report results with different training dataset sizes (how does the number of training instances impact dev/test results? => *WARNING* obviously, here you change the training set size but you freeze the dev/test sets).\n",
    "\n",
    "Training with the full dataset may be slow depending on your computer.\n",
    "\n",
    "## Data\n",
    "\n",
    "The data can be download here: http://teaching.caio-corro.fr/2019-2020/OPT7/imdb.zip\n",
    "\n",
    "There are two files: one with positive reviews (imdb.pos) and one with negative reviews (imdb.neg). Each file contains 300000 reviews, one per line.\n",
    "\n",
    "\n",
    "The following functions can be used to load and clean the data."
   ]
  },
  {
   "cell_type": "code",
   "execution_count": 2,
   "metadata": {},
   "outputs": [],
   "source": [
    "# Tokenize a sentence\n",
    "def clean_str(string, tolower=True):\n",
    "    \"\"\"\n",
    "    Tokenization/string cleaning.\n",
    "    Original taken from https://github.com/yoonkim/CNN_sentence/blob/master/process_data.py\n",
    "    \"\"\"\n",
    "    string = re.sub(r\"[^A-Za-z0-9(),!?\\'\\`]\", \" \", string)\n",
    "    string = re.sub(r\"\\'s\", \" \\'s\", string)\n",
    "    string = re.sub(r\"\\'ve\", \" \\'ve\", string)\n",
    "    string = re.sub(r\"n\\'t\", \" n\\'t\", string)\n",
    "    string = re.sub(r\"\\'re\", \" \\'re\", string)\n",
    "    string = re.sub(r\"\\'d\", \" \\'d\", string)\n",
    "    string = re.sub(r\"\\'ll\", \" \\'ll\", string)\n",
    "    string = re.sub(r\",\", \" , \", string)\n",
    "    string = re.sub(r\"!\", \" ! \", string)\n",
    "    string = re.sub(r\"\\(\", \" \\( \", string)\n",
    "    string = re.sub(r\"\\)\", \" \\) \", string)\n",
    "    string = re.sub(r\"\\?\", \" \\? \", string)\n",
    "    string = re.sub(r\"\\s{2,}\", \" \", string)\n",
    "    if tolower:\n",
    "        string = string.lower()\n",
    "    return string.strip()\n",
    "\n",
    "\n",
    "# reads the content of the file passed as an argument.\n",
    "# if limit > 0, this function will return only the first \"limit\" sentences in the file.\n",
    "def loadTexts(filename, limit=-1):\n",
    "    f = open(filename)\n",
    "    dataset=[]\n",
    "    line =  f.readline()\n",
    "    cpt=1\n",
    "    skip=0\n",
    "    while line :\n",
    "        cleanline = clean_str(f.readline()).split()\n",
    "        if cleanline: \n",
    "            dataset.append(cleanline)\n",
    "        else: \n",
    "            line = f.readline()\n",
    "            skip+=1\n",
    "            continue\n",
    "        if limit > 0 and cpt >= limit: \n",
    "            break\n",
    "        line = f.readline()\n",
    "        cpt+=1        \n",
    "        \n",
    "    f.close()\n",
    "    print(\"Load \", cpt, \" lines from \", filename , \" / \", skip ,\" lines discarded\")\n",
    "    return dataset\n"
   ]
  },
  {
   "cell_type": "markdown",
   "metadata": {},
   "source": [
    "The following cell load the first 5000 sentences in each review set."
   ]
  },
  {
   "cell_type": "code",
   "execution_count": 3,
   "metadata": {},
   "outputs": [
    {
     "name": "stdout",
     "output_type": "stream",
     "text": [
      "Load  5000  lines from  imdb.pos  /  1  lines discarded\n",
      "Load  5000  lines from  imdb.neg  /  1  lines discarded\n"
     ]
    }
   ],
   "source": [
    "LIM=5000\n",
    "txtfile = 'imdb.pos'  # path of the file containing positive reviews\n",
    "postxt = loadTexts(txtfile,limit=LIM)\n",
    "\n",
    "txtfile = 'imdb.neg' # path of the file containing negative reviews\n",
    "negtxt = loadTexts(txtfile,limit=LIM)"
   ]
  },
  {
   "cell_type": "markdown",
   "metadata": {},
   "source": [
    "Split the data between train / dev / test, for example by creating lists txt_train, label_train, txt_dev, ... You should take care to keep a 50/50 ratio between positive and negative instances in each set."
   ]
  },
  {
   "cell_type": "code",
   "execution_count": 4,
   "metadata": {},
   "outputs": [],
   "source": [
    "data = postxt + negtxt\n",
    "label = np.concatenate((np.ones(len(postxt)),np.zeros(len(negtxt))),axis=0)"
   ]
  },
  {
   "cell_type": "code",
   "execution_count": 5,
   "metadata": {},
   "outputs": [
    {
     "name": "stdout",
     "output_type": "stream",
     "text": [
      "['get', 'in', 'the', 'back', 'of', 'the', 'van', '!']\n",
      "1.0\n"
     ]
    }
   ],
   "source": [
    "print(data[10])\n",
    "print(label[10])"
   ]
  },
  {
   "cell_type": "code",
   "execution_count": 6,
   "metadata": {},
   "outputs": [],
   "source": [
    "from sklearn.model_selection import train_test_split\n",
    "X_train, X_test, y_train, y_test = train_test_split(data, label, test_size=0.1, random_state=1 ,stratify=label)\n",
    "X_train,X_dev,y_train,y_dev = train_test_split(X_train , y_train , test_size=0.1, random_state = 1 , stratify=y_train)"
   ]
  },
  {
   "cell_type": "code",
   "execution_count": 7,
   "metadata": {},
   "outputs": [
    {
     "name": "stdout",
     "output_type": "stream",
     "text": [
      "['laughton', 'enjoyable', 'in', 'this', 'low', 'budget', 'pirate', 'saga']\n",
      "0.0\n"
     ]
    }
   ],
   "source": [
    "print(X_train[10])\n",
    "print(y_train[10])"
   ]
  },
  {
   "cell_type": "markdown",
   "metadata": {},
   "source": [
    "# Converting data to Pytorch tensors\n",
    "\n",
    "We will first convert data to Pytorch tensors so they can be used in a neural network.\n",
    "To do that, you must first create a dictionnary that will map words to integers.\n",
    "Add to the dictionnary only words that are in the training set (be sure to understand why we do that!).\n",
    "\n",
    "Then, you can convert the data to tensors:\n",
    "- use tensors of longs: both the sentence and the label will be represented as integers, not floats!\n",
    "- these tensors do not require a gradient\n",
    "\n",
    "A tensor representing a sentence is composed of the integer representation of each word, e.g. [10, 256, 3, 4].\n",
    "Note that some words in the dev and test sets may not be in the dictionnary! (i.e. unknown words)\n",
    "You can just skip them."
   ]
  },
  {
   "cell_type": "code",
   "execution_count": 8,
   "metadata": {},
   "outputs": [],
   "source": [
    "class Dict:\n",
    "    def __init__(self, words, unk=None):\n",
    "        self._unk = unk\n",
    "        self._word_to_id = dict()\n",
    "        self._id_to_word = list()\n",
    "\n",
    "        if unk in words:\n",
    "            raise RuntimeError(\"UNK word exists in vocabulary\")\n",
    "\n",
    "        if unk is not None:\n",
    "            self.unk_index = self._add_word(unk)\n",
    "\n",
    "        for word in words:\n",
    "            self._add_word(word)\n",
    "\n",
    "    # for internal use only!\n",
    "    def _add_word(self, word):\n",
    "        if word not in self._word_to_id:\n",
    "            id = len(self._id_to_word)\n",
    "            self._word_to_id[word] = id\n",
    "            self._id_to_word.append(word)\n",
    "            return id\n",
    "        else:\n",
    "            return self._word_to_id[word]\n",
    "\n",
    "    def str_to_id(self, word):\n",
    "        if self._unk is not None:\n",
    "            return self._word_to_id.get(word, self.unk_index)\n",
    "        else:\n",
    "            return self._word_to_id[word]\n",
    "\n",
    "    def id_to_str(self, id):\n",
    "        return self._id_to_word[id]\n",
    "\n",
    "    def __len__(self):\n",
    "        return len(self._word_to_id)\n",
    "\n",
    "    def has_unk(self):\n",
    "        return self._unk is not None\n",
    "    \n",
    "    def unk(self):\n",
    "        return self.unk_index"
   ]
  },
  {
   "cell_type": "code",
   "execution_count": 9,
   "metadata": {},
   "outputs": [],
   "source": [
    "#Creating a dict where each word is associated to a number\n",
    "token_index = {}\n",
    "for sent in X_train:\n",
    "    for word in sent:\n",
    "        if word not in token_index:\n",
    "            token_index[word] = len(token_index) + 1\n",
    "            \n",
    "#Don't forget to add the unk = True because some words maybe in the dev or test but not in the train\n",
    "token_index = Dict(token_index, unk=True)\n"
   ]
  },
  {
   "cell_type": "markdown",
   "metadata": {},
   "source": [
    "# Neural network definition\n",
    "\n",
    "The neural network should be defined as follows:\n",
    "- it takes as input a tensor that is a sequence of integers indexing word embeddings\n",
    "- it retrieves the word embeddings from an embedding table\n",
    "- it constructs the \"input\" of the MLP by summing over all embeddingsÂ (i.e. bag-of-word model)\n",
    "- it build a hidden represention using a MLP (1 layer? 2 layers? experiment! but maybe first try wihout any hidden layer...)\n",
    "- it project the hidden representation to the output space: it is a binary classification task, so the output space is a scalar where a negative (resp. positive) value means the review is negative (resp. positive)."
   ]
  },
  {
   "cell_type": "code",
   "execution_count": 10,
   "metadata": {},
   "outputs": [],
   "source": [
    "class CBOW_classifier(nn.Module):\n",
    "    def __init__(self, vocab_size , embedding_dim=100):\n",
    "        super(CBOW_classifier, self).__init__()\n",
    "        # To create an embedding table: https://pytorch.org/docs/stable/nn.html#torch.nn.Embedding\n",
    "        self.emb_db = torch.nn.Embedding(num_embeddings = vocab_size ,embedding_dim=embedding_dim)\n",
    "        \n",
    "        #1st hidden layer\n",
    "       # self.hidden1 = torch.nn.Linear(embedding_dim , 50)\n",
    "        #ouput layer\n",
    "        self.output = torch.nn.Linear(embedding_dim,1)\n",
    "        \n",
    "        \n",
    "        #initialisation\n",
    "#         torch.nn.init.xavier_uniform_(self.hidden1.weight.data)\n",
    "#         torch.nn.init.zeros_(self.hidden1.bias.data)\n",
    "        \n",
    "        torch.nn.init.xavier_uniform_(self.output.weight.data)\n",
    "        torch.nn.init.zeros_(self.output.bias.data)\n",
    "        \n",
    "        \n",
    "    def forward(self, inputs):\n",
    "        \n",
    "        x = self.emb_db(inputs)\n",
    "        x = torch.sum(x ,dim=0)\n",
    "      #  x = F.tanh(self.hidden1(x))\n",
    "        \n",
    "        output = F.sigmoid(self.output(x))\n",
    "        \n",
    "        return(output)"
   ]
  },
  {
   "cell_type": "markdown",
   "metadata": {},
   "source": [
    "## Loss function\n",
    "\n",
    "Create a loss function builder.\n",
    "\n",
    "- Pytorch loss functions are documented here: https://pytorch.org/docs/stable/nn.html#loss-functions\n",
    "- In our case, we are interested in *BCELoss* and *BCEWithLogitsLoss*. Read their documentation and choose the one that fits with your network output"
   ]
  },
  {
   "cell_type": "code",
   "execution_count": 11,
   "metadata": {},
   "outputs": [],
   "source": [
    "loss = torch.nn.BCELoss()"
   ]
  },
  {
   "cell_type": "markdown",
   "metadata": {
    "collapsed": true
   },
   "source": [
    "## Training loop\n",
    "\n",
    "Write your training loop!\n",
    "\n",
    "- parameterizable number of epochs\n",
    "- at each epoch, print the mean loss and the dev accuracy"
   ]
  },
  {
   "cell_type": "code",
   "execution_count": 12,
   "metadata": {},
   "outputs": [],
   "source": [
    "model1 = CBOW_classifier(vocab_size=len(token_index)+1)"
   ]
  },
  {
   "cell_type": "code",
   "execution_count": 13,
   "metadata": {},
   "outputs": [],
   "source": [
    "def train(model , epochs, lr ,X_train ,y_train , X_dev , y_dev , optimizer =\"SGD\"):\n",
    "    \n",
    "    #defining various types of optimizer\n",
    "    if (optimizer==\"SGD\"):\n",
    "        optimizer = torch.optim.SGD(params=model.parameters(), lr =lr, weight_decay=1e-4)   \n",
    "    if (optimizer== \"AdaDelta\"):\n",
    "        optimizer = torch.optim.Adadelta(params=model.parameters(), lr=1.0, rho=0.9, eps=1e-06, weight_decay=0)\n",
    "        \n",
    "        \n",
    "    #variables to see the progression\n",
    "    mean_loss_train = []\n",
    "    mean_loss_dev = []\n",
    "    acc_train = []\n",
    "    acc_dev = []\n",
    "    \n",
    "    \n",
    "    #passe le modele en mode training\n",
    "    model.train()\n",
    "    \n",
    "    for i in range(epochs):\n",
    "        #defining parameters to print the evolution of the NN\n",
    "        accuracy = 0\n",
    "        mean_loss = 0\n",
    "        \n",
    "        #shuffle to reduce overfitting\n",
    "        c = list(zip(X_train, y_train))\n",
    "        random.shuffle(c)\n",
    "        X_train, y_train = zip(*c)\n",
    "        \n",
    "        for sent,label in zip(X_train , y_train):\n",
    "            \n",
    "            # zero the parameter gradients\n",
    "            optimizer.zero_grad()\n",
    "            \n",
    "            #creating the tensors for inputs\n",
    "            data = torch.LongTensor([token_index.str_to_id(word) for word in sent])\n",
    "            label = torch.Tensor([label])\n",
    "            \n",
    "            #prediction and loss\n",
    "            pred = model(data)\n",
    "            output = loss(pred , label)\n",
    "            mean_loss+=output.item()\n",
    "            \n",
    "            #backward and updates\n",
    "            output.backward()\n",
    "            optimizer.step()\n",
    "\n",
    "            #computing accuracy\n",
    "            if (pred >= 0.5 and label==1):\n",
    "                accuracy += 1\n",
    "            if(pred<0.5 and label==0):\n",
    "                accuracy += 1\n",
    "            \n",
    "        mean_loss_train.append(mean_loss/len(X_train))\n",
    "        acc_train.append(accuracy/len(X_train))\n",
    "        \n",
    "        print(\"EPOCH\" , str(i+1) ,\"On training : Mean Loss :\" , mean_loss/len(X_train) , \"Accuracy :\" ,accuracy/len(X_train))\n",
    "\n",
    "\n",
    "        mean_loss = 0\n",
    "        accuracy = 0\n",
    "        \n",
    "        ###testing on dev data#########\n",
    "        for sent,label in zip(X_dev,y_dev):\n",
    "            data = torch.LongTensor([token_index.str_to_id(word) for word in sent])\n",
    "            label = torch.Tensor([label])\n",
    "            \n",
    "            #prediction and loss\n",
    "            pred = model(data)\n",
    "            output = loss(pred , label)\n",
    "            \n",
    "            mean_loss+=output.item()\n",
    "            \n",
    "            \n",
    "            #computing accuracy\n",
    "            if (pred >= 0.5 and label==1):\n",
    "                accuracy += 1\n",
    "            if(pred<0.5 and label==0):\n",
    "                accuracy += 1\n",
    "            \n",
    "        print(\"EPOCH\" , str(i+1) ,\"On Dev  :Mean Loss :\" , mean_loss/len(X_dev) , \"Accuracy :\" ,accuracy/len(X_dev))\n",
    "        print()\n",
    "\n",
    "        mean_loss_dev.append(mean_loss/len(X_dev))\n",
    "        acc_dev.append(accuracy/len(X_dev))\n",
    "          \n",
    "            \n",
    "            \n",
    "    #Plotting loss accuracy for  test and train\n",
    "    plt.plot(acc_train , label='Train')\n",
    "    plt.plot(acc_dev, label=\"Dev\")\n",
    "    plt.title(\"Accuracy\")\n",
    "    plt.legend()\n",
    "    plt.figure()\n",
    "    \n",
    "    plt.plot(mean_loss_train , label='Train')\n",
    "    plt.plot(mean_loss_dev, label=\"Dev\")\n",
    "    plt.title(\"Loss\")\n",
    "    plt.legend()\n",
    "    plt.figure()\n"
   ]
  },
  {
   "cell_type": "code",
   "execution_count": 15,
   "metadata": {},
   "outputs": [
    {
     "name": "stdout",
     "output_type": "stream",
     "text": [
      "EPOCH 1 On training : Mean Loss : 9.31615942670681 Accuracy : 0.6679012345679012\n",
      "EPOCH 1 On Dev  :Mean Loss : 9.59508427332319 Accuracy : 0.6488888888888888\n",
      "\n",
      "EPOCH 2 On training : Mean Loss : 8.491035488789192 Accuracy : 0.6954320987654321\n",
      "EPOCH 2 On Dev  :Mean Loss : 8.687525988624332 Accuracy : 0.6855555555555556\n",
      "\n",
      "EPOCH 3 On training : Mean Loss : 8.71423400875854 Accuracy : 0.6895061728395062\n",
      "EPOCH 3 On Dev  :Mean Loss : 9.189390614071355 Accuracy : 0.68\n",
      "\n",
      "EPOCH 4 On training : Mean Loss : 8.334668538736087 Accuracy : 0.7081481481481482\n",
      "EPOCH 4 On Dev  :Mean Loss : 8.857054307169326 Accuracy : 0.6944444444444444\n",
      "\n",
      "EPOCH 5 On training : Mean Loss : 8.280660863021103 Accuracy : 0.7096296296296296\n",
      "EPOCH 5 On Dev  :Mean Loss : 9.17424399031736 Accuracy : 0.6811111111111111\n",
      "\n",
      "EPOCH 6 On training : Mean Loss : 8.189725097202095 Accuracy : 0.7076543209876544\n",
      "EPOCH 6 On Dev  :Mean Loss : 7.7724294067483335 Accuracy : 0.7144444444444444\n",
      "\n",
      "EPOCH 7 On training : Mean Loss : 7.712910599519812 Accuracy : 0.7214814814814815\n",
      "EPOCH 7 On Dev  :Mean Loss : 8.582933563299765 Accuracy : 0.6866666666666666\n",
      "\n",
      "EPOCH 8 On training : Mean Loss : 7.561876916072264 Accuracy : 0.7279012345679012\n",
      "EPOCH 8 On Dev  :Mean Loss : 7.431259632476009 Accuracy : 0.7233333333333334\n",
      "\n",
      "EPOCH 9 On training : Mean Loss : 7.198524563674472 Accuracy : 0.7461728395061729\n",
      "EPOCH 9 On Dev  :Mean Loss : 7.455481520008454 Accuracy : 0.7144444444444444\n",
      "\n",
      "EPOCH 10 On training : Mean Loss : 5.889334985554979 Accuracy : 0.7704938271604939\n",
      "EPOCH 10 On Dev  :Mean Loss : 7.013592236378109 Accuracy : 0.6977777777777778\n",
      "\n",
      "EPOCH 11 On training : Mean Loss : 4.513138683575471 Accuracy : 0.7830864197530865\n",
      "EPOCH 11 On Dev  :Mean Loss : 5.561183577861707 Accuracy : 0.7455555555555555\n",
      "\n",
      "EPOCH 12 On training : Mean Loss : 3.220573292683057 Accuracy : 0.7969135802469136\n",
      "EPOCH 12 On Dev  :Mean Loss : 3.2620583777492915 Accuracy : 0.7055555555555556\n",
      "\n",
      "EPOCH 13 On training : Mean Loss : 2.523411122802714 Accuracy : 0.7974074074074075\n",
      "EPOCH 13 On Dev  :Mean Loss : 2.5182598519937227 Accuracy : 0.7333333333333333\n",
      "\n",
      "EPOCH 14 On training : Mean Loss : 1.5490404188522968 Accuracy : 0.8120987654320988\n",
      "EPOCH 14 On Dev  :Mean Loss : 1.2943862160803912 Accuracy : 0.7222222222222222\n",
      "\n",
      "EPOCH 15 On training : Mean Loss : 1.110194555515153 Accuracy : 0.818395061728395\n",
      "EPOCH 15 On Dev  :Mean Loss : 1.6140291034276775 Accuracy : 0.7455555555555555\n",
      "\n",
      "EPOCH 16 On training : Mean Loss : 0.7693957802941251 Accuracy : 0.8360493827160493\n",
      "EPOCH 16 On Dev  :Mean Loss : 0.7925192598073352 Accuracy : 0.7288888888888889\n",
      "\n",
      "EPOCH 17 On training : Mean Loss : 0.646642261262687 Accuracy : 0.8466666666666667\n",
      "EPOCH 17 On Dev  :Mean Loss : 0.9379471322859722 Accuracy : 0.75\n",
      "\n",
      "EPOCH 18 On training : Mean Loss : 0.4963733003980991 Accuracy : 0.8601234567901235\n",
      "EPOCH 18 On Dev  :Mean Loss : 1.052828336998691 Accuracy : 0.73\n",
      "\n",
      "EPOCH 19 On training : Mean Loss : 0.43164897626178916 Accuracy : 0.8697530864197531\n",
      "EPOCH 19 On Dev  :Mean Loss : 1.103632790827084 Accuracy : 0.7244444444444444\n",
      "\n",
      "EPOCH 20 On training : Mean Loss : 0.368908144009251 Accuracy : 0.8828395061728395\n",
      "EPOCH 20 On Dev  :Mean Loss : 0.7090262338433557 Accuracy : 0.74\n",
      "\n",
      "EPOCH 21 On training : Mean Loss : 0.3247115046590548 Accuracy : 0.8961728395061729\n",
      "EPOCH 21 On Dev  :Mean Loss : 0.6797359705015732 Accuracy : 0.7722222222222223\n",
      "\n",
      "EPOCH 22 On training : Mean Loss : 0.30091831232224714 Accuracy : 0.8992592592592593\n",
      "EPOCH 22 On Dev  :Mean Loss : 0.7209268055911636 Accuracy : 0.7677777777777778\n",
      "\n",
      "EPOCH 23 On training : Mean Loss : 0.2656094193759427 Accuracy : 0.908395061728395\n",
      "EPOCH 23 On Dev  :Mean Loss : 0.6660483873588181 Accuracy : 0.7477777777777778\n",
      "\n",
      "EPOCH 24 On training : Mean Loss : 0.3008930387656705 Accuracy : 0.8975308641975308\n",
      "EPOCH 24 On Dev  :Mean Loss : 0.6252398847743436 Accuracy : 0.7677777777777778\n",
      "\n",
      "EPOCH 25 On training : Mean Loss : 0.29945718153632894 Accuracy : 0.9014814814814814\n",
      "EPOCH 25 On Dev  :Mean Loss : 0.6278624758198993 Accuracy : 0.7622222222222222\n",
      "\n",
      "EPOCH 26 On training : Mean Loss : 0.2808719002117976 Accuracy : 0.9030864197530865\n",
      "EPOCH 26 On Dev  :Mean Loss : 0.7227000897757818 Accuracy : 0.7566666666666667\n",
      "\n",
      "EPOCH 27 On training : Mean Loss : 0.28121998733136827 Accuracy : 0.9111111111111111\n",
      "EPOCH 27 On Dev  :Mean Loss : 0.6491313143506858 Accuracy : 0.7566666666666667\n",
      "\n",
      "EPOCH 28 On training : Mean Loss : 0.24174632528681655 Accuracy : 0.9201234567901234\n",
      "EPOCH 28 On Dev  :Mean Loss : 0.6109710985035877 Accuracy : 0.7633333333333333\n",
      "\n",
      "EPOCH 29 On training : Mean Loss : 0.23949071271013245 Accuracy : 0.9193827160493827\n",
      "EPOCH 29 On Dev  :Mean Loss : 0.5971029465007944 Accuracy : 0.7677777777777778\n",
      "\n",
      "EPOCH 30 On training : Mean Loss : 0.23175605885895614 Accuracy : 0.9150617283950617\n",
      "EPOCH 30 On Dev  :Mean Loss : 0.6717351093198238 Accuracy : 0.7655555555555555\n",
      "\n"
     ]
    },
    {
     "data": {
      "image/png": "[encoded data removed]",
      "text/plain": [
       "<Figure size 432x288 with 1 Axes>"
      ]
     },
     "metadata": {
      "needs_background": "light"
     },
     "output_type": "display_data"
    },
    {
     "data": {
      "image/png": "[encoded data removed]",
      "text/plain": [
       "<Figure size 432x288 with 1 Axes>"
      ]
     },
     "metadata": {
      "needs_background": "light"
     },
     "output_type": "display_data"
    },
    {
     "data": {
      "text/plain": [
       "<Figure size 432x288 with 0 Axes>"
      ]
     },
     "metadata": {},
     "output_type": "display_data"
    }
   ],
   "source": [
    "train(model1 , 30 , lr=0.1 , X_train =X_train ,y_train = y_train , X_dev = X_dev , y_dev = y_dev)"
   ]
  },
  {
   "cell_type": "code",
   "execution_count": 38,
   "metadata": {},
   "outputs": [],
   "source": [
    "model2 = CBOW_classifier(vocab_size=len(token_index)+1)"
   ]
  },
  {
   "cell_type": "code",
   "execution_count": 39,
   "metadata": {
    "scrolled": false
   },
   "outputs": [
    {
     "name": "stdout",
     "output_type": "stream",
     "text": [
      "EPOCH 1 On training : Mean Loss : 0.7382567610431495 Accuracy : 0.6495061728395062\n",
      "EPOCH 1 On Dev  :Mean Loss : 0.6204582577195523 Accuracy : 0.6977777777777778\n",
      "\n",
      "EPOCH 2 On training : Mean Loss : 0.6001503675878539 Accuracy : 0.7148148148148148\n",
      "EPOCH 2 On Dev  :Mean Loss : 0.6234454339840664 Accuracy : 0.71\n",
      "\n",
      "EPOCH 3 On training : Mean Loss : 0.5701704206785936 Accuracy : 0.7307407407407407\n",
      "EPOCH 3 On Dev  :Mean Loss : 0.6177776648815567 Accuracy : 0.7122222222222222\n",
      "\n",
      "EPOCH 4 On training : Mean Loss : 0.5508241957312033 Accuracy : 0.7498765432098765\n",
      "EPOCH 4 On Dev  :Mean Loss : 0.6259880798831373 Accuracy : 0.7366666666666667\n",
      "\n",
      "EPOCH 5 On training : Mean Loss : 0.530108997617185 Accuracy : 0.7579012345679013\n",
      "EPOCH 5 On Dev  :Mean Loss : 0.6003393044107055 Accuracy : 0.7255555555555555\n",
      "\n",
      "EPOCH 6 On training : Mean Loss : 0.5228289089493381 Accuracy : 0.7691358024691358\n",
      "EPOCH 6 On Dev  :Mean Loss : 0.5729941714462772 Accuracy : 0.73\n",
      "\n",
      "EPOCH 7 On training : Mean Loss : 0.5112844596480282 Accuracy : 0.7762962962962963\n",
      "EPOCH 7 On Dev  :Mean Loss : 0.5717116141713836 Accuracy : 0.74\n",
      "\n",
      "EPOCH 8 On training : Mean Loss : 0.5024281067185151 Accuracy : 0.7859259259259259\n",
      "EPOCH 8 On Dev  :Mean Loss : 0.5632445335147674 Accuracy : 0.7322222222222222\n",
      "\n",
      "EPOCH 9 On training : Mean Loss : 0.48841170806996503 Accuracy : 0.785679012345679\n",
      "EPOCH 9 On Dev  :Mean Loss : 0.5657855934436247 Accuracy : 0.7477777777777778\n",
      "\n",
      "EPOCH 10 On training : Mean Loss : 0.48331887798691414 Accuracy : 0.7946913580246914\n",
      "EPOCH 10 On Dev  :Mean Loss : 0.5484193479722503 Accuracy : 0.7566666666666667\n",
      "\n"
     ]
    },
    {
     "data": {
      "image/png": "[encoded data removed]",
      "text/plain": [
       "<Figure size 432x288 with 1 Axes>"
      ]
     },
     "metadata": {
      "needs_background": "light"
     },
     "output_type": "display_data"
    },
    {
     "data": {
      "image/png": "[encoded data removed]",
      "text/plain": [
       "<Figure size 432x288 with 1 Axes>"
      ]
     },
     "metadata": {
      "needs_background": "light"
     },
     "output_type": "display_data"
    },
    {
     "data": {
      "text/plain": [
       "<Figure size 432x288 with 0 Axes>"
      ]
     },
     "metadata": {},
     "output_type": "display_data"
    }
   ],
   "source": [
    "train(model2 , 10 , lr=0.01 , X_train =X_train ,y_train = y_train , X_dev = X_dev , y_dev = y_dev ,optimizer=\"AdaDelta\")"
   ]
  },
  {
   "cell_type": "code",
   "execution_count": 64,
   "metadata": {},
   "outputs": [
    {
     "name": "stdout",
     "output_type": "stream",
     "text": [
      "Accuracy on test set for model 1 is 0.765\n"
     ]
    }
   ],
   "source": [
    "##test on test data with the two different models\n",
    "mean_loss = 0\n",
    "accuracy = 0\n",
    "        \n",
    "###testing on dev data#########\n",
    "for sent,label in zip(X_test,y_test):\n",
    "    data = torch.LongTensor([token_index.str_to_id(word) for word in sent])\n",
    "    label = torch.Tensor([label])\n",
    "            \n",
    "    #prediction and loss\n",
    "    pred = model1(data)\n",
    "    output = loss(pred , label)\n",
    "    mean_loss+=output.item()\n",
    "                        \n",
    "            \n",
    "    #computing accuracy\n",
    "    if (pred >= 0.5 and label==1):\n",
    "        accuracy += 1\n",
    "    if(pred<0.5 and label==0):\n",
    "        accuracy += 1\n",
    "            \n",
    "print(\"Accuracy on test set for model 1 is\" , accuracy/len(X_test))\n",
    "            "
   ]
  },
  {
   "cell_type": "code",
   "execution_count": 65,
   "metadata": {},
   "outputs": [
    {
     "name": "stdout",
     "output_type": "stream",
     "text": [
      "Accuracy on test set for model 2 is 0.762\n"
     ]
    }
   ],
   "source": [
    "##test on test data with the two different models\n",
    "mean_loss = 0\n",
    "accuracy = 0\n",
    "        \n",
    "###testing on dev data#########\n",
    "for sent,label in zip(X_test,y_test):\n",
    "    data = torch.LongTensor([token_index.str_to_id(word) for word in sent])\n",
    "    label = torch.Tensor([label])\n",
    "            \n",
    "    #prediction and loss\n",
    "    pred = model2(data)\n",
    "    output = loss(pred , label)\n",
    "    mean_loss+=output.item()\n",
    "                        \n",
    "            \n",
    "    #computing accuracy\n",
    "    if (pred >= 0.5 and label==1):\n",
    "        accuracy += 1\n",
    "    if(pred<0.5 and label==0):\n",
    "        accuracy += 1\n",
    "            \n",
    "print(\"Accuracy on test set for model 2 is\" , accuracy/len(X_test))\n",
    "            "
   ]
  },
  {
   "cell_type": "markdown",
   "metadata": {},
   "source": [
    "# ONE HIDDEN LAYER"
   ]
  },
  {
   "cell_type": "code",
   "execution_count": 27,
   "metadata": {},
   "outputs": [],
   "source": [
    "def train_adaptive_lr(model , epochs, lr ,X_train ,y_train , X_dev , y_dev , optimizer =\"SGD\"):\n",
    "    \n",
    "    #defining various types of optimizer\n",
    "    if (optimizer==\"SGD\"):\n",
    "        optimizer = torch.optim.SGD(params=model.parameters(), lr =lr, weight_decay=1e-4)   \n",
    "    if (optimizer== \"AdaDelta\"):\n",
    "        optimizer = torch.optim.Adadelta(params=model.parameters(), lr=1.0, rho=0.9, eps=1e-06, weight_decay=0)\n",
    "        \n",
    "        \n",
    "    #variables to see the progression\n",
    "    mean_loss_train = []\n",
    "    mean_loss_dev = []\n",
    "    acc_train = []\n",
    "    acc_dev = []\n",
    "    \n",
    "    \n",
    "    #passe le modele en mode training\n",
    "    model.train()\n",
    "    \n",
    "    for i in range(epochs):\n",
    "        \n",
    "        \n",
    "        if((i+1)%5 == 0):\n",
    "            for g in optimizer.param_groups:\n",
    "                g['lr'] = g['lr']*0.1\n",
    "                \n",
    "                \n",
    "        #defining parameters to print the evolution of the NN\n",
    "        accuracy = 0\n",
    "        mean_loss = 0\n",
    "        \n",
    "        #shuffle to reduce overfitting\n",
    "        c = list(zip(X_train, y_train))\n",
    "        random.shuffle(c)\n",
    "        X_train, y_train = zip(*c)\n",
    "        \n",
    "        for sent,label in zip(X_train , y_train):\n",
    "            \n",
    "            # zero the parameter gradients\n",
    "            optimizer.zero_grad()\n",
    "            \n",
    "            #creating the tensors for inputs\n",
    "            data = torch.LongTensor([token_index.str_to_id(word) for word in sent])\n",
    "            label = torch.Tensor([label])\n",
    "            \n",
    "            #prediction and loss\n",
    "            pred = model(data)\n",
    "            output = loss(pred , label)\n",
    "            mean_loss+=output.item()\n",
    "            \n",
    "            #backward and updates\n",
    "            output.backward()\n",
    "            optimizer.step()\n",
    "\n",
    "            #computing accuracy\n",
    "            if (pred >= 0.5 and label==1):\n",
    "                accuracy += 1\n",
    "            if(pred<0.5 and label==0):\n",
    "                accuracy += 1\n",
    "            \n",
    "        mean_loss_train.append(mean_loss/len(X_train))\n",
    "        acc_train.append(accuracy/len(X_train))\n",
    "        \n",
    "        print(\"EPOCH\" , str(i+1) ,\"On training : Mean Loss :\" , mean_loss/len(X_train) , \"Accuracy :\" ,accuracy/len(X_train))\n",
    "\n",
    "\n",
    "        mean_loss = 0\n",
    "        accuracy = 0\n",
    "        \n",
    "        ###testing on dev data#########\n",
    "        for sent,label in zip(X_dev,y_dev):\n",
    "            data = torch.LongTensor([token_index.str_to_id(word) for word in sent])\n",
    "            label = torch.Tensor([label])\n",
    "            \n",
    "            #prediction and loss\n",
    "            pred = model(data)\n",
    "            output = loss(pred , label)\n",
    "            \n",
    "            mean_loss+=output.item()\n",
    "            \n",
    "            \n",
    "            #computing accuracy\n",
    "            if (pred >= 0.5 and label==1):\n",
    "                accuracy += 1\n",
    "            if(pred<0.5 and label==0):\n",
    "                accuracy += 1\n",
    "            \n",
    "        print(\"EPOCH\" , str(i+1) ,\"On Dev  :Mean Loss :\" , mean_loss/len(X_dev) , \"Accuracy :\" ,accuracy/len(X_dev))\n",
    "        print()\n",
    "\n",
    "        mean_loss_dev.append(mean_loss/len(X_dev))\n",
    "        acc_dev.append(accuracy/len(X_dev))\n",
    "          \n",
    "            \n",
    "            \n",
    "    #Plotting loss accuracy for  test and train\n",
    "    plt.plot(acc_train , label='Train')\n",
    "    plt.plot(acc_dev, label=\"Dev\")\n",
    "    plt.title(\"Accuracy\")\n",
    "    plt.legend()\n",
    "    plt.figure()\n",
    "    \n",
    "    plt.plot(mean_loss_train , label='Train')\n",
    "    plt.plot(mean_loss_dev, label=\"Dev\")\n",
    "    plt.title(\"Loss\")\n",
    "    plt.legend()\n",
    "    plt.figure()\n"
   ]
  },
  {
   "cell_type": "code",
   "execution_count": 28,
   "metadata": {},
   "outputs": [],
   "source": [
    "class CBOW_classifier_1_hidden(nn.Module):\n",
    "    def __init__(self, vocab_size , embedding_dim=100):\n",
    "        super(CBOW_classifier_1_hidden, self).__init__()\n",
    "        # To create an embedding table: https://pytorch.org/docs/stable/nn.html#torch.nn.Embedding\n",
    "        self.emb_db = torch.nn.Embedding(num_embeddings = vocab_size ,embedding_dim=embedding_dim)\n",
    "        \n",
    "        #1st hidden layer with 50 hidden unit\n",
    "        self.hidden1 = torch.nn.Linear(embedding_dim , 50)\n",
    "        #ouput layer\n",
    "        self.output = torch.nn.Linear(50,1)\n",
    "        \n",
    "        \n",
    "        #initialisation\n",
    "        torch.nn.init.xavier_uniform_(self.hidden1.weight.data)\n",
    "        torch.nn.init.zeros_(self.hidden1.bias.data)\n",
    "        \n",
    "        torch.nn.init.xavier_uniform_(self.output.weight.data)\n",
    "        torch.nn.init.zeros_(self.output.bias.data)\n",
    "        \n",
    "        \n",
    "    def forward(self, inputs):\n",
    "        \n",
    "        x = self.emb_db(inputs)\n",
    "        x = torch.sum(x ,dim=0)\n",
    "        x = F.tanh(self.hidden1(x))\n",
    "        \n",
    "        output = F.sigmoid(self.output(x))\n",
    "        \n",
    "        return(output)"
   ]
  },
  {
   "cell_type": "code",
   "execution_count": 29,
   "metadata": {},
   "outputs": [],
   "source": [
    "loss = torch.nn.BCELoss()"
   ]
  },
  {
   "cell_type": "code",
   "execution_count": 30,
   "metadata": {},
   "outputs": [],
   "source": [
    "model3 = CBOW_classifier_1_hidden(vocab_size=len(token_index)+1)"
   ]
  },
  {
   "cell_type": "code",
   "execution_count": 31,
   "metadata": {
    "scrolled": false
   },
   "outputs": [
    {
     "name": "stdout",
     "output_type": "stream",
     "text": [
      "EPOCH 1 On training : Mean Loss : 0.6560366177733665 Accuracy : 0.6244444444444445\n",
      "EPOCH 1 On Dev  :Mean Loss : 0.6201479340510236 Accuracy : 0.65\n",
      "\n",
      "EPOCH 2 On training : Mean Loss : 0.604496544185152 Accuracy : 0.6697530864197531\n",
      "EPOCH 2 On Dev  :Mean Loss : 0.5817369845012824 Accuracy : 0.6911111111111111\n",
      "\n",
      "EPOCH 3 On training : Mean Loss : 0.5694772482895074 Accuracy : 0.7002469135802469\n",
      "EPOCH 3 On Dev  :Mean Loss : 0.6035668305638764 Accuracy : 0.6711111111111111\n",
      "\n",
      "EPOCH 4 On training : Mean Loss : 0.5350390818757063 Accuracy : 0.7293827160493828\n",
      "EPOCH 4 On Dev  :Mean Loss : 0.5840530064339853 Accuracy : 0.6677777777777778\n",
      "\n",
      "EPOCH 5 On training : Mean Loss : 0.43808439328573806 Accuracy : 0.7976543209876543\n",
      "EPOCH 5 On Dev  :Mean Loss : 0.5691130119505234 Accuracy : 0.6844444444444444\n",
      "\n",
      "EPOCH 6 On training : Mean Loss : 0.4004128266149057 Accuracy : 0.8228395061728395\n",
      "EPOCH 6 On Dev  :Mean Loss : 0.5847315807208522 Accuracy : 0.6877777777777778\n",
      "\n",
      "EPOCH 7 On training : Mean Loss : 0.37489934075740167 Accuracy : 0.8406172839506173\n",
      "EPOCH 7 On Dev  :Mean Loss : 0.5978708841144624 Accuracy : 0.6833333333333333\n",
      "\n",
      "EPOCH 8 On training : Mean Loss : 0.35184368581276815 Accuracy : 0.8544444444444445\n",
      "EPOCH 8 On Dev  :Mean Loss : 0.6087209288865173 Accuracy : 0.6888888888888889\n",
      "\n",
      "EPOCH 9 On training : Mean Loss : 0.3323328946121102 Accuracy : 0.8669135802469136\n",
      "EPOCH 9 On Dev  :Mean Loss : 0.620871112320391 Accuracy : 0.6877777777777778\n",
      "\n",
      "EPOCH 10 On training : Mean Loss : 0.3025550211974697 Accuracy : 0.8880246913580246\n",
      "EPOCH 10 On Dev  :Mean Loss : 0.6218707986389442 Accuracy : 0.6888888888888889\n",
      "\n",
      "EPOCH 11 On training : Mean Loss : 0.2996436138310467 Accuracy : 0.8896296296296297\n",
      "EPOCH 11 On Dev  :Mean Loss : 0.6237147630495666 Accuracy : 0.69\n",
      "\n",
      "EPOCH 12 On training : Mean Loss : 0.29714322364634516 Accuracy : 0.8911111111111111\n",
      "EPOCH 12 On Dev  :Mean Loss : 0.6255161975368133 Accuracy : 0.6888888888888889\n",
      "\n",
      "EPOCH 13 On training : Mean Loss : 0.29491663136916524 Accuracy : 0.8928395061728395\n",
      "EPOCH 13 On Dev  :Mean Loss : 0.6270781616617589 Accuracy : 0.6855555555555556\n",
      "\n",
      "EPOCH 14 On training : Mean Loss : 0.2926957986018794 Accuracy : 0.894320987654321\n",
      "EPOCH 14 On Dev  :Mean Loss : 0.6295956209522491 Accuracy : 0.6855555555555556\n",
      "\n",
      "EPOCH 15 On training : Mean Loss : 0.2893264299751486 Accuracy : 0.8962962962962963\n",
      "EPOCH 15 On Dev  :Mean Loss : 0.6296967271814355 Accuracy : 0.6866666666666666\n",
      "\n",
      "EPOCH 16 On training : Mean Loss : 0.2891081197757632 Accuracy : 0.8965432098765432\n",
      "EPOCH 16 On Dev  :Mean Loss : 0.6298060156611933 Accuracy : 0.6855555555555556\n",
      "\n",
      "EPOCH 17 On training : Mean Loss : 0.28889313891261637 Accuracy : 0.8964197530864197\n",
      "EPOCH 17 On Dev  :Mean Loss : 0.6299258067264196 Accuracy : 0.6855555555555556\n",
      "\n",
      "EPOCH 18 On training : Mean Loss : 0.2886790917214562 Accuracy : 0.8974074074074074\n",
      "EPOCH 18 On Dev  :Mean Loss : 0.6300577099501 Accuracy : 0.6844444444444444\n",
      "\n",
      "EPOCH 19 On training : Mean Loss : 0.2884664941689429 Accuracy : 0.8971604938271605\n",
      "EPOCH 19 On Dev  :Mean Loss : 0.6301964422114219 Accuracy : 0.6844444444444444\n",
      "\n",
      "EPOCH 20 On training : Mean Loss : 0.2881189002018719 Accuracy : 0.8971604938271605\n",
      "EPOCH 20 On Dev  :Mean Loss : 0.6302105175234869 Accuracy : 0.6844444444444444\n",
      "\n",
      "EPOCH 21 On training : Mean Loss : 0.2880980513072544 Accuracy : 0.8971604938271605\n",
      "EPOCH 21 On Dev  :Mean Loss : 0.6302247264014376 Accuracy : 0.6844444444444444\n",
      "\n",
      "EPOCH 22 On training : Mean Loss : 0.28807711009529025 Accuracy : 0.8971604938271605\n",
      "EPOCH 22 On Dev  :Mean Loss : 0.6302390147635661 Accuracy : 0.6844444444444444\n",
      "\n",
      "EPOCH 23 On training : Mean Loss : 0.28805622466473896 Accuracy : 0.8971604938271605\n",
      "EPOCH 23 On Dev  :Mean Loss : 0.6302532319586155 Accuracy : 0.6844444444444444\n",
      "\n",
      "EPOCH 24 On training : Mean Loss : 0.2880353492009723 Accuracy : 0.8974074074074074\n",
      "EPOCH 24 On Dev  :Mean Loss : 0.6302674733957327 Accuracy : 0.6844444444444444\n",
      "\n",
      "EPOCH 25 On training : Mean Loss : 0.288001038529788 Accuracy : 0.8974074074074074\n",
      "EPOCH 25 On Dev  :Mean Loss : 0.6302672687407661 Accuracy : 0.6844444444444444\n",
      "\n",
      "EPOCH 26 On training : Mean Loss : 0.28799978595533493 Accuracy : 0.8974074074074074\n",
      "EPOCH 26 On Dev  :Mean Loss : 0.6302670662707209 Accuracy : 0.6844444444444444\n",
      "\n",
      "EPOCH 27 On training : Mean Loss : 0.28799835528346945 Accuracy : 0.8974074074074074\n",
      "EPOCH 27 On Dev  :Mean Loss : 0.6302668437037048 Accuracy : 0.6844444444444444\n",
      "\n",
      "EPOCH 28 On training : Mean Loss : 0.2879970146663326 Accuracy : 0.8974074074074074\n",
      "EPOCH 28 On Dev  :Mean Loss : 0.6302666297993468 Accuracy : 0.6844444444444444\n",
      "\n",
      "EPOCH 29 On training : Mean Loss : 0.28799573066363754 Accuracy : 0.8974074074074074\n",
      "EPOCH 29 On Dev  :Mean Loss : 0.6302664217200233 Accuracy : 0.6844444444444444\n",
      "\n",
      "EPOCH 30 On training : Mean Loss : 0.2879926605836128 Accuracy : 0.8974074074074074\n",
      "EPOCH 30 On Dev  :Mean Loss : 0.630266388610859 Accuracy : 0.6844444444444444\n",
      "\n"
     ]
    },
    {
     "data": {
      "image/png": "[encoded data removed]",
      "text/plain": [
       "<Figure size 432x288 with 1 Axes>"
      ]
     },
     "metadata": {
      "needs_background": "light"
     },
     "output_type": "display_data"
    },
    {
     "data": {
      "image/png": "[encoded data removed]",
      "text/plain": [
       "<Figure size 432x288 with 1 Axes>"
      ]
     },
     "metadata": {
      "needs_background": "light"
     },
     "output_type": "display_data"
    },
    {
     "data": {
      "text/plain": [
       "<Figure size 432x288 with 0 Axes>"
      ]
     },
     "metadata": {},
     "output_type": "display_data"
    }
   ],
   "source": [
    "train_adaptive_lr(model3 , 30 , lr=0.01 , X_train =X_train ,y_train = y_train , X_dev = X_dev , y_dev = y_dev)"
   ]
  },
  {
   "cell_type": "code",
   "execution_count": 32,
   "metadata": {},
   "outputs": [
    {
     "name": "stdout",
     "output_type": "stream",
     "text": [
      "Accuracy on test set for model 3 is 0.682\n"
     ]
    }
   ],
   "source": [
    "##test on test data with the two different models\n",
    "mean_loss = 0\n",
    "accuracy = 0\n",
    "        \n",
    "###testing on dev data#########\n",
    "for sent,label in zip(X_test,y_test):\n",
    "    data = torch.LongTensor([token_index.str_to_id(word) for word in sent])\n",
    "    label = torch.Tensor([label])\n",
    "            \n",
    "    #prediction and loss\n",
    "    pred = model3(data)\n",
    "    output = loss(pred , label)\n",
    "    mean_loss+=output.item()\n",
    "                        \n",
    "            \n",
    "    #computing accuracy\n",
    "    if (pred >= 0.5 and label==1):\n",
    "        accuracy += 1\n",
    "    if(pred<0.5 and label==0):\n",
    "        accuracy += 1\n",
    "            \n",
    "print(\"Accuracy on test set for model 3 is\" , accuracy/len(X_test))\n",
    "            "
   ]
  },
  {
   "cell_type": "markdown",
   "metadata": {},
   "source": [
    "# TWO HIDDEN LAYERS"
   ]
  },
  {
   "cell_type": "code",
   "execution_count": 33,
   "metadata": {},
   "outputs": [],
   "source": [
    "class CBOW_classifier_2_hidden(nn.Module):\n",
    "    def __init__(self, vocab_size , embedding_dim=100):\n",
    "        super(CBOW_classifier_2_hidden, self).__init__()\n",
    "        # To create an embedding table: https://pytorch.org/docs/stable/nn.html#torch.nn.Embedding\n",
    "        self.emb_db = torch.nn.Embedding(num_embeddings = vocab_size ,embedding_dim=embedding_dim)\n",
    "        \n",
    "        #1st hidden layer with 50 hidden units\n",
    "        self.hidden1 = torch.nn.Linear(embedding_dim , 50)\n",
    "        #2nd hidden layer with 25 hidden units\n",
    "        self.hidden2 = torch.nn.Linear(50 , 25)\n",
    "        #ouput layer\n",
    "        self.output = torch.nn.Linear(25,1)\n",
    "        \n",
    "        \n",
    "        #initialisation\n",
    "        torch.nn.init.xavier_uniform_(self.hidden1.weight.data)\n",
    "        torch.nn.init.zeros_(self.hidden1.bias.data)\n",
    "        \n",
    "        torch.nn.init.xavier_uniform_(self.hidden2.weight.data)\n",
    "        torch.nn.init.zeros_(self.hidden2.bias.data)\n",
    "        \n",
    "        torch.nn.init.xavier_uniform_(self.output.weight.data)\n",
    "        torch.nn.init.zeros_(self.output.bias.data)\n",
    "        \n",
    "        \n",
    "    def forward(self, inputs):\n",
    "        \n",
    "        x = self.emb_db(inputs)\n",
    "        x = torch.sum(x ,dim=0)\n",
    "        x = F.tanh(self.hidden1(x))\n",
    "        x = F.tanh(self.hidden2(x))\n",
    "        output = F.sigmoid(self.output(x))\n",
    "        \n",
    "        return(output)"
   ]
  },
  {
   "cell_type": "code",
   "execution_count": 34,
   "metadata": {},
   "outputs": [],
   "source": [
    "loss = torch.nn.BCELoss()"
   ]
  },
  {
   "cell_type": "code",
   "execution_count": 35,
   "metadata": {},
   "outputs": [],
   "source": [
    "model4 = CBOW_classifier_2_hidden(vocab_size=len(token_index)+1)"
   ]
  },
  {
   "cell_type": "code",
   "execution_count": 36,
   "metadata": {
    "scrolled": false
   },
   "outputs": [
    {
     "name": "stdout",
     "output_type": "stream",
     "text": [
      "EPOCH 1 On training : Mean Loss : 0.6392458617512459 Accuracy : 0.6340740740740741\n",
      "EPOCH 1 On Dev  :Mean Loss : 0.6059946662767066 Accuracy : 0.6744444444444444\n",
      "\n",
      "EPOCH 2 On training : Mean Loss : 0.5786953838289152 Accuracy : 0.6890123456790124\n",
      "EPOCH 2 On Dev  :Mean Loss : 0.6121535939723253 Accuracy : 0.6588888888888889\n",
      "\n",
      "EPOCH 3 On training : Mean Loss : 0.5407462413138767 Accuracy : 0.7253086419753086\n",
      "EPOCH 3 On Dev  :Mean Loss : 0.5998259179728727 Accuracy : 0.68\n",
      "\n",
      "EPOCH 4 On training : Mean Loss : 0.5079754628247961 Accuracy : 0.7482716049382716\n",
      "EPOCH 4 On Dev  :Mean Loss : 0.6026652438002121 Accuracy : 0.6744444444444444\n",
      "\n",
      "EPOCH 5 On training : Mean Loss : 0.41307179001338185 Accuracy : 0.817037037037037\n",
      "EPOCH 5 On Dev  :Mean Loss : 0.6159092837235787 Accuracy : 0.6822222222222222\n",
      "\n",
      "EPOCH 6 On training : Mean Loss : 0.370500308424838 Accuracy : 0.8440740740740741\n",
      "EPOCH 6 On Dev  :Mean Loss : 0.6376277111770792 Accuracy : 0.6877777777777778\n",
      "\n",
      "EPOCH 7 On training : Mean Loss : 0.34191701908001565 Accuracy : 0.8623456790123457\n",
      "EPOCH 7 On Dev  :Mean Loss : 0.6575596373856145 Accuracy : 0.6877777777777778\n",
      "\n",
      "EPOCH 8 On training : Mean Loss : 0.3172181163291536 Accuracy : 0.8725925925925926\n",
      "EPOCH 8 On Dev  :Mean Loss : 0.672018930441894 Accuracy : 0.6822222222222222\n",
      "\n",
      "EPOCH 9 On training : Mean Loss : 0.29481330179595705 Accuracy : 0.8874074074074074\n",
      "EPOCH 9 On Dev  :Mean Loss : 0.6976125535462052 Accuracy : 0.6766666666666666\n",
      "\n",
      "EPOCH 10 On training : Mean Loss : 0.2627717776279674 Accuracy : 0.9050617283950617\n",
      "EPOCH 10 On Dev  :Mean Loss : 0.69986334919134 Accuracy : 0.6777777777777778\n",
      "\n",
      "EPOCH 11 On training : Mean Loss : 0.25862727248939155 Accuracy : 0.9075308641975308\n",
      "EPOCH 11 On Dev  :Mean Loss : 0.7028103900142985 Accuracy : 0.6811111111111111\n",
      "\n",
      "EPOCH 12 On training : Mean Loss : 0.2556421500023107 Accuracy : 0.9085185185185185\n",
      "EPOCH 12 On Dev  :Mean Loss : 0.7048800500728734 Accuracy : 0.6777777777777778\n",
      "\n",
      "EPOCH 13 On training : Mean Loss : 0.25287837892342296 Accuracy : 0.9098765432098765\n",
      "EPOCH 13 On Dev  :Mean Loss : 0.7079388383986467 Accuracy : 0.6811111111111111\n",
      "\n",
      "EPOCH 14 On training : Mean Loss : 0.2502971567780782 Accuracy : 0.9113580246913581\n",
      "EPOCH 14 On Dev  :Mean Loss : 0.7102373434727229 Accuracy : 0.68\n",
      "\n",
      "EPOCH 15 On training : Mean Loss : 0.24635353436841223 Accuracy : 0.9130864197530865\n",
      "EPOCH 15 On Dev  :Mean Loss : 0.7106022585667637 Accuracy : 0.68\n",
      "\n",
      "EPOCH 16 On training : Mean Loss : 0.24609615105100535 Accuracy : 0.9130864197530865\n",
      "EPOCH 16 On Dev  :Mean Loss : 0.7109503347215004 Accuracy : 0.68\n",
      "\n",
      "EPOCH 17 On training : Mean Loss : 0.24584058816630946 Accuracy : 0.9133333333333333\n",
      "EPOCH 17 On Dev  :Mean Loss : 0.7112896809611023 Accuracy : 0.6788888888888889\n",
      "\n",
      "EPOCH 18 On training : Mean Loss : 0.245586905488677 Accuracy : 0.9133333333333333\n",
      "EPOCH 18 On Dev  :Mean Loss : 0.71162112704344 Accuracy : 0.6788888888888889\n",
      "\n",
      "EPOCH 19 On training : Mean Loss : 0.24533380179771977 Accuracy : 0.9134567901234568\n",
      "EPOCH 19 On Dev  :Mean Loss : 0.7119580216021859 Accuracy : 0.6788888888888889\n",
      "\n",
      "EPOCH 20 On training : Mean Loss : 0.24493340466304267 Accuracy : 0.9137037037037037\n",
      "EPOCH 20 On Dev  :Mean Loss : 0.7119835810037977 Accuracy : 0.6788888888888889\n",
      "\n"
     ]
    },
    {
     "data": {
      "image/png": "[encoded data removed]",
      "text/plain": [
       "<Figure size 432x288 with 1 Axes>"
      ]
     },
     "metadata": {
      "needs_background": "light"
     },
     "output_type": "display_data"
    },
    {
     "data": {
      "image/png": "[encoded data removed]",
      "text/plain": [
       "<Figure size 432x288 with 1 Axes>"
      ]
     },
     "metadata": {
      "needs_background": "light"
     },
     "output_type": "display_data"
    },
    {
     "data": {
      "text/plain": [
       "<Figure size 432x288 with 0 Axes>"
      ]
     },
     "metadata": {},
     "output_type": "display_data"
    }
   ],
   "source": [
    "train_adaptive_lr(model4 , 20 , lr=0.01 , X_train =X_train ,y_train = y_train , X_dev = X_dev , y_dev = y_dev)"
   ]
  },
  {
   "cell_type": "code",
   "execution_count": 37,
   "metadata": {},
   "outputs": [
    {
     "name": "stdout",
     "output_type": "stream",
     "text": [
      "Accuracy on test set for model 4 is 0.685\n"
     ]
    }
   ],
   "source": [
    "##test on test data with the two different models\n",
    "mean_loss = 0\n",
    "accuracy = 0\n",
    "        \n",
    "###testing on dev data#########\n",
    "for sent,label in zip(X_test,y_test):\n",
    "    data = torch.LongTensor([token_index.str_to_id(word) for word in sent])\n",
    "    label = torch.Tensor([label])\n",
    "            \n",
    "    #prediction and loss\n",
    "    pred = model4(data)\n",
    "    output = loss(pred , label)\n",
    "    mean_loss+=output.item()\n",
    "                        \n",
    "            \n",
    "    #computing accuracy\n",
    "    if (pred >= 0.5 and label==1):\n",
    "        accuracy += 1\n",
    "    if(pred<0.5 and label==0):\n",
    "        accuracy += 1\n",
    "            \n",
    "print(\"Accuracy on test set for model 4 is\" , accuracy/len(X_test))\n",
    "            "
   ]
  }
 ],
 "metadata": {
  "kernelspec": {
   "display_name": "Python 3",
   "language": "python",
   "name": "python3"
  },
  "language_info": {
   "codemirror_mode": {
    "name": "ipython",
    "version": 3
   },
   "file_extension": ".py",
   "mimetype": "text/x-python",
   "name": "python",
   "nbconvert_exporter": "python",
   "pygments_lexer": "ipython3",
   "version": "3.7.3"
  }
 },
 "nbformat": 4,
 "nbformat_minor": 2
}
