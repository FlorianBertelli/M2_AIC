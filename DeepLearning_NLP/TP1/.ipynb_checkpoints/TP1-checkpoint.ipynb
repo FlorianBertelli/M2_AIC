{
 "cells": [
  {
   "cell_type": "code",
   "execution_count": 21,
   "metadata": {},
   "outputs": [],
   "source": [
    "import re\n",
    "import numpy as np\n",
    "import torch\n",
    "import torch.autograd as ag\n",
    "import torch.nn.functional as F\n",
    "import torch.nn as nn\n",
    "import matplotlib.pyplot as plt\n",
    "import random"
   ]
  },
  {
   "cell_type": "markdown",
   "metadata": {},
   "source": [
    "# Deep Learning for NLP - lab exercise 1\n",
    "\n",
    "In this first lab exercise we will implement a simple bag-of-word classifier, i.e. a classifier that ignores the sequential structure of the sentence. The goal is to predict if a sentence is a positive or negative review of a movie. We will use a dataset constructed from IMDB.\n",
    "\n",
    "1. Load and clean the data\n",
    "2. Preprocess the data for the NN\n",
    "3. Module definition\n",
    "4. Train the network!\n",
    "\n",
    "We will implement this model with Pytorch, the most popular deep learning framework for Natural Language Processing. You can use the following links for help:\n",
    "* turorials: http://pytorch.org/tutorials/\n",
    "* documentation: http://pytorch.org/docs/master/ \n",
    "\n",
    "**Hard deadline**: December 3, 2019\n",
    "\n",
    "\n",
    "## Report\n",
    "\n",
    "On top of this notebook, you must submit a report explaining your neural network, it's training method and report+analyse results, for example with different hyper-parameters (number of hidden layers, different embedding size, different hidden representation size, w or w/o dropout...you choose what you want to explore!).\n",
    "You can also report results with different training dataset sizes (how does the number of training instances impact dev/test results? => *WARNING* obviously, here you change the training set size but you freeze the dev/test sets).\n",
    "\n",
    "Training with the full dataset may be slow depending on your computer.\n",
    "\n",
    "## Data\n",
    "\n",
    "The data can be download here: http://teaching.caio-corro.fr/2019-2020/OPT7/imdb.zip\n",
    "\n",
    "There are two files: one with positive reviews (imdb.pos) and one with negative reviews (imdb.neg). Each file contains 300000 reviews, one per line.\n",
    "\n",
    "\n",
    "The following functions can be used to load and clean the data."
   ]
  },
  {
   "cell_type": "code",
   "execution_count": 22,
   "metadata": {},
   "outputs": [],
   "source": [
    "# Tokenize a sentence\n",
    "def clean_str(string, tolower=True):\n",
    "    \"\"\"\n",
    "    Tokenization/string cleaning.\n",
    "    Original taken from https://github.com/yoonkim/CNN_sentence/blob/master/process_data.py\n",
    "    \"\"\"\n",
    "    string = re.sub(r\"[^A-Za-z0-9(),!?\\'\\`]\", \" \", string)\n",
    "    string = re.sub(r\"\\'s\", \" \\'s\", string)\n",
    "    string = re.sub(r\"\\'ve\", \" \\'ve\", string)\n",
    "    string = re.sub(r\"n\\'t\", \" n\\'t\", string)\n",
    "    string = re.sub(r\"\\'re\", \" \\'re\", string)\n",
    "    string = re.sub(r\"\\'d\", \" \\'d\", string)\n",
    "    string = re.sub(r\"\\'ll\", \" \\'ll\", string)\n",
    "    string = re.sub(r\",\", \" , \", string)\n",
    "    string = re.sub(r\"!\", \" ! \", string)\n",
    "    string = re.sub(r\"\\(\", \" \\( \", string)\n",
    "    string = re.sub(r\"\\)\", \" \\) \", string)\n",
    "    string = re.sub(r\"\\?\", \" \\? \", string)\n",
    "    string = re.sub(r\"\\s{2,}\", \" \", string)\n",
    "    if tolower:\n",
    "        string = string.lower()\n",
    "    return string.strip()\n",
    "\n",
    "\n",
    "# reads the content of the file passed as an argument.\n",
    "# if limit > 0, this function will return only the first \"limit\" sentences in the file.\n",
    "def loadTexts(filename, limit=-1):\n",
    "    f = open(filename)\n",
    "    dataset=[]\n",
    "    line =  f.readline()\n",
    "    cpt=1\n",
    "    skip=0\n",
    "    while line :\n",
    "        cleanline = clean_str(f.readline()).split()\n",
    "        if cleanline: \n",
    "            dataset.append(cleanline)\n",
    "        else: \n",
    "            line = f.readline()\n",
    "            skip+=1\n",
    "            continue\n",
    "        if limit > 0 and cpt >= limit: \n",
    "            break\n",
    "        line = f.readline()\n",
    "        cpt+=1        \n",
    "        \n",
    "    f.close()\n",
    "    print(\"Load \", cpt, \" lines from \", filename , \" / \", skip ,\" lines discarded\")\n",
    "    return dataset\n"
   ]
  },
  {
   "cell_type": "markdown",
   "metadata": {},
   "source": [
    "The following cell load the first 5000 sentences in each review set."
   ]
  },
  {
   "cell_type": "code",
   "execution_count": 23,
   "metadata": {},
   "outputs": [
    {
     "name": "stdout",
     "output_type": "stream",
     "text": [
      "Load  5000  lines from  imdb.pos  /  1  lines discarded\n",
      "Load  5000  lines from  imdb.neg  /  1  lines discarded\n"
     ]
    }
   ],
   "source": [
    "LIM=5000\n",
    "txtfile = 'imdb.pos'  # path of the file containing positive reviews\n",
    "postxt = loadTexts(txtfile,limit=LIM)\n",
    "\n",
    "txtfile = 'imdb.neg' # path of the file containing negative reviews\n",
    "negtxt = loadTexts(txtfile,limit=LIM)"
   ]
  },
  {
   "cell_type": "markdown",
   "metadata": {},
   "source": [
    "Split the data between train / dev / test, for example by creating lists txt_train, label_train, txt_dev, ... You should take care to keep a 50/50 ratio between positive and negative instances in each set."
   ]
  },
  {
   "cell_type": "code",
   "execution_count": 24,
   "metadata": {},
   "outputs": [],
   "source": [
    "data = postxt + negtxt\n",
    "label = np.concatenate((np.ones(len(postxt)),np.zeros(len(negtxt))),axis=0)"
   ]
  },
  {
   "cell_type": "code",
   "execution_count": 25,
   "metadata": {},
   "outputs": [
    {
     "name": "stdout",
     "output_type": "stream",
     "text": [
      "['get', 'in', 'the', 'back', 'of', 'the', 'van', '!']\n",
      "1.0\n"
     ]
    }
   ],
   "source": [
    "print(data[10])\n",
    "print(label[10])"
   ]
  },
  {
   "cell_type": "code",
   "execution_count": 26,
   "metadata": {},
   "outputs": [],
   "source": [
    "from sklearn.model_selection import train_test_split\n",
    "X_train, X_test, y_train, y_test = train_test_split(data, label, test_size=0.1, random_state=1 ,stratify=label)\n",
    "X_train,X_dev,y_train,y_dev = train_test_split(X_train , y_train , test_size=0.1, random_state = 1 , stratify=y_train)"
   ]
  },
  {
   "cell_type": "code",
   "execution_count": 27,
   "metadata": {},
   "outputs": [
    {
     "name": "stdout",
     "output_type": "stream",
     "text": [
      "['laughton', 'enjoyable', 'in', 'this', 'low', 'budget', 'pirate', 'saga']\n",
      "0.0\n"
     ]
    }
   ],
   "source": [
    "print(X_train[10])\n",
    "print(y_train[10])"
   ]
  },
  {
   "cell_type": "markdown",
   "metadata": {},
   "source": [
    "# Converting data to Pytorch tensors\n",
    "\n",
    "We will first convert data to Pytorch tensors so they can be used in a neural network.\n",
    "To do that, you must first create a dictionnary that will map words to integers.\n",
    "Add to the dictionnary only words that are in the training set (be sure to understand why we do that!).\n",
    "\n",
    "Then, you can convert the data to tensors:\n",
    "- use tensors of longs: both the sentence and the label will be represented as integers, not floats!\n",
    "- these tensors do not require a gradient\n",
    "\n",
    "A tensor representing a sentence is composed of the integer representation of each word, e.g. [10, 256, 3, 4].\n",
    "Note that some words in the dev and test sets may not be in the dictionnary! (i.e. unknown words)\n",
    "You can just skip them."
   ]
  },
  {
   "cell_type": "code",
   "execution_count": 28,
   "metadata": {},
   "outputs": [],
   "source": [
    "class Dict:\n",
    "    def __init__(self, words, unk=None):\n",
    "        self._unk = unk\n",
    "        self._word_to_id = dict()\n",
    "        self._id_to_word = list()\n",
    "\n",
    "        if unk in words:\n",
    "            raise RuntimeError(\"UNK word exists in vocabulary\")\n",
    "\n",
    "        if unk is not None:\n",
    "            self.unk_index = self._add_word(unk)\n",
    "\n",
    "        for word in words:\n",
    "            self._add_word(word)\n",
    "\n",
    "    # for internal use only!\n",
    "    def _add_word(self, word):\n",
    "        if word not in self._word_to_id:\n",
    "            id = len(self._id_to_word)\n",
    "            self._word_to_id[word] = id\n",
    "            self._id_to_word.append(word)\n",
    "            return id\n",
    "        else:\n",
    "            return self._word_to_id[word]\n",
    "\n",
    "    def str_to_id(self, word):\n",
    "        if self._unk is not None:\n",
    "            return self._word_to_id.get(word, self.unk_index)\n",
    "        else:\n",
    "            return self._word_to_id[word]\n",
    "\n",
    "    def id_to_str(self, id):\n",
    "        return self._id_to_word[id]\n",
    "\n",
    "    def __len__(self):\n",
    "        return len(self._word_to_id)\n",
    "\n",
    "    def has_unk(self):\n",
    "        return self._unk is not None\n",
    "    \n",
    "    def unk(self):\n",
    "        return self.unk_index"
   ]
  },
  {
   "cell_type": "code",
   "execution_count": 29,
   "metadata": {},
   "outputs": [],
   "source": [
    "#Creating a dict where each word is associated to a number\n",
    "token_index = {}\n",
    "for sent in X_train:\n",
    "    for word in sent:\n",
    "        if word not in token_index:\n",
    "            token_index[word] = len(token_index) + 1\n",
    "            \n",
    "#Don't forget to add the unk = True because some words maybe in the dev or test but not in the train\n",
    "token_index = Dict(token_index, unk=True)\n"
   ]
  },
  {
   "cell_type": "markdown",
   "metadata": {},
   "source": [
    "# Neural network definition\n",
    "\n",
    "The neural network should be defined as follows:\n",
    "- it takes as input a tensor that is a sequence of integers indexing word embeddings\n",
    "- it retrieves the word embeddings from an embedding table\n",
    "- it constructs the \"input\" of the MLP by summing over all embeddingsÂ (i.e. bag-of-word model)\n",
    "- it build a hidden represention using a MLP (1 layer? 2 layers? experiment! but maybe first try wihout any hidden layer...)\n",
    "- it project the hidden representation to the output space: it is a binary classification task, so the output space is a scalar where a negative (resp. positive) value means the review is negative (resp. positive)."
   ]
  },
  {
   "cell_type": "code",
   "execution_count": 30,
   "metadata": {},
   "outputs": [],
   "source": [
    "class CBOW_classifier(nn.Module):\n",
    "    def __init__(self, vocab_size , embedding_dim=100):\n",
    "        super(CBOW_classifier, self).__init__()\n",
    "        # To create an embedding table: https://pytorch.org/docs/stable/nn.html#torch.nn.Embedding\n",
    "        self.emb_db = torch.nn.Embedding(num_embeddings = vocab_size ,embedding_dim=embedding_dim)\n",
    "        \n",
    "        #1st hidden layer\n",
    "       # self.hidden1 = torch.nn.Linear(embedding_dim , 50)\n",
    "        #ouput layer\n",
    "        self.output = torch.nn.Linear(embedding_dim,1)\n",
    "        \n",
    "        \n",
    "        #initialisation\n",
    "#         torch.nn.init.xavier_uniform_(self.hidden1.weight.data)\n",
    "#         torch.nn.init.zeros_(self.hidden1.bias.data)\n",
    "        \n",
    "        torch.nn.init.xavier_uniform_(self.output.weight.data)\n",
    "        torch.nn.init.zeros_(self.output.bias.data)\n",
    "        \n",
    "        \n",
    "    def forward(self, inputs):\n",
    "        \n",
    "        x = self.emb_db(inputs)\n",
    "        x = torch.sum(x ,dim=0)\n",
    "      #  x = F.tanh(self.hidden1(x))\n",
    "        \n",
    "        output = F.sigmoid(self.output(x))\n",
    "        \n",
    "        return(output)"
   ]
  },
  {
   "cell_type": "markdown",
   "metadata": {},
   "source": [
    "## Loss function\n",
    "\n",
    "Create a loss function builder.\n",
    "\n",
    "- Pytorch loss functions are documented here: https://pytorch.org/docs/stable/nn.html#loss-functions\n",
    "- In our case, we are interested in *BCELoss* and *BCEWithLogitsLoss*. Read their documentation and choose the one that fits with your network output"
   ]
  },
  {
   "cell_type": "code",
   "execution_count": 31,
   "metadata": {},
   "outputs": [],
   "source": [
    "loss = torch.nn.BCELoss()"
   ]
  },
  {
   "cell_type": "markdown",
   "metadata": {
    "collapsed": true
   },
   "source": [
    "## Training loop\n",
    "\n",
    "Write your training loop!\n",
    "\n",
    "- parameterizable number of epochs\n",
    "- at each epoch, print the mean loss and the dev accuracy"
   ]
  },
  {
   "cell_type": "code",
   "execution_count": 32,
   "metadata": {},
   "outputs": [],
   "source": [
    "model1 = CBOW_classifier(vocab_size=len(token_index)+1)"
   ]
  },
  {
   "cell_type": "code",
   "execution_count": 36,
   "metadata": {},
   "outputs": [],
   "source": [
    "def train(model , epochs, lr ,X_train ,y_train , X_dev , y_dev , optimizer =\"SGD\"):\n",
    "    \n",
    "    #defining various types of optimizer\n",
    "    if (optimizer==\"SGD\"):\n",
    "        optimizer = torch.optim.SGD(params=model.parameters(), lr =lr, weight_decay=1e-4)   \n",
    "    if (optimizer== \"AdaDelta\"):\n",
    "        optimizer = torch.optim.Adadelta(params=model.parameters(), lr=1.0, rho=0.9, eps=1e-06, weight_decay=0)\n",
    "        \n",
    "        \n",
    "    #variables to see the progression\n",
    "    mean_loss_train = []\n",
    "    mean_loss_dev = []\n",
    "    acc_train = []\n",
    "    acc_dev = []\n",
    "    \n",
    "    \n",
    "    #passe le modele en mode training\n",
    "    model.train()\n",
    "    \n",
    "    for i in range(epochs):\n",
    "        #defining parameters to print the evolution of the NN\n",
    "        accuracy = 0\n",
    "        mean_loss = 0\n",
    "        \n",
    "        #shuffle to reduce overfitting\n",
    "        c = list(zip(X_train, y_train))\n",
    "        random.shuffle(c)\n",
    "        X_train, y_train = zip(*c)\n",
    "        \n",
    "        for sent,label in zip(X_train , y_train):\n",
    "            \n",
    "            # zero the parameter gradients\n",
    "            optimizer.zero_grad()\n",
    "            \n",
    "            #creating the tensors for inputs\n",
    "            data = torch.LongTensor([token_index.str_to_id(word) for word in sent])\n",
    "            label = torch.Tensor([label])\n",
    "            \n",
    "            #prediction and loss\n",
    "            pred = model(data)\n",
    "            output = loss(pred , label)\n",
    "            mean_loss+=output.item()\n",
    "            \n",
    "            #backward and updates\n",
    "            output.backward()\n",
    "            optimizer.step()\n",
    "\n",
    "            #computing accuracy\n",
    "            if (pred >= 0.5 and label==1):\n",
    "                accuracy += 1\n",
    "            if(pred<0.5 and label==0):\n",
    "                accuracy += 1\n",
    "            \n",
    "        mean_loss_train.append(mean_loss/len(X_train))\n",
    "        acc_train.append(accuracy/len(X_train))\n",
    "        \n",
    "        print(\"EPOCH\" , str(i+1) ,\"On training : Mean Loss :\" , mean_loss/len(X_train) , \"Accuracy :\" ,accuracy/len(X_train))\n",
    "\n",
    "\n",
    "        mean_loss = 0\n",
    "        accuracy = 0\n",
    "        \n",
    "        ###testing on dev data#########\n",
    "        for sent,label in zip(X_dev,y_dev):\n",
    "            data = torch.LongTensor([token_index.str_to_id(word) for word in sent])\n",
    "            label = torch.Tensor([label])\n",
    "            \n",
    "            #prediction and loss\n",
    "            pred = model(data)\n",
    "            output = loss(pred , label)\n",
    "            \n",
    "            mean_loss+=output.item()\n",
    "            \n",
    "            \n",
    "            #computing accuracy\n",
    "            if (pred >= 0.5 and label==1):\n",
    "                accuracy += 1\n",
    "            if(pred<0.5 and label==0):\n",
    "                accuracy += 1\n",
    "            \n",
    "        print(\"EPOCH\" , str(i+1) ,\"On Dev  :Mean Loss :\" , mean_loss/len(X_dev) , \"Accuracy :\" ,accuracy/len(X_dev))\n",
    "        print()\n",
    "\n",
    "        mean_loss_dev.append(mean_loss/len(X_dev))\n",
    "        acc_dev.append(accuracy/len(X_dev))\n",
    "          \n",
    "            \n",
    "            \n",
    "    #Plotting loss accuracy for  test and train\n",
    "    plt.plot(acc_train , label='Train')\n",
    "    plt.plot(acc_dev, label=\"Dev\")\n",
    "    plt.title(\"Accuracy\")\n",
    "    plt.legend()\n",
    "    plt.figure()\n",
    "    \n",
    "    plt.plot(mean_loss_train , label='Train')\n",
    "    plt.plot(mean_loss_dev, label=\"Dev\")\n",
    "    plt.title(\"Loss\")\n",
    "    plt.legend()\n",
    "    plt.figure()\n"
   ]
  },
  {
   "cell_type": "code",
   "execution_count": 34,
   "metadata": {},
   "outputs": [
    {
     "name": "stderr",
     "output_type": "stream",
     "text": [
      "/opt/anaconda3/lib/python3.7/site-packages/torch/nn/functional.py:1386: UserWarning: nn.functional.sigmoid is deprecated. Use torch.sigmoid instead.\n",
      "  warnings.warn(\"nn.functional.sigmoid is deprecated. Use torch.sigmoid instead.\")\n"
     ]
    },
    {
     "name": "stdout",
     "output_type": "stream",
     "text": [
      "EPOCH 1 On training : Mean Loss : 11.291745535316766 Accuracy : 0.5867901234567902\n",
      "EPOCH 1 On Dev  :Mean Loss : 10.870398487242136 Accuracy : 0.6088888888888889\n",
      "\n",
      "EPOCH 2 On training : Mean Loss : 10.086392111378057 Accuracy : 0.6398765432098765\n",
      "EPOCH 2 On Dev  :Mean Loss : 9.606578585294027 Accuracy : 0.6422222222222222\n",
      "\n",
      "EPOCH 3 On training : Mean Loss : 9.001342265065556 Accuracy : 0.677037037037037\n",
      "EPOCH 3 On Dev  :Mean Loss : 9.633064150677049 Accuracy : 0.6477777777777778\n",
      "\n",
      "EPOCH 4 On training : Mean Loss : 8.887184237022584 Accuracy : 0.681358024691358\n",
      "EPOCH 4 On Dev  :Mean Loss : 10.13446922901932 Accuracy : 0.65\n",
      "\n",
      "EPOCH 5 On training : Mean Loss : 8.899059735638142 Accuracy : 0.6824691358024692\n",
      "EPOCH 5 On Dev  :Mean Loss : 9.42115355458442 Accuracy : 0.6655555555555556\n",
      "\n",
      "EPOCH 6 On training : Mean Loss : 8.460575080621174 Accuracy : 0.7\n",
      "EPOCH 6 On Dev  :Mean Loss : 8.91239925754685 Accuracy : 0.6888888888888889\n",
      "\n",
      "EPOCH 7 On training : Mean Loss : 8.035290273050187 Accuracy : 0.7146913580246913\n",
      "EPOCH 7 On Dev  :Mean Loss : 8.530848261467543 Accuracy : 0.6911111111111111\n",
      "\n",
      "EPOCH 8 On training : Mean Loss : 8.324477634984692 Accuracy : 0.701604938271605\n",
      "EPOCH 8 On Dev  :Mean Loss : 8.566439674422828 Accuracy : 0.6844444444444444\n",
      "\n",
      "EPOCH 9 On training : Mean Loss : 7.661230523480388 Accuracy : 0.7318518518518519\n",
      "EPOCH 9 On Dev  :Mean Loss : 8.10652101039144 Accuracy : 0.7033333333333334\n",
      "\n",
      "EPOCH 10 On training : Mean Loss : 7.0814173246106815 Accuracy : 0.7437037037037038\n",
      "EPOCH 10 On Dev  :Mean Loss : 7.1234460008079825 Accuracy : 0.7344444444444445\n",
      "\n",
      "EPOCH 11 On training : Mean Loss : 6.962615625366163 Accuracy : 0.7527160493827161\n",
      "EPOCH 11 On Dev  :Mean Loss : 6.712567930515467 Accuracy : 0.7288888888888889\n",
      "\n",
      "EPOCH 12 On training : Mean Loss : 4.842101310741802 Accuracy : 0.7693827160493827\n",
      "EPOCH 12 On Dev  :Mean Loss : 4.186665696979758 Accuracy : 0.7355555555555555\n",
      "\n",
      "EPOCH 13 On training : Mean Loss : 3.586245453566572 Accuracy : 0.7813580246913581\n",
      "EPOCH 13 On Dev  :Mean Loss : 3.6175603970859056 Accuracy : 0.74\n",
      "\n",
      "EPOCH 14 On training : Mean Loss : 2.587905123065338 Accuracy : 0.7902469135802469\n",
      "EPOCH 14 On Dev  :Mean Loss : 3.221978295329708 Accuracy : 0.7477777777777778\n",
      "\n",
      "EPOCH 15 On training : Mean Loss : 1.7903141100169235 Accuracy : 0.8039506172839506\n",
      "EPOCH 15 On Dev  :Mean Loss : 1.9081517433215147 Accuracy : 0.7288888888888889\n",
      "\n",
      "EPOCH 16 On training : Mean Loss : 1.1919690580314592 Accuracy : 0.8124691358024692\n",
      "EPOCH 16 On Dev  :Mean Loss : 1.3689522435816273 Accuracy : 0.7533333333333333\n",
      "\n",
      "EPOCH 17 On training : Mean Loss : 0.8559370754069291 Accuracy : 0.8279012345679012\n",
      "EPOCH 17 On Dev  :Mean Loss : 1.0891290126980473 Accuracy : 0.76\n",
      "\n",
      "EPOCH 18 On training : Mean Loss : 0.6344084141812254 Accuracy : 0.8411111111111111\n",
      "EPOCH 18 On Dev  :Mean Loss : 0.966372190531531 Accuracy : 0.7522222222222222\n",
      "\n",
      "EPOCH 19 On training : Mean Loss : 0.5022747969497131 Accuracy : 0.8576543209876544\n",
      "EPOCH 19 On Dev  :Mean Loss : 0.8461171889054594 Accuracy : 0.7666666666666667\n",
      "\n",
      "EPOCH 20 On training : Mean Loss : 0.430978536320847 Accuracy : 0.867037037037037\n",
      "EPOCH 20 On Dev  :Mean Loss : 0.6827261449064012 Accuracy : 0.7766666666666666\n",
      "\n",
      "EPOCH 21 On training : Mean Loss : 0.3715209139482799 Accuracy : 0.8777777777777778\n",
      "EPOCH 21 On Dev  :Mean Loss : 0.7397826329470383 Accuracy : 0.7455555555555555\n",
      "\n",
      "EPOCH 22 On training : Mean Loss : 0.3195414260858282 Accuracy : 0.8922222222222222\n",
      "EPOCH 22 On Dev  :Mean Loss : 0.7192701467241431 Accuracy : 0.7666666666666667\n",
      "\n",
      "EPOCH 23 On training : Mean Loss : 0.30372954574566746 Accuracy : 0.8979012345679013\n",
      "EPOCH 23 On Dev  :Mean Loss : 0.7741755717010586 Accuracy : 0.7733333333333333\n",
      "\n",
      "EPOCH 24 On training : Mean Loss : 0.3082635496925241 Accuracy : 0.8988888888888888\n",
      "EPOCH 24 On Dev  :Mean Loss : 0.6955166122196993 Accuracy : 0.7766666666666666\n",
      "\n",
      "EPOCH 25 On training : Mean Loss : 0.2974241139785295 Accuracy : 0.9034567901234568\n",
      "EPOCH 25 On Dev  :Mean Loss : 0.6734569708255108 Accuracy : 0.7833333333333333\n",
      "\n",
      "EPOCH 26 On training : Mean Loss : 0.27475040349935775 Accuracy : 0.9058024691358024\n",
      "EPOCH 26 On Dev  :Mean Loss : 0.6166411064235534 Accuracy : 0.7733333333333333\n",
      "\n",
      "EPOCH 27 On training : Mean Loss : 0.2520434697737436 Accuracy : 0.9112345679012346\n",
      "EPOCH 27 On Dev  :Mean Loss : 0.7367391613168125 Accuracy : 0.7633333333333333\n",
      "\n",
      "EPOCH 28 On training : Mean Loss : 0.2837018256108018 Accuracy : 0.9151851851851852\n",
      "EPOCH 28 On Dev  :Mean Loss : 0.7526586847524214 Accuracy : 0.7522222222222222\n",
      "\n",
      "EPOCH 29 On training : Mean Loss : 0.24773864648464242 Accuracy : 0.9167901234567901\n",
      "EPOCH 29 On Dev  :Mean Loss : 0.6247679436945175 Accuracy : 0.7655555555555555\n",
      "\n",
      "EPOCH 30 On training : Mean Loss : 0.25289326483733826 Accuracy : 0.9145679012345679\n",
      "EPOCH 30 On Dev  :Mean Loss : 0.6678676930445401 Accuracy : 0.7488888888888889\n",
      "\n"
     ]
    },
    {
     "data": {
      "image/png": "[encoded data removed]",
      "text/plain": [
       "<Figure size 432x288 with 1 Axes>"
      ]
     },
     "metadata": {
      "needs_background": "light"
     },
     "output_type": "display_data"
    },
    {
     "data": {
      "image/png": "[encoded data removed]",
      "text/plain": [
       "<Figure size 432x288 with 1 Axes>"
      ]
     },
     "metadata": {
      "needs_background": "light"
     },
     "output_type": "display_data"
    },
    {
     "data": {
      "text/plain": [
       "<Figure size 432x288 with 0 Axes>"
      ]
     },
     "metadata": {},
     "output_type": "display_data"
    }
   ],
   "source": [
    "train(model1 , 30 , lr=0.1 , X_train =X_train ,y_train = y_train , X_dev = X_dev , y_dev = y_dev)"
   ]
  },
  {
   "cell_type": "code",
   "execution_count": 41,
   "metadata": {},
   "outputs": [],
   "source": [
    "model2 = CBOW_classifier(vocab_size=len(token_index)+1)"
   ]
  },
  {
   "cell_type": "code",
   "execution_count": 42,
   "metadata": {
    "scrolled": false
   },
   "outputs": [
    {
     "name": "stdout",
     "output_type": "stream",
     "text": [
      "EPOCH 1 On training : Mean Loss : 0.7390390208922242 Accuracy : 0.6481481481481481\n",
      "EPOCH 1 On Dev  :Mean Loss : 0.7145732537346652 Accuracy : 0.6777777777777778\n",
      "\n",
      "EPOCH 2 On training : Mean Loss : 0.6056912936532081 Accuracy : 0.7209876543209877\n",
      "EPOCH 2 On Dev  :Mean Loss : 0.7112577427377191 Accuracy : 0.71\n",
      "\n",
      "EPOCH 3 On training : Mean Loss : 0.5701002637108062 Accuracy : 0.7388888888888889\n",
      "EPOCH 3 On Dev  :Mean Loss : 0.6599786042383099 Accuracy : 0.7233333333333334\n",
      "\n",
      "EPOCH 4 On training : Mean Loss : 0.5500252449247419 Accuracy : 0.7519753086419753\n",
      "EPOCH 4 On Dev  :Mean Loss : 0.6637637881144828 Accuracy : 0.7233333333333334\n",
      "\n",
      "EPOCH 5 On training : Mean Loss : 0.5343400924591647 Accuracy : 0.7650617283950617\n",
      "EPOCH 5 On Dev  :Mean Loss : 0.5873839626973535 Accuracy : 0.7466666666666667\n",
      "\n",
      "EPOCH 6 On training : Mean Loss : 0.5194501299185024 Accuracy : 0.7777777777777778\n",
      "EPOCH 6 On Dev  :Mean Loss : 0.5894004241789589 Accuracy : 0.7444444444444445\n",
      "\n",
      "EPOCH 7 On training : Mean Loss : 0.5041436555120195 Accuracy : 0.7791358024691358\n",
      "EPOCH 7 On Dev  :Mean Loss : 0.6039926092123599 Accuracy : 0.7444444444444445\n",
      "\n",
      "EPOCH 8 On training : Mean Loss : 0.48965481911984676 Accuracy : 0.7909876543209876\n",
      "EPOCH 8 On Dev  :Mean Loss : 0.5664093134099258 Accuracy : 0.7388888888888889\n",
      "\n",
      "EPOCH 9 On training : Mean Loss : 0.49234197299717497 Accuracy : 0.7956790123456791\n",
      "EPOCH 9 On Dev  :Mean Loss : 0.5748586310957131 Accuracy : 0.7633333333333333\n",
      "\n",
      "EPOCH 10 On training : Mean Loss : 0.48368223804157257 Accuracy : 0.7982716049382717\n",
      "EPOCH 10 On Dev  :Mean Loss : 0.5656582308685401 Accuracy : 0.7633333333333333\n",
      "\n"
     ]
    },
    {
     "data": {
      "image/png": "[encoded data removed]",
      "text/plain": [
       "<Figure size 432x288 with 1 Axes>"
      ]
     },
     "metadata": {
      "needs_background": "light"
     },
     "output_type": "display_data"
    },
    {
     "data": {
      "image/png": "[encoded data removed]",
      "text/plain": [
       "<Figure size 432x288 with 1 Axes>"
      ]
     },
     "metadata": {
      "needs_background": "light"
     },
     "output_type": "display_data"
    },
    {
     "data": {
      "text/plain": [
       "<Figure size 432x288 with 0 Axes>"
      ]
     },
     "metadata": {},
     "output_type": "display_data"
    }
   ],
   "source": [
    "train(model2 , 10 , lr=0.1 , X_train =X_train ,y_train = y_train , X_dev = X_dev , y_dev = y_dev ,optimizer=\"AdaDelta\")"
   ]
  },
  {
   "cell_type": "code",
   "execution_count": 64,
   "metadata": {},
   "outputs": [
    {
     "name": "stdout",
     "output_type": "stream",
     "text": [
      "Accuracy on test set for model 1 is 0.765\n"
     ]
    }
   ],
   "source": [
    "##test on test data with the two different models\n",
    "mean_loss = 0\n",
    "accuracy = 0\n",
    "        \n",
    "###testing on dev data#########\n",
    "for sent,label in zip(X_test,y_test):\n",
    "    data = torch.LongTensor([token_index.str_to_id(word) for word in sent])\n",
    "    label = torch.Tensor([label])\n",
    "            \n",
    "    #prediction and loss\n",
    "    pred = model1(data)\n",
    "    output = loss(pred , label)\n",
    "    mean_loss+=output.item()\n",
    "                        \n",
    "            \n",
    "    #computing accuracy\n",
    "    if (pred >= 0.5 and label==1):\n",
    "        accuracy += 1\n",
    "    if(pred<0.5 and label==0):\n",
    "        accuracy += 1\n",
    "            \n",
    "print(\"Accuracy on test set for model 1 is\" , accuracy/len(X_test))\n",
    "            "
   ]
  },
  {
   "cell_type": "code",
   "execution_count": 65,
   "metadata": {},
   "outputs": [
    {
     "name": "stdout",
     "output_type": "stream",
     "text": [
      "Accuracy on test set for model 2 is 0.762\n"
     ]
    }
   ],
   "source": [
    "##test on test data with the two different models\n",
    "mean_loss = 0\n",
    "accuracy = 0\n",
    "        \n",
    "###testing on dev data#########\n",
    "for sent,label in zip(X_test,y_test):\n",
    "    data = torch.LongTensor([token_index.str_to_id(word) for word in sent])\n",
    "    label = torch.Tensor([label])\n",
    "            \n",
    "    #prediction and loss\n",
    "    pred = model2(data)\n",
    "    output = loss(pred , label)\n",
    "    mean_loss+=output.item()\n",
    "                        \n",
    "            \n",
    "    #computing accuracy\n",
    "    if (pred >= 0.5 and label==1):\n",
    "        accuracy += 1\n",
    "    if(pred<0.5 and label==0):\n",
    "        accuracy += 1\n",
    "            \n",
    "print(\"Accuracy on test set for model 2 is\" , accuracy/len(X_test))\n",
    "            "
   ]
  },
  {
   "cell_type": "markdown",
   "metadata": {},
   "source": [
    "# ONE HIDDEN LAYER"
   ]
  },
  {
   "cell_type": "code",
   "execution_count": 57,
   "metadata": {},
   "outputs": [],
   "source": [
    "class CBOW_classifier_1_hidden(nn.Module):\n",
    "    def __init__(self, vocab_size , embedding_dim=100):\n",
    "        super(CBOW_classifier_1_hidden, self).__init__()\n",
    "        # To create an embedding table: https://pytorch.org/docs/stable/nn.html#torch.nn.Embedding\n",
    "        self.emb_db = torch.nn.Embedding(num_embeddings = vocab_size ,embedding_dim=embedding_dim)\n",
    "        \n",
    "        #1st hidden layer with 50 hidden unit\n",
    "        self.hidden1 = torch.nn.Linear(embedding_dim , 50)\n",
    "        #ouput layer\n",
    "        self.output = torch.nn.Linear(50,1)\n",
    "        \n",
    "        \n",
    "        #initialisation\n",
    "        torch.nn.init.xavier_uniform_(self.hidden1.weight.data)\n",
    "        torch.nn.init.zeros_(self.hidden1.bias.data)\n",
    "        \n",
    "        torch.nn.init.xavier_uniform_(self.output.weight.data)\n",
    "        torch.nn.init.zeros_(self.output.bias.data)\n",
    "        \n",
    "        \n",
    "    def forward(self, inputs):\n",
    "        \n",
    "        x = self.emb_db(inputs)\n",
    "        x = torch.sum(x ,dim=0)\n",
    "        x = F.tanh(self.hidden1(x))\n",
    "        \n",
    "        output = F.sigmoid(self.output(x))\n",
    "        \n",
    "        return(output)"
   ]
  },
  {
   "cell_type": "code",
   "execution_count": 68,
   "metadata": {},
   "outputs": [],
   "source": [
    "loss = torch.nn.BCELoss()"
   ]
  },
  {
   "cell_type": "code",
   "execution_count": 69,
   "metadata": {},
   "outputs": [],
   "source": [
    "model3 = CBOW_classifier_1_hidden(vocab_size=len(token_index)+1)"
   ]
  },
  {
   "cell_type": "code",
   "execution_count": 70,
   "metadata": {
    "scrolled": false
   },
   "outputs": [
    {
     "name": "stdout",
     "output_type": "stream",
     "text": [
      "EPOCH 1 On training : Mean Loss : 1.137631452968481 Accuracy : 0.5665432098765432\n",
      "EPOCH 1 On Dev  :Mean Loss : 1.002895446503365 Accuracy : 0.6066666666666667\n",
      "\n",
      "EPOCH 2 On training : Mean Loss : 1.041187288214511 Accuracy : 0.6197530864197531\n",
      "EPOCH 2 On Dev  :Mean Loss : 0.8582932092583441 Accuracy : 0.5911111111111111\n",
      "\n",
      "EPOCH 3 On training : Mean Loss : 0.9520903426949102 Accuracy : 0.6649382716049382\n",
      "EPOCH 3 On Dev  :Mean Loss : 1.058716951389114 Accuracy : 0.6211111111111111\n",
      "\n",
      "EPOCH 4 On training : Mean Loss : 0.9382964600097061 Accuracy : 0.6619753086419753\n",
      "EPOCH 4 On Dev  :Mean Loss : 0.7997456896305084 Accuracy : 0.6644444444444444\n",
      "\n",
      "EPOCH 5 On training : Mean Loss : 0.880467246018097 Accuracy : 0.6877777777777778\n",
      "EPOCH 5 On Dev  :Mean Loss : 0.8107567277479918 Accuracy : 0.6844444444444444\n",
      "\n",
      "EPOCH 6 On training : Mean Loss : 0.846877962541677 Accuracy : 0.6974074074074074\n",
      "EPOCH 6 On Dev  :Mean Loss : 0.7789774405979167 Accuracy : 0.6766666666666666\n",
      "\n",
      "EPOCH 7 On training : Mean Loss : 0.8270521009111934 Accuracy : 0.705679012345679\n",
      "EPOCH 7 On Dev  :Mean Loss : 0.9424174237491317 Accuracy : 0.66\n",
      "\n",
      "EPOCH 8 On training : Mean Loss : 0.7915843520299857 Accuracy : 0.7179012345679012\n",
      "EPOCH 8 On Dev  :Mean Loss : 0.9082912261003803 Accuracy : 0.6544444444444445\n",
      "\n",
      "EPOCH 9 On training : Mean Loss : 0.7965336031821183 Accuracy : 0.7134567901234568\n",
      "EPOCH 9 On Dev  :Mean Loss : 1.0342591349045431 Accuracy : 0.6955555555555556\n",
      "\n",
      "EPOCH 10 On training : Mean Loss : 0.7265045101011108 Accuracy : 0.7422222222222222\n",
      "EPOCH 10 On Dev  :Mean Loss : 0.9140564877366206 Accuracy : 0.7277777777777777\n",
      "\n",
      "EPOCH 11 On training : Mean Loss : 0.7145018837346608 Accuracy : 0.7523456790123457\n",
      "EPOCH 11 On Dev  :Mean Loss : 0.9668883697788239 Accuracy : 0.6533333333333333\n",
      "\n",
      "EPOCH 12 On training : Mean Loss : 0.6955338306590123 Accuracy : 0.7579012345679013\n",
      "EPOCH 12 On Dev  :Mean Loss : 0.8267334468221502 Accuracy : 0.7266666666666667\n",
      "\n",
      "EPOCH 13 On training : Mean Loss : 0.6865519327094317 Accuracy : 0.7625925925925926\n",
      "EPOCH 13 On Dev  :Mean Loss : 1.1006289385026482 Accuracy : 0.7022222222222222\n",
      "\n",
      "EPOCH 14 On training : Mean Loss : 0.6790572370085393 Accuracy : 0.7681481481481481\n",
      "EPOCH 14 On Dev  :Mean Loss : 0.8474241648906061 Accuracy : 0.6788888888888889\n",
      "\n",
      "EPOCH 15 On training : Mean Loss : 0.6673567111513642 Accuracy : 0.7698765432098765\n",
      "EPOCH 15 On Dev  :Mean Loss : 0.9929152401406307 Accuracy : 0.7333333333333333\n",
      "\n",
      "EPOCH 16 On training : Mean Loss : 0.6700403122651686 Accuracy : 0.7667901234567901\n",
      "EPOCH 16 On Dev  :Mean Loss : 1.1129781659147946 Accuracy : 0.7233333333333334\n",
      "\n",
      "EPOCH 17 On training : Mean Loss : 0.6659331599629178 Accuracy : 0.7693827160493827\n",
      "EPOCH 17 On Dev  :Mean Loss : 0.8981492909779739 Accuracy : 0.6877777777777778\n",
      "\n",
      "EPOCH 18 On training : Mean Loss : 0.6427435211960514 Accuracy : 0.778395061728395\n",
      "EPOCH 18 On Dev  :Mean Loss : 0.9267376216294906 Accuracy : 0.7033333333333334\n",
      "\n",
      "EPOCH 19 On training : Mean Loss : 0.651923824655892 Accuracy : 0.7725925925925926\n",
      "EPOCH 19 On Dev  :Mean Loss : 0.8295972610790705 Accuracy : 0.7277777777777777\n",
      "\n",
      "EPOCH 20 On training : Mean Loss : 0.6489266478302832 Accuracy : 0.7766666666666666\n",
      "EPOCH 20 On Dev  :Mean Loss : 1.013026943132638 Accuracy : 0.7077777777777777\n",
      "\n",
      "EPOCH 21 On training : Mean Loss : 0.6188983937292379 Accuracy : 0.7862962962962963\n",
      "EPOCH 21 On Dev  :Mean Loss : 1.35003490743863 Accuracy : 0.6522222222222223\n",
      "\n",
      "EPOCH 22 On training : Mean Loss : 0.6057865140048765 Accuracy : 0.7919753086419753\n",
      "EPOCH 22 On Dev  :Mean Loss : 0.847286702140382 Accuracy : 0.76\n",
      "\n",
      "EPOCH 23 On training : Mean Loss : 0.6104344317190975 Accuracy : 0.788641975308642\n",
      "EPOCH 23 On Dev  :Mean Loss : 1.0376272400897677 Accuracy : 0.6855555555555556\n",
      "\n",
      "EPOCH 24 On training : Mean Loss : 0.5994523658946024 Accuracy : 0.7941975308641975\n",
      "EPOCH 24 On Dev  :Mean Loss : 0.7617100060309349 Accuracy : 0.7477777777777778\n",
      "\n",
      "EPOCH 25 On training : Mean Loss : 0.5982448816718398 Accuracy : 0.7941975308641975\n",
      "EPOCH 25 On Dev  :Mean Loss : 0.9114743679262207 Accuracy : 0.7411111111111112\n",
      "\n",
      "EPOCH 26 On training : Mean Loss : 0.5666794196155075 Accuracy : 0.8048148148148148\n",
      "EPOCH 26 On Dev  :Mean Loss : 0.9788199796133868 Accuracy : 0.7611111111111111\n",
      "\n",
      "EPOCH 27 On training : Mean Loss : 0.6281196578378531 Accuracy : 0.7828395061728395\n",
      "EPOCH 27 On Dev  :Mean Loss : 0.9553193986743922 Accuracy : 0.7322222222222222\n",
      "\n",
      "EPOCH 28 On training : Mean Loss : 0.6527543546315554 Accuracy : 0.7775308641975308\n",
      "EPOCH 28 On Dev  :Mean Loss : 1.1707409773285893 Accuracy : 0.6777777777777778\n",
      "\n",
      "EPOCH 29 On training : Mean Loss : 0.6074777989468386 Accuracy : 0.7901234567901234\n",
      "EPOCH 29 On Dev  :Mean Loss : 1.3152483482534767 Accuracy : 0.6766666666666666\n",
      "\n",
      "EPOCH 30 On training : Mean Loss : 0.5976015651276115 Accuracy : 0.7932098765432098\n",
      "EPOCH 30 On Dev  :Mean Loss : 0.8305294875774135 Accuracy : 0.7166666666666667\n",
      "\n"
     ]
    },
    {
     "data": {
      "image/png": "[encoded data removed]",
      "text/plain": [
       "<Figure size 432x288 with 1 Axes>"
      ]
     },
     "metadata": {
      "needs_background": "light"
     },
     "output_type": "display_data"
    },
    {
     "data": {
      "image/png": "[encoded data removed]",
      "text/plain": [
       "<Figure size 432x288 with 1 Axes>"
      ]
     },
     "metadata": {
      "needs_background": "light"
     },
     "output_type": "display_data"
    },
    {
     "data": {
      "text/plain": [
       "<Figure size 432x288 with 0 Axes>"
      ]
     },
     "metadata": {},
     "output_type": "display_data"
    }
   ],
   "source": [
    "train(model3 , 30 , lr=0.1 , X_train =X_train ,y_train = y_train , X_dev = X_dev , y_dev = y_dev)"
   ]
  },
  {
   "cell_type": "code",
   "execution_count": 71,
   "metadata": {},
   "outputs": [
    {
     "name": "stdout",
     "output_type": "stream",
     "text": [
      "Accuracy on test set for model 3 is 0.738\n"
     ]
    }
   ],
   "source": [
    "##test on test data with the two different models\n",
    "mean_loss = 0\n",
    "accuracy = 0\n",
    "        \n",
    "###testing on dev data#########\n",
    "for sent,label in zip(X_test,y_test):\n",
    "    data = torch.LongTensor([token_index.str_to_id(word) for word in sent])\n",
    "    label = torch.Tensor([label])\n",
    "            \n",
    "    #prediction and loss\n",
    "    pred = model3(data)\n",
    "    output = loss(pred , label)\n",
    "    mean_loss+=output.item()\n",
    "                        \n",
    "            \n",
    "    #computing accuracy\n",
    "    if (pred >= 0.5 and label==1):\n",
    "        accuracy += 1\n",
    "    if(pred<0.5 and label==0):\n",
    "        accuracy += 1\n",
    "            \n",
    "print(\"Accuracy on test set for model 3 is\" , accuracy/len(X_test))\n",
    "            "
   ]
  },
  {
   "cell_type": "markdown",
   "metadata": {},
   "source": [
    "# TWO HIDDEN LAYERS"
   ]
  },
  {
   "cell_type": "code",
   "execution_count": 76,
   "metadata": {},
   "outputs": [],
   "source": [
    "class CBOW_classifier_2_hidden(nn.Module):\n",
    "    def __init__(self, vocab_size , embedding_dim=100):\n",
    "        super(CBOW_classifier_2_hidden, self).__init__()\n",
    "        # To create an embedding table: https://pytorch.org/docs/stable/nn.html#torch.nn.Embedding\n",
    "        self.emb_db = torch.nn.Embedding(num_embeddings = vocab_size ,embedding_dim=embedding_dim)\n",
    "        \n",
    "        #1st hidden layer with 50 hidden units\n",
    "        self.hidden1 = torch.nn.Linear(embedding_dim , 50)\n",
    "        #2nd hidden layer with 25 hidden units\n",
    "        self.hidden2 = torch.nn.Linear(50 , 25)\n",
    "        #ouput layer\n",
    "        self.output = torch.nn.Linear(25,1)\n",
    "        \n",
    "        \n",
    "        #initialisation\n",
    "        torch.nn.init.xavier_uniform_(self.hidden1.weight.data)\n",
    "        torch.nn.init.zeros_(self.hidden1.bias.data)\n",
    "        \n",
    "        torch.nn.init.xavier_uniform_(self.hidden2.weight.data)\n",
    "        torch.nn.init.zeros_(self.hidden2.bias.data)\n",
    "        \n",
    "        torch.nn.init.xavier_uniform_(self.output.weight.data)\n",
    "        torch.nn.init.zeros_(self.output.bias.data)\n",
    "        \n",
    "        \n",
    "    def forward(self, inputs):\n",
    "        \n",
    "        x = self.emb_db(inputs)\n",
    "        x = torch.sum(x ,dim=0)\n",
    "        x = F.tanh(self.hidden1(x))\n",
    "        x = F.tanh(self.hidden2(x))\n",
    "        output = F.sigmoid(self.output(x))\n",
    "        \n",
    "        return(output)"
   ]
  },
  {
   "cell_type": "code",
   "execution_count": 77,
   "metadata": {},
   "outputs": [],
   "source": [
    "loss = torch.nn.BCELoss()"
   ]
  },
  {
   "cell_type": "code",
   "execution_count": 78,
   "metadata": {},
   "outputs": [],
   "source": [
    "model4 = CBOW_classifier_2_hidden(vocab_size=len(token_index)+1)"
   ]
  },
  {
   "cell_type": "code",
   "execution_count": 80,
   "metadata": {
    "scrolled": false
   },
   "outputs": [
    {
     "name": "stdout",
     "output_type": "stream",
     "text": [
      "EPOCH 1 On training : Mean Loss : 0.5747288546020889 Accuracy : 0.7469135802469136\n",
      "EPOCH 1 On Dev  :Mean Loss : 0.7029975880470334 Accuracy : 0.7166666666666667\n",
      "\n",
      "EPOCH 2 On training : Mean Loss : 0.5528122387815124 Accuracy : 0.7590123456790123\n",
      "EPOCH 2 On Dev  :Mean Loss : 0.7134942867671553 Accuracy : 0.7144444444444444\n",
      "\n",
      "EPOCH 3 On training : Mean Loss : 0.5329229201980972 Accuracy : 0.7703703703703704\n",
      "EPOCH 3 On Dev  :Mean Loss : 0.6116946510448017 Accuracy : 0.7288888888888889\n",
      "\n",
      "EPOCH 4 On training : Mean Loss : 0.5030224984961261 Accuracy : 0.7871604938271605\n",
      "EPOCH 4 On Dev  :Mean Loss : 0.6909163912553857 Accuracy : 0.6877777777777778\n",
      "\n",
      "EPOCH 5 On training : Mean Loss : 0.5005881005143287 Accuracy : 0.7879012345679013\n",
      "EPOCH 5 On Dev  :Mean Loss : 0.6077402663541337 Accuracy : 0.7233333333333334\n",
      "\n",
      "EPOCH 6 On training : Mean Loss : 0.5057087111739096 Accuracy : 0.7817283950617284\n",
      "EPOCH 6 On Dev  :Mean Loss : 0.6545839924005689 Accuracy : 0.7166666666666667\n",
      "\n",
      "EPOCH 7 On training : Mean Loss : 0.48735409796529705 Accuracy : 0.7979012345679012\n",
      "EPOCH 7 On Dev  :Mean Loss : 0.6291101715491256 Accuracy : 0.7555555555555555\n",
      "\n",
      "EPOCH 8 On training : Mean Loss : 0.49123522053680735 Accuracy : 0.7949382716049382\n",
      "EPOCH 8 On Dev  :Mean Loss : 0.5772823343964086 Accuracy : 0.7444444444444445\n",
      "\n",
      "EPOCH 9 On training : Mean Loss : 0.48366563057641926 Accuracy : 0.7958024691358024\n",
      "EPOCH 9 On Dev  :Mean Loss : 0.7600647288598379 Accuracy : 0.7377777777777778\n",
      "\n",
      "EPOCH 10 On training : Mean Loss : 0.4574294201458174 Accuracy : 0.8112345679012346\n",
      "EPOCH 10 On Dev  :Mean Loss : 0.7252084909561867 Accuracy : 0.7155555555555555\n",
      "\n",
      "EPOCH 11 On training : Mean Loss : 0.45182032516414267 Accuracy : 0.8119753086419753\n",
      "EPOCH 11 On Dev  :Mean Loss : 0.7228163804446942 Accuracy : 0.7622222222222222\n",
      "\n",
      "EPOCH 12 On training : Mean Loss : 0.4508129830919095 Accuracy : 0.811604938271605\n",
      "EPOCH 12 On Dev  :Mean Loss : 0.7371626940835267 Accuracy : 0.7433333333333333\n",
      "\n",
      "EPOCH 13 On training : Mean Loss : 0.4349724534815278 Accuracy : 0.8214814814814815\n",
      "EPOCH 13 On Dev  :Mean Loss : 0.8281917625766558 Accuracy : 0.6244444444444445\n",
      "\n",
      "EPOCH 14 On training : Mean Loss : 0.4220795451721786 Accuracy : 0.8241975308641976\n",
      "EPOCH 14 On Dev  :Mean Loss : 0.7327301224917432 Accuracy : 0.73\n",
      "\n",
      "EPOCH 15 On training : Mean Loss : 0.4179172486106234 Accuracy : 0.8267901234567901\n",
      "EPOCH 15 On Dev  :Mean Loss : 0.719113028601795 Accuracy : 0.7766666666666666\n",
      "\n"
     ]
    },
    {
     "data": {
      "image/png": "[encoded data removed]",
      "text/plain": [
       "<Figure size 432x288 with 1 Axes>"
      ]
     },
     "metadata": {
      "needs_background": "light"
     },
     "output_type": "display_data"
    },
    {
     "data": {
      "image/png": "[encoded data removed]",
      "text/plain": [
       "<Figure size 432x288 with 1 Axes>"
      ]
     },
     "metadata": {
      "needs_background": "light"
     },
     "output_type": "display_data"
    },
    {
     "data": {
      "text/plain": [
       "<Figure size 432x288 with 0 Axes>"
      ]
     },
     "metadata": {},
     "output_type": "display_data"
    }
   ],
   "source": [
    "train(model4 , 15 , lr=0.1 , X_train =X_train ,y_train = y_train , X_dev = X_dev , y_dev = y_dev)"
   ]
  },
  {
   "cell_type": "code",
   "execution_count": 82,
   "metadata": {},
   "outputs": [
    {
     "name": "stdout",
     "output_type": "stream",
     "text": [
      "Accuracy on test set for model 4 is 0.747\n"
     ]
    }
   ],
   "source": [
    "##test on test data with the two different models\n",
    "mean_loss = 0\n",
    "accuracy = 0\n",
    "        \n",
    "###testing on dev data#########\n",
    "for sent,label in zip(X_test,y_test):\n",
    "    data = torch.LongTensor([token_index.str_to_id(word) for word in sent])\n",
    "    label = torch.Tensor([label])\n",
    "            \n",
    "    #prediction and loss\n",
    "    pred = model4(data)\n",
    "    output = loss(pred , label)\n",
    "    mean_loss+=output.item()\n",
    "                        \n",
    "            \n",
    "    #computing accuracy\n",
    "    if (pred >= 0.5 and label==1):\n",
    "        accuracy += 1\n",
    "    if(pred<0.5 and label==0):\n",
    "        accuracy += 1\n",
    "            \n",
    "print(\"Accuracy on test set for model 4 is\" , accuracy/len(X_test))\n",
    "            "
   ]
  }
 ],
 "metadata": {
  "kernelspec": {
   "display_name": "Python 3",
   "language": "python",
   "name": "python3"
  },
  "language_info": {
   "codemirror_mode": {
    "name": "ipython",
    "version": 3
   },
   "file_extension": ".py",
   "mimetype": "text/x-python",
   "name": "python",
   "nbconvert_exporter": "python",
   "pygments_lexer": "ipython3",
   "version": "3.7.3"
  }
 },
 "nbformat": 4,
 "nbformat_minor": 2
}
