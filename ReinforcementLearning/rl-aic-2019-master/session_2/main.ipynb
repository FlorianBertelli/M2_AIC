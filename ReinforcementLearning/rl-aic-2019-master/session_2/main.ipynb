{
 "cells": [
  {
   "cell_type": "code",
   "execution_count": 2,
   "metadata": {},
   "outputs": [
    {
     "name": "stdout",
     "output_type": "stream",
     "text": [
      "usage: main.py [-h] [--environment ENV_CLASS] [--agent AGENT_CLASS]\n",
      "               [--niter n] [--batch nagent] [--verbose]\n",
      "\n",
      "RL running machine\n",
      "\n",
      "optional arguments:\n",
      "  -h, --help            show this help message and exit\n",
      "  --environment ENV_CLASS\n",
      "                        Class to use for the environment. Must be in the\n",
      "                        'environment' module\n",
      "  --agent AGENT_CLASS   Class to use for the agent. Must be in the 'agent'\n",
      "                        module.\n",
      "  --niter n             number of iterations to simulate\n",
      "  --batch nagent        batch run several agent at the same time\n",
      "  --verbose             Display cumulative results at each step\n"
     ]
    }
   ],
   "source": [
    "!python main.py -h"
   ]
  },
  {
   "cell_type": "code",
   "execution_count": 102,
   "metadata": {
    "scrolled": true
   },
   "outputs": [
    {
     "name": "stdout",
     "output_type": "stream",
     "text": [
      "Running a single instance simulation...\n",
      "Obtained a final reward of -12131.45477224966\n"
     ]
    }
   ],
   "source": [
    "!python main.py --agent RandomAgent --niter 100000"
   ]
  },
  {
   "cell_type": "code",
   "execution_count": 99,
   "metadata": {},
   "outputs": [
    {
     "name": "stdout",
     "output_type": "stream",
     "text": [
      "Running a single instance simulation...\n",
      "Obtained a final reward of 106299.36022577017\n"
     ]
    }
   ],
   "source": [
    "!python main.py --agent epsGreedyAgent --niter 100000"
   ]
  },
  {
   "cell_type": "code",
   "execution_count": 100,
   "metadata": {},
   "outputs": [
    {
     "name": "stdout",
     "output_type": "stream",
     "text": [
      "Running a single instance simulation...\n",
      "Obtained a final reward of 106264.32442068869\n"
     ]
    }
   ],
   "source": [
    "!python main.py --agent UCBAgent --niter 100000"
   ]
  },
  {
   "cell_type": "code",
   "execution_count": 101,
   "metadata": {
    "scrolled": true
   },
   "outputs": [
    {
     "name": "stdout",
     "output_type": "stream",
     "text": [
      "Running a single instance simulation...\n",
      "Obtained a final reward of 105989.45202718931\n"
     ]
    }
   ],
   "source": [
    "!python main.py --agent SoftmaxAgent --niter 100000"
   ]
  },
  {
   "cell_type": "code",
   "execution_count": 98,
   "metadata": {
    "scrolled": true
   },
   "outputs": [
    {
     "name": "stdout",
     "output_type": "stream",
     "text": [
      "Running a single instance simulation...\n",
      "[100, 100, 100, 100, 100, 100, 100, 100, 100, 100]\n",
      "Obtained a final reward of 10468.760103098817\n"
     ]
    }
   ],
   "source": [
    "!python main.py --agent ThompsonAgent --niter 10000"
   ]
  },
  {
   "cell_type": "code",
   "execution_count": null,
   "metadata": {},
   "outputs": [],
   "source": []
  }
 ],
 "metadata": {
  "kernelspec": {
   "display_name": "Python 3",
   "language": "python",
   "name": "python3"
  },
  "language_info": {
   "codemirror_mode": {
    "name": "ipython",
    "version": 3
   },
   "file_extension": ".py",
   "mimetype": "text/x-python",
   "name": "python",
   "nbconvert_exporter": "python",
   "pygments_lexer": "ipython3",
   "version": "3.7.3"
  }
 },
 "nbformat": 4,
 "nbformat_minor": 2
}
