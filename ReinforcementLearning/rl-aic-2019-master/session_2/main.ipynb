{
 "cells": [
  {
   "cell_type": "code",
   "execution_count": null,
   "metadata": {},
   "outputs": [],
   "source": [
    "!python main.py -h"
   ]
  },
  {
   "cell_type": "code",
   "execution_count": null,
   "metadata": {
    "scrolled": true
   },
   "outputs": [],
   "source": [
    "!python main.py --agent RandomAgent --niter 100000"
   ]
  },
  {
   "cell_type": "code",
   "execution_count": 14,
   "metadata": {},
   "outputs": [
    {
     "name": "stdout",
     "output_type": "stream",
     "text": [
      "Running a batched simulation with 1000 agents in parallel...\n",
      "Obtained a final average reward of 3503.8322629323884\n"
     ]
    }
   ],
   "source": [
    "!python main.py --agent epsGreedyAgent --niter 2000 --batch 1000"
   ]
  },
  {
   "cell_type": "code",
   "execution_count": 6,
   "metadata": {},
   "outputs": [
    {
     "name": "stdout",
     "output_type": "stream",
     "text": [
      "Running a single instance simulation...\n",
      "Obtained a final reward of 946.0871506697601\n"
     ]
    }
   ],
   "source": [
    "!python main.py --agent UCBAgent --niter 1000"
   ]
  },
  {
   "cell_type": "code",
   "execution_count": 4,
   "metadata": {
    "scrolled": true
   },
   "outputs": [
    {
     "name": "stdout",
     "output_type": "stream",
     "text": [
      "Running a single instance simulation...\n",
      "Obtained a final reward of 1028.7470351103627\n"
     ]
    }
   ],
   "source": [
    "!python main.py --agent SoftmaxAgent --niter 1000"
   ]
  },
  {
   "cell_type": "code",
   "execution_count": 3,
   "metadata": {
    "scrolled": true
   },
   "outputs": [
    {
     "name": "stdout",
     "output_type": "stream",
     "text": [
      "Running a single instance simulation...\n",
      "[100, 100, 100, 100, 100, 100, 100, 100, 100, 100]\n",
      "Obtained a final reward of 950.9471697557237\n"
     ]
    }
   ],
   "source": [
    "!python main.py --agent ThompsonAgent --niter 1000"
   ]
  },
  {
   "cell_type": "code",
   "execution_count": 7,
   "metadata": {},
   "outputs": [
    {
     "name": "stdout",
     "output_type": "stream",
     "text": [
      "Running a single instance simulation...\n",
      "Obtained a final reward of 972.1833466071508\n"
     ]
    }
   ],
   "source": [
    "!python main.py  --niter 1000 --agent BesaAgent "
   ]
  }
 ],
 "metadata": {
  "kernelspec": {
   "display_name": "Python 3",
   "language": "python",
   "name": "python3"
  },
  "language_info": {
   "codemirror_mode": {
    "name": "ipython",
    "version": 3
   },
   "file_extension": ".py",
   "mimetype": "text/x-python",
   "name": "python",
   "nbconvert_exporter": "python",
   "pygments_lexer": "ipython3",
   "version": "3.7.3"
  }
 },
 "nbformat": 4,
 "nbformat_minor": 2
}
