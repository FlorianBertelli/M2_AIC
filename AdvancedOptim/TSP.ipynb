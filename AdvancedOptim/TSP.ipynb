{
 "cells": [
  {
   "cell_type": "code",
   "execution_count": 109,
   "metadata": {},
   "outputs": [],
   "source": [
    "import numpy as np\n",
    "import matplotlib.pyplot as plt"
   ]
  },
  {
   "cell_type": "code",
   "execution_count": 110,
   "metadata": {},
   "outputs": [],
   "source": [
    "def placeCitiesRandomly(n , xmax , ymax):\n",
    "    x = np.random.randint(xmax, size=n)\n",
    "    y = np.random.randint(ymax, size=n)\n",
    "    map_ = np.zeros((n,2))\n",
    "    map_[:,0]= x\n",
    "    map_[:,1]=y\n",
    "    return(map_)\n",
    "    "
   ]
  },
  {
   "cell_type": "code",
   "execution_count": 111,
   "metadata": {},
   "outputs": [],
   "source": [
    "map_ = placeCitiesRandomly(10,10,10)"
   ]
  },
  {
   "cell_type": "code",
   "execution_count": 112,
   "metadata": {},
   "outputs": [
    {
     "name": "stdout",
     "output_type": "stream",
     "text": [
      "[[4. 1.]\n",
      " [9. 7.]\n",
      " [7. 7.]\n",
      " [1. 7.]\n",
      " [1. 4.]\n",
      " [9. 3.]\n",
      " [9. 9.]\n",
      " [2. 4.]\n",
      " [5. 6.]\n",
      " [8. 0.]]\n"
     ]
    }
   ],
   "source": [
    "print(map_)"
   ]
  },
  {
   "cell_type": "code",
   "execution_count": 113,
   "metadata": {},
   "outputs": [],
   "source": [
    "def distance_matrix(map_):\n",
    "    dist_mat = np.zeros((map_.shape[0], map_.shape[0]))\n",
    "    for i in range(map_.shape[0]):\n",
    "        for j in range(map_.shape[0]):\n",
    "            dist = np.linalg.norm(np.array([map_[i][0],map_[i][1]]) - np.array([map_[j][0],map_[j][1]]))\n",
    "            dist_mat[i][j] = dist\n",
    "    return(dist_mat)"
   ]
  },
  {
   "cell_type": "code",
   "execution_count": 114,
   "metadata": {},
   "outputs": [],
   "source": [
    "distances = distance_matrix(map_)"
   ]
  },
  {
   "cell_type": "code",
   "execution_count": 115,
   "metadata": {},
   "outputs": [],
   "source": [
    "def objective(permutation, distances):\n",
    "    obj = 0\n",
    "    for i in range(len(permutation)-1):\n",
    "        city_pred = permutation[i]-1\n",
    "        city_curr = permutation[i+1]-1\n",
    "        obj += distances[city_pred][city_curr]\n",
    "    return(obj)"
   ]
  },
  {
   "cell_type": "code",
   "execution_count": 116,
   "metadata": {},
   "outputs": [
    {
     "data": {
      "text/plain": [
       "19.70820393249937"
      ]
     },
     "execution_count": 116,
     "metadata": {},
     "output_type": "execute_result"
    }
   ],
   "source": [
    "objective([1,3,2,4,5], distances)"
   ]
  },
  {
   "cell_type": "code",
   "execution_count": 123,
   "metadata": {},
   "outputs": [],
   "source": [
    "def plotSolution(permutation,map_):\n",
    "    ordered_list_x = [map_[i][0] for i in permutation]\n",
    "    ordered_list_y = [map_[i][1] for i in permutation]\n",
    "    plt.plot(ordered_list_x, ordered_list_y, 'ro-')"
   ]
  },
  {
   "cell_type": "code",
   "execution_count": 124,
   "metadata": {},
   "outputs": [
    {
     "data": {
      "text/plain": [
       "array([[4., 1.],\n",
       "       [9., 7.],\n",
       "       [7., 7.],\n",
       "       [1., 7.],\n",
       "       [1., 4.],\n",
       "       [9., 3.],\n",
       "       [9., 9.],\n",
       "       [2., 4.],\n",
       "       [5., 6.],\n",
       "       [8., 0.]])"
      ]
     },
     "execution_count": 124,
     "metadata": {},
     "output_type": "execute_result"
    }
   ],
   "source": [
    "map_"
   ]
  },
  {
   "cell_type": "code",
   "execution_count": 125,
   "metadata": {},
   "outputs": [
    {
     "data": {
      "image/png": "[encoded data removed]",
      "text/plain": [
       "<Figure size 432x288 with 1 Axes>"
      ]
     },
     "metadata": {
      "needs_background": "light"
     },
     "output_type": "display_data"
    }
   ],
   "source": [
    "plotSolution([i for i in range(10)], map_)"
   ]
  },
  {
   "cell_type": "code",
   "execution_count": 128,
   "metadata": {},
   "outputs": [],
   "source": [
    "def initialisation(mu, n):\n",
    "    perm_list = []\n",
    "    for i in range(mu):\n",
    "        perm_list.append(1+np.random.permutation(n))\n",
    "    return(perm_list)"
   ]
  },
  {
   "cell_type": "code",
   "execution_count": 132,
   "metadata": {},
   "outputs": [],
   "source": [
    "inits = initialisation(3,10)"
   ]
  },
  {
   "cell_type": "code",
   "execution_count": 169,
   "metadata": {},
   "outputs": [
    {
     "data": {
      "text/plain": [
       "array([ 8,  1,  6,  4, 10,  7,  2,  3,  9,  5])"
      ]
     },
     "execution_count": 169,
     "metadata": {},
     "output_type": "execute_result"
    }
   ],
   "source": [
    "inits[0]"
   ]
  },
  {
   "cell_type": "code",
   "execution_count": 500,
   "metadata": {},
   "outputs": [],
   "source": [
    "import random"
   ]
  },
  {
   "cell_type": "code",
   "execution_count": 589,
   "metadata": {},
   "outputs": [],
   "source": [
    "def swap_random_proba(permutation, swap_proba):\n",
    "    \n",
    "    if random.random()<swap_proba:\n",
    "        idx = range(len(permutation))\n",
    "        i1, i2 = random.sample(idx, 2)\n",
    "        permutation[i1], permutation[i2] = permutation[i2], permutation[i1]\n",
    "    return(permutation)"
   ]
  },
  {
   "cell_type": "code",
   "execution_count": 590,
   "metadata": {},
   "outputs": [],
   "source": [
    "def order_crossover(parent1, parent2) :\n",
    "    \n",
    "    \n",
    "    child1 = [0] * len(parent1)\n",
    "    child2 = [0] * len(parent1)\n",
    "    \n",
    "    idx = range(len(parent1))\n",
    "    i1, i2 = random.sample(idx, 2)\n",
    "\n",
    "    \n",
    "    \n",
    "    \n",
    "    if i2<i1:\n",
    "        i2,i1 = i1,i2\n",
    "     \n",
    "    #ordered1 = sort(parent1.copy())\n",
    "    #ordered2 = parent2.copy().sort()\n",
    "    \n",
    "    rest_parent1 = np.concatenate((parent1[i2:],parent1[:i2]) , 0)\n",
    "    rest_parent2 = np.concatenate((parent2[i2:], parent2[:i2]), 0)\n",
    "        \n",
    "    child1[i1:i2] = parent1[i1:i2]\n",
    "    child2[i1:i2] = parent2[i1:i2]\n",
    "    \n",
    "    j=0\n",
    "    for i in range (i2,len(parent1)):\n",
    "        while rest_parent2[j] in child1:\n",
    "            j+=1\n",
    "        \n",
    "        child1[i]=rest_parent2[j]    \n",
    "    \n",
    "    j=0\n",
    "    for i in range (i1):\n",
    "        while rest_parent2[j] in child1:\n",
    "            j+=1\n",
    "        \n",
    "        child1[i]=rest_parent2[j]\n",
    "        \n",
    "    j=0\n",
    "    for i in range (i2,len(parent1)):\n",
    "        while rest_parent1[j] in child2:\n",
    "            j+=1\n",
    "        \n",
    "        child2[i]=rest_parent1[j]    \n",
    "    \n",
    "    j=0\n",
    "    for i in range (i1):\n",
    "        while rest_parent1[j] in child2:\n",
    "            j+=1\n",
    "        \n",
    "        child2[i]=rest_parent1[j]\n",
    "        \n",
    "    \n",
    "    \n",
    "    \n",
    "    \n",
    "    return child1, child2"
   ]
  },
  {
   "cell_type": "code",
   "execution_count": 591,
   "metadata": {},
   "outputs": [
    {
     "name": "stdout",
     "output_type": "stream",
     "text": [
      "[ 8  1  6  4 10  7  2  3  9  5]\n",
      "[ 5 10  6  4  3  1  7  2  9  8]\n"
     ]
    }
   ],
   "source": [
    "print(inits[0])\n",
    "print(inits[1])"
   ]
  },
  {
   "cell_type": "code",
   "execution_count": 592,
   "metadata": {
    "scrolled": true
   },
   "outputs": [
    {
     "data": {
      "text/plain": [
       "([8, 10, 6, 4, 3, 1, 7, 2, 9, 5], [5, 1, 6, 4, 10, 7, 2, 3, 9, 8])"
      ]
     },
     "execution_count": 592,
     "metadata": {},
     "output_type": "execute_result"
    }
   ],
   "source": [
    "order_crossover(inits[0] , inits[1])\n"
   ]
  },
  {
   "cell_type": "code",
   "execution_count": 601,
   "metadata": {},
   "outputs": [],
   "source": [
    "mu = 20\n",
    "n = 7"
   ]
  },
  {
   "cell_type": "code",
   "execution_count": 602,
   "metadata": {},
   "outputs": [
    {
     "name": "stdout",
     "output_type": "stream",
     "text": [
      "Loss for [1, 3, 6, 4, 7, 2, 5]  = 38.91482679405096\n",
      "Loss for [2, 6, 4, 3, 7, 5, 1]  = 35.449320853921236\n",
      "Loss for [2, 3, 6, 1, 4, 5, 7]  = 30.999485826690055\n",
      "Loss for [3, 6, 4, 1, 2, 5, 7]  = 45.91284635077889\n",
      "Loss for [3, 1, 6, 7, 5, 2, 4]  = 44.07135361700801\n",
      "Loss for [1, 3, 7, 5, 6, 2, 4]  = 39.03286993760071\n",
      "Loss for [5, 3, 7, 6, 2, 1, 4]  = 34.05508466565158\n",
      "Loss for [3, 1, 5, 2, 7, 4, 6]  = 38.685331526170664\n",
      "Loss for [6, 5, 3, 1, 4, 7, 2]  = 38.43308079703198\n",
      "Loss for [6, 1, 3, 5, 4, 7, 2]  = 32.04778392336856\n",
      "Loss for [7, 3, 1, 4, 2, 6, 5]  = 36.30709273804348\n",
      "Loss for [3, 6, 5, 1, 2, 4, 7]  = 40.83349531755939\n",
      "Loss for [5, 6, 3, 4, 7, 2, 1]  = 36.590854630440106\n",
      "Loss for [1, 4, 3, 7, 2, 6, 5]  = 29.598888805544107\n",
      "Loss for [3, 7, 1, 5, 2, 4, 6]  = 41.99332459923877\n",
      "Loss for [7, 4, 6, 5, 2, 3, 1]  = 42.50494858734993\n",
      "Loss for [4, 7, 6, 3, 1, 2, 5]  = 41.78080455995846\n",
      "Loss for [7, 4, 1, 6, 3, 2, 5]  = 35.3557196911863\n",
      "Loss for [7, 2, 6, 1, 4, 5, 3]  = 27.801572672133243\n",
      "Loss for [3, 4, 1, 5, 6, 2, 7]  = 31.013102367917202\n",
      "Loss for [6, 4, 3, 1, 2, 5, 7]  = 47.44071039577931\n",
      "Loss for [7, 3, 5, 2, 4, 1, 6]  = 38.17400354219696\n",
      "Loss for [6, 2, 5, 3, 4, 7, 1]  = 42.93240006110882\n",
      "Loss for [4, 7, 1, 5, 6, 2, 3]  = 35.98509081870976\n",
      "Loss for [4, 7, 6, 3, 1, 2, 5]  = 41.78080455995846\n",
      "Loss for [7, 6, 4, 1, 3, 2, 5]  = 38.90468352031543\n",
      "Loss for [1, 5, 6, 3, 4, 7, 2]  = 33.023245641652736\n",
      "Loss for [3, 7, 6, 1, 4, 5, 2]  = 32.46579960969759\n",
      "Loss for [1, 6, 3, 7, 4, 5, 2]  = 32.47594288343313\n",
      "Loss for [2, 3, 5, 4, 7, 1, 6]  = 34.77356112292579\n",
      "Loss for [5, 2, 1, 6, 3, 7, 4]  = 37.28619255933978\n",
      "Loss for [7, 6, 3, 2, 1, 5, 4]  = 27.525026318025517\n",
      "Loss for [7, 6, 1, 5, 2, 4, 3]  = 38.17180923957132\n",
      "Loss for [1, 6, 3, 5, 2, 4, 7]  = 41.35571969118631\n",
      "Loss for [5, 4, 6, 1, 2, 3, 7]  = 29.96811351778651\n",
      "Loss for [6, 7, 1, 5, 3, 2, 4]  = 36.38482575167526\n",
      "Loss for [1, 7, 5, 6, 3, 2, 4]  = 41.40235596741134\n",
      "Loss for [1, 6, 3, 7, 5, 2, 4]  = 38.663712764254406\n",
      "Loss for [4, 6, 1, 5, 2, 3, 7]  = 31.944508274316668\n",
      "Loss for [3, 6, 1, 2, 5, 7, 4]  = 43.89174656665019\n"
     ]
    }
   ],
   "source": [
    "init_populations = initialisation(mu , n)\n",
    "childs = []\n",
    "for i in range(mu):\n",
    "    parent1, parent2 = random.sample(init_populations, 2)\n",
    "    child1, child2 = (order_crossover(parent1,parent2))\n",
    "    child1 = swap_random_proba(child1, .1)\n",
    "    child2 = swap_random_proba(child2 , .1)\n",
    "    childs.append(child1)\n",
    "    childs.append(child2)\n",
    "    \n",
    "for child in childs:\n",
    "    a =objective(child,distances)\n",
    "    print(\"Loss for\" , child , \" =\" ,a)"
   ]
  }
 ],
 "metadata": {
  "kernelspec": {
   "display_name": "Python 3",
   "language": "python",
   "name": "python3"
  },
  "language_info": {
   "codemirror_mode": {
    "name": "ipython",
    "version": 3
   },
   "file_extension": ".py",
   "mimetype": "text/x-python",
   "name": "python",
   "nbconvert_exporter": "python",
   "pygments_lexer": "ipython3",
   "version": "3.7.3"
  }
 },
 "nbformat": 4,
 "nbformat_minor": 2
}
