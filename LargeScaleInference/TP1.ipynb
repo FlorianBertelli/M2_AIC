{
 "cells": [
  {
   "cell_type": "markdown",
   "metadata": {
    "colab_type": "text",
    "id": "zT0dXdRMf_LG"
   },
   "source": [
    "# Practical classes\n",
    "\n",
    "All exercices will be in Python. It is important that you keep track of exercices and structure you code correctly (e.g. create funcions that you can re-use later)\n",
    "\n",
    "We will use Jupyter notebooks (formerly known as IPython). You can read the following courses for help:\n",
    "* Python and numpy: http://cs231n.github.io/python-numpy-tutorial/\n",
    "* Jupyter / IPython : http://cs231n.github.io/ipython-tutorial/\n",
    "\n",
    "To run this notebook:\n",
    "* create a directory somewhere on your filesystem\n",
    "* download the .ipynb from the course website: http://teaching.caio-corro.fr/2019-2020/TC4/\n",
    "* move the .ipynb into the directory\n",
    "* from a terminal:\n",
    "    * cd /directory/path\n",
    "    * jupyter notebook\n",
    "    \n",
    "Each group must send me their work by e-mail (one mail per group):\n",
    "* complete the code with comments\n",
    "* quick answer to questions\n",
    "\n",
    "If you don't want to use the notebook, send me the python code + a PDF with plots and answers."
   ]
  },
  {
   "cell_type": "code",
   "execution_count": 1,
   "metadata": {},
   "outputs": [],
   "source": [
    "# import libraries\n",
    "\n",
    "# NLTK will be used to load the data\n",
    "import nltk\n",
    "\n",
    "# matplotlib will be used to display plots\n",
    "import matplotlib\n",
    "import matplotlib.pyplot as plt\n",
    "\n",
    "# in this exercise, numpy is only used to compute plotting data\n",
    "import numpy as np\n",
    "\n",
    "# So we can display plots in the notebook\n",
    "%matplotlib inline"
   ]
  },
  {
   "cell_type": "markdown",
   "metadata": {
    "colab_type": "text",
    "id": "zT0dXdRMf_LG"
   },
   "source": [
    "# Part-of-speech tagging\n",
    "\n",
    "The goal of this exercise is to build a (really) simple **part-of-speech** (POS) tagger: given a sentence, predict the grammatical category of each word (verb, noun, etc). To this end, we introduce the following probability model: let *X* and *Y* be two random variables where *X* is an observed word and *Y* an observed tag. At test time, we will predict the most probable tag for a given word.\n",
    "\n",
    "# Data: the Brown corpus\n",
    "\n",
    "In this exercise we are going to look at the [Brown corpus](https://en.wikipedia.org/wiki/Brown_Corpus) which is a collection of texts from different domains. It has been manually annotated with POS tags.\n",
    "\n",
    "Contrary to popular belief, there is not a single way to analyze natural language texts. One usually rely on a \"framework\" or annotation scheme that exposes desired characteristics (see for example [Rambow, 2010](https://www.aclweb.org/anthology/N10-1049/)). In this exercise, we will us the *universal tagset* [Petrov et al, 2011](https://arxiv.org/abs/1104.2086), a simple annotation scheme that was originally proposed for multilingual natural language processing (see the [universal dependendency page about morphology](https://universaldependencies.org/u/overview/morphology.html) for more information).\n",
    "\n"
   ]
  },
  {
   "cell_type": "code",
   "execution_count": 2,
   "metadata": {},
   "outputs": [
    {
     "name": "stderr",
     "output_type": "stream",
     "text": [
      "[nltk_data] Downloading package brown to\n",
      "[nltk_data]     C:\\Users\\berte\\AppData\\Roaming\\nltk_data...\n",
      "[nltk_data]   Unzipping corpora\\brown.zip.\n",
      "[nltk_data] Downloading package universal_tagset to\n",
      "[nltk_data]     C:\\Users\\berte\\AppData\\Roaming\\nltk_data...\n",
      "[nltk_data]   Unzipping taggers\\universal_tagset.zip.\n"
     ]
    },
    {
     "data": {
      "text/plain": [
       "True"
      ]
     },
     "execution_count": 2,
     "metadata": {},
     "output_type": "execute_result"
    }
   ],
   "source": [
    "# Download the Brown corpus and the annotation scheme\n",
    "# This cell can be run only once on your computer\n",
    "nltk.download('brown')\n",
    "nltk.download('universal_tagset')"
   ]
  },
  {
   "cell_type": "code",
   "execution_count": 3,
   "metadata": {
    "colab": {
     "base_uri": "https://localhost:8080/",
     "height": 1473
    },
    "colab_type": "code",
    "executionInfo": {
     "elapsed": 620,
     "status": "error",
     "timestamp": 1539681381541,
     "user": {
      "displayName": "Xihui Wang",
      "photoUrl": "",
      "userId": "09445164112052208872"
     },
     "user_tz": -120
    },
    "id": "mLdK0SLNf_LI",
    "outputId": "4c7f4534-0c3c-4c52-cf52-3b5859caf7a3"
   },
   "outputs": [],
   "source": [
    "# Load the dataset\n",
    "# the argument tagset='universal' will map the original annotation to the universal tagset\n",
    "brown_data = list(nltk.corpus.brown.tagged_sents(tagset='universal'))"
   ]
  },
  {
   "cell_type": "markdown",
   "metadata": {},
   "source": [
    "The data is structured as follows:\n",
    "* brown_data is a list of sentences\n",
    "* a sentence brown_data[i] is a list of tokens\n",
    "* each token brown_data[i][j] is a tuple of strings (word, tag)"
   ]
  },
  {
   "cell_type": "code",
   "execution_count": 4,
   "metadata": {
    "colab": {
     "base_uri": "https://localhost:8080/",
     "height": 130
    },
    "colab_type": "code",
    "executionInfo": {
     "elapsed": 617,
     "status": "error",
     "timestamp": 1539681466176,
     "user": {
      "displayName": "Xihui Wang",
      "photoUrl": "",
      "userId": "09445164112052208872"
     },
     "user_tz": -120
    },
    "id": "OUWlaU-nf_Li",
    "outputId": "9ed44a04-79fa-40c1-e4bf-1dfb0c41e7af"
   },
   "outputs": [
    {
     "name": "stdout",
     "output_type": "stream",
     "text": [
      "<class 'list'> <class 'list'> <class 'tuple'>\n",
      "Number of sentences: 57340\n"
     ]
    }
   ],
   "source": [
    "print(type(brown_data), type(brown_data[0]), type(brown_data[0][0]))\n",
    "print(\"Number of sentences: %i\" % len(brown_data))"
   ]
  },
  {
   "cell_type": "code",
   "execution_count": 5,
   "metadata": {},
   "outputs": [
    {
     "name": "stdout",
     "output_type": "stream",
     "text": [
      "[('The', 'DET'), ('Fulton', 'NOUN'), ('County', 'NOUN'), ('Grand', 'ADJ'), ('Jury', 'NOUN'), ('said', 'VERB'), ('Friday', 'NOUN'), ('an', 'DET'), ('investigation', 'NOUN'), ('of', 'ADP'), (\"Atlanta's\", 'NOUN'), ('recent', 'ADJ'), ('primary', 'NOUN'), ('election', 'NOUN'), ('produced', 'VERB'), ('``', '.'), ('no', 'DET'), ('evidence', 'NOUN'), (\"''\", '.'), ('that', 'ADP'), ('any', 'DET'), ('irregularities', 'NOUN'), ('took', 'VERB'), ('place', 'NOUN'), ('.', '.')]\n"
     ]
    }
   ],
   "source": [
    "print(brown_data[0])"
   ]
  },
  {
   "cell_type": "markdown",
   "metadata": {},
   "source": [
    "# 1. Data pre-processing\n",
    "\n",
    "Split the dataset into two disjoint parts:\n",
    "* *train data* that will be used to learn the probability distribution p(y | x)\n",
    "* *test data* that will be used to evaluate the model\n",
    "We use 90% of the data as train data and 10% as test data.\n",
    "\n",
    "Note that the Brown corpus is a concatenation of texts from different domains. Therefore, we need to distribute the train/test split accross the corpus: you cannot just take the first 10% of sentences as test data and the remaining ones as train data.\n",
    "\n",
    "How can you do that?"
   ]
  },
  {
   "cell_type": "code",
   "execution_count": 31,
   "metadata": {
    "colab": {},
    "colab_type": "code",
    "id": "f3ESvRevmd3B"
   },
   "outputs": [],
   "source": [
    "train_data = []\n",
    "test_data = []\n",
    "\n",
    "from sklearn.model_selection import train_test_split\n",
    "\n",
    "train_data , test_data = train_test_split(brown_data, test_size= 0.1 )"
   ]
  },
  {
   "cell_type": "code",
   "execution_count": 32,
   "metadata": {},
   "outputs": [
    {
     "name": "stdout",
     "output_type": "stream",
     "text": [
      "Size of the train data: 51606\n",
      "Size of the test data: 5734\n"
     ]
    }
   ],
   "source": [
    "print(\"Size of the train data: %i\" % len(train_data))\n",
    "print(\"Size of the test data: %i\" % len(test_data))"
   ]
  },
  {
   "cell_type": "code",
   "execution_count": 33,
   "metadata": {},
   "outputs": [
    {
     "data": {
      "text/plain": [
       "[('Jenny', 'NOUN'),\n",
       " ('wished', 'VERB'),\n",
       " ('now', 'ADV'),\n",
       " ('that', 'ADP'),\n",
       " ('she', 'PRON'),\n",
       " ('had', 'VERB'),\n",
       " ('had', 'VERB'),\n",
       " ('Dr.', 'NOUN'),\n",
       " ('Dunne', 'NOUN'),\n",
       " (',', '.'),\n",
       " ('feeling', 'VERB'),\n",
       " ('that', 'ADP'),\n",
       " ('somehow', 'ADV'),\n",
       " ('he', 'PRON'),\n",
       " (\"wouldn't\", 'VERB'),\n",
       " ('have', 'VERB'),\n",
       " ('allowed', 'VERB'),\n",
       " ('the', 'DET'),\n",
       " ('dear', 'ADJ'),\n",
       " ('baby', 'NOUN'),\n",
       " ('to', 'PRT'),\n",
       " ('turn', 'VERB'),\n",
       " ('into', 'ADP'),\n",
       " ('triplets', 'NOUN'),\n",
       " ('.', '.')]"
      ]
     },
     "execution_count": 33,
     "metadata": {},
     "output_type": "execute_result"
    }
   ],
   "source": [
    "test_data[0]"
   ]
  },
  {
   "cell_type": "markdown",
   "metadata": {},
   "source": [
    "# 2. Data visualization\n",
    "\n",
    "We now analyze the data. First we will visualize the distribution of POS tags in the train and test sets. They should be roughly similar."
   ]
  },
  {
   "cell_type": "code",
   "execution_count": 34,
   "metadata": {},
   "outputs": [],
   "source": [
    "# Input:\n",
    "# - data: a dataset\n",
    "# Output:\n",
    "# a dictionnary where each key is a POS tag and the associated value is its frequency in the dataset\n",
    "def compute_pos_distribution(data):\n",
    "    dic = {}\n",
    "    for s in data:\n",
    "        for _,t in s:\n",
    "            if t in dic:\n",
    "                dic[t]+=1\n",
    "            else:\n",
    "                dic[t]=1\n",
    "    for k in dic:\n",
    "        dic[k]/=sum(dic.values())\n",
    "    return(dic)"
   ]
  },
  {
   "cell_type": "code",
   "execution_count": 35,
   "metadata": {},
   "outputs": [],
   "source": [
    "test_pos_distribution = compute_pos_distribution(test_data)\n",
    "train_pos_distribution = compute_pos_distribution(train_data)"
   ]
  },
  {
   "cell_type": "code",
   "execution_count": 36,
   "metadata": {},
   "outputs": [
    {
     "data": {
      "image/png": "[encoded data removed]",
      "text/plain": [
       "<Figure size 432x288 with 1 Axes>"
      ]
     },
     "metadata": {
      "needs_background": "light"
     },
     "output_type": "display_data"
    }
   ],
   "source": [
    "# Display the distribution of POS tags in the train and dev sets.\n",
    "# This code is an adaptation of:\n",
    "# https://matplotlib.org/3.1.1/gallery/lines_bars_and_markers/barchart.html#sphx-glr-gallery-lines-bars-and-markers-barchart-py\n",
    "\n",
    "# built the list of tags (categories)\n",
    "labels = list(train_pos_distribution.keys())\n",
    "\n",
    "# built the lists of category distributions for the 2 datasets\n",
    "train_probs = [train_pos_distribution[k] for k in labels]\n",
    "test_probs = [test_pos_distribution[k] for k in labels]\n",
    "\n",
    "x = np.arange(len(labels))  # the label locations\n",
    "width = 0.35  # the width of the bars\n",
    "\n",
    "fig, ax = plt.subplots()\n",
    "rects1 = ax.bar(x - width/2, train_probs, width, label='Train')\n",
    "rects2 = ax.bar(x + width/2, test_probs, width, label='Dev')\n",
    "\n",
    "# Add some text for labels, title and custom x-axis tick labels, etc.\n",
    "ax.set_ylabel('Distribution')\n",
    "ax.set_title('Distribution of POS tags')\n",
    "ax.set_xticks(x)\n",
    "ax.set_xticklabels(labels)\n",
    "ax.legend()\n",
    "\n",
    "fig.tight_layout()\n",
    "\n",
    "plt.show()"
   ]
  },
  {
   "cell_type": "markdown",
   "metadata": {},
   "source": [
    "We now look at word distribution."
   ]
  },
  {
   "cell_type": "code",
   "execution_count": 39,
   "metadata": {},
   "outputs": [],
   "source": [
    "# Input:\n",
    "# - data: a dataset\n",
    "# Output:\n",
    "# a dictionnary where each key is a word and the associated value is the number of occurences of this word in the dataset\n",
    "def compute_word_counts(data):\n",
    "    dic = {}\n",
    "    for s in data:\n",
    "        for w,_ in s:\n",
    "            if w in dic:\n",
    "                dic[w]+=1\n",
    "            else:\n",
    "                dic[w]=1\n",
    "    return(dic)"
   ]
  },
  {
   "cell_type": "code",
   "execution_count": 40,
   "metadata": {},
   "outputs": [],
   "source": [
    "train_word_counts = compute_word_counts(train_data)\n",
    "test_word_counts = compute_word_counts(test_data)"
   ]
  },
  {
   "cell_type": "code",
   "execution_count": 46,
   "metadata": {},
   "outputs": [
    {
     "name": "stdout",
     "output_type": "stream",
     "text": [
      "[('the', 56580), (',', 52616), ('.', 44420), ('of', 32404), ('and', 25142), ('to', 23164), ('a', 19617), ('in', 17664), ('that', 9151), ('is', 9051)]\n",
      "[('the', 6133), (',', 5718), ('.', 4926), ('of', 3676), ('and', 2773), ('to', 2568), ('a', 2264), ('in', 1872), ('that', 1086), ('was', 996)]\n"
     ]
    }
   ],
   "source": [
    "import operator\n",
    "\n",
    "sorted_train_word_counts = sorted(train_word_counts.items(), key=operator.itemgetter(1), reverse=True)\n",
    "print(sorted_train_word_counts[:10])\n",
    "\n",
    "sorted_test_word_counts = sorted(test_word_counts.items(), key=operator.itemgetter(1), reverse=True)\n",
    "print(sorted_test_word_counts[:10])"
   ]
  },
  {
   "cell_type": "code",
   "execution_count": 126,
   "metadata": {},
   "outputs": [],
   "source": [
    "# Input:\n",
    "# - data: a dataset\n",
    "# - words: a set of words\n",
    "# Output:\n",
    "# the percentage of words in the dataset that are in the input set words\n",
    "def compute_cover(dataset, words):\n",
    "    count = 0\n",
    "    for w in words:\n",
    "        if w in dataset:\n",
    "            count +=1\n",
    "    return(count/len(dataset) *100)\n",
    "        "
   ]
  },
  {
   "cell_type": "code",
   "execution_count": 98,
   "metadata": {},
   "outputs": [
    {
     "data": {
      "text/plain": [
       "25.0"
      ]
     },
     "execution_count": 98,
     "metadata": {},
     "output_type": "execute_result"
    }
   ],
   "source": [
    "compute_cover(['My' ,'name', 'is' ,'florian' ,'is' ,'it', 'si' ,'is'] , ['is', 'florian'])"
   ]
  },
  {
   "cell_type": "markdown",
   "metadata": {},
   "source": [
    "We want to display a plot that shows the percentage of the train/test datasets that are covered with the N most frequent words."
   ]
  },
  {
   "cell_type": "code",
   "execution_count": 135,
   "metadata": {},
   "outputs": [],
   "source": [
    "x = list()\n",
    "\n",
    "\n",
    "N_ = 100\n",
    "train = [tuple[0] for tuple in train_word_counts]\n",
    "test = [tuple[0] for tuple in test_word_counts] \n",
    "\n",
    "\n",
    "y_train = [(compute_cover(train,[tuple[0] for tuple in sorted_train_word_counts[:N]] )) for N in range(N_) ]\n",
    "y_dev = [compute_cover(test,[tuple[0] for tuple in sorted_test_word_counts[:N]] ) for N in range(N_) ]\n",
    "\n",
    "\n",
    "x = [i for i in range(N_)]"
   ]
  },
  {
   "cell_type": "markdown",
   "metadata": {},
   "source": [
    "We now plot the data. What can you deduce from this plot?"
   ]
  },
  {
   "cell_type": "code",
   "execution_count": 136,
   "metadata": {},
   "outputs": [
    {
     "data": {
      "image/png": "[encoded data removed]",
      "text/plain": [
       "<Figure size 1008x720 with 1 Axes>"
      ]
     },
     "metadata": {
      "needs_background": "light"
     },
     "output_type": "display_data"
    }
   ],
   "source": [
    "fig=plt.figure(figsize=(14, 10))\n",
    "plt.plot(x, y_train)\n",
    "plt.plot(x, y_dev)\n",
    "plt.show()"
   ]
  },
  {
   "cell_type": "markdown",
   "metadata": {},
   "source": [
    "# Training the tagger\n",
    "\n",
    "We now train a really simple discriminative POS tagger. We will learn the distribution p(y | x) where y is a tag and x is a word.\n",
    "\n",
    "Some words in the test data may not appear in the training data. In order to be robust to unknown words, we will learn the distribution p(y | x) for words that appear 10 or more times in the training data. Words that appears less than 10 times must be mapped to the \"\\*\\*UNK\\*\\*\" word. p(y | \\*\\*UNK\\*\\*) will be used to classify words that did not appear in the training data."
   ]
  },
  {
   "cell_type": "code",
   "execution_count": 137,
   "metadata": {
    "colab": {},
    "colab_type": "code",
    "id": "rsgBFrgcf_Lm"
   },
   "outputs": [
    {
     "ename": "NameError",
     "evalue": "name 'sorted_word_count' is not defined",
     "output_type": "error",
     "traceback": [
      "\u001b[1;31m---------------------------------------------------------------------------\u001b[0m",
      "\u001b[1;31mNameError\u001b[0m                                 Traceback (most recent call last)",
      "\u001b[1;32m<ipython-input-137-b55d68cff0f2>\u001b[0m in \u001b[0;36m<module>\u001b[1;34m\u001b[0m\n\u001b[0;32m      3\u001b[0m \u001b[1;31m#\u001b[0m\u001b[1;33m\u001b[0m\u001b[1;33m\u001b[0m\u001b[1;33m\u001b[0m\u001b[0m\n\u001b[0;32m      4\u001b[0m \u001b[1;31m# p(y | x) is then pos_distribution_per_word[x][y]\u001b[0m\u001b[1;33m\u001b[0m\u001b[1;33m\u001b[0m\u001b[1;33m\u001b[0m\u001b[0m\n\u001b[1;32m----> 5\u001b[1;33m \u001b[0msorted_word_count\u001b[0m\u001b[1;33m\u001b[0m\u001b[1;33m\u001b[0m\u001b[0m\n\u001b[0m\u001b[0;32m      6\u001b[0m \u001b[1;33m\u001b[0m\u001b[0m\n\u001b[0;32m      7\u001b[0m \u001b[1;33m\u001b[0m\u001b[0m\n",
      "\u001b[1;31mNameError\u001b[0m: name 'sorted_word_count' is not defined"
     ]
    }
   ],
   "source": [
    "# pos_distribution_per_word should a dict of dicts:\n",
    "# keys are words (including **UNK**) and values are dicts containing the POS tag distributions.\n",
    "#\n",
    "# p(y | x) is then pos_distribution_per_word[x][y]\n",
    "sorted_train_word_counts\n",
    "\n",
    "\n",
    "pos_distribution_per_word = {}\n",
    "# TODO\n",
    "# ..."
   ]
  },
  {
   "cell_type": "markdown",
   "metadata": {},
   "source": [
    "What is percentage of words that have a single tag associated with it, i.e. words x such that there exists a tag for which p(yÂ | x) = 1?"
   ]
  },
  {
   "cell_type": "code",
   "execution_count": null,
   "metadata": {},
   "outputs": [],
   "source": [
    "# TODO\n",
    "# ..."
   ]
  },
  {
   "cell_type": "markdown",
   "metadata": {},
   "source": [
    "What is percentage of words have a tag with a probability greater the 90%, i.e. words x such that there exists a tag for which p(y | x) > 0.9?"
   ]
  },
  {
   "cell_type": "code",
   "execution_count": null,
   "metadata": {},
   "outputs": [],
   "source": [
    "# TODO\n",
    "# ..."
   ]
  },
  {
   "cell_type": "markdown",
   "metadata": {},
   "source": [
    "# Evaluating the model\n",
    "\n",
    "To evaluate the model, we perform maximum a posteriori classification on the test data:\n",
    "1. for each word in the test data, predict the most probable tag under the p(y | x) distribution\n",
    "2. the accuracy the the number of correctly predicted tags divided by the number of words in the test data\n",
    "\n",
    "What is the accuracy of the model on test data?\n",
    "\n",
    "How does it performs comparatively to a model that would have performed a priori classification? (you can look at the POS distribution plot above)"
   ]
  },
  {
   "cell_type": "code",
   "execution_count": null,
   "metadata": {},
   "outputs": [],
   "source": [
    "# TODO\n",
    "# ..."
   ]
  }
 ],
 "metadata": {
  "colab": {
   "collapsed_sections": [],
   "name": "TC4-tp1.ipynb",
   "provenance": [],
   "version": "0.3.2"
  },
  "kernelspec": {
   "display_name": "Python 3",
   "language": "python",
   "name": "python3"
  },
  "language_info": {
   "codemirror_mode": {
    "name": "ipython",
    "version": 3
   },
   "file_extension": ".py",
   "mimetype": "text/x-python",
   "name": "python",
   "nbconvert_exporter": "python",
   "pygments_lexer": "ipython3",
   "version": "3.7.3"
  }
 },
 "nbformat": 4,
 "nbformat_minor": 1
}
