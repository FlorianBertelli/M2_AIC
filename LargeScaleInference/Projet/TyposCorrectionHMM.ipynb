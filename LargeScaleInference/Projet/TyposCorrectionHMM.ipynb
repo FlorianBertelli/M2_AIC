{
 "cells": [
  {
   "cell_type": "code",
   "execution_count": 1,
   "metadata": {},
   "outputs": [],
   "source": [
    "import pickle\n",
    "import numpy as np\n",
    "from collections import defaultdict"
   ]
  },
  {
   "cell_type": "code",
   "execution_count": 2,
   "metadata": {},
   "outputs": [],
   "source": [
    "original = \"./data/train10.pkl\"\n",
    "destination = \"./data/train10_.pkl\"\n",
    "\n",
    "content = ''\n",
    "outsize = 0\n",
    "with open(original, 'rb') as infile:\n",
    "    content = infile.read()\n",
    "with open(destination, 'wb') as output:\n",
    "    for line in content.splitlines():\n",
    "        outsize += len(line) + 1\n",
    "        output.write(line + str.encode('\\n'))\n"
   ]
  },
  {
   "cell_type": "code",
   "execution_count": 3,
   "metadata": {},
   "outputs": [],
   "source": [
    "original = \"./data/test10.pkl\"\n",
    "destination = \"./data/test10_.pkl\"\n",
    "\n",
    "content = ''\n",
    "outsize = 0\n",
    "with open(original, 'rb') as infile:\n",
    "    content = infile.read()\n",
    "with open(destination, 'wb') as output:\n",
    "    for line in content.splitlines():\n",
    "        outsize += len(line) + 1\n",
    "        output.write(line + str.encode('\\n'))\n"
   ]
  },
  {
   "cell_type": "code",
   "execution_count": 4,
   "metadata": {},
   "outputs": [],
   "source": [
    "with open(\"./data/train10_.pkl\", \"rb\") as f:\n",
    "    train_data = pickle.load(f)\n",
    "\n",
    "with open(\"./data/test10_.pkl\", \"rb\") as f:\n",
    "    test_data = pickle.load(f)   \n",
    "\n"
   ]
  },
  {
   "cell_type": "code",
   "execution_count": 5,
   "metadata": {},
   "outputs": [
    {
     "name": "stdout",
     "output_type": "stream",
     "text": [
      "1501\n"
     ]
    }
   ],
   "source": [
    "len(train_data)\n",
    "print(len(test_data))"
   ]
  },
  {
   "cell_type": "code",
   "execution_count": 6,
   "metadata": {},
   "outputs": [],
   "source": [
    "class Dict:\n",
    "    def __init__(self, chars, unk=None):\n",
    "        self._unk = unk\n",
    "        self._char_to_id = dict()\n",
    "        self._id_to_char = list()\n",
    "\n",
    "        if unk in chars:\n",
    "            raise RuntimeError(\"UNK word exists in vocabulary\")\n",
    "\n",
    "        if unk is not None:\n",
    "            self.unk_index = self._add_char(unk)\n",
    "\n",
    "        for char in chars:\n",
    "            self._add_char(char)\n",
    "\n",
    "    # for internal use only!\n",
    "    def _add_char(self, char):\n",
    "        if char not in self._char_to_id:\n",
    "            id = len(self._id_to_char)\n",
    "            self._char_to_id[char] = id\n",
    "            self._id_to_char.append(char)\n",
    "            return id\n",
    "        else:\n",
    "            return self._char_to_id[char]\n",
    "\n",
    "    def char_to_id(self, char):\n",
    "        if self._unk is not None:\n",
    "            return self._char_to_id.get(char, self.unk_index)\n",
    "        else:\n",
    "            return self._char_to_id[char]\n",
    "\n",
    "    def id_to_char(self, id):\n",
    "        return self._id_to_char[id]\n",
    "\n",
    "    def __len__(self):\n",
    "        return len(self._char_to_id)\n",
    "\n",
    "    def has_unk(self):\n",
    "        return self._unk is not None\n",
    "    \n",
    "    def unk(self):\n",
    "        return self.unk_index"
   ]
  },
  {
   "cell_type": "code",
   "execution_count": 7,
   "metadata": {},
   "outputs": [],
   "source": [
    "distribution_per_char = {}\n",
    "distribution_per_char_correct = {}\n",
    "for w in train_data:\n",
    "    for typed_c, correct_c in w:\n",
    "        if typed_c in distribution_per_char : \n",
    "            if correct_c in distribution_per_char[typed_c]:\n",
    "                distribution_per_char[typed_c][correct_c]+=1\n",
    "            else:\n",
    "                distribution_per_char[typed_c][correct_c] = 1\n",
    "        else:\n",
    "            distribution_per_char[typed_c]={}\n",
    "            distribution_per_char[typed_c][correct_c] = 1"
   ]
  },
  {
   "cell_type": "code",
   "execution_count": 8,
   "metadata": {},
   "outputs": [
    {
     "name": "stdout",
     "output_type": "stream",
     "text": [
      "{'b': {'b': 1843, 'n': 233, 'g': 44, 'h': 129, 'v': 40}, 'y': {'y': 2684, 'h': 118, 't': 354, 'u': 110}, 't': {'t': 12540, 'r': 207, 'f': 64, 'y': 76, 'g': 54}, 'h': {'h': 6047, 'n': 230, 'b': 73, 'y': 73, 'u': 90, 'g': 43, 'j': 2}, 'e': {'e': 16274, 'd': 97, 'r': 203, 'w': 64}, 'i': {'i': 9856, 'o': 302, 'u': 97, 'k': 19}, 'r': {'r': 7416, 'e': 624, 'f': 69, 't': 334}, 'o': {'o': 10720, 'p': 163, 'i': 273, 'l': 186}, 'w': {'w': 1999, 'e': 581, 's': 195, 'q': 7}, 'n': {'n': 8803, 'b': 43, 'h': 129, 'm': 131}, 'a': {'a': 9501, 's': 190, 'w': 62, 'q': 8, 'z': 4}, 'c': {'c': 4347, 'd': 76, 'f': 64, 'v': 34, 'x': 9}, 'v': {'c': 108, 'v': 1758, 'g': 49, 'b': 68, 'f': 68}, 'u': {'u': 3538, 'i': 273, 'y': 72, 'j': 3}, 'l': {'l': 5787, 'o': 311, 'p': 158, 'k': 10}, 's': {'s': 8809, 'd': 99, 'a': 353, 'z': 7, 'w': 53, 'x': 7}, 'f': {'f': 3015, 'r': 211, 'c': 118, 't': 318, 'v': 50, 'd': 113, 'g': 54}, 'm': {'m': 3390, 'n': 269, 'k': 14, 'j': 4}, 'q': {'a': 348, 'q': 135, 'w': 51}, 'p': {'l': 232, 'o': 304, 'p': 2896}, 'j': {'i': 298, 'k': 16, 'j': 98, 'h': 143, 'u': 96, 'n': 243, 'm': 107}, 'd': {'d': 4074, 'r': 210, 's': 192, 'e': 612, 'c': 114, 'f': 46, 'x': 8}, 'g': {'g': 2492, 't': 331, 'h': 117, 'v': 45, 'y': 80, 'f': 53, 'b': 43}, 'z': {'z': 109, 'a': 358, 's': 183, 'x': 5}, 'k': {'k': 531, 'o': 298, 'l': 212, 'i': 276, 'm': 145, 'j': 1}, 'x': {'z': 4, 'x': 245, 'd': 82, 'c': 121, 's': 193}}\n"
     ]
    }
   ],
   "source": [
    "print(distribution_per_char)"
   ]
  },
  {
   "cell_type": "code",
   "execution_count": 9,
   "metadata": {},
   "outputs": [],
   "source": [
    "tmp = [list(x.keys()) for x in distribution_per_char.values()]\n",
    "\n",
    "correct_c = [item for sublist in tmp for item in sublist]\n",
    "\n",
    "typed_c_dict = Dict(distribution_per_char.keys())\n",
    "correct_c_dict = Dict(correct_c)"
   ]
  },
  {
   "cell_type": "code",
   "execution_count": 10,
   "metadata": {},
   "outputs": [
    {
     "name": "stdout",
     "output_type": "stream",
     "text": [
      "26\n"
     ]
    }
   ],
   "source": [
    "print(correct_c_dict.__len__())"
   ]
  },
  {
   "cell_type": "code",
   "execution_count": 11,
   "metadata": {},
   "outputs": [],
   "source": [
    "class HMM:\n",
    "    def __init__(self, y_dict, x_dict):\n",
    "        if not isinstance(y_dict, Dict) or not isinstance(x_dict, Dict):\n",
    "            raise RuntimeError(\"Arguments must be of type Dict\")\n",
    "\n",
    "        self.y_dict = y_dict\n",
    "        self.x_dict = x_dict\n",
    "\n",
    "        n_y = len(y_dict)\n",
    "        n_x = len(x_dict)\n",
    "        self.init_prob = np.zeros((n_y,), float) \n",
    "        self.transition_prob = np.zeros((n_y, n_y), float) \n",
    "        self.observation_prob = np.zeros((n_y, n_x), float) "
   ]
  },
  {
   "cell_type": "code",
   "execution_count": 12,
   "metadata": {},
   "outputs": [
    {
     "name": "stdout",
     "output_type": "stream",
     "text": [
      "11\n"
     ]
    }
   ],
   "source": [
    "print(correct_c_dict.char_to_id('e'))"
   ]
  },
  {
   "cell_type": "code",
   "execution_count": 13,
   "metadata": {},
   "outputs": [
    {
     "name": "stdout",
     "output_type": "stream",
     "text": [
      "[4.91696180e-02 2.60633360e-02 1.68827150e-02 3.60691813e-02\n",
      " 4.71065571e-03 2.57882612e-03 1.73950418e-01 9.93707664e-03\n",
      " 2.60977203e-02 3.56221848e-02 1.89113915e-03 3.02926108e-02\n",
      " 2.93642334e-02 5.44304233e-02 8.09063714e-02 7.88089262e-02\n",
      " 2.75074786e-03 5.28143589e-02 2.32438194e-02 7.47171887e-02\n",
      " 1.20345219e-03 4.02984561e-02 1.06385173e-01 3.43843482e-05\n",
      " 4.16394457e-02 1.37537393e-04]\n"
     ]
    }
   ],
   "source": [
    "hmm1 = HMM(typed_c_dict, correct_c_dict)\n",
    "\n",
    "###init prob###\n",
    "#computing the frequency of each tag to be the first tag of the sequence\n",
    "for sent in train_data:\n",
    "    tag = sent[0][1]\n",
    "    id_tag = correct_c_dict.char_to_id(tag)\n",
    "    hmm1.init_prob[id_tag]+=1\n",
    "#smooting\n",
    "hmm1.init_prob+=1\n",
    "hmm1.init_prob/=(correct_c_dict.__len__()+len(train_data))\n",
    "print(hmm1.init_prob)\n",
    "\n",
    "###transition prob###\n",
    "#computing p(yi|y(i-1)) \n",
    "d_tag = defaultdict(int)\n",
    "for sent in train_data:\n",
    "    for i in range(1,len(sent)):\n",
    "        cur_char = sent[i][1]\n",
    "        pred_char = sent[i-1][1]\n",
    "        hmm1.transition_prob[correct_c_dict.char_to_id(pred_char)][correct_c_dict.char_to_id(cur_char)] += 1\n",
    "        d_tag[correct_c_dict.char_to_id(pred_char)] +=1\n",
    "        \n",
    "#smoothing\n",
    "hmm1.transition_prob+=1\n",
    "for id_tag in d_tag:\n",
    "    hmm1.transition_prob[id_tag,:]/=(d_tag[id_tag]+len(correct_c_dict))   \n",
    "    \n",
    "###observation prob###\n",
    "d_tag = defaultdict(int)\n",
    "for sent in train_data:\n",
    "    for i in range(len(sent)):\n",
    "        true_char = sent[i][1]\n",
    "        typed_char = sent[i][0]\n",
    "        true_char_tag = correct_c_dict.char_to_id(true_char)\n",
    "        typed_char_tag = correct_c_dict.char_to_id(typed_char)\n",
    "        hmm1.observation_prob[true_char_tag][typed_char_tag]+=1\n",
    "        d_tag[true_char_tag]+=1\n",
    "#smoothing\n",
    "hmm1.observation_prob+=1\n",
    "for id_tag in d_tag:\n",
    "    hmm1.observation_prob[id_tag,:]/=(d_tag[id_tag]+len(correct_c_dict))"
   ]
  },
  {
   "cell_type": "code",
   "execution_count": 14,
   "metadata": {},
   "outputs": [
    {
     "name": "stdout",
     "output_type": "stream",
     "text": [
      "0.8797709923664122\n",
      "0.898000815993472\n",
      "0.9026068066618392\n",
      "0.9014756297510806\n",
      "0.9006656426011265\n",
      "0.8917303221521089\n",
      "0.9020355318995901\n",
      "0.894364417487996\n",
      "0.8965308835972441\n",
      "0.8857562408223201\n",
      "0.7388059701492538\n",
      "0.8983275376718\n",
      "0.8922706371797678\n",
      "0.8869179600886918\n",
      "0.8959280130885293\n",
      "0.8963297383161943\n",
      "0.8636363636363636\n",
      "0.8933086648165279\n",
      "0.8983392829427286\n",
      "0.90008173273396\n",
      "0.7727272727272727\n",
      "0.8926033166622795\n",
      "0.8976006045720764\n",
      "0.7333333333333333\n",
      "0.8994621431526686\n",
      "0.82\n"
     ]
    }
   ],
   "source": [
    "for i in range (hmm1.observation_prob.shape[0]):\n",
    "    print(hmm1.observation_prob[i][i])"
   ]
  },
  {
   "cell_type": "code",
   "execution_count": 15,
   "metadata": {
    "scrolled": true
   },
   "outputs": [
    {
     "name": "stdout",
     "output_type": "stream",
     "text": [
      "1.0000000000000002\n",
      "[1. 1. 1. 1. 1. 1. 1. 1. 1. 1. 1. 1. 1. 1. 1. 1. 1. 1. 1. 1. 1. 1. 1. 1.\n",
      " 1. 1.]\n",
      "[1. 1. 1. 1. 1. 1. 1. 1. 1. 1. 1. 1. 1. 1. 1. 1. 1. 1. 1. 1. 1. 1. 1. 1.\n",
      " 1. 1.]\n"
     ]
    }
   ],
   "source": [
    "print(sum(hmm1.init_prob))\n",
    "print(hmm1.transition_prob.sum(1))\n",
    "print(hmm1.observation_prob.sum(1))"
   ]
  },
  {
   "cell_type": "code",
   "execution_count": 16,
   "metadata": {},
   "outputs": [
    {
     "name": "stdout",
     "output_type": "stream",
     "text": [
      "[2.63227165e-04 3.47459858e-02 2.63227165e-04 2.63227165e-04\n",
      " 2.63227165e-04 2.63227165e-04 2.63227165e-04 2.63227165e-04\n",
      " 2.63227165e-04 2.63227165e-04 2.84285338e-02 2.63227165e-04\n",
      " 2.63227165e-04 2.63227165e-04 2.63227165e-04 2.63227165e-04\n",
      " 3.84311661e-02 2.63227165e-04 2.63227165e-04 2.63227165e-04\n",
      " 2.63227165e-04 8.92603317e-01 2.63227165e-04 2.63227165e-04\n",
      " 2.63227165e-04 2.63227165e-04]\n"
     ]
    }
   ],
   "source": [
    "print((hmm1.observation_prob[21]))"
   ]
  },
  {
   "cell_type": "code",
   "execution_count": 17,
   "metadata": {},
   "outputs": [],
   "source": [
    "def viterbi(hmm, chars):\n",
    "    \"\"\"\n",
    "    Input:\n",
    "    - hmm: an HMM object\n",
    "    - words: a list of words (ie a sentence)\n",
    "    Return:\n",
    "    - a list of POS tags\n",
    "    \"\"\"\n",
    "\n",
    "    #DEFINING THE CHART AND BACKPOINTER TABLES\n",
    "    chart = np.zeros((len(hmm.y_dict), len(chars)), float)\n",
    "    backpointer = np.zeros((len(hmm.y_dict), len(chars)), float)\n",
    "    \n",
    "    #FILLING THE FIRST LINE OF THE CHART TABLE \n",
    "    for i in range(len(hmm.y_dict)):\n",
    "        id_c0 = correct_c_dict.char_to_id(chars[0])\n",
    "        chart[i,0] = hmm.init_prob[i]*hmm.observation_prob[i,id_c0]\n",
    "        \n",
    "    #FILLING BACKPOINTER TABLE AND THE REST OF THE CHART TABLE\n",
    "    #for each char\n",
    "    for i in range(1,len(chars)):\n",
    "        id_c = correct_c_dict.char_to_id(chars[i])\n",
    "        #for each possible char \n",
    "        for j in range(len(hmm.y_dict)):\n",
    "            b_score = -100.0\n",
    "            #for each possible (char, char') we want the maximum of the equation below\n",
    "            for k in range(len(hmm.y_dict)):\n",
    "                score = hmm.transition_prob[k,j]*hmm.observation_prob[j,id_c]*chart[k,i-1]\n",
    "                #if the score is superior, we update because it wasn't the maximun\n",
    "                if(score>b_score):\n",
    "                    chart[j,i] = score\n",
    "                    b_score = score\n",
    "                    backpointer[j,i] = k\n",
    "    \n",
    "    #FILLING THE TABLE CONTAINING THE ID OF THE GOOD TAGS\n",
    "    y = np.zeros(len(chars))\n",
    "    y[len(chars)-1] = np.argmax(chart[:,len(chars)-1], axis=0)\n",
    "\n",
    "    for j in range(1,len(chars))[::-1]:\n",
    "        #print(j)\n",
    "        y[j-1] = backpointer[int(y[j]),j]\n",
    "    #MAPPING EACH ID TAG TO THE TAG\n",
    "    pred = [correct_c_dict.id_to_char(int(i)) for i in (y)]\n",
    "\n",
    "    return pred"
   ]
  },
  {
   "cell_type": "code",
   "execution_count": 18,
   "metadata": {},
   "outputs": [],
   "source": [
    "idx = 3"
   ]
  },
  {
   "cell_type": "code",
   "execution_count": 20,
   "metadata": {},
   "outputs": [
    {
     "name": "stdout",
     "output_type": "stream",
     "text": [
      "Char Tagging accuracy for HMM Order 1: 93.21\n",
      "Word Tagging accuracy for HMM Order 1: 75.08\n",
      "Char Tagging accuracy before HMM Order 1: 89.82\n",
      "Word Tagging accuracy before HMM Order 1: 62.89\n"
     ]
    }
   ],
   "source": [
    "# Evaluate the HMM using the viterbi\n",
    "n_chars = 0\n",
    "n_correct_chars = 0\n",
    "n_correct_chars2 = 0\n",
    "\n",
    "n_words = 0\n",
    "n_correct_words = 0\n",
    "n_correct_words2 = 0\n",
    "for w in test_data:\n",
    "    \n",
    "    typed_chars = [c for c,_ in w]\n",
    "    correct_chars = [c for _,c in w]\n",
    "    pred = viterbi(hmm1, typed_chars)\n",
    "    \n",
    "    n_chars += len(typed_chars)\n",
    "    \n",
    "    correct_char_hmm = sum(1 for c in range(len(typed_chars))  if correct_chars[c] == pred[c])\n",
    "    correct_char_nothing =  sum(1 for c in range(len(typed_chars))  if correct_chars[c] == typed_chars[c])\n",
    "    \n",
    "    n_correct_chars += correct_char_hmm\n",
    "    n_correct_chars2 += correct_char_nothing\n",
    "\n",
    "    n_words +=1\n",
    "    if  len(typed_chars) == correct_char_hmm:\n",
    "        n_correct_words += 1 \n",
    "    if  len(typed_chars) == correct_char_nothing:\n",
    "        n_correct_words2 += 1\n",
    "    \n",
    "print(\"Char Tagging accuracy for HMM Order 1: %.2f\" % (100 * n_correct_chars / n_chars))\n",
    "print(\"Word Tagging accuracy for HMM Order 1: %.2f\" % (100 * n_correct_words / n_words))\n",
    "\n",
    "print(\"Char Tagging accuracy before HMM Order 1: %.2f\" % (100 * n_correct_chars2 / n_chars))\n",
    "print(\"Word Tagging accuracy before HMM Order 1: %.2f\" % (100 * n_correct_words2 / n_words))"
   ]
  },
  {
   "cell_type": "code",
   "execution_count": 38,
   "metadata": {},
   "outputs": [
    {
     "name": "stdout",
     "output_type": "stream",
     "text": [
      "Error created by HMM Order 1: 62.00\n",
      "Error corrected by HMM Order 1: 41.61 percent\n"
     ]
    }
   ],
   "source": [
    "# Evaluate the HMM using the viterbi\n",
    "error_created = 0\n",
    "error_corrected = 0\n",
    "error_tot = 0\n",
    "for w in test_data:\n",
    "    \n",
    "    typed_chars = [c for c,_ in w]\n",
    "    correct_chars = [c for _,c in w]\n",
    "    pred = viterbi(hmm1, typed_chars)\n",
    "    \n",
    "    for i in range (len(pred)):\n",
    "        if ((typed_chars[i] == correct_chars[i]) & (pred[i] != correct_chars[i])):\n",
    "            error_created += 1\n",
    "        if (typed_chars[i] != correct_chars[i]) :\n",
    "            error_tot += 1\n",
    "            if (pred[i] == correct_chars[i]):\n",
    "                error_corrected +=1\n",
    "        \n",
    "    \n",
    "    \n",
    "print(\"Error created by HMM Order 1: %.2f\" % error_created)\n",
    "print(\"Error corrected by HMM Order 1: %.2f percent\" % (100 * error_corrected/error_tot) )\n"
   ]
  },
  {
   "cell_type": "markdown",
   "metadata": {},
   "source": [
    "## HMM ORDER 2"
   ]
  },
  {
   "cell_type": "code",
   "execution_count": 24,
   "metadata": {},
   "outputs": [],
   "source": [
    "class HMM_2:\n",
    "    def __init__(self, y_dict, x_dict):\n",
    "        if not isinstance(y_dict, Dict) or not isinstance(x_dict, Dict):\n",
    "            raise RuntimeError(\"Arguments must be of type Dict\")\n",
    "\n",
    "        self.y_dict = y_dict\n",
    "        self.x_dict = x_dict\n",
    "\n",
    "        n_y = len(y_dict)\n",
    "        n_x = len(x_dict)\n",
    "        self.init_prob = np.zeros((n_y,), float) \n",
    "        self.transition_prob1 = np.zeros((n_y,n_y), float)\n",
    "        self.transition_prob = np.zeros((n_y, n_y,n_y), float) \n",
    "        self.observation_prob = np.zeros((n_y, n_x), float) "
   ]
  },
  {
   "cell_type": "code",
   "execution_count": 25,
   "metadata": {},
   "outputs": [],
   "source": [
    "hmm = HMM_2(typed_c_dict, correct_c_dict)\n",
    "\n",
    "###init prob###\n",
    "#computing the frequency of each tag to be the first tag of the sequence\n",
    "for sent in train_data:\n",
    "    tag = sent[0][1]\n",
    "    id_tag = correct_c_dict.char_to_id(tag)\n",
    "    hmm.init_prob[id_tag]+=1\n",
    "#smooting\n",
    "hmm.init_prob+=1\n",
    "hmm.init_prob/=(correct_c_dict.__len__()+len(train_data))\n",
    "\n",
    "\n",
    "\n",
    "###transition prob 1###\n",
    "#computing p(yi|y(i-1)) \n",
    "d_tag = defaultdict(int)\n",
    "for sent in train_data:\n",
    "    for i in range(1,len(sent)):\n",
    "        cur_char = sent[i][1]\n",
    "        pred_char = sent[i-1][1]\n",
    "        hmm.transition_prob1[correct_c_dict.char_to_id(pred_char)][correct_c_dict.char_to_id(cur_char)] += 1\n",
    "        d_tag[correct_c_dict.char_to_id(pred_char)] +=1\n",
    "        \n",
    "#smoothing\n",
    "hmm.transition_prob1+=1\n",
    "for id_tag in d_tag:\n",
    "    hmm.transition_prob1[id_tag,:]/=(d_tag[id_tag]+len(correct_c_dict))   \n",
    "    \n",
    "    \n",
    "    \n",
    "\n",
    "###transition prob###\n",
    "#computing p(yi|y(i-1),y(i-2)) \n",
    "d_tag1 = defaultdict(int)\n",
    "for sent in train_data:\n",
    "    for i in range(2,len(sent)):\n",
    "        cur_char = sent[i][1]\n",
    "        pred_char = sent[i-1][1]\n",
    "        pred2_char = sent[i-2][1]\n",
    "        hmm.transition_prob[correct_c_dict.char_to_id(pred2_char)][correct_c_dict.char_to_id(pred_char)][correct_c_dict.char_to_id(cur_char)] += 1\n",
    "        d_tag1[(correct_c_dict.char_to_id(pred2_char),correct_c_dict.char_to_id(pred_char))] +=1\n",
    " \n",
    "\n",
    "#smoothing\n",
    "hmm.transition_prob+=1\n",
    "for i in range(26):\n",
    "    for j in range(26):\n",
    "        if (d_tag1[i,j]==0):\n",
    "            hmm.transition_prob[i,j,:]=0\n",
    "        else:\n",
    "            hmm.transition_prob[i, j,:]/=(d_tag1[i, j]+len(correct_c_dict))   \n",
    "    \n",
    "###observation prob###\n",
    "d_tag = defaultdict(int)\n",
    "for sent in train_data:\n",
    "    for i in range(len(sent)):\n",
    "        true_char = sent[i][1]\n",
    "        typed_char = sent[i][0]\n",
    "        true_char_tag = correct_c_dict.char_to_id(true_char)\n",
    "        typed_char_tag = correct_c_dict.char_to_id(typed_char)\n",
    "        hmm.observation_prob[true_char_tag][typed_char_tag]+=1\n",
    "        d_tag[true_char_tag]+=1\n",
    "#smoothing\n",
    "hmm.observation_prob+=1\n",
    "for id_tag in d_tag:\n",
    "    hmm.observation_prob[id_tag,:]/=(d_tag[id_tag]+len(correct_c_dict))"
   ]
  },
  {
   "cell_type": "code",
   "execution_count": 26,
   "metadata": {
    "scrolled": true
   },
   "outputs": [
    {
     "name": "stdout",
     "output_type": "stream",
     "text": [
      "0.9999999999999999\n"
     ]
    }
   ],
   "source": [
    "print((hmm.transition_prob[3,0,:]).sum())"
   ]
  },
  {
   "cell_type": "code",
   "execution_count": 27,
   "metadata": {
    "scrolled": true
   },
   "outputs": [
    {
     "data": {
      "text/plain": [
       "(26, 26, 26)"
      ]
     },
     "execution_count": 27,
     "metadata": {},
     "output_type": "execute_result"
    }
   ],
   "source": [
    "hmm.transition_prob.shape"
   ]
  },
  {
   "cell_type": "code",
   "execution_count": 28,
   "metadata": {},
   "outputs": [],
   "source": [
    "def viterbi2(hmm, chars, viterbi):\n",
    "    \"\"\"\n",
    "    Input:\n",
    "    - hmm: an HMM object\n",
    "    - words: a list of words (ie a sentence)\n",
    "    Return:\n",
    "    - a list of POS tags\n",
    "    \"\"\"\n",
    "    \n",
    "    #if two chars or less it is useless to do order 2 HMM so we call order 1 hmm as before\n",
    "    if len(chars)<2:\n",
    "        return(viterbi(hmm1, chars))\n",
    "       \n",
    "    ####if more than two chars##### \n",
    "    \n",
    "    #INIT OF VITERBI & BACK POINTER TABLES\n",
    "    #dim 26 * 26 * len(chars) ie the two hidden states and the typed char\n",
    "    chart = np.zeros((len(hmm.y_dict),len(hmm.y_dict),len(chars)))\n",
    "    tmp = np.zeros((len(hmm.y_dict),len(chars))) \n",
    "    back_ptr = np.zeros((len(hmm.y_dict),len(hmm.y_dict),len(chars)))\n",
    "\n",
    "\n",
    "\n",
    "    \n",
    "    ##chart[y, 0] = p(y)p(y |x0)\n",
    "    #FILLING THE FIRST LINE OF THE CHART TABLE CORRESPONDING TO THE LAST CHAR\n",
    "    for i in range(len(hmm.y_dict)):\n",
    "        id_c0 = correct_c_dict.char_to_id(chars[0])\n",
    "        tmp[i,0] = hmm.init_prob[i]*hmm.observation_prob[i,id_c0]\n",
    "        \n",
    "\n",
    "    #FILLING THE FIRST TABLE OF THE CHART TABLE CORRESPONDING TO THE TWO LAST CHARS\n",
    "    id_c1 = correct_c_dict.char_to_id(chars[1])\n",
    "    for s in range (0,len(hmm.y_dict)):\n",
    "        for v in range (0,len(hmm.y_dict)): \n",
    "            chart[s,v,1] = tmp[s,0] * hmm.transition_prob1[s,v] * hmm.observation_prob[id_c1,v]\n",
    "\n",
    "\n",
    "\n",
    "   \n",
    "    \n",
    "    #for each char\n",
    "    for i in range(2,len(chars)):\n",
    "        id_c = correct_c_dict.char_to_id(chars[i])\n",
    "        #for each possible char \n",
    "        for j in range (0,len(hmm.y_dict)): \n",
    "            #for each possible char before\n",
    "            for k in range (0,len(hmm.y_dict)): \n",
    "                #finding the argmax and max to fill chart and backptr\n",
    "                trans_p = np.array(chart[:,j,i-1] * hmm.transition_prob[:,j,k]*hmm.observation_prob[k,id_c])\n",
    "                chart[j,k,i] = (np.max(trans_p))\n",
    "                back_ptr[j,k,i]= np.where(trans_p == np.max(trans_p))[0]\n",
    "\n",
    "                \n",
    "    #taking the table corresponding to the two last chars : line is the ante last char (y(n-1))\n",
    "    #and column is the last char (y(n))\n",
    "    last_chars = chart[:,:,len(chars)-1]\n",
    "    #taking the argmax : this argmax describes the two last chars\n",
    "    \n",
    "    y = np.zeros(len(chars))\n",
    "    \n",
    "    b_score = -1\n",
    "    for i in range(26):\n",
    "        for j in range(26):\n",
    "            #searching for the argmax and the corresponding characters ie the position\n",
    "            score = last_chars[i][j]\n",
    "            if(score>b_score):\n",
    "                b_score=score\n",
    "                y[len(chars)-1] = j\n",
    "                y[len(chars)-2] = i\n",
    "                \n",
    "\n",
    "\n",
    "    #y^_j =bckptr[y^_j+1,y^_j+2, j + 2]\n",
    "    for j in range(0,len(chars)-2)[::-1]:\n",
    "        y[j] = back_ptr[int(y[j+1]),int(y[j+2]),j+2]\n",
    "\n",
    "    pred = [correct_c_dict.id_to_char(int(i)) for i in (y)]\n",
    "    return pred"
   ]
  },
  {
   "cell_type": "code",
   "execution_count": 29,
   "metadata": {},
   "outputs": [
    {
     "data": {
      "text/plain": [
       "['e', 'n', 'g', 'l', 'i', 's', 'h']"
      ]
     },
     "execution_count": 29,
     "metadata": {},
     "output_type": "execute_result"
    }
   ],
   "source": [
    "viterbi2(hmm, ['e','m','g','k','i','s','h'] ,viterbi)"
   ]
  },
  {
   "cell_type": "code",
   "execution_count": 30,
   "metadata": {
    "scrolled": true
   },
   "outputs": [
    {
     "name": "stdout",
     "output_type": "stream",
     "text": [
      "100\n",
      "200\n",
      "300\n",
      "400\n",
      "500\n",
      "600\n",
      "700\n",
      "800\n",
      "900\n",
      "1000\n",
      "1100\n",
      "1200\n",
      "1300\n",
      "1400\n",
      "1500\n",
      "Char Tagging accuracy for HMM Order 1: 95.07\n",
      "Word Tagging accuracy for HMM Order 1: 81.48\n",
      "Char Tagging accuracy before HMM Order 1: 89.82\n",
      "Word Tagging accuracy before HMM Order 1: 62.89\n"
     ]
    }
   ],
   "source": [
    "# Evaluate the HMM using the viterbi\n",
    "n_chars = 0\n",
    "n_correct_chars = 0\n",
    "n_correct_chars2 = 0\n",
    "\n",
    "n_words = 0\n",
    "n_correct_words = 0\n",
    "n_correct_words2 = 0\n",
    "i=0\n",
    "for w in test_data:\n",
    "    i+=1\n",
    "    if(i%100 == 0):\n",
    "        print(i)\n",
    "    typed_chars = [c for c,_ in w]\n",
    "    correct_chars = [c for _,c in w]\n",
    "    pred = viterbi2(hmm, typed_chars , viterbi)\n",
    "    \n",
    "    n_chars += len(typed_chars)\n",
    "    \n",
    "    correct_char_hmm = sum(1 for c in range(len(typed_chars))  if correct_chars[c] == pred[c])\n",
    "    correct_char_nothing =  sum(1 for c in range(len(typed_chars))  if correct_chars[c] == typed_chars[c])\n",
    "    \n",
    "    n_correct_chars += correct_char_hmm\n",
    "    n_correct_chars2 += correct_char_nothing\n",
    "\n",
    "    n_words +=1\n",
    "    if  len(typed_chars) == correct_char_hmm:\n",
    "        n_correct_words += 1 \n",
    "    if  len(typed_chars) == correct_char_nothing:\n",
    "        n_correct_words2 += 1\n",
    "    \n",
    "print(\"Char Tagging accuracy for HMM Order 1: %.2f\" % (100 * n_correct_chars / n_chars))\n",
    "print(\"Word Tagging accuracy for HMM Order 1: %.2f\" % (100 * n_correct_words / n_words))\n",
    "\n",
    "print(\"Char Tagging accuracy before HMM Order 1: %.2f\" % (100 * n_correct_chars2 / n_chars))\n",
    "print(\"Word Tagging accuracy before HMM Order 1: %.2f\" % (100 * n_correct_words2 / n_words))"
   ]
  },
  {
   "cell_type": "code",
   "execution_count": 41,
   "metadata": {},
   "outputs": [
    {
     "name": "stdout",
     "output_type": "stream",
     "text": [
      "Error created by HMM Order 1: 80.00\n",
      "Error corrected by HMM Order 1: 62.28 percent\n"
     ]
    }
   ],
   "source": [
    "# Evaluate the HMM using the viterbi\n",
    "error_created = 0\n",
    "error_corrected = 0\n",
    "error_tot = 0\n",
    "for w in test_data:\n",
    "    \n",
    "    typed_chars = [c for c,_ in w]\n",
    "    correct_chars = [c for _,c in w]\n",
    "    pred = viterbi2(hmm, typed_chars, viterbi)\n",
    "    \n",
    "    for i in range (len(pred)):\n",
    "        if ((typed_chars[i] == correct_chars[i]) & (pred[i] != correct_chars[i])):\n",
    "            error_created += 1\n",
    "        if (typed_chars[i] != correct_chars[i]) :\n",
    "            error_tot += 1\n",
    "            if (pred[i] == correct_chars[i]):\n",
    "                error_corrected +=1\n",
    "        \n",
    "    \n",
    "    \n",
    "print(\"Error created by HMM Order 1: %.2f\" % error_created)\n",
    "print(\"Error corrected by HMM Order 1: %.2f percent\" % (100 * error_corrected/error_tot) )\n"
   ]
  },
  {
   "cell_type": "code",
   "execution_count": null,
   "metadata": {},
   "outputs": [],
   "source": []
  }
 ],
 "metadata": {
  "kernelspec": {
   "display_name": "Python 3",
   "language": "python",
   "name": "python3"
  },
  "language_info": {
   "codemirror_mode": {
    "name": "ipython",
    "version": 3
   },
   "file_extension": ".py",
   "mimetype": "text/x-python",
   "name": "python",
   "nbconvert_exporter": "python",
   "pygments_lexer": "ipython3",
   "version": "3.7.3"
  }
 },
 "nbformat": 4,
 "nbformat_minor": 2
}
