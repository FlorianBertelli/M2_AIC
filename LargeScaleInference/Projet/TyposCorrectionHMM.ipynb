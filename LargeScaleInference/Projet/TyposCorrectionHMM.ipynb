{
 "cells": [
  {
   "cell_type": "code",
   "execution_count": 92,
   "metadata": {},
   "outputs": [],
   "source": [
    "import pickle\n",
    "import numpy as np\n",
    "from collections import defaultdict"
   ]
  },
  {
   "cell_type": "code",
   "execution_count": 93,
   "metadata": {},
   "outputs": [
    {
     "name": "stdout",
     "output_type": "stream",
     "text": [
      "Observations (token 7): acvount\n",
      "Hidden states (token 7): account\n"
     ]
    }
   ],
   "source": [
    "with open(\"./data/train10.pkl\", \"rb\") as f:\n",
    "    train_data = pickle.load(f)\n",
    "\n",
    "with open(\"./data/test10.pkl\", \"rb\") as f:\n",
    "    test_data = pickle.load(f)   \n",
    "\n",
    "idx=3\n",
    "print(\"Observations (token 7): %s\" % \"\".join([t for t, _ in train_data[idx]]))\n",
    "print(\"Hidden states (token 7): %s\" % \"\".join([t for _, t in train_data[idx]]))"
   ]
  },
  {
   "cell_type": "code",
   "execution_count": 207,
   "metadata": {},
   "outputs": [
    {
     "data": {
      "text/plain": [
       "29057"
      ]
     },
     "execution_count": 207,
     "metadata": {},
     "output_type": "execute_result"
    }
   ],
   "source": [
    "len(train_data)"
   ]
  },
  {
   "cell_type": "code",
   "execution_count": 95,
   "metadata": {},
   "outputs": [],
   "source": [
    "class Dict:\n",
    "    def __init__(self, chars, unk=None):\n",
    "        self._unk = unk\n",
    "        self._char_to_id = dict()\n",
    "        self._id_to_char = list()\n",
    "\n",
    "        if unk in chars:\n",
    "            raise RuntimeError(\"UNK word exists in vocabulary\")\n",
    "\n",
    "        if unk is not None:\n",
    "            self.unk_index = self._add_char(unk)\n",
    "\n",
    "        for char in chars:\n",
    "            self._add_char(char)\n",
    "\n",
    "    # for internal use only!\n",
    "    def _add_char(self, char):\n",
    "        if char not in self._char_to_id:\n",
    "            id = len(self._id_to_char)\n",
    "            self._char_to_id[char] = id\n",
    "            self._id_to_char.append(char)\n",
    "            return id\n",
    "        else:\n",
    "            return self._char_to_id[char]\n",
    "\n",
    "    def char_to_id(self, char):\n",
    "        if self._unk is not None:\n",
    "            return self._char_to_id.get(char, self.unk_index)\n",
    "        else:\n",
    "            return self._char_to_id[char]\n",
    "\n",
    "    def id_to_char(self, id):\n",
    "        return self._id_to_char[id]\n",
    "\n",
    "    def __len__(self):\n",
    "        return len(self._char_to_id)\n",
    "\n",
    "    def has_unk(self):\n",
    "        return self._unk is not None\n",
    "    \n",
    "    def unk(self):\n",
    "        return self.unk_index"
   ]
  },
  {
   "cell_type": "code",
   "execution_count": 244,
   "metadata": {},
   "outputs": [],
   "source": [
    "distribution_per_char = {}\n",
    "distribution_per_char_correct = {}\n",
    "for w in train_data:\n",
    "    for typed_c, correct_c in w:\n",
    "        if typed_c in distribution_per_char : \n",
    "            if correct_c in distribution_per_char[typed_c]:\n",
    "                distribution_per_char[typed_c][correct_c]+=1\n",
    "            else:\n",
    "                distribution_per_char[typed_c][correct_c] = 1\n",
    "        else:\n",
    "            distribution_per_char[typed_c]={}\n",
    "            distribution_per_char[typed_c][correct_c] = 1"
   ]
  },
  {
   "cell_type": "code",
   "execution_count": 246,
   "metadata": {},
   "outputs": [],
   "source": [
    "tmp = [list(x.keys()) for x in distribution_per_char.values()]\n",
    "\n",
    "correct_c = [item for sublist in tmp for item in sublist]\n",
    "\n",
    "typed_c_dict = Dict(distribution_per_char.keys())\n",
    "correct_c_dict = Dict(correct_c)\n",
    "c_dict = Dict(correct_c)"
   ]
  },
  {
   "cell_type": "code",
   "execution_count": 256,
   "metadata": {},
   "outputs": [
    {
     "name": "stdout",
     "output_type": "stream",
     "text": [
      "26\n"
     ]
    }
   ],
   "source": [
    "print(correct_c_dict.__len__())"
   ]
  },
  {
   "cell_type": "code",
   "execution_count": 148,
   "metadata": {},
   "outputs": [],
   "source": [
    "class HMM:\n",
    "    def __init__(self, y_dict, x_dict):\n",
    "        if not isinstance(y_dict, Dict) or not isinstance(x_dict, Dict):\n",
    "            raise RuntimeError(\"Arguments must be of type Dict\")\n",
    "\n",
    "        self.y_dict = y_dict\n",
    "        self.x_dict = x_dict\n",
    "\n",
    "        n_y = len(y_dict)\n",
    "        n_x = len(x_dict)\n",
    "        self.init_prob = np.zeros((n_y,), float) \n",
    "        self.transition_prob = np.zeros((n_y, n_y), float) \n",
    "        self.observation_prob = np.zeros((n_y, n_x), float) "
   ]
  },
  {
   "cell_type": "code",
   "execution_count": 265,
   "metadata": {},
   "outputs": [],
   "source": [
    "hmm = HMM(correct_c_dict, correct_c_dict)\n",
    "\n",
    "###init prob###\n",
    "#computing the frequency of each tag to be the first tag of the sequence\n",
    "for sent in train_data:\n",
    "    tag = sent[0][1]\n",
    "    id_tag = correct_c_dict.char_to_id(tag)\n",
    "    hmm.init_prob[id_tag]+=1\n",
    "#smooting\n",
    "hmm.init_prob+=1\n",
    "hmm.init_prob/=(len(correct_c_dict)+len(train_data))\n",
    "\n",
    "\n",
    "###transition prob###\n",
    "#computing p(yi|y(i-1)) \n",
    "d_tag = defaultdict(int)\n",
    "for sent in train_data:\n",
    "    for i in range(1,len(sent)):\n",
    "        cur_tag = sent[i][1]\n",
    "        pred_tag = sent[i-1][1]\n",
    "        id_cur_tag = correct_c_dict.char_to_id(cur_tag)\n",
    "        id_pred_tag = correct_c_dict.char_to_id(pred_tag)\n",
    "        hmm.transition_prob[id_pred_tag][id_cur_tag]+=1\n",
    "        d_tag[id_pred_tag]+=1\n",
    "#smoothing\n",
    "hmm.transition_prob+=1\n",
    "for id_tag in d_tag:\n",
    "    hmm.transition_prob[id_tag,:]/=(d_tag[id_tag]+len(correct_c_dict))   \n",
    "    \n",
    "###observation prob###\n",
    "d_tag = defaultdict(int)\n",
    "for sent in train_data:\n",
    "    for i in range(len(sent)):\n",
    "        cur_tag = sent[i][1]\n",
    "        cur_w = sent[i][0]\n",
    "        id_cur_tag = correct_c_dict.char_to_id(cur_tag)\n",
    "        id_cur_w = correct_c_dict.char_to_id(cur_w)\n",
    "        hmm.observation_prob[id_cur_tag][id_cur_w]+=1\n",
    "        d_tag[id_cur_tag]+=1\n",
    "#smoothing\n",
    "hmm.observation_prob+=1\n",
    "for id_tag in d_tag:\n",
    "    hmm.observation_prob[id_tag,:]/=(d_tag[id_tag]+len(typed_c_dict))"
   ]
  },
  {
   "cell_type": "code",
   "execution_count": 266,
   "metadata": {
    "scrolled": true
   },
   "outputs": [
    {
     "name": "stdout",
     "output_type": "stream",
     "text": [
      "1.0000000000000002\n",
      "[1. 1. 1. 1. 1. 1. 1. 1. 1. 1. 1. 1. 1. 1. 1. 1. 1. 1. 1. 1. 1. 1. 1. 1.\n",
      " 1. 1.]\n",
      "[1. 1. 1. 1. 1. 1. 1. 1. 1. 1. 1. 1. 1. 1. 1. 1. 1. 1. 1. 1. 1. 1. 1. 1.\n",
      " 1. 1.]\n"
     ]
    }
   ],
   "source": [
    "print(sum(hmm.init_prob))\n",
    "print(hmm.transition_prob.sum(1))\n",
    "print(hmm.observation_prob.sum(1))"
   ]
  },
  {
   "cell_type": "code",
   "execution_count": 278,
   "metadata": {},
   "outputs": [
    {
     "name": "stdout",
     "output_type": "stream",
     "text": [
      "[2.63227165e-04 3.47459858e-02 2.63227165e-04 2.63227165e-04\n",
      " 2.63227165e-04 2.63227165e-04 2.63227165e-04 2.63227165e-04\n",
      " 2.63227165e-04 2.63227165e-04 2.84285338e-02 2.63227165e-04\n",
      " 2.63227165e-04 2.63227165e-04 2.63227165e-04 2.63227165e-04\n",
      " 3.84311661e-02 2.63227165e-04 2.63227165e-04 2.63227165e-04\n",
      " 2.63227165e-04 8.92603317e-01 2.63227165e-04 2.63227165e-04\n",
      " 2.63227165e-04 2.63227165e-04]\n"
     ]
    }
   ],
   "source": [
    "print((hmm.observation_prob[21]))"
   ]
  },
  {
   "cell_type": "code",
   "execution_count": 279,
   "metadata": {},
   "outputs": [],
   "source": [
    "def viterbi(hmm, chars):\n",
    "    \"\"\"\n",
    "    Input:\n",
    "    - hmm: an HMM object\n",
    "    - words: a list of words (ie a sentence)\n",
    "    Return:\n",
    "    - a list of POS tags\n",
    "    \"\"\"\n",
    "\n",
    "    #DEFINING THE CHART AND BACKPOINTER TABLES\n",
    "    chart = np.zeros((len(hmm.y_dict), len(chars)), float)\n",
    "    backpointer = np.zeros((len(hmm.y_dict), len(chars)), float)\n",
    "    \n",
    "    #FILLING THE FIRST LINE OF THE CHART TABLE \n",
    "    for i in range(len(hmm.y_dict)):\n",
    "        id_c0 = correct_c_dict.char_to_id(chars[0])\n",
    "        chart[i,0] = hmm.init_prob[i]*hmm.observation_prob[i,id_c0]\n",
    "        \n",
    "    #FILLING BACKPOINTER TABLE AND THE REST OF THE CHART TABLE\n",
    "    #for each char\n",
    "    for i in range(1,len(chars)):\n",
    "        id_c = correct_c_dict.char_to_id(chars[i])\n",
    "        #for each possible char \n",
    "        for j in range(len(hmm.y_dict)):\n",
    "            b_score = -1.0\n",
    "            #for each possible (char, char') we want the maximum of the equation below\n",
    "            for k in range(len(hmm.y_dict)):\n",
    "                score = hmm.transition_prob[k,j]*hmm.observation_prob[j,id_c]*chart[k,i-1]\n",
    "                #if the score is superior, we update because it wasn't the maximun\n",
    "                if(score>b_score):\n",
    "                    chart[j,i] = score\n",
    "                    b_score = score\n",
    "                    backpointer[j,i] = k\n",
    "    \n",
    "    #FILLING THE TABLE CONTAINING THE ID OF THE GOOD TAGS\n",
    "    y = np.zeros(len(chars))\n",
    "    y[len(chars)-1] = np.argmax(chart[:,len(chars)-1], axis=0)\n",
    "\n",
    "    for j in range(1,len(chars))[::-1]:\n",
    "        y[j-1] = backpointer[int(y[j-2]),j]\n",
    "    #MAPPING EACH ID TAG TO THE TAG\n",
    "    pred = [correct_c_dict.id_to_char(int(i)) for i in (y)]\n",
    "\n",
    "    return pred"
   ]
  },
  {
   "cell_type": "code",
   "execution_count": 280,
   "metadata": {},
   "outputs": [
    {
     "name": "stdout",
     "output_type": "stream",
     "text": [
      "[('a', 'a'), ('c', 'c'), ('v', 'c'), ('o', 'o'), ('u', 'u'), ('n', 'n'), ('t', 't')]\n"
     ]
    },
    {
     "data": {
      "text/plain": [
       "['t', 'o', 'o']"
      ]
     },
     "execution_count": 280,
     "metadata": {},
     "output_type": "execute_result"
    }
   ],
   "source": [
    "print(train_data[idx])\n",
    "viterbi(hmm,['y','o','o'])"
   ]
  },
  {
   "cell_type": "code",
   "execution_count": 270,
   "metadata": {},
   "outputs": [
    {
     "name": "stdout",
     "output_type": "stream",
     "text": [
      "Char Tagging accuracy for HMM Order 1: 83.73\n",
      "Word Tagging accuracy for HMM Order 1: 52.70\n",
      "Char Tagging accuracy before HMM Order 1: 89.82\n",
      "Word Tagging accuracy before HMM Order 1: 62.89\n"
     ]
    }
   ],
   "source": [
    "# Evaluate the HMM using the viterbi\n",
    "n_chars = 0\n",
    "n_correct_chars = 0\n",
    "n_correct_chars2 = 0\n",
    "\n",
    "n_words = 0\n",
    "n_correct_words = 0\n",
    "n_correct_words2 = 0\n",
    "for w in test_data:\n",
    "    \n",
    "    typed_chars = [c for c,_ in w]\n",
    "    correct_chars = [c for _,c in w]\n",
    "    pred = viterbi(hmm, typed_chars)\n",
    "    \n",
    "    n_chars += len(typed_chars)\n",
    "    \n",
    "    correct_char_hmm = sum(1 for c in range(len(typed_chars))  if correct_chars[c] == pred[c])\n",
    "    correct_char_nothing =  sum(1 for c in range(len(typed_chars))  if correct_chars[c] == typed_chars[c])\n",
    "    \n",
    "    n_correct_chars += correct_char_hmm\n",
    "    n_correct_chars2 += correct_char_nothing\n",
    "\n",
    "    n_words +=1\n",
    "    if  len(typed_chars) == correct_char_hmm:\n",
    "        n_correct_words += 1 \n",
    "    if  len(typed_chars) == correct_char_nothing:\n",
    "        n_correct_words2 += 1\n",
    "    \n",
    "print(\"Char Tagging accuracy for HMM Order 1: %.2f\" % (100 * n_correct_chars / n_chars))\n",
    "print(\"Word Tagging accuracy for HMM Order 1: %.2f\" % (100 * n_correct_words / n_words))\n",
    "\n",
    "print(\"Char Tagging accuracy before HMM Order 1: %.2f\" % (100 * n_correct_chars2 / n_chars))\n",
    "print(\"Word Tagging accuracy before HMM Order 1: %.2f\" % (100 * n_correct_words2 / n_words))"
   ]
  },
  {
   "cell_type": "code",
   "execution_count": null,
   "metadata": {},
   "outputs": [],
   "source": []
  }
 ],
 "metadata": {
  "kernelspec": {
   "display_name": "Python 3",
   "language": "python",
   "name": "python3"
  },
  "language_info": {
   "codemirror_mode": {
    "name": "ipython",
    "version": 3
   },
   "file_extension": ".py",
   "mimetype": "text/x-python",
   "name": "python",
   "nbconvert_exporter": "python",
   "pygments_lexer": "ipython3",
   "version": "3.7.3"
  }
 },
 "nbformat": 4,
 "nbformat_minor": 2
}
